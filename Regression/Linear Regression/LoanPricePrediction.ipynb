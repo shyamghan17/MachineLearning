{
 "cells": [
  {
   "cell_type": "code",
   "execution_count": 39,
   "metadata": {
    "collapsed": true
   },
   "outputs": [],
   "source": [
    "import numpy as np\n",
    "import pandas as pd"
   ]
  },
  {
   "cell_type": "code",
   "execution_count": 40,
   "outputs": [
    {
     "data": {
      "text/plain": "                     date      price  bedrooms  bathrooms  sqft_living  \\\n4201  2014-07-09 00:00:00   237950.0       2.0       1.75         1460   \n2251  2014-06-10 00:00:00   359950.0       3.0       1.75         1890   \n1143  2014-05-22 00:00:00  1600000.0       3.0       2.50         3160   \n3970  2014-07-07 00:00:00   861990.0       5.0       2.75         3595   \n4348  2014-05-05 00:00:00  2199900.0       4.0       1.50         1120   \n\n      sqft_lot  floors  waterfront  view  condition  sqft_above  \\\n4201      7926     1.0           0     0          4        1460   \n2251      9100     2.0           0     0          4        1890   \n1143     12824     1.0           0     2          4        1820   \n3970      5639     2.0           0     0          3        3595   \n4348      5427     1.0           0     0          3        1120   \n\n      sqft_basement  yr_built  yr_renovated                        street  \\\n4201              0      1987             0             26231 187th Pl SE   \n2251              0      1952             0               1633 N 192nd St   \n1143           1340      1966             0  9410 Lake Washington Blvd NE   \n3970              0      2014             0             9622 242nd Way NE   \n4348              0      1969          2014       19009-19021 SE 266th St   \n\n           city  statezip country  \n4201  Covington  WA 98042     USA  \n2251  Shoreline  WA 98133     USA  \n1143   Bellevue  WA 98004     USA  \n3970    Redmond  WA 98053     USA  \n4348  Covington  WA 98042     USA  ",
      "text/html": "<div>\n<style scoped>\n    .dataframe tbody tr th:only-of-type {\n        vertical-align: middle;\n    }\n\n    .dataframe tbody tr th {\n        vertical-align: top;\n    }\n\n    .dataframe thead th {\n        text-align: right;\n    }\n</style>\n<table border=\"1\" class=\"dataframe\">\n  <thead>\n    <tr style=\"text-align: right;\">\n      <th></th>\n      <th>date</th>\n      <th>price</th>\n      <th>bedrooms</th>\n      <th>bathrooms</th>\n      <th>sqft_living</th>\n      <th>sqft_lot</th>\n      <th>floors</th>\n      <th>waterfront</th>\n      <th>view</th>\n      <th>condition</th>\n      <th>sqft_above</th>\n      <th>sqft_basement</th>\n      <th>yr_built</th>\n      <th>yr_renovated</th>\n      <th>street</th>\n      <th>city</th>\n      <th>statezip</th>\n      <th>country</th>\n    </tr>\n  </thead>\n  <tbody>\n    <tr>\n      <th>4201</th>\n      <td>2014-07-09 00:00:00</td>\n      <td>237950.0</td>\n      <td>2.0</td>\n      <td>1.75</td>\n      <td>1460</td>\n      <td>7926</td>\n      <td>1.0</td>\n      <td>0</td>\n      <td>0</td>\n      <td>4</td>\n      <td>1460</td>\n      <td>0</td>\n      <td>1987</td>\n      <td>0</td>\n      <td>26231 187th Pl SE</td>\n      <td>Covington</td>\n      <td>WA 98042</td>\n      <td>USA</td>\n    </tr>\n    <tr>\n      <th>2251</th>\n      <td>2014-06-10 00:00:00</td>\n      <td>359950.0</td>\n      <td>3.0</td>\n      <td>1.75</td>\n      <td>1890</td>\n      <td>9100</td>\n      <td>2.0</td>\n      <td>0</td>\n      <td>0</td>\n      <td>4</td>\n      <td>1890</td>\n      <td>0</td>\n      <td>1952</td>\n      <td>0</td>\n      <td>1633 N 192nd St</td>\n      <td>Shoreline</td>\n      <td>WA 98133</td>\n      <td>USA</td>\n    </tr>\n    <tr>\n      <th>1143</th>\n      <td>2014-05-22 00:00:00</td>\n      <td>1600000.0</td>\n      <td>3.0</td>\n      <td>2.50</td>\n      <td>3160</td>\n      <td>12824</td>\n      <td>1.0</td>\n      <td>0</td>\n      <td>2</td>\n      <td>4</td>\n      <td>1820</td>\n      <td>1340</td>\n      <td>1966</td>\n      <td>0</td>\n      <td>9410 Lake Washington Blvd NE</td>\n      <td>Bellevue</td>\n      <td>WA 98004</td>\n      <td>USA</td>\n    </tr>\n    <tr>\n      <th>3970</th>\n      <td>2014-07-07 00:00:00</td>\n      <td>861990.0</td>\n      <td>5.0</td>\n      <td>2.75</td>\n      <td>3595</td>\n      <td>5639</td>\n      <td>2.0</td>\n      <td>0</td>\n      <td>0</td>\n      <td>3</td>\n      <td>3595</td>\n      <td>0</td>\n      <td>2014</td>\n      <td>0</td>\n      <td>9622 242nd Way NE</td>\n      <td>Redmond</td>\n      <td>WA 98053</td>\n      <td>USA</td>\n    </tr>\n    <tr>\n      <th>4348</th>\n      <td>2014-05-05 00:00:00</td>\n      <td>2199900.0</td>\n      <td>4.0</td>\n      <td>1.50</td>\n      <td>1120</td>\n      <td>5427</td>\n      <td>1.0</td>\n      <td>0</td>\n      <td>0</td>\n      <td>3</td>\n      <td>1120</td>\n      <td>0</td>\n      <td>1969</td>\n      <td>2014</td>\n      <td>19009-19021 SE 266th St</td>\n      <td>Covington</td>\n      <td>WA 98042</td>\n      <td>USA</td>\n    </tr>\n  </tbody>\n</table>\n</div>"
     },
     "execution_count": 40,
     "metadata": {},
     "output_type": "execute_result"
    }
   ],
   "source": [
    "df = pd.read_csv('./HousePrice.csv')\n",
    "#taking 5 samples from data set\n",
    "df.sample(5)"
   ],
   "metadata": {
    "collapsed": false
   }
  },
  {
   "cell_type": "code",
   "execution_count": 41,
   "outputs": [
    {
     "data": {
      "text/plain": "(4600, 18)"
     },
     "execution_count": 41,
     "metadata": {},
     "output_type": "execute_result"
    }
   ],
   "source": [
    "#checking the numbers of rows and columns\n",
    "df.shape"
   ],
   "metadata": {
    "collapsed": false
   }
  },
  {
   "cell_type": "code",
   "execution_count": 42,
   "outputs": [
    {
     "data": {
      "text/plain": "date             0\nprice            0\nbedrooms         0\nbathrooms        0\nsqft_living      0\nsqft_lot         0\nfloors           0\nwaterfront       0\nview             0\ncondition        0\nsqft_above       0\nsqft_basement    0\nyr_built         0\nyr_renovated     0\nstreet           0\ncity             0\nstatezip         0\ncountry          0\ndtype: int64"
     },
     "execution_count": 42,
     "metadata": {},
     "output_type": "execute_result"
    }
   ],
   "source": [
    "#checkin missing values\n",
    "df.isnull().sum()"
   ],
   "metadata": {
    "collapsed": false
   }
  },
  {
   "cell_type": "code",
   "execution_count": 43,
   "outputs": [
    {
     "data": {
      "text/plain": "       price  bedrooms  bathrooms  sqft_living  sqft_lot  floors  waterfront  \\\n0   313000.0       3.0       1.50         1340      7912     1.5           0   \n1  2384000.0       5.0       2.50         3650      9050     2.0           0   \n2   342000.0       3.0       2.00         1930     11947     1.0           0   \n3   420000.0       3.0       2.25         2000      8030     1.0           0   \n4   550000.0       4.0       2.50         1940     10500     1.0           0   \n\n   view  condition  sqft_above  sqft_basement  yr_built  yr_renovated  \\\n0     0          3        1340              0      1955          2005   \n1     4          5        3370            280      1921             0   \n2     0          4        1930              0      1966             0   \n3     0          4        1000           1000      1963             0   \n4     0          4        1140            800      1976          1992   \n\n        city  \n0  Shoreline  \n1    Seattle  \n2       Kent  \n3   Bellevue  \n4    Redmond  ",
      "text/html": "<div>\n<style scoped>\n    .dataframe tbody tr th:only-of-type {\n        vertical-align: middle;\n    }\n\n    .dataframe tbody tr th {\n        vertical-align: top;\n    }\n\n    .dataframe thead th {\n        text-align: right;\n    }\n</style>\n<table border=\"1\" class=\"dataframe\">\n  <thead>\n    <tr style=\"text-align: right;\">\n      <th></th>\n      <th>price</th>\n      <th>bedrooms</th>\n      <th>bathrooms</th>\n      <th>sqft_living</th>\n      <th>sqft_lot</th>\n      <th>floors</th>\n      <th>waterfront</th>\n      <th>view</th>\n      <th>condition</th>\n      <th>sqft_above</th>\n      <th>sqft_basement</th>\n      <th>yr_built</th>\n      <th>yr_renovated</th>\n      <th>city</th>\n    </tr>\n  </thead>\n  <tbody>\n    <tr>\n      <th>0</th>\n      <td>313000.0</td>\n      <td>3.0</td>\n      <td>1.50</td>\n      <td>1340</td>\n      <td>7912</td>\n      <td>1.5</td>\n      <td>0</td>\n      <td>0</td>\n      <td>3</td>\n      <td>1340</td>\n      <td>0</td>\n      <td>1955</td>\n      <td>2005</td>\n      <td>Shoreline</td>\n    </tr>\n    <tr>\n      <th>1</th>\n      <td>2384000.0</td>\n      <td>5.0</td>\n      <td>2.50</td>\n      <td>3650</td>\n      <td>9050</td>\n      <td>2.0</td>\n      <td>0</td>\n      <td>4</td>\n      <td>5</td>\n      <td>3370</td>\n      <td>280</td>\n      <td>1921</td>\n      <td>0</td>\n      <td>Seattle</td>\n    </tr>\n    <tr>\n      <th>2</th>\n      <td>342000.0</td>\n      <td>3.0</td>\n      <td>2.00</td>\n      <td>1930</td>\n      <td>11947</td>\n      <td>1.0</td>\n      <td>0</td>\n      <td>0</td>\n      <td>4</td>\n      <td>1930</td>\n      <td>0</td>\n      <td>1966</td>\n      <td>0</td>\n      <td>Kent</td>\n    </tr>\n    <tr>\n      <th>3</th>\n      <td>420000.0</td>\n      <td>3.0</td>\n      <td>2.25</td>\n      <td>2000</td>\n      <td>8030</td>\n      <td>1.0</td>\n      <td>0</td>\n      <td>0</td>\n      <td>4</td>\n      <td>1000</td>\n      <td>1000</td>\n      <td>1963</td>\n      <td>0</td>\n      <td>Bellevue</td>\n    </tr>\n    <tr>\n      <th>4</th>\n      <td>550000.0</td>\n      <td>4.0</td>\n      <td>2.50</td>\n      <td>1940</td>\n      <td>10500</td>\n      <td>1.0</td>\n      <td>0</td>\n      <td>0</td>\n      <td>4</td>\n      <td>1140</td>\n      <td>800</td>\n      <td>1976</td>\n      <td>1992</td>\n      <td>Redmond</td>\n    </tr>\n  </tbody>\n</table>\n</div>"
     },
     "execution_count": 43,
     "metadata": {},
     "output_type": "execute_result"
    }
   ],
   "source": [
    "columns_to_drop= [\"date\", 'street','statezip','country']\n",
    "df = df.drop(columns_to_drop, axis=1)\n",
    "df.head()"
   ],
   "metadata": {
    "collapsed": false
   }
  },
  {
   "cell_type": "code",
   "execution_count": 44,
   "outputs": [
    {
     "data": {
      "text/plain": "1912"
     },
     "execution_count": 44,
     "metadata": {},
     "output_type": "execute_result"
    }
   ],
   "source": [
    "df[df['yr_renovated'] !=0]['yr_renovated'].min()\n"
   ],
   "metadata": {
    "collapsed": false
   }
  },
  {
   "cell_type": "code",
   "execution_count": 45,
   "outputs": [],
   "source": [
    "#how old house is, checking the age of house!\n",
    "df['house_age']=[2023- yr_built for  yr_built in df['yr_built']]"
   ],
   "metadata": {
    "collapsed": false
   }
  },
  {
   "cell_type": "code",
   "execution_count": 46,
   "outputs": [],
   "source": [
    "#checking the when house was renovated\n",
    "df['was_renovated'] = [1 if yr_renovated != 0 else 0 for yr_renovated in df['yr_renovated']]\n"
   ],
   "metadata": {
    "collapsed": false
   }
  },
  {
   "cell_type": "code",
   "execution_count": 47,
   "outputs": [],
   "source": [
    "#checking how recently house was renovated?\n",
    "df['was_renovated_10_yrs'] = [1 if (2023 - yr_renovated) <= 10 else 0 for yr_renovated in df['yr_renovated']]\n",
    "df['was_renovated_30_yrs'] = [1 if 10 < (2023 - yr_renovated) <= 30 else 0 for yr_renovated in df['yr_renovated']]"
   ],
   "metadata": {
    "collapsed": false
   }
  },
  {
   "cell_type": "code",
   "execution_count": 48,
   "outputs": [
    {
     "data": {
      "text/plain": "       price  bedrooms  bathrooms  sqft_living  sqft_lot  floors  waterfront  \\\n0   313000.0       3.0       1.50         1340      7912     1.5           0   \n1  2384000.0       5.0       2.50         3650      9050     2.0           0   \n2   342000.0       3.0       2.00         1930     11947     1.0           0   \n3   420000.0       3.0       2.25         2000      8030     1.0           0   \n4   550000.0       4.0       2.50         1940     10500     1.0           0   \n\n   view  condition  sqft_above  sqft_basement       city  house_age  \\\n0     0          3        1340              0  Shoreline         68   \n1     4          5        3370            280    Seattle        102   \n2     0          4        1930              0       Kent         57   \n3     0          4        1000           1000   Bellevue         60   \n4     0          4        1140            800    Redmond         47   \n\n   was_renovated  was_renovated_10_yrs  was_renovated_30_yrs  \n0              1                     0                     1  \n1              0                     0                     0  \n2              0                     0                     0  \n3              0                     0                     0  \n4              1                     0                     0  ",
      "text/html": "<div>\n<style scoped>\n    .dataframe tbody tr th:only-of-type {\n        vertical-align: middle;\n    }\n\n    .dataframe tbody tr th {\n        vertical-align: top;\n    }\n\n    .dataframe thead th {\n        text-align: right;\n    }\n</style>\n<table border=\"1\" class=\"dataframe\">\n  <thead>\n    <tr style=\"text-align: right;\">\n      <th></th>\n      <th>price</th>\n      <th>bedrooms</th>\n      <th>bathrooms</th>\n      <th>sqft_living</th>\n      <th>sqft_lot</th>\n      <th>floors</th>\n      <th>waterfront</th>\n      <th>view</th>\n      <th>condition</th>\n      <th>sqft_above</th>\n      <th>sqft_basement</th>\n      <th>city</th>\n      <th>house_age</th>\n      <th>was_renovated</th>\n      <th>was_renovated_10_yrs</th>\n      <th>was_renovated_30_yrs</th>\n    </tr>\n  </thead>\n  <tbody>\n    <tr>\n      <th>0</th>\n      <td>313000.0</td>\n      <td>3.0</td>\n      <td>1.50</td>\n      <td>1340</td>\n      <td>7912</td>\n      <td>1.5</td>\n      <td>0</td>\n      <td>0</td>\n      <td>3</td>\n      <td>1340</td>\n      <td>0</td>\n      <td>Shoreline</td>\n      <td>68</td>\n      <td>1</td>\n      <td>0</td>\n      <td>1</td>\n    </tr>\n    <tr>\n      <th>1</th>\n      <td>2384000.0</td>\n      <td>5.0</td>\n      <td>2.50</td>\n      <td>3650</td>\n      <td>9050</td>\n      <td>2.0</td>\n      <td>0</td>\n      <td>4</td>\n      <td>5</td>\n      <td>3370</td>\n      <td>280</td>\n      <td>Seattle</td>\n      <td>102</td>\n      <td>0</td>\n      <td>0</td>\n      <td>0</td>\n    </tr>\n    <tr>\n      <th>2</th>\n      <td>342000.0</td>\n      <td>3.0</td>\n      <td>2.00</td>\n      <td>1930</td>\n      <td>11947</td>\n      <td>1.0</td>\n      <td>0</td>\n      <td>0</td>\n      <td>4</td>\n      <td>1930</td>\n      <td>0</td>\n      <td>Kent</td>\n      <td>57</td>\n      <td>0</td>\n      <td>0</td>\n      <td>0</td>\n    </tr>\n    <tr>\n      <th>3</th>\n      <td>420000.0</td>\n      <td>3.0</td>\n      <td>2.25</td>\n      <td>2000</td>\n      <td>8030</td>\n      <td>1.0</td>\n      <td>0</td>\n      <td>0</td>\n      <td>4</td>\n      <td>1000</td>\n      <td>1000</td>\n      <td>Bellevue</td>\n      <td>60</td>\n      <td>0</td>\n      <td>0</td>\n      <td>0</td>\n    </tr>\n    <tr>\n      <th>4</th>\n      <td>550000.0</td>\n      <td>4.0</td>\n      <td>2.50</td>\n      <td>1940</td>\n      <td>10500</td>\n      <td>1.0</td>\n      <td>0</td>\n      <td>0</td>\n      <td>4</td>\n      <td>1140</td>\n      <td>800</td>\n      <td>Redmond</td>\n      <td>47</td>\n      <td>1</td>\n      <td>0</td>\n      <td>0</td>\n    </tr>\n  </tbody>\n</table>\n</div>"
     },
     "execution_count": 48,
     "metadata": {},
     "output_type": "execute_result"
    }
   ],
   "source": [
    "#droping the columns that are not required further more, 'yr_built' and 'yr_renovated'\n",
    "df = df.drop([\"yr_renovated\", 'yr_built'], axis=1)\n",
    "df.head()"
   ],
   "metadata": {
    "collapsed": false
   }
  },
  {
   "cell_type": "code",
   "execution_count": 49,
   "outputs": [
    {
     "data": {
      "text/plain": "Seattle                1573\nRenton                  293\nBellevue                286\nRedmond                 235\nIssaquah                187\nKirkland                187\nKent                    185\nAuburn                  176\nSammamish               175\nFederal Way             148\nShoreline               123\nWoodinville             115\nMaple Valley             96\nMercer Island            86\nBurien                   74\nSnoqualmie               71\nKenmore                  66\nDes Moines               58\nNorth Bend               50\nCovington                43\nDuvall                   42\nLake Forest Park         36\nBothell                  33\nNewcastle                33\nSeaTac                   29\nTukwila                  29\nVashon                   29\nEnumclaw                 28\nCarnation                22\nNormandy Park            18\nClyde Hill               11\nMedina                   11\nFall City                11\nBlack Diamond             9\nRavensdale                7\nPacific                   6\nAlgona                    5\nYarrow Point              4\nSkykomish                 3\nPreston                   2\nMilton                    2\nInglewood-Finn Hill       1\nSnoqualmie Pass           1\nBeaux Arts Village        1\nName: city, dtype: int64"
     },
     "execution_count": 49,
     "metadata": {},
     "output_type": "execute_result"
    }
   ],
   "source": [
    "df['city'].value_counts()"
   ],
   "metadata": {
    "collapsed": false
   }
  },
  {
   "cell_type": "code",
   "execution_count": 49,
   "outputs": [],
   "source": [],
   "metadata": {
    "collapsed": false
   }
  }
 ],
 "metadata": {
  "kernelspec": {
   "display_name": "Python 3",
   "language": "python",
   "name": "python3"
  },
  "language_info": {
   "codemirror_mode": {
    "name": "ipython",
    "version": 2
   },
   "file_extension": ".py",
   "mimetype": "text/x-python",
   "name": "python",
   "nbconvert_exporter": "python",
   "pygments_lexer": "ipython2",
   "version": "2.7.6"
  }
 },
 "nbformat": 4,
 "nbformat_minor": 0
}
