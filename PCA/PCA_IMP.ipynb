{
 "cells": [
  {
   "cell_type": "code",
   "execution_count": 14,
   "id": "2c92fda2-16cb-4863-b241-27b18c5491d9",
   "metadata": {},
   "outputs": [],
   "source": [
    "import numpy as np"
   ]
  },
  {
   "cell_type": "code",
   "execution_count": 15,
   "id": "bc21eddd-e33a-45d9-9887-5d09d05d31c9",
   "metadata": {},
   "outputs": [],
   "source": [
    "x1 = [2.5, 0.5, 2.2, 1.9, 3.1, 2.3, 2, 1, 1.5, 1.1]\n",
    "x2 = [2.4, 0.7, 2.9, 2.2, 3, 2.7, 1.6, 1.1, 1.6, 0.9] "
   ]
  },
  {
   "cell_type": "code",
   "execution_count": 23,
   "id": "23081acc-fda1-489e-9dc3-c7a6309b2e74",
   "metadata": {},
   "outputs": [],
   "source": [
    "x = np.array([\n",
    "    [2.5, 2.4],\n",
    "    [0.5, 0.7],\n",
    "    [2.2, 2.9],\n",
    "    [1.9, 2.2], \n",
    "    [3.1, 3],\n",
    "    [2.3, 2.7], \n",
    "    [2, 1.6], \n",
    "    [1, 1.1],\n",
    "    [1.5, 1.6],\n",
    "    [1.1, 0.9]\n",
    "      \n",
    "])"
   ]
  },
  {
   "cell_type": "code",
   "execution_count": 24,
   "id": "5301068a-0f39-4e1a-9f74-64f8b9aae84a",
   "metadata": {},
   "outputs": [
    {
     "data": {
      "text/plain": [
       "array([[2.5, 2.4],\n",
       "       [0.5, 0.7],\n",
       "       [2.2, 2.9],\n",
       "       [1.9, 2.2],\n",
       "       [3.1, 3. ],\n",
       "       [2.3, 2.7],\n",
       "       [2. , 1.6],\n",
       "       [1. , 1.1],\n",
       "       [1.5, 1.6],\n",
       "       [1.1, 0.9]])"
      ]
     },
     "execution_count": 24,
     "metadata": {},
     "output_type": "execute_result"
    }
   ],
   "source": [
    "x"
   ]
  },
  {
   "cell_type": "code",
   "execution_count": 25,
   "id": "ceb27c08-cd8c-4fd6-82fa-f05092e925f6",
   "metadata": {},
   "outputs": [
    {
     "data": {
      "text/plain": [
       "(10, 2)"
      ]
     },
     "execution_count": 25,
     "metadata": {},
     "output_type": "execute_result"
    }
   ],
   "source": [
    "x.shape"
   ]
  },
  {
   "cell_type": "code",
   "execution_count": 28,
   "id": "13db077b-bb05-4805-8ab8-2e688d59ca25",
   "metadata": {},
   "outputs": [
    {
     "data": {
      "image/png": "[encoded data removed]",
      "text/plain": [
       "<Figure size 640x480 with 1 Axes>"
      ]
     },
     "metadata": {},
     "output_type": "display_data"
    }
   ],
   "source": [
    "import matplotlib.pyplot as plt\n",
    "import seaborn as sns\n",
    "\n",
    "plt.scatter(x[:,0], x[:,1])\n",
    "plt.show()"
   ]
  },
  {
   "cell_type": "markdown",
   "id": "c9965a4c-2f95-4963-88c7-acf81c0415b5",
   "metadata": {},
   "source": [
    " Steps for performing dimensionality reduction using Principal Component Analysis (PCA):\n",
    "\n",
    "1. Standardize the Data\n",
    "   Ensure each feature has a mean of zero and a standard deviation of one.\n",
    "2. Compute the Covariance Matrix\n",
    "\n",
    "   Calculate the covariance matrix to understand how features in the data are correlated.\n",
    "3. Calculate the Eigenvectors and Eigenvalues\n",
    "\n",
    "   Compute the eigenvectors and eigenvalues of the covariance matrix to identify principal components.\n",
    "4. Sort Eigenvalues in Descending Order and Select Principal Components\n",
    "\n",
    "   Rank the eigenvalues from highest to lowest, and select the top eigenvectors (principal components) based on the desired level of dimensionality reduction.\n",
    "5. Reduce the Dimension of the Dataset\n",
    "\n",
    "   Transform the original dataset by projecting it onto the selected principal components, resulting in a reduced-dimensional representation."
   ]
  },
  {
   "cell_type": "markdown",
   "id": "a2558705-8f2a-444a-98e6-481e17804ac3",
   "metadata": {},
   "source": [
    "step 1"
   ]
  },
  {
   "cell_type": "code",
   "execution_count": 34,
   "id": "20e16378-b1f8-4f84-a795-38b1e63f76d9",
   "metadata": {},
   "outputs": [
    {
     "data": {
      "text/plain": [
       "array([1.81, 1.91])"
      ]
     },
     "execution_count": 34,
     "metadata": {},
     "output_type": "execute_result"
    }
   ],
   "source": [
    "xbar = x.mean(axis = 0)\n",
    "xbar"
   ]
  },
  {
   "cell_type": "code",
   "execution_count": 30,
   "id": "8b848452-a34d-4a62-a2b4-ce27f709d699",
   "metadata": {},
   "outputs": [
    {
     "data": {
      "text/plain": [
       "array([1.81, 1.91])"
      ]
     },
     "execution_count": 30,
     "metadata": {},
     "output_type": "execute_result"
    }
   ],
   "source": []
  },
  {
   "cell_type": "code",
   "execution_count": 33,
   "id": "4eee7a79-5200-4d81-b871-23bdd228df30",
   "metadata": {},
   "outputs": [
    {
     "data": {
      "text/plain": [
       "array([0.78521052, 0.84649605])"
      ]
     },
     "execution_count": 33,
     "metadata": {},
     "output_type": "execute_result"
    }
   ],
   "source": [
    "sigma = np.std(x, axis= 0 , ddof = 1) # ddof = 1 divides by N-1 for std\n",
    "sigma"
   ]
  },
  {
   "cell_type": "code",
   "execution_count": 35,
   "id": "2be40b69-9f7f-492c-b0f3-c5b004107ac7",
   "metadata": {},
   "outputs": [],
   "source": [
    "# so the standert data is like\n",
    "z = (x-xbar)/sigma"
   ]
  },
  {
   "cell_type": "code",
   "execution_count": 37,
   "id": "4fe37dde-f150-492f-967a-90fbb3ca12a9",
   "metadata": {},
   "outputs": [
    {
     "data": {
      "text/plain": [
       "array([[ 0.87874523,  0.57885681],\n",
       "       [-1.6683424 , -1.42942192],\n",
       "       [ 0.49668209,  1.16952702],\n",
       "       [ 0.11461894,  0.34258872],\n",
       "       [ 1.64287153,  1.28766107],\n",
       "       [ 0.62403647,  0.93325894],\n",
       "       [ 0.24197333, -0.36621553],\n",
       "       [-1.03157049, -0.95688575],\n",
       "       [-0.39479858, -0.36621553],\n",
       "       [-0.90421611, -1.19315383]])"
      ]
     },
     "execution_count": 37,
     "metadata": {},
     "output_type": "execute_result"
    }
   ],
   "source": [
    "z"
   ]
  },
  {
   "cell_type": "code",
   "execution_count": 38,
   "id": "7ff2f869-7a34-4829-b73d-6d42149ba702",
   "metadata": {},
   "outputs": [
    {
     "data": {
      "image/png": "[encoded data removed]",
      "text/plain": [
       "<Figure size 640x480 with 1 Axes>"
      ]
     },
     "metadata": {},
     "output_type": "display_data"
    }
   ],
   "source": [
    "import matplotlib.pyplot as plt\n",
    "import seaborn as sns\n",
    "\n",
    "plt.scatter(z[:,0], z[:,1])\n",
    "plt.show()"
   ]
  },
  {
   "cell_type": "code",
   "execution_count": 40,
   "id": "09a9fba6-570a-4d1f-8f96-d9082e3eaf21",
   "metadata": {},
   "outputs": [
    {
     "data": {
      "text/plain": [
       "array([-0.,  0.])"
      ]
     },
     "execution_count": 40,
     "metadata": {},
     "output_type": "execute_result"
    }
   ],
   "source": [
    "np.round(z.mean(axis = 0), 2)"
   ]
  },
  {
   "cell_type": "code",
   "execution_count": 42,
   "id": "4594f9b6-7e76-4f87-b91e-16036975bce6",
   "metadata": {},
   "outputs": [
    {
     "data": {
      "text/plain": [
       "array([1., 1.])"
      ]
     },
     "execution_count": 42,
     "metadata": {},
     "output_type": "execute_result"
    }
   ],
   "source": [
    "z.std(axis = 0, ddof =1)"
   ]
  },
  {
   "cell_type": "markdown",
   "id": "df2e00d2-5043-48b1-9128-7aa73f66e890",
   "metadata": {},
   "source": [
    "step 2: compute the covariance"
   ]
  },
  {
   "cell_type": "code",
   "execution_count": 45,
   "id": "f30da91e-e49b-48c1-9f79-b8f92fb0f354",
   "metadata": {},
   "outputs": [
    {
     "data": {
      "text/plain": [
       "array([[0.61655556, 0.61544444],\n",
       "       [0.61544444, 0.71655556]])"
      ]
     },
     "execution_count": 45,
     "metadata": {},
     "output_type": "execute_result"
    }
   ],
   "source": [
    "cov_mat = np.cov(x, rowvar=False)\n",
    "cov_mat"
   ]
  },
  {
   "cell_type": "markdown",
   "id": "49777504-aa5f-49cd-8146-69b83720662b",
   "metadata": {},
   "source": [
    "Step 3: calclulate eigenvalues & eigenvectores"
   ]
  },
  {
   "cell_type": "code",
   "execution_count": null,
   "id": "7e50d435-3daa-4f02-bb6f-4ae699d51ece",
   "metadata": {},
   "outputs": [],
   "source": [
    "eigenvalues, eigenvectores = np.linalg.eigh(cov_mat)"
   ]
  },
  {
   "cell_type": "code",
   "execution_count": 49,
   "id": "f90cf5ab-b11f-472d-8eac-fc12e1637dd9",
   "metadata": {},
   "outputs": [
    {
     "data": {
      "text/plain": [
       "(array([0.0490834 , 1.28402771]),\n",
       " array([[-0.73517866,  0.6778734 ],\n",
       "        [ 0.6778734 ,  0.73517866]]))"
      ]
     },
     "execution_count": 49,
     "metadata": {},
     "output_type": "execute_result"
    }
   ],
   "source": [
    "eigenvalues,eigenvectores"
   ]
  },
  {
   "cell_type": "markdown",
   "id": "4e2bd167-68c2-4150-9230-97af5c081b30",
   "metadata": {},
   "source": [
    "Step 4: Sort eigenvalues in descending order and compute the principal components"
   ]
  },
  {
   "cell_type": "code",
   "execution_count": 51,
   "id": "b557eeb9-97d4-4e5f-8727-38b8d44e338a",
   "metadata": {},
   "outputs": [],
   "source": [
    "#sort the eigenvalues in decind order\n",
    "sorted_index = np.argsort(eigenvalues)[::-1]"
   ]
  },
  {
   "cell_type": "code",
   "execution_count": 52,
   "id": "056bcb76-2130-48e2-97b7-f3e9ac51acfa",
   "metadata": {},
   "outputs": [
    {
     "data": {
      "text/plain": [
       "array([1, 0])"
      ]
     },
     "execution_count": 52,
     "metadata": {},
     "output_type": "execute_result"
    }
   ],
   "source": [
    "sorted_index"
   ]
  },
  {
   "cell_type": "code",
   "execution_count": 53,
   "id": "19afb8ce-2108-4c6b-8c76-da26f2432ef0",
   "metadata": {},
   "outputs": [],
   "source": [
    "# similarly sort the eigenvectors \n",
    "sorted_eig_vect = eigenvectores[:, sorted_index]"
   ]
  },
  {
   "cell_type": "code",
   "execution_count": 54,
   "id": "a3ee6b93-6022-47bd-9747-f0c1abf9375e",
   "metadata": {},
   "outputs": [
    {
     "data": {
      "text/plain": [
       "array([[ 0.6778734 , -0.73517866],\n",
       "       [ 0.73517866,  0.6778734 ]])"
      ]
     },
     "execution_count": 54,
     "metadata": {},
     "output_type": "execute_result"
    }
   ],
   "source": [
    "sorted_eig_vect"
   ]
  },
  {
   "cell_type": "code",
   "execution_count": 59,
   "id": "5d58f4cd-fdc1-4753-97e7-abca4088c63a",
   "metadata": {},
   "outputs": [
    {
     "data": {
      "text/plain": [
       "96.3181314348646"
      ]
     },
     "execution_count": 59,
     "metadata": {},
     "output_type": "execute_result"
    }
   ],
   "source": [
    "# this shows that first PCA shows %  variance\n",
    "100 * eigenvalues[1]/sum(eigenvalues)"
   ]
  },
  {
   "cell_type": "code",
   "execution_count": 61,
   "id": "e061b081-7dc9-4c9f-8299-765780856b0b",
   "metadata": {},
   "outputs": [
    {
     "data": {
      "text/plain": [
       "array([[0.6778734 ],\n",
       "       [0.73517866]])"
      ]
     },
     "execution_count": 61,
     "metadata": {},
     "output_type": "execute_result"
    }
   ],
   "source": [
    "## select the first n eigenvectors, n is disired dimension \n",
    "# of our final reduced data\n",
    "n_components = 1 # select the number components we wants\n",
    "eigenvalues_subset = sorted_eig_vect[:, 0:n_components]\n",
    "eigenvalues_subset"
   ]
  },
  {
   "cell_type": "markdown",
   "id": "2a7de09d-9f92-4c7e-9827-0dc9e0115102",
   "metadata": {},
   "source": [
    "step 5: reduce the dimentsions of the data"
   ]
  },
  {
   "cell_type": "code",
   "execution_count": 62,
   "id": "2adcc688-79c2-46f8-b0e5-4166ab96b4c1",
   "metadata": {},
   "outputs": [
    {
     "data": {
      "text/plain": [
       "array([[3.45911227],\n",
       "       [0.85356176],\n",
       "       [3.62333958],\n",
       "       [2.9053525 ],\n",
       "       [4.3069435 ],\n",
       "       [3.54409119],\n",
       "       [2.53203265],\n",
       "       [1.48656992],\n",
       "       [2.19309595],\n",
       "       [1.40732153]])"
      ]
     },
     "execution_count": 62,
     "metadata": {},
     "output_type": "execute_result"
    }
   ],
   "source": [
    "# transform the data\n",
    "transformed = np.matmul(x, eigenvalues_subset)\n",
    "transformed"
   ]
  },
  {
   "cell_type": "code",
   "execution_count": null,
   "id": "1c480dba-91c0-4837-9481-fde1982aa985",
   "metadata": {},
   "outputs": [],
   "source": [
    "### lets create the orginal data to veryfiy \n",
    "y = np.mutmul(transformed, )"
   ]
  }
 ],
 "metadata": {
  "kernelspec": {
   "display_name": "Python 3 (ipykernel)",
   "language": "python",
   "name": "python3"
  },
  "language_info": {
   "codemirror_mode": {
    "name": "ipython",
    "version": 3
   },
   "file_extension": ".py",
   "mimetype": "text/x-python",
   "name": "python",
   "nbconvert_exporter": "python",
   "pygments_lexer": "ipython3",
   "version": "3.11.5"
  }
 },
 "nbformat": 4,
 "nbformat_minor": 5
}
