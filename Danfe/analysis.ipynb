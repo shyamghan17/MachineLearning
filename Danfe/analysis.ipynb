{
 "cells": [
  {
   "cell_type": "code",
   "execution_count": 1,
   "id": "518cf54d-69b1-4b45-bb80-d75d6bc8340e",
   "metadata": {},
   "outputs": [],
   "source": [
    "import pandas as pd \n",
    "import numpy as np\n"
   ]
  },
  {
   "cell_type": "code",
   "execution_count": 8,
   "id": "3d34e901-0209-4540-9ab5-ece3c89c7faf",
   "metadata": {},
   "outputs": [],
   "source": [
    "df = pd.read_excel('orders-July-3rd-2024-1-54-38.xlsx').reset_index(drop =True)"
   ]
  },
  {
   "cell_type": "code",
   "execution_count": 10,
   "id": "aa1e7658-019c-4ad9-8c1b-cb2edd563e30",
   "metadata": {},
   "outputs": [
    {
     "data": {
      "text/plain": [
       "S.N                             0\n",
       "Waybill                         0\n",
       "Vendor                          0\n",
       "Pickup Branch                   0\n",
       "Destination Branch              0\n",
       "Customer Name                   0\n",
       "Customer Address                0\n",
       "Customer Primary Contact        0\n",
       "Customer Secondary Contact    471\n",
       "Weight                          0\n",
       "COD                             0\n",
       "Delivery Charge                 0\n",
       "Collected COD                   0\n",
       "Product Type                    0\n",
       "Delivery Instruction            0\n",
       "Status                          0\n",
       "Remarks                       337\n",
       "Reference Number              500\n",
       "dtype: int64"
      ]
     },
     "execution_count": 10,
     "metadata": {},
     "output_type": "execute_result"
    }
   ],
   "source": [
    "df.isnull().sum()"
   ]
  },
  {
   "cell_type": "code",
   "execution_count": 16,
   "id": "4648ed69-7cbf-4347-95e8-045bd022dcd9",
   "metadata": {},
   "outputs": [
    {
     "data": {
      "text/plain": [
       "array(['KTM VALLEY', 'KTM Valley(Long Route)', 'TANDI', 'POKHARA',\n",
       "       'TULSIPUR', 'BUTWAL', 'DHARAN', 'INARUWA', 'KAWASOTI', 'DAMAK',\n",
       "       'BELDANDI KANCHANPUR', 'ITAHARI', 'NEPALGUNJ', 'BIRATNAGAR',\n",
       "       'BAGLUNG', 'DAMAULI', 'LAMAHI', 'DHAKDAI RUPANDEHI',\n",
       "       'Doc. Delivery', 'MANTHALI', 'KOHALPUR', 'BHAIRAHAWA', 'PHIDIM',\n",
       "       'BUDHABARE', 'PATHARI', 'RAJBIRAJ', 'Doc. Pickup',\n",
       "       'SIDHUWA DHANKUTA', 'GULARIYA', 'DHANGADHI', 'SIMRA',\n",
       "       'RAMPUR PALPA', 'NARAYANGHAT', 'GHORAHI', 'KUSMA',\n",
       "       'KANCHANPUR-MAHENDRANAGAR', 'BANEPA', 'BELBARI',\n",
       "       'DODHARA CHANDANI KANCHANPUR', 'SURKHET', 'MIRCHAIYA', 'HETAUDA',\n",
       "       'BARDIBAS', 'BIRGUNJ', 'SUNDAR HARAICHA', 'PARSA CHITWAN',\n",
       "       'SANDHIKHARKA', 'BANDIPUR TANAHUN', 'GORKHA BAZAR', 'LAHAN',\n",
       "       'LAXMIPUR JHAPA', 'BIRATCHOWK', 'BHADRAPUR', 'SHREENAGAR SALYAN',\n",
       "       'TRISHULI', 'SANFEBAGAR ACHHAM', 'GARUDA', 'DHADING', 'URLABARI',\n",
       "       'TAMGHAS', 'JANAKPUR', 'PYUTHAN'], dtype=object)"
      ]
     },
     "execution_count": 16,
     "metadata": {},
     "output_type": "execute_result"
    }
   ],
   "source": [
    "df['Destination Branch'].unique()"
   ]
  },
  {
   "cell_type": "code",
   "execution_count": 17,
   "id": "79171a4b-9e97-4a1a-bb1a-d8c1adac98f3",
   "metadata": {},
   "outputs": [
    {
     "data": {
      "text/plain": [
       "array(['KTM VALLEY'], dtype=object)"
      ]
     },
     "execution_count": 17,
     "metadata": {},
     "output_type": "execute_result"
    }
   ],
   "source": [
    "df['Pickup Branch'].unique()"
   ]
  },
  {
   "cell_type": "code",
   "execution_count": 21,
   "id": "fe72fb75-ddf9-412a-a4ac-0288a64ec053",
   "metadata": {},
   "outputs": [
    {
     "data": {
      "text/plain": [
       "Customer Address\n",
       "KTM                                    8\n",
       "Pokhara                                7\n",
       "Itahari                                6\n",
       "Butwal                                 5\n",
       "Kapan                                  4\n",
       "                                      ..\n",
       "Himalaya Eye Hospital, Pokhara         1\n",
       "Greenhill City, Narayantar, Jorpati    1\n",
       "Ratnanagar 2, Tandi, Chitwan           1\n",
       "Kamaladi, Ganesthan                    1\n",
       "pyutham bagdhula                       1\n",
       "Name: count, Length: 450, dtype: int64"
      ]
     },
     "execution_count": 21,
     "metadata": {},
     "output_type": "execute_result"
    }
   ],
   "source": [
    "df['Customer Address'].value_counts()"
   ]
  },
  {
   "cell_type": "code",
   "execution_count": 22,
   "id": "c1d1165f-5f56-45e5-bd7b-acf9438c9054",
   "metadata": {},
   "outputs": [
    {
     "data": {
      "text/plain": [
       "array(['Package', 'Non Fragile', 'Fragile', 'Box'], dtype=object)"
      ]
     },
     "execution_count": 22,
     "metadata": {},
     "output_type": "execute_result"
    }
   ],
   "source": [
    "df['Product Type'].unique()"
   ]
  },
  {
   "cell_type": "code",
   "execution_count": 24,
   "id": "f39fd9dd-c9b5-4f0e-8484-0419dddaee19",
   "metadata": {},
   "outputs": [
    {
     "data": {
      "text/plain": [
       "Vendor\n",
       "Brand bucket             89\n",
       "Glow Juvenile            57\n",
       "Khalti                   36\n",
       "X-Age                    30\n",
       "Khalti-Pickup            30\n",
       "KTM Click                20\n",
       "From Butwal              19\n",
       "From Pokhara             16\n",
       "shoesplash               14\n",
       "Nana Closet              14\n",
       "Mikshan Baby Store       12\n",
       "Muskan Collection        11\n",
       "Fashion fabric           10\n",
       "Droge                    10\n",
       "Shopify                   9\n",
       "Gshop Nepal               8\n",
       "Everest Tea Shop          8\n",
       "BSN                       7\n",
       "Ojara Collection          7\n",
       "Tisaa Nepal               7\n",
       "Babu Nani                 7\n",
       "Shibi Styling             6\n",
       "Biz Bazar                 6\n",
       "Babys Boutique Online     6\n",
       "First step online         5\n",
       "HotchPotch Store          5\n",
       "Fragrance Line            5\n",
       "Dress Hub Nepal           4\n",
       "BRAND HUB                 4\n",
       "RC Archies                4\n",
       "DG Jewellery              4\n",
       "Maternity                 4\n",
       "Varosa Online             3\n",
       "KF Collection             3\n",
       "Craftique Creation        3\n",
       "MAKE UP                   3\n",
       "Berry                     3\n",
       "The Perfect Pair          2\n",
       "Shoes4lessnepal           2\n",
       "Trinity Online            2\n",
       "Tiny Clothing             1\n",
       "Anzzi Fashion             1\n",
       "Haku patasi               1\n",
       "One Horn                  1\n",
       "Sathi Logistic            1\n",
       "Name: count, dtype: int64"
      ]
     },
     "execution_count": 24,
     "metadata": {},
     "output_type": "execute_result"
    }
   ],
   "source": [
    "df['Vendor'].value_counts()"
   ]
  },
  {
   "cell_type": "code",
   "execution_count": 32,
   "id": "6838f715-693e-485a-84d3-6c89b67e5cbe",
   "metadata": {},
   "outputs": [
    {
     "data": {
      "text/plain": [
       "Customer Primary Contact\n",
       "+9779841429090    2\n",
       "+9779802071488    2\n",
       "+9779761672607    2\n",
       "+9779815024126    2\n",
       "+9779849542927    2\n",
       "                 ..\n",
       "+9779813907670    1\n",
       "+9779849123418    1\n",
       "+9779841100291    1\n",
       "+9779818104443    1\n",
       "+9779840699753    1\n",
       "Name: count, Length: 491, dtype: int64"
      ]
     },
     "execution_count": 32,
     "metadata": {},
     "output_type": "execute_result"
    }
   ],
   "source": [
    "df['Customer Primary Contact'].value_counts()"
   ]
  },
  {
   "cell_type": "code",
   "execution_count": null,
   "id": "15bdfc45-ab9f-4dd8-842f-0f5217ff83d9",
   "metadata": {},
   "outputs": [],
   "source": []
  }
 ],
 "metadata": {
  "kernelspec": {
   "display_name": "Python 3 (ipykernel)",
   "language": "python",
   "name": "python3"
  },
  "language_info": {
   "codemirror_mode": {
    "name": "ipython",
    "version": 3
   },
   "file_extension": ".py",
   "mimetype": "text/x-python",
   "name": "python",
   "nbconvert_exporter": "python",
   "pygments_lexer": "ipython3",
   "version": "3.11.5"
  }
 },
 "nbformat": 4,
 "nbformat_minor": 5
}
