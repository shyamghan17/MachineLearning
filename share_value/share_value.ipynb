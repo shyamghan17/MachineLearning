{
 "cells": [
  {
   "cell_type": "code",
   "execution_count": 80,
   "id": "initial_id",
   "metadata": {
    "collapsed": true,
    "ExecuteTime": {
     "end_time": "2023-11-25T08:18:19.913223Z",
     "start_time": "2023-11-25T08:18:19.804594Z"
    }
   },
   "outputs": [],
   "source": [
    "import pandas as pd"
   ]
  },
  {
   "cell_type": "code",
   "execution_count": 81,
   "outputs": [],
   "source": [
    "dad = pd.read_csv('My Shares Values (3).csv')\n",
    "ghan = pd.read_csv('My Shares Values.csv')\n",
    "mom = pd.read_csv('My Shares Values (1).csv')\n",
    "son = pd.read_csv('My Shares Values (2).csv')"
   ],
   "metadata": {
    "collapsed": false,
    "ExecuteTime": {
     "end_time": "2023-11-25T08:18:19.913517Z",
     "start_time": "2023-11-25T08:18:19.809280Z"
    }
   },
   "id": "9fdd3ec628c3a48"
  },
  {
   "cell_type": "code",
   "execution_count": 82,
   "outputs": [
    {
     "data": {
      "text/plain": "       S.N Scrip Current Balance Previous Closing Price  \\\n0        1  GCIL            10.0                  412.0   \n1        2   ILI            10.0                  487.0   \n2        3  SONA            10.0                  287.9   \n3  Total :                                                \n\n   Value as of Previous Closing Price Last Transaction Price (LTP)  \\\n0                              4120.0                        412.0   \n1                              4870.0                        487.0   \n2                              2879.0                        287.9   \n3                             11869.0                                \n\n   Value as of LTP  \n0           4120.0  \n1           4870.0  \n2           2879.0  \n3          11869.0  ",
      "text/html": "<div>\n<style scoped>\n    .dataframe tbody tr th:only-of-type {\n        vertical-align: middle;\n    }\n\n    .dataframe tbody tr th {\n        vertical-align: top;\n    }\n\n    .dataframe thead th {\n        text-align: right;\n    }\n</style>\n<table border=\"1\" class=\"dataframe\">\n  <thead>\n    <tr style=\"text-align: right;\">\n      <th></th>\n      <th>S.N</th>\n      <th>Scrip</th>\n      <th>Current Balance</th>\n      <th>Previous Closing Price</th>\n      <th>Value as of Previous Closing Price</th>\n      <th>Last Transaction Price (LTP)</th>\n      <th>Value as of LTP</th>\n    </tr>\n  </thead>\n  <tbody>\n    <tr>\n      <th>0</th>\n      <td>1</td>\n      <td>GCIL</td>\n      <td>10.0</td>\n      <td>412.0</td>\n      <td>4120.0</td>\n      <td>412.0</td>\n      <td>4120.0</td>\n    </tr>\n    <tr>\n      <th>1</th>\n      <td>2</td>\n      <td>ILI</td>\n      <td>10.0</td>\n      <td>487.0</td>\n      <td>4870.0</td>\n      <td>487.0</td>\n      <td>4870.0</td>\n    </tr>\n    <tr>\n      <th>2</th>\n      <td>3</td>\n      <td>SONA</td>\n      <td>10.0</td>\n      <td>287.9</td>\n      <td>2879.0</td>\n      <td>287.9</td>\n      <td>2879.0</td>\n    </tr>\n    <tr>\n      <th>3</th>\n      <td>Total :</td>\n      <td></td>\n      <td></td>\n      <td></td>\n      <td>11869.0</td>\n      <td></td>\n      <td>11869.0</td>\n    </tr>\n  </tbody>\n</table>\n</div>"
     },
     "execution_count": 82,
     "metadata": {},
     "output_type": "execute_result"
    }
   ],
   "source": [
    "son"
   ],
   "metadata": {
    "collapsed": false,
    "ExecuteTime": {
     "end_time": "2023-11-25T08:18:19.925896Z",
     "start_time": "2023-11-25T08:18:19.820133Z"
    }
   },
   "id": "f5b41cf31f82d71"
  },
  {
   "cell_type": "code",
   "execution_count": 83,
   "outputs": [],
   "source": [
    "df = pd.concat([pd.concat([ghan, dad]), pd.concat([mom, son])])"
   ],
   "metadata": {
    "collapsed": false,
    "ExecuteTime": {
     "end_time": "2023-11-25T08:18:19.926072Z",
     "start_time": "2023-11-25T08:18:19.824860Z"
    }
   },
   "id": "71a3e8f37573f15f"
  },
  {
   "cell_type": "code",
   "execution_count": 84,
   "outputs": [
    {
     "data": {
      "text/plain": "Index(['S.N', 'Scrip', 'Current Balance', 'Previous Closing Price',\n       'Value as of Previous Closing Price', 'Last Transaction Price (LTP)',\n       'Value as of LTP'],\n      dtype='object')"
     },
     "execution_count": 84,
     "metadata": {},
     "output_type": "execute_result"
    }
   ],
   "source": [
    "df.columns"
   ],
   "metadata": {
    "collapsed": false,
    "ExecuteTime": {
     "end_time": "2023-11-25T08:18:19.926209Z",
     "start_time": "2023-11-25T08:18:19.828482Z"
    }
   },
   "id": "8cb1d51b5ffca47b"
  },
  {
   "cell_type": "code",
   "execution_count": 85,
   "outputs": [],
   "source": [
    "drop_list ={'S.N', 'Current Balance', 'Previous Closing Price',\n",
    "            'Value as of Previous Closing Price', \n",
    "             'Pledge Balance', 'Lockin Balance', 'Freeze Balance',\n",
    "            'Free Balance', 'Demat Pending', 'Remarks'}\n"
   ],
   "metadata": {
    "collapsed": false,
    "ExecuteTime": {
     "end_time": "2023-11-25T08:18:19.926267Z",
     "start_time": "2023-11-25T08:18:19.830891Z"
    }
   },
   "id": "e3ca5a5adb8ad3fd"
  },
  {
   "cell_type": "code",
   "execution_count": 86,
   "outputs": [
    {
     "data": {
      "text/plain": "        S.N  Scrip Current Balance Previous Closing Price  \\\n0         1   ADBL            22.0                  245.0   \n1         2   BEDC            10.0                  207.9   \n2         3    CLI            10.0                  430.0   \n3         4  DOLTI            10.0                  207.0   \n4         5   GCIL            10.0                  412.0   \n5         6    ILI            10.0                  487.0   \n6         7    KBL           127.0                  153.9   \n7         8   MBJC            10.0                  267.0   \n8         9    MEL            10.0                  159.9   \n9        10   MHCL            10.0                  210.0   \n10       11   MKHL            10.0                  245.8   \n11       12  MMKJL            10.0                  258.5   \n12       13  NABIL            17.0                  515.0   \n13       14  NICSF           100.0                   7.95   \n14       15    NRM            10.0                  228.5   \n15       16   SONA            10.0                  287.9   \n16  Total :                                                 \n0         1    CLI            10.0                  430.0   \n1         2    ILI            10.0                  487.0   \n2         3   RNLI            10.0                  440.0   \n3         4   SMJC            10.0                  260.0   \n4         5   SNLI            10.0                  455.1   \n5         6   TSHL            10.0                  381.1   \n6   Total :                                                 \n0         1   BNHC            10.0                  348.5   \n1         2    CLI            10.0                  430.0   \n2         3   MKHL            10.0                  245.8   \n3         4    PPL            10.0                  208.0   \n4         5   SNLI            10.0                  455.1   \n5         6   SONA            10.0                  287.9   \n6         7   TSHL            10.0                  381.1   \n7         8  USHEC            10.0                  232.0   \n8   Total :                                                 \n0         1   GCIL            10.0                  412.0   \n1         2    ILI            10.0                  487.0   \n2         3   SONA            10.0                  287.9   \n3   Total :                                                 \n\n    Value as of Previous Closing Price Last Transaction Price (LTP)  \\\n0                               5390.0                        245.0   \n1                               2079.0                        207.9   \n2                               4300.0                        430.0   \n3                               2070.0                        207.0   \n4                               4120.0                        412.0   \n5                               4870.0                        487.0   \n6                              19545.3                        153.9   \n7                               2670.0                        267.0   \n8                               1599.0                        159.9   \n9                               2100.0                        210.0   \n10                              2458.0                        245.8   \n11                              2585.0                        258.5   \n12                              8755.0                        515.0   \n13                               795.0                         7.95   \n14                              2285.0                        228.5   \n15                              2879.0                        287.9   \n16                             68500.3                                \n0                               4300.0                        430.0   \n1                               4870.0                        487.0   \n2                               4400.0                        440.0   \n3                               2600.0                        260.0   \n4                               4551.0                        455.1   \n5                               3811.0                        381.1   \n6                              24532.0                                \n0                               3485.0                        348.5   \n1                               4300.0                        430.0   \n2                               2458.0                        245.8   \n3                               2080.0                        208.0   \n4                               4551.0                        455.1   \n5                               2879.0                        287.9   \n6                               3811.0                        381.1   \n7                               2320.0                        232.0   \n8                              25884.0                                \n0                               4120.0                        412.0   \n1                               4870.0                        487.0   \n2                               2879.0                        287.9   \n3                              11869.0                                \n\n    Value as of LTP  \n0            5390.0  \n1            2079.0  \n2            4300.0  \n3            2070.0  \n4            4120.0  \n5            4870.0  \n6           19545.3  \n7            2670.0  \n8            1599.0  \n9            2100.0  \n10           2458.0  \n11           2585.0  \n12           8755.0  \n13            795.0  \n14           2285.0  \n15           2879.0  \n16          68500.3  \n0            4300.0  \n1            4870.0  \n2            4400.0  \n3            2600.0  \n4            4551.0  \n5            3811.0  \n6           24532.0  \n0            3485.0  \n1            4300.0  \n2            2458.0  \n3            2080.0  \n4            4551.0  \n5            2879.0  \n6            3811.0  \n7            2320.0  \n8           25884.0  \n0            4120.0  \n1            4870.0  \n2            2879.0  \n3           11869.0  ",
      "text/html": "<div>\n<style scoped>\n    .dataframe tbody tr th:only-of-type {\n        vertical-align: middle;\n    }\n\n    .dataframe tbody tr th {\n        vertical-align: top;\n    }\n\n    .dataframe thead th {\n        text-align: right;\n    }\n</style>\n<table border=\"1\" class=\"dataframe\">\n  <thead>\n    <tr style=\"text-align: right;\">\n      <th></th>\n      <th>S.N</th>\n      <th>Scrip</th>\n      <th>Current Balance</th>\n      <th>Previous Closing Price</th>\n      <th>Value as of Previous Closing Price</th>\n      <th>Last Transaction Price (LTP)</th>\n      <th>Value as of LTP</th>\n    </tr>\n  </thead>\n  <tbody>\n    <tr>\n      <th>0</th>\n      <td>1</td>\n      <td>ADBL</td>\n      <td>22.0</td>\n      <td>245.0</td>\n      <td>5390.0</td>\n      <td>245.0</td>\n      <td>5390.0</td>\n    </tr>\n    <tr>\n      <th>1</th>\n      <td>2</td>\n      <td>BEDC</td>\n      <td>10.0</td>\n      <td>207.9</td>\n      <td>2079.0</td>\n      <td>207.9</td>\n      <td>2079.0</td>\n    </tr>\n    <tr>\n      <th>2</th>\n      <td>3</td>\n      <td>CLI</td>\n      <td>10.0</td>\n      <td>430.0</td>\n      <td>4300.0</td>\n      <td>430.0</td>\n      <td>4300.0</td>\n    </tr>\n    <tr>\n      <th>3</th>\n      <td>4</td>\n      <td>DOLTI</td>\n      <td>10.0</td>\n      <td>207.0</td>\n      <td>2070.0</td>\n      <td>207.0</td>\n      <td>2070.0</td>\n    </tr>\n    <tr>\n      <th>4</th>\n      <td>5</td>\n      <td>GCIL</td>\n      <td>10.0</td>\n      <td>412.0</td>\n      <td>4120.0</td>\n      <td>412.0</td>\n      <td>4120.0</td>\n    </tr>\n    <tr>\n      <th>5</th>\n      <td>6</td>\n      <td>ILI</td>\n      <td>10.0</td>\n      <td>487.0</td>\n      <td>4870.0</td>\n      <td>487.0</td>\n      <td>4870.0</td>\n    </tr>\n    <tr>\n      <th>6</th>\n      <td>7</td>\n      <td>KBL</td>\n      <td>127.0</td>\n      <td>153.9</td>\n      <td>19545.3</td>\n      <td>153.9</td>\n      <td>19545.3</td>\n    </tr>\n    <tr>\n      <th>7</th>\n      <td>8</td>\n      <td>MBJC</td>\n      <td>10.0</td>\n      <td>267.0</td>\n      <td>2670.0</td>\n      <td>267.0</td>\n      <td>2670.0</td>\n    </tr>\n    <tr>\n      <th>8</th>\n      <td>9</td>\n      <td>MEL</td>\n      <td>10.0</td>\n      <td>159.9</td>\n      <td>1599.0</td>\n      <td>159.9</td>\n      <td>1599.0</td>\n    </tr>\n    <tr>\n      <th>9</th>\n      <td>10</td>\n      <td>MHCL</td>\n      <td>10.0</td>\n      <td>210.0</td>\n      <td>2100.0</td>\n      <td>210.0</td>\n      <td>2100.0</td>\n    </tr>\n    <tr>\n      <th>10</th>\n      <td>11</td>\n      <td>MKHL</td>\n      <td>10.0</td>\n      <td>245.8</td>\n      <td>2458.0</td>\n      <td>245.8</td>\n      <td>2458.0</td>\n    </tr>\n    <tr>\n      <th>11</th>\n      <td>12</td>\n      <td>MMKJL</td>\n      <td>10.0</td>\n      <td>258.5</td>\n      <td>2585.0</td>\n      <td>258.5</td>\n      <td>2585.0</td>\n    </tr>\n    <tr>\n      <th>12</th>\n      <td>13</td>\n      <td>NABIL</td>\n      <td>17.0</td>\n      <td>515.0</td>\n      <td>8755.0</td>\n      <td>515.0</td>\n      <td>8755.0</td>\n    </tr>\n    <tr>\n      <th>13</th>\n      <td>14</td>\n      <td>NICSF</td>\n      <td>100.0</td>\n      <td>7.95</td>\n      <td>795.0</td>\n      <td>7.95</td>\n      <td>795.0</td>\n    </tr>\n    <tr>\n      <th>14</th>\n      <td>15</td>\n      <td>NRM</td>\n      <td>10.0</td>\n      <td>228.5</td>\n      <td>2285.0</td>\n      <td>228.5</td>\n      <td>2285.0</td>\n    </tr>\n    <tr>\n      <th>15</th>\n      <td>16</td>\n      <td>SONA</td>\n      <td>10.0</td>\n      <td>287.9</td>\n      <td>2879.0</td>\n      <td>287.9</td>\n      <td>2879.0</td>\n    </tr>\n    <tr>\n      <th>16</th>\n      <td>Total :</td>\n      <td></td>\n      <td></td>\n      <td></td>\n      <td>68500.3</td>\n      <td></td>\n      <td>68500.3</td>\n    </tr>\n    <tr>\n      <th>0</th>\n      <td>1</td>\n      <td>CLI</td>\n      <td>10.0</td>\n      <td>430.0</td>\n      <td>4300.0</td>\n      <td>430.0</td>\n      <td>4300.0</td>\n    </tr>\n    <tr>\n      <th>1</th>\n      <td>2</td>\n      <td>ILI</td>\n      <td>10.0</td>\n      <td>487.0</td>\n      <td>4870.0</td>\n      <td>487.0</td>\n      <td>4870.0</td>\n    </tr>\n    <tr>\n      <th>2</th>\n      <td>3</td>\n      <td>RNLI</td>\n      <td>10.0</td>\n      <td>440.0</td>\n      <td>4400.0</td>\n      <td>440.0</td>\n      <td>4400.0</td>\n    </tr>\n    <tr>\n      <th>3</th>\n      <td>4</td>\n      <td>SMJC</td>\n      <td>10.0</td>\n      <td>260.0</td>\n      <td>2600.0</td>\n      <td>260.0</td>\n      <td>2600.0</td>\n    </tr>\n    <tr>\n      <th>4</th>\n      <td>5</td>\n      <td>SNLI</td>\n      <td>10.0</td>\n      <td>455.1</td>\n      <td>4551.0</td>\n      <td>455.1</td>\n      <td>4551.0</td>\n    </tr>\n    <tr>\n      <th>5</th>\n      <td>6</td>\n      <td>TSHL</td>\n      <td>10.0</td>\n      <td>381.1</td>\n      <td>3811.0</td>\n      <td>381.1</td>\n      <td>3811.0</td>\n    </tr>\n    <tr>\n      <th>6</th>\n      <td>Total :</td>\n      <td></td>\n      <td></td>\n      <td></td>\n      <td>24532.0</td>\n      <td></td>\n      <td>24532.0</td>\n    </tr>\n    <tr>\n      <th>0</th>\n      <td>1</td>\n      <td>BNHC</td>\n      <td>10.0</td>\n      <td>348.5</td>\n      <td>3485.0</td>\n      <td>348.5</td>\n      <td>3485.0</td>\n    </tr>\n    <tr>\n      <th>1</th>\n      <td>2</td>\n      <td>CLI</td>\n      <td>10.0</td>\n      <td>430.0</td>\n      <td>4300.0</td>\n      <td>430.0</td>\n      <td>4300.0</td>\n    </tr>\n    <tr>\n      <th>2</th>\n      <td>3</td>\n      <td>MKHL</td>\n      <td>10.0</td>\n      <td>245.8</td>\n      <td>2458.0</td>\n      <td>245.8</td>\n      <td>2458.0</td>\n    </tr>\n    <tr>\n      <th>3</th>\n      <td>4</td>\n      <td>PPL</td>\n      <td>10.0</td>\n      <td>208.0</td>\n      <td>2080.0</td>\n      <td>208.0</td>\n      <td>2080.0</td>\n    </tr>\n    <tr>\n      <th>4</th>\n      <td>5</td>\n      <td>SNLI</td>\n      <td>10.0</td>\n      <td>455.1</td>\n      <td>4551.0</td>\n      <td>455.1</td>\n      <td>4551.0</td>\n    </tr>\n    <tr>\n      <th>5</th>\n      <td>6</td>\n      <td>SONA</td>\n      <td>10.0</td>\n      <td>287.9</td>\n      <td>2879.0</td>\n      <td>287.9</td>\n      <td>2879.0</td>\n    </tr>\n    <tr>\n      <th>6</th>\n      <td>7</td>\n      <td>TSHL</td>\n      <td>10.0</td>\n      <td>381.1</td>\n      <td>3811.0</td>\n      <td>381.1</td>\n      <td>3811.0</td>\n    </tr>\n    <tr>\n      <th>7</th>\n      <td>8</td>\n      <td>USHEC</td>\n      <td>10.0</td>\n      <td>232.0</td>\n      <td>2320.0</td>\n      <td>232.0</td>\n      <td>2320.0</td>\n    </tr>\n    <tr>\n      <th>8</th>\n      <td>Total :</td>\n      <td></td>\n      <td></td>\n      <td></td>\n      <td>25884.0</td>\n      <td></td>\n      <td>25884.0</td>\n    </tr>\n    <tr>\n      <th>0</th>\n      <td>1</td>\n      <td>GCIL</td>\n      <td>10.0</td>\n      <td>412.0</td>\n      <td>4120.0</td>\n      <td>412.0</td>\n      <td>4120.0</td>\n    </tr>\n    <tr>\n      <th>1</th>\n      <td>2</td>\n      <td>ILI</td>\n      <td>10.0</td>\n      <td>487.0</td>\n      <td>4870.0</td>\n      <td>487.0</td>\n      <td>4870.0</td>\n    </tr>\n    <tr>\n      <th>2</th>\n      <td>3</td>\n      <td>SONA</td>\n      <td>10.0</td>\n      <td>287.9</td>\n      <td>2879.0</td>\n      <td>287.9</td>\n      <td>2879.0</td>\n    </tr>\n    <tr>\n      <th>3</th>\n      <td>Total :</td>\n      <td></td>\n      <td></td>\n      <td></td>\n      <td>11869.0</td>\n      <td></td>\n      <td>11869.0</td>\n    </tr>\n  </tbody>\n</table>\n</div>"
     },
     "execution_count": 86,
     "metadata": {},
     "output_type": "execute_result"
    }
   ],
   "source": [
    "df"
   ],
   "metadata": {
    "collapsed": false,
    "ExecuteTime": {
     "end_time": "2023-11-25T08:18:19.926696Z",
     "start_time": "2023-11-25T08:18:19.838571Z"
    }
   },
   "id": "38031dbc1c2f1d13"
  },
  {
   "cell_type": "code",
   "execution_count": 87,
   "outputs": [],
   "source": [
    "drop_list = df['S.N'] =='Total :'"
   ],
   "metadata": {
    "collapsed": false,
    "ExecuteTime": {
     "end_time": "2023-11-25T08:18:19.926770Z",
     "start_time": "2023-11-25T08:18:19.841355Z"
    }
   },
   "id": "99e8c763bde9b07f"
  },
  {
   "cell_type": "code",
   "execution_count": 90,
   "outputs": [],
   "source": [
    "\n",
    "df = df[df['S.N'] != 'Total :']"
   ],
   "metadata": {
    "collapsed": false,
    "ExecuteTime": {
     "end_time": "2023-11-25T08:18:28.065586Z",
     "start_time": "2023-11-25T08:18:28.048513Z"
    }
   },
   "id": "cee8962ed20df44f"
  },
  {
   "cell_type": "code",
   "execution_count": 91,
   "outputs": [
    {
     "data": {
      "text/plain": "130785.3"
     },
     "execution_count": 91,
     "metadata": {},
     "output_type": "execute_result"
    }
   ],
   "source": [
    "df['Value as of LTP'].sum()"
   ],
   "metadata": {
    "collapsed": false,
    "ExecuteTime": {
     "end_time": "2023-11-25T08:18:28.976741Z",
     "start_time": "2023-11-25T08:18:28.963280Z"
    }
   },
   "id": "2974c509fc8b5fd2"
  },
  {
   "cell_type": "code",
   "execution_count": 99,
   "outputs": [],
   "source": [
    "df = df.groupby(df['Scrip'])"
   ],
   "metadata": {
    "collapsed": false,
    "ExecuteTime": {
     "end_time": "2023-11-25T08:29:16.816364Z",
     "start_time": "2023-11-25T08:29:16.789248Z"
    }
   },
   "id": "7a97d12628e45f50"
  },
  {
   "cell_type": "code",
   "execution_count": 100,
   "outputs": [
    {
     "data": {
      "text/plain": "<pandas.core.groupby.generic.DataFrameGroupBy object at 0x16b14bc90>"
     },
     "execution_count": 100,
     "metadata": {},
     "output_type": "execute_result"
    }
   ],
   "source": [],
   "metadata": {
    "collapsed": false,
    "ExecuteTime": {
     "end_time": "2023-11-25T08:29:18.802132Z",
     "start_time": "2023-11-25T08:29:18.771391Z"
    }
   },
   "id": "175b1304e5a1f53"
  },
  {
   "cell_type": "code",
   "execution_count": null,
   "outputs": [],
   "source": [],
   "metadata": {
    "collapsed": false
   },
   "id": "8b9d6c80b1f63022"
  }
 ],
 "metadata": {
  "kernelspec": {
   "display_name": "Python 3",
   "language": "python",
   "name": "python3"
  },
  "language_info": {
   "codemirror_mode": {
    "name": "ipython",
    "version": 2
   },
   "file_extension": ".py",
   "mimetype": "text/x-python",
   "name": "python",
   "nbconvert_exporter": "python",
   "pygments_lexer": "ipython2",
   "version": "2.7.6"
  }
 },
 "nbformat": 4,
 "nbformat_minor": 5
}
