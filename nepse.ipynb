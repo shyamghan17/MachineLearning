{
 "cells": [
  {
   "cell_type": "code",
   "execution_count": null,
   "id": "initial_id",
   "metadata": {
    "collapsed": true
   },
   "outputs": [],
   "source": []
  },
  {
   "cell_type": "code",
   "outputs": [
    {
     "ename": "NameError",
     "evalue": "name 'company_Symbol' is not defined",
     "output_type": "error",
     "traceback": [
      "\u001B[0;31m---------------------------------------------------------------------------\u001B[0m",
      "\u001B[0;31mNameError\u001B[0m                                 Traceback (most recent call last)",
      "Cell \u001B[0;32mIn[4], line 20\u001B[0m\n\u001B[1;32m     16\u001B[0m         data \u001B[38;5;241m=\u001B[39m \u001B[38;5;28;01mawait\u001B[39;00m client\u001B[38;5;241m.\u001B[39msecurity_client\u001B[38;5;241m.\u001B[39mget_company(symbol\u001B[38;5;241m=\u001B[39m\u001B[38;5;124mf\u001B[39m\u001B[38;5;124m\"\u001B[39m\u001B[38;5;132;01m{\u001B[39;00mcompany_Symbol\u001B[38;5;132;01m}\u001B[39;00m\u001B[38;5;124m\"\u001B[39m)\n\u001B[1;32m     18\u001B[0m  \u001B[38;5;66;03m# Prints the highest price for that company today\u001B[39;00m\n\u001B[0;32m---> 20\u001B[0m \u001B[38;5;28mprint\u001B[39m(\u001B[38;5;124mf\u001B[39m\u001B[38;5;124m'\u001B[39m\u001B[38;5;124mHigh Price of \u001B[39m\u001B[38;5;132;01m{\u001B[39;00mcompany_Symbol\u001B[38;5;132;01m}\u001B[39;00m\u001B[38;5;124m: \u001B[39m\u001B[38;5;124m'\u001B[39m, data\u001B[38;5;241m.\u001B[39mhigh_price)\n\u001B[1;32m     21\u001B[0m \u001B[38;5;28mprint\u001B[39m(\u001B[38;5;124mf\u001B[39m\u001B[38;5;124m'\u001B[39m\u001B[38;5;124mLow price of \u001B[39m\u001B[38;5;132;01m{\u001B[39;00mcompany_Symbol\u001B[38;5;132;01m}\u001B[39;00m\u001B[38;5;124m: \u001B[39m\u001B[38;5;124m'\u001B[39m, data\u001B[38;5;241m.\u001B[39mlow_price)\n\u001B[1;32m     22\u001B[0m \u001B[38;5;28mprint\u001B[39m(\u001B[38;5;124mf\u001B[39m\u001B[38;5;124m'\u001B[39m\u001B[38;5;124mOpen Price of \u001B[39m\u001B[38;5;132;01m{\u001B[39;00mcompany_Symbol\u001B[38;5;132;01m}\u001B[39;00m\u001B[38;5;124m: \u001B[39m\u001B[38;5;124m'\u001B[39m, data\u001B[38;5;241m.\u001B[39mopen_price)\n",
      "\u001B[0;31mNameError\u001B[0m: name 'company_Symbol' is not defined"
     ]
    }
   ],
   "source": [
    "import asyncio\n",
    "import httpx\n",
    "from nepse import Client\n",
    "\n",
    "\n",
    "async def main():\n",
    "    company_Symbol = input('Input Company Symbol (Uppercase): ')\n",
    "\n",
    "    # Doing this is optional you can directly\n",
    "    # Initialize using `client = Client()` as well\n",
    "    async with httpx.AsyncClient() as async_client:\n",
    "        # Initializes the client\n",
    "        client = Client(httpx_client=async_client)\n",
    "\n",
    "        # Gets the data\n",
    "        data = await client.security_client.get_company(symbol=f\"{company_Symbol}\")\n",
    "\n",
    " # Prints the highest price for that company today\n",
    "       \n",
    "print(f'High Price of {company_Symbol}: ', data.high_price)\n",
    "print(f'Low price of {company_Symbol}: ', data.low_price)\n",
    "print(f'Open Price of {company_Symbol}: ', data.open_price)\n",
    "\n",
    "# Run the function\n",
    "loop = asyncio.get_event_loop()\n"
   ],
   "metadata": {
    "collapsed": false,
    "ExecuteTime": {
     "end_time": "2024-01-01T21:04:29.552670Z",
     "start_time": "2024-01-01T21:04:29.543318Z"
    }
   },
   "id": "77855a809cad6980",
   "execution_count": 4
  },
  {
   "cell_type": "code",
   "outputs": [],
   "source": [],
   "metadata": {
    "collapsed": false
   },
   "id": "3b8542748b9cc76e"
  }
 ],
 "metadata": {
  "kernelspec": {
   "display_name": "Python 3",
   "language": "python",
   "name": "python3"
  },
  "language_info": {
   "codemirror_mode": {
    "name": "ipython",
    "version": 2
   },
   "file_extension": ".py",
   "mimetype": "text/x-python",
   "name": "python",
   "nbconvert_exporter": "python",
   "pygments_lexer": "ipython2",
   "version": "2.7.6"
  }
 },
 "nbformat": 4,
 "nbformat_minor": 5
}
