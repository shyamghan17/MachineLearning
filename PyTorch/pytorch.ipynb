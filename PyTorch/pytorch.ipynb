{
 "cells": [
  {
   "cell_type": "code",
   "execution_count": 9,
   "metadata": {
    "collapsed": true
   },
   "outputs": [],
   "source": [
    "import torch"
   ]
  },
  {
   "cell_type": "code",
   "execution_count": 10,
   "outputs": [
    {
     "name": "stdout",
     "output_type": "stream",
     "text": [
      "tensor([[1., 1.],\n",
      "        [1., 1.]])\n"
     ]
    }
   ],
   "source": [
    "some_one = torch.ones(2,2)\n",
    "print(some_one)"
   ],
   "metadata": {
    "collapsed": false
   }
  },
  {
   "cell_type": "code",
   "execution_count": 11,
   "outputs": [
    {
     "name": "stdout",
     "output_type": "stream",
     "text": [
      "tensor([[0., 0., 0.],\n",
      "        [0., 0., 0.],\n",
      "        [0., 0., 0.]])\n"
     ]
    }
   ],
   "source": [
    "some_zeros = torch.zeros(3,3)\n",
    "print(some_zeros)"
   ],
   "metadata": {
    "collapsed": false
   }
  },
  {
   "cell_type": "code",
   "execution_count": 12,
   "outputs": [
    {
     "name": "stdout",
     "output_type": "stream",
     "text": [
      "tensor([[-0.7288,  0.6724,  1.1422],\n",
      "        [ 0.4509, -0.3180,  2.2360],\n",
      "        [-0.0939, -0.5525, -0.7025]])\n"
     ]
    }
   ],
   "source": [
    "some_random = torch.randn(3,3)\n",
    "print(some_random)"
   ],
   "metadata": {
    "collapsed": false
   }
  },
  {
   "cell_type": "code",
   "execution_count": 13,
   "outputs": [
    {
     "name": "stdout",
     "output_type": "stream",
     "text": [
      "tensor([[ 0.4906,  1.3415, -0.5249,  0.6239, -0.1880],\n",
      "        [ 0.6095,  0.1240, -2.7087,  0.3660,  0.2017],\n",
      "        [-0.2803, -1.3845,  0.6051,  1.2186,  1.9245],\n",
      "        [-0.3969, -0.7346, -0.7089,  0.6302, -0.0680],\n",
      "        [ 2.8984,  0.0479, -0.7913, -1.0003, -0.9104]])\n",
      "tensor([[-1.8040, -0.7088,  0.5855, -0.6654,  0.7144],\n",
      "        [ 0.5817, -0.0449,  1.5432,  0.8004, -0.4528],\n",
      "        [ 1.1573,  2.0761, -0.4518,  2.0488, -0.9673],\n",
      "        [ 1.2285,  0.5972, -0.6592,  0.3211,  0.2679],\n",
      "        [-1.7318, -0.0150,  1.3150, -0.8887,  3.4040]])\n"
     ]
    }
   ],
   "source": [
    "a = torch.randn(5,5)\n",
    "b = torch.randn(5,5)\n",
    "print(a)\n",
    "print(b)"
   ],
   "metadata": {
    "collapsed": false
   }
  },
  {
   "cell_type": "code",
   "execution_count": 16,
   "outputs": [
    {
     "data": {
      "text/plain": "tensor([[-8.8498e-01, -9.5089e-01, -3.0735e-01, -4.1512e-01, -1.3434e-01],\n        [ 3.5454e-01, -5.5704e-03, -4.1801e+00,  2.9293e-01, -9.1341e-02],\n        [-3.2444e-01, -2.8745e+00, -2.7339e-01,  2.4966e+00, -1.8616e+00],\n        [-4.8760e-01, -4.3865e-01,  4.6733e-01,  2.0238e-01, -1.8216e-02],\n        [-5.0195e+00, -7.1853e-04, -1.0406e+00,  8.8899e-01, -3.0989e+00]])"
     },
     "execution_count": 16,
     "metadata": {},
     "output_type": "execute_result"
    }
   ],
   "source": [
    "a*b"
   ],
   "metadata": {
    "collapsed": false
   }
  },
  {
   "cell_type": "code",
   "execution_count": 17,
   "outputs": [
    {
     "name": "stdout",
     "output_type": "stream",
     "text": [
      "tensor([[ 0.3800, -1.1225,  1.9361,  0.0394, -0.2221],\n",
      "        [-4.0620, -5.8458,  1.7962, -5.9177,  3.7843],\n",
      "        [-1.4351,  2.2159, -0.8467, -1.0011,  6.7186],\n",
      "        [ 0.3603, -0.7802, -1.5505, -1.5135,  0.6722],\n",
      "        [-5.7689, -4.2832,  1.5908, -3.0236, -0.5524]])\n"
     ]
    }
   ],
   "source": [
    "c = a.mm(b)\n",
    "print(c)"
   ],
   "metadata": {
    "collapsed": false
   }
  },
  {
   "cell_type": "code",
   "execution_count": 15,
   "outputs": [],
   "source": [],
   "metadata": {
    "collapsed": false
   }
  }
 ],
 "metadata": {
  "kernelspec": {
   "display_name": "Python 3",
   "language": "python",
   "name": "python3"
  },
  "language_info": {
   "codemirror_mode": {
    "name": "ipython",
    "version": 2
   },
   "file_extension": ".py",
   "mimetype": "text/x-python",
   "name": "python",
   "nbconvert_exporter": "python",
   "pygments_lexer": "ipython2",
   "version": "2.7.6"
  }
 },
 "nbformat": 4,
 "nbformat_minor": 0
}
