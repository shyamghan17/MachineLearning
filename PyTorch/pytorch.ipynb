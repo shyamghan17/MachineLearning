{
 "cells": [
  {
   "cell_type": "code",
   "execution_count": 1,
   "metadata": {
    "collapsed": true
   },
   "outputs": [],
   "source": [
    "import torch"
   ]
  },
  {
   "cell_type": "code",
   "execution_count": 2,
   "outputs": [
    {
     "name": "stdout",
     "output_type": "stream",
     "text": [
      "tensor([[1., 1.],\n",
      "        [1., 1.]])\n"
     ]
    }
   ],
   "source": [
    "some_one = torch.ones(2,2)\n",
    "print(some_one)"
   ],
   "metadata": {
    "collapsed": false
   }
  },
  {
   "cell_type": "code",
   "execution_count": 3,
   "outputs": [
    {
     "name": "stdout",
     "output_type": "stream",
     "text": [
      "tensor([[0., 0., 0.],\n",
      "        [0., 0., 0.],\n",
      "        [0., 0., 0.]])\n"
     ]
    }
   ],
   "source": [
    "some_zeros = torch.zeros(3,3)\n",
    "print(some_zeros)"
   ],
   "metadata": {
    "collapsed": false
   }
  },
  {
   "cell_type": "code",
   "execution_count": 4,
   "outputs": [
    {
     "name": "stdout",
     "output_type": "stream",
     "text": [
      "tensor([[-0.4969,  0.3859,  1.4516],\n",
      "        [ 1.2293,  0.9433, -0.6529],\n",
      "        [ 0.0773, -0.0822, -0.8909]])\n"
     ]
    }
   ],
   "source": [
    "some_random = torch.randn(3,3)\n",
    "print(some_random)"
   ],
   "metadata": {
    "collapsed": false
   }
  },
  {
   "cell_type": "code",
   "execution_count": 5,
   "outputs": [
    {
     "name": "stdout",
     "output_type": "stream",
     "text": [
      "tensor([[-1.2644,  0.6289,  0.4002, -1.0744,  0.5830],\n",
      "        [ 0.3551, -0.9556, -1.0571,  0.6950, -1.2480],\n",
      "        [ 1.1030, -1.1168,  0.8323,  1.2269,  0.2556],\n",
      "        [-1.0257, -0.6912, -1.1880, -1.0696, -0.0116],\n",
      "        [ 0.0439, -2.0593,  1.0130, -0.2500, -0.2282]])\n",
      "tensor([[-0.2942,  0.0460,  0.2588, -0.7562,  0.0379],\n",
      "        [-1.1652,  1.4714, -0.0521, -0.9417,  1.1181],\n",
      "        [-0.4171, -0.0676, -1.1515,  1.1486, -2.4039],\n",
      "        [ 0.0240, -0.8069,  0.9120, -0.5027,  0.7521],\n",
      "        [-0.4988, -2.5618, -2.0757, -1.1351,  1.0635]])\n"
     ]
    }
   ],
   "source": [
    "a = torch.randn(5,5)\n",
    "b = torch.randn(5,5)\n",
    "print(a)\n",
    "print(b)"
   ],
   "metadata": {
    "collapsed": false
   }
  },
  {
   "cell_type": "code",
   "execution_count": 6,
   "outputs": [
    {
     "data": {
      "text/plain": "tensor([[ 0.3720,  0.0289,  0.1036,  0.8124,  0.0221],\n        [-0.4137, -1.4062,  0.0550, -0.6545, -1.3954],\n        [-0.4601,  0.0755, -0.9585,  1.4092, -0.6145],\n        [-0.0246,  0.5577, -1.0834,  0.5377, -0.0088],\n        [-0.0219,  5.2756, -2.1028,  0.2838, -0.2427]])"
     },
     "execution_count": 6,
     "metadata": {},
     "output_type": "execute_result"
    }
   ],
   "source": [
    "a*b"
   ],
   "metadata": {
    "collapsed": false
   }
  },
  {
   "cell_type": "code",
   "execution_count": 7,
   "outputs": [
    {
     "name": "stdout",
     "output_type": "stream",
     "text": [
      "tensor([[-0.8443,  0.2134, -3.0109,  0.7019, -0.4949],\n",
      "        [ 2.0891,  1.3179,  4.5833,  0.4845,  0.6817],\n",
      "        [ 0.5316, -3.2936, -0.0266,  0.2668, -2.0131],\n",
      "        [ 1.5828, -0.0911,  0.1872,  0.6129,  1.2273],\n",
      "        [ 2.0718, -2.3103, -0.8023,  3.4544, -5.1668]])\n"
     ]
    }
   ],
   "source": [
    "c = a.mm(b)\n",
    "print(c)"
   ],
   "metadata": {
    "collapsed": false
   }
  },
  {
   "cell_type": "code",
   "execution_count": null,
   "outputs": [],
   "source": [],
   "metadata": {
    "collapsed": false,
    "pycharm": {
     "is_executing": true
    }
   }
  }
 ],
 "metadata": {
  "kernelspec": {
   "display_name": "Python 3",
   "language": "python",
   "name": "python3"
  },
  "language_info": {
   "codemirror_mode": {
    "name": "ipython",
    "version": 2
   },
   "file_extension": ".py",
   "mimetype": "text/x-python",
   "name": "python",
   "nbconvert_exporter": "python",
   "pygments_lexer": "ipython2",
   "version": "2.7.6"
  }
 },
 "nbformat": 4,
 "nbformat_minor": 0
}
