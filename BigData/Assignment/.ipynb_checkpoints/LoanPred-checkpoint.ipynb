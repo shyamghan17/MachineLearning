{
 "cells": [
  {
   "cell_type": "code",
   "execution_count": null,
   "metadata": {},
   "outputs": [],
   "source": [
    "from sklearn.preprocessing import OneHotEncoder, LabelEncoder\n",
    "from imblearn.under_sampling import RandomUnderSampler\n",
    "import xgboost as xgb\n",
    "import seaborn as sns\n",
    "import plotly.graph_objects as go\n",
    "import numpy as np\n",
    "import pandas as pd\n",
    "from sklearn.model_selection import train_test_split\n",
    "import matplotlib.pyplot as plt\n",
    "from sklearn.metrics import auc, roc_curve, roc_auc_score, plot_roc_curve, f1_score, plot_confusion_matrix, classification_report\n",
    "from sklearn.model_selection import GridSearchCV"
   ]
  },
  {
   "cell_type": "code",
   "execution_count": null,
   "metadata": {},
   "outputs": [],
   "source": [
    "LoanStatData = pd.read_csv('./Loan_status_2007-2020Q3.gzip')\n",
    "#Checking the data\n",
    "LoanStatData.describe()"
   ]
  },
  {
   "cell_type": "code",
   "execution_count": null,
   "metadata": {},
   "outputs": [],
   "source": [
    "LoanStatData = LoanStatData[LoanStatData['loan_status'].isin(['Fully Paid', 'Charged Off', 'Default'])]\n",
    "LoanStatData.dtypes"
   ]
  },
  {
   "cell_type": "code",
   "execution_count": null,
   "metadata": {},
   "outputs": [],
   "source": [
    "#creatubg a column for the year in the data set\n",
    "LoanStatData['year'] = pd.to_datetime(LoanStatData['issue_d']).dt.year"
   ]
  },
  {
   "cell_type": "code",
   "execution_count": null,
   "metadata": {},
   "outputs": [],
   "source": [
    "#creating FICO for the setting range\n",
    "LoanStatData['fico'] = LoanStatData.apply(lambda r: (r.fico_range_low + r.fico_range_high) / 2, axis=1)\n"
   ]
  },
  {
   "cell_type": "code",
   "execution_count": null,
   "metadata": {},
   "outputs": [],
   "source": [
    "plt.figure(figsize=(12,9))\n",
    "ax = sns.countplot(y=\"purpose\", data=LoanStatData, palette=\"Set3\",\n",
    "                   order=LoanStatData['purpose'].value_counts().index,\n",
    "                   dodge=False)\n",
    "ax.set(title=\"Taking new loans to pay for other assets is loan debt consolidation \")"
   ]
  },
  {
   "cell_type": "code",
   "execution_count": null,
   "metadata": {},
   "outputs": [],
   "source": [
    "ax.get_figure().savefig('1_1.jpg')"
   ]
  },
  {
   "cell_type": "code",
   "execution_count": null,
   "metadata": {},
   "outputs": [],
   "source": [
    "#maximum amount of loans in the dataset are four states that are from California, Texas, New York and Florida.\n",
    "#finding frequency of loans given to different states\n",
    "statewise_loan_freq = LoanStatData.groupby(['addr_state'], as_index=False).size()\n",
    "statewise_loan_freq"
   ]
  },
  {
   "cell_type": "code",
   "execution_count": null,
   "metadata": {},
   "outputs": [],
   "source": [
    "fig = go.Figure(\n",
    "    data=go.Choropleth(\n",
    "        locations=list(statewise_loan_freq['addr_state'].values),\n",
    "        z = list(statewise_loan_freq['size'].values),\n",
    "        locationmode = 'USA-states',\n",
    "        colorscale = 'Rainbow'\n",
    "    ))\n",
    "\n",
    "fig.update_layout(\n",
    "    title_text = 'Offered Loans from different State',\n",
    "    geo_scope='usa',\n",
    ")\n",
    "\n",
    "fig.show()"
   ]
  },
  {
   "cell_type": "code",
   "execution_count": null,
   "metadata": {},
   "outputs": [],
   "source": [
    "dti_non_null = LoanStatData[~LoanStatData['dti'].isnull()]"
   ]
  },
  {
   "cell_type": "code",
   "execution_count": null,
   "metadata": {},
   "outputs": [],
   "source": [
    "dti_non_null"
   ]
  },
  {
   "cell_type": "code",
   "execution_count": null,
   "metadata": {},
   "outputs": [],
   "source": [
    "plt.figure(figsize=(15, 8))\n",
    "ax = sns.histplot(x=\"dti\", data=dti_non_null)\n",
    "ax.set(title=\"Debt-to-Income ratio has many outliers - Very right-skewed.\")\n"
   ]
  },
  {
   "cell_type": "code",
   "execution_count": null,
   "metadata": {},
   "outputs": [],
   "source": [
    "plt.figure(figsize=(15, 8))\n",
    "ax = sns.histplot(x=\"dti\", kde=True, data=dti_non_null[dti_non_null.dti <= 40])\n",
    "ax.set(title=\"Debt-to-Income ratio below 40 is somewhat normal\")"
   ]
  },
  {
   "cell_type": "code",
   "execution_count": null,
   "metadata": {},
   "outputs": [],
   "source": [
    "plt.figure(figsize=(15, 8))\n",
    "plt.xticks(rotation=90)\n",
    "ax = sns.countplot(x=\"open_acc\", data=LoanStatData, dodge=False)\n",
    "ax.set(title=\"The # of open credit lines in the borrower's credit file is right-skewed.\")"
   ]
  },
  {
   "cell_type": "code",
   "execution_count": null,
   "metadata": {},
   "outputs": [],
   "source": [
    "plt.figure(figsize=(15, 8))\n",
    "ax = sns.histplot(x=\"revol_bal\",data=LoanStatData)\n",
    "ax.set(title=\"Total credit revolving amount is right-skewed\")"
   ]
  },
  {
   "cell_type": "code",
   "execution_count": null,
   "metadata": {},
   "outputs": [],
   "source": [
    "#taking top 50 employment titles.\n",
    "top_emp_titles = set(LoanStatData.emp_title.value_counts()[:50].index.values) - {''}"
   ]
  },
  {
   "cell_type": "code",
   "execution_count": null,
   "metadata": {},
   "outputs": [],
   "source": [
    "plt.figure(figsize=(15, 15))\n",
    "ax = sns.heatmap(pd.crosstab(LoanStatData[LoanStatData['emp_title'].isin(top_emp_titles)]['emp_title'].str.lower(),\n",
    "                             LoanStatData[LoanStatData['emp_title'].isin(top_emp_titles)]['grade'],\n",
    "                             normalize='index'),\n",
    "                 annot=True,\n",
    "                 cmap=\"mako_r\")\n",
    "ax.set(title=\"Director, Engineer, Attorney, Vice President and President have the highest grade A category loans.\")"
   ]
  },
  {
   "cell_type": "code",
   "execution_count": null,
   "metadata": {},
   "outputs": [],
   "source": [
    "plt.figure(figsize=(15, 6))\n",
    "ax = sns.boxplot(x=\"year\", y=\"loan_amnt\", palette=\"Set3\",\n",
    "                 data=LoanStatData[LoanStatData['year'] != 2020], showmeans=True)\n",
    "ax.set(title=\"Distribution of loan amount through a the years\")"
   ]
  },
  {
   "cell_type": "code",
   "execution_count": null,
   "metadata": {},
   "outputs": [],
   "source": [
    "bins = [600, 650, 700, 750, 800, 850]\n",
    "LoanStatData['fico_bins'] = pd.cut(LoanStatData['fico'], bins).astype('str')"
   ]
  },
  {
   "cell_type": "code",
   "execution_count": null,
   "metadata": {},
   "outputs": [],
   "source": [
    "plt.figure(figsize=(15, 8))\n",
    "ax = sns.lineplot(data=LoanStatData, x=\"year\", y=\"int_rate\", hue=\"fico_bins\")\n",
    "ax.set(title=\"Interest rates over the years (for different fico score ranges)\")"
   ]
  },
  {
   "cell_type": "code",
   "execution_count": null,
   "metadata": {},
   "outputs": [],
   "source": [
    "LoanStatData[LoanStatData['fico_bins'] == '(600, 650]'].year\n"
   ]
  },
  {
   "cell_type": "code",
   "execution_count": null,
   "metadata": {},
   "outputs": [],
   "source": [
    "plt.figure(figsize=(15, 10))\n",
    "LoanStatData['int_rate'] = LoanStatData['int_rate'].astype('float')\n",
    "ax = sns.boxplot(x=\"grade\", y=\"int_rate\", hue=\"application_type\", palette=\"Set2\",\n",
    "                 order = ['A', 'B', 'C', 'D', 'E', 'F', 'G'],\n",
    "                 data=LoanStatData)\n",
    "ax.set(title=\"Interest rates increase as grade goes from A to G and application goes from individual to joint.\")\n",
    "plt.legend(loc='lower right')"
   ]
  },
  {
   "cell_type": "code",
   "execution_count": null,
   "metadata": {},
   "outputs": [],
   "source": [
    "plt.figure(figsize=(15,8))\n",
    "ax = sns.countplot(x=\"grade\", hue=\"loan_status\", data=LoanStatData, palette=\"Set2\",\n",
    "                   order = ['A', 'B', 'C', 'D', 'E', 'F', 'G'])\n",
    "ax.set(xlabel='Year', ylabel='# of Loans',\n",
    "       title=\"Loans graded A have good repayment chances and it slowly decreases as the grade approches F/G.\")"
   ]
  },
  {
   "cell_type": "code",
   "execution_count": null,
   "metadata": {},
   "outputs": [],
   "source": [
    "plt.figure(figsize=(15, 6))\n",
    "ax = sns.boxplot(x=\"loan_status\", y=\"int_rate\", palette=\"Set3\", data=LoanStatData)\n",
    "ax.set(title=\"Loans with higher interest rate are more likely to default or be charged off.\")\n"
   ]
  },
  {
   "cell_type": "code",
   "execution_count": null,
   "metadata": {},
   "outputs": [],
   "source": [
    "plt.figure(figsize=(15, 6))\n",
    "ax = sns.boxplot(x=\"loan_status\", y=\"loan_amnt\", palette=\"Set2\", data=LoanStatData)\n",
    "ax.set(title=\"Loans with higher loan amount are more likely to default or be charged off.\")"
   ]
  },
  {
   "cell_type": "code",
   "execution_count": null,
   "metadata": {},
   "outputs": [],
   "source": [
    "#MODELING\n"
   ]
  },
  {
   "cell_type": "code",
   "execution_count": null,
   "metadata": {},
   "outputs": [],
   "source": [
    "# Only keeping verified data form trainning Data.\n",
    "LoanStatData = LoanStatData[LoanStatData['verification_status'].isin(['Verified', 'Source Verified'])]"
   ]
  },
  {
   "cell_type": "code",
   "execution_count": null,
   "metadata": {},
   "outputs": [],
   "source": [
    "row_count = len(LoanStatData)"
   ]
  },
  {
   "cell_type": "code",
   "execution_count": null,
   "metadata": {},
   "outputs": [],
   "source": [
    "na_count = LoanStatData.isnull().sum()"
   ]
  },
  {
   "cell_type": "code",
   "execution_count": null,
   "metadata": {},
   "outputs": [],
   "source": [
    "l = []\n",
    "for col_name, count in na_count.iteritems():\n",
    "    l.append([col_name, count, int((count/row_count) * 100)])\n",
    "\n",
    "na_df = pd.DataFrame(columns=['col_name', 'count', 'percent'], data = l)"
   ]
  },
  {
   "cell_type": "code",
   "execution_count": null,
   "metadata": {},
   "outputs": [],
   "source": [
    "pd.set_option('display.max_rows', 500)"
   ]
  },
  {
   "cell_type": "code",
   "execution_count": null,
   "metadata": {},
   "outputs": [],
   "source": [
    "LoanStatData.drop(na_df[na_df.percent >= 90].col_name.to_list(), axis=1, inplace=True)"
   ]
  },
  {
   "cell_type": "code",
   "execution_count": null,
   "metadata": {},
   "outputs": [],
   "source": [
    "fill_with_0s = ['max_bal_bc', 'mort_acc', 'mths_since_last_major_derog', 'num_accts_ever_120_pd', 'num_actv_bc_tl', 'num_actv_rev_tl', 'num_bc_sats', 'num_bc_tl', 'num_il_tl', 'num_op_rev_tl', 'num_rev_accts', 'num_rev_tl_bal_gt_0', 'num_sats', 'num_tl_120dpd_2m', 'num_tl_30dpd', 'num_tl_90g_dpd_24m', 'num_tl_op_past_12m', 'open_acc_6m', 'open_act_il', 'open_il_12m', 'open_il_24m', 'inq_fi', 'inq_last_12m', 'inq_last_6mths', 'acc_open_past_24mths', 'avg_cur_bal', 'bc_open_to_buy', 'chargeoff_within_12_mths', 'collections_12_mths_ex_med', 'open_rv_12m', 'open_rv_24m', 'tot_hi_cred_lim', 'total_bal_ex_mort', 'total_bal_il', 'total_il_high_credit_limit', 'total_rev_hi_lim', 'total_cu_tl']\n"
   ]
  },
  {
   "cell_type": "code",
   "execution_count": null,
   "metadata": {},
   "outputs": [],
   "source": [
    "remove = ['all_util', 'hardship_flag', 'total_bc_limit', 'Unnamed: 0']"
   ]
  },
  {
   "cell_type": "code",
   "execution_count": null,
   "metadata": {},
   "outputs": [],
   "source": [
    "fill_with_neg1 = ['mths_since_last_delinq', 'pct_tl_nvr_dlq', 'percent_bc_gt_75', 'pub_rec_bankruptcies', 'revol_util', 'tax_liens', 'tot_coll_amt', 'tot_cur_bal', 'mo_sin_old_il_acct', 'mo_sin_old_rev_tl_op', 'mo_sin_rcnt_rev_tl_op', 'mo_sin_rcnt_tl', 'mths_since_last_record', 'mths_since_rcnt_il', 'mths_since_recent_bc', 'mths_since_recent_bc_dlq', 'mths_since_recent_inq', 'mths_since_recent_revol_delinq']"
   ]
  },
  {
   "cell_type": "code",
   "execution_count": null,
   "metadata": {},
   "outputs": [],
   "source": [
    "# Removing columns that we dont want to keep.\n",
    "LoanStatData.drop(remove, axis=1, inplace=True)"
   ]
  },
  {
   "cell_type": "code",
   "execution_count": null,
   "metadata": {},
   "outputs": [],
   "source": [
    "# Filling NaNs with 0s.\n",
    "for col in fill_with_0s:\n",
    "    LoanStatData[col].fillna(0, inplace=True)"
   ]
  },
  {
   "cell_type": "code",
   "execution_count": null,
   "metadata": {},
   "outputs": [],
   "source": [
    "# Filling NaNs with -1.\n",
    "for col in fill_with_neg1:\n",
    "    LoanStatData[col].fillna(-1, inplace=True)"
   ]
  },
  {
   "cell_type": "code",
   "execution_count": null,
   "metadata": {},
   "outputs": [],
   "source": [
    "# Creating target variable.\n",
    "LoanStatData['default'] = LoanStatData['loan_status'].map({'Fully Paid':0,'Charged Off':1, 'Default':1})"
   ]
  },
  {
   "cell_type": "code",
   "execution_count": null,
   "metadata": {},
   "outputs": [],
   "source": [
    "LoanStatData['emp_length'].fillna('< 1 year', inplace=True)\n",
    "LoanStatData['emp_title'].fillna('', inplace=True)\n",
    "LoanStatData['last_credit_pull_d'].fillna('', inplace=True)\n",
    "LoanStatData['last_pymnt_d'].fillna('', inplace=True)\n",
    "LoanStatData['title'].fillna('', inplace=True)\n",
    "LoanStatData['zip_code'].fillna('xxxxx', inplace=True)"
   ]
  },
  {
   "cell_type": "code",
   "execution_count": null,
   "metadata": {},
   "outputs": [],
   "source": [
    "LoanStatData = LoanStatData.set_index(['id'], drop=True)"
   ]
  },
  {
   "cell_type": "code",
   "execution_count": null,
   "metadata": {},
   "outputs": [],
   "source": [
    "# Columns to keep.\n",
    "keep = ['year',\n",
    "        'avg_cur_bal',\n",
    "        'default',\n",
    "        'fico',\n",
    "        'loan_amnt',\n",
    "        'term',\n",
    "        'int_rate',\n",
    "        'installment',\n",
    "        'sub_grade',\n",
    "        'emp_length',\n",
    "        'home_ownership',\n",
    "        'annual_inc',\n",
    "        'purpose',\n",
    "        'addr_state',\n",
    "        'dti',\n",
    "        'earliest_cr_line',\n",
    "        'inq_last_6mths',\n",
    "        'open_acc',\n",
    "        'pub_rec',\n",
    "        'initial_list_status',\n",
    "        'mths_since_last_major_derog',\n",
    "        'application_type',\n",
    "        'acc_now_delinq',\n",
    "        'tot_cur_bal',\n",
    "        'open_acc_6m',\n",
    "        'open_act_il',\n",
    "        'open_il_12m',\n",
    "        'mths_since_rcnt_il',\n",
    "        'total_bal_il',\n",
    "        'open_rv_12m',\n",
    "        'max_bal_bc',\n",
    "        'total_cu_tl',\n",
    "        'mo_sin_old_il_acct',\n",
    "        'mo_sin_old_rev_tl_op',\n",
    "        'mo_sin_rcnt_rev_tl_op',\n",
    "        'mo_sin_rcnt_tl',\n",
    "        'mort_acc',\n",
    "        'mths_since_recent_bc',\n",
    "        'mths_since_recent_revol_delinq',\n",
    "        'num_actv_rev_tl',\n",
    "        'num_il_tl',\n",
    "        'pct_tl_nvr_dlq',\n",
    "        'pub_rec_bankruptcies']"
   ]
  },
  {
   "cell_type": "code",
   "execution_count": null,
   "metadata": {},
   "outputs": [],
   "source": [
    "drop_cols = set(LoanStatData.columns.to_list()) - set(keep)"
   ]
  },
  {
   "cell_type": "code",
   "execution_count": null,
   "metadata": {},
   "outputs": [],
   "source": [
    "LoanStatData.drop(drop_cols, axis=1, inplace=True)"
   ]
  },
  {
   "cell_type": "code",
   "execution_count": null,
   "metadata": {},
   "outputs": [],
   "source": [
    "# Use this dictionary to change emp_length to integer\n",
    "emp_len_map = {\n",
    "    '10+ years' : 10,\n",
    "    '< 1 year' : 0,\n",
    "    '1 year' : 1,\n",
    "    '3 years' : 3,\n",
    "    '9 years' : 9,\n",
    "    '4 years' : 4,\n",
    "    '2 years' : 2,\n",
    "    '7 years' : 7,\n",
    "    '5 years' : 5,\n",
    "    '6 years' : 6,\n",
    "    '8 years' : 8\n",
    "}"
   ]
  },
  {
   "cell_type": "code",
   "execution_count": null,
   "metadata": {},
   "outputs": [],
   "source": [
    "# Changing emp_length to integer.\n",
    "LoanStatData['emp_length'] = LoanStatData.apply(lambda r: emp_len_map[r.emp_length], axis=1)"
   ]
  },
  {
   "cell_type": "code",
   "execution_count": null,
   "metadata": {},
   "outputs": [],
   "source": [
    "# Keeping only the year and removing the month.\n",
    "LoanStatData['earliest_cr_line']  = LoanStatData.apply(lambda r: int(r['earliest_cr_line'][-4:]), axis=1)"
   ]
  },
  {
   "cell_type": "code",
   "execution_count": null,
   "metadata": {},
   "outputs": [],
   "source": [
    "# One-hot encoding\n",
    "for feature, prefix in zip(['term', 'purpose', 'sub_grade'],\n",
    "                           ['TERM', 'PURPOSE', 'SUB_GRADE']):\n",
    "    dummy = pd.get_dummies(LoanStatData[feature], prefix=prefix, drop_first=True)\n",
    "    LoanStatData = pd.concat([LoanStatData, dummy], axis=1)\n",
    "    LoanStatData = LoanStatData.drop(feature, axis=1)"
   ]
  },
  {
   "cell_type": "code",
   "execution_count": null,
   "metadata": {},
   "outputs": [],
   "source": [
    "# Label Encoding\n",
    "label_encoder = LabelEncoder()\n",
    "\n",
    "for feature in ['home_ownership', 'addr_state', 'initial_list_status', 'application_type']:\n",
    "    LoanStatData[feature]= label_encoder.fit_transform(LoanStatData[feature])"
   ]
  },
  {
   "cell_type": "code",
   "execution_count": null,
   "metadata": {},
   "outputs": [],
   "source": [
    "# Feature Engineering: New variable monthly_load = percent of income that goes in installment.\n",
    "LoanStatData['monthly_load'] = LoanStatData.apply(\n",
    "    lambda r: ((r.installment * 12) / r.annual_inc) * 100 if r.annual_inc != 0 else -1,\n",
    "    axis=1)"
   ]
  },
  {
   "cell_type": "code",
   "execution_count": null,
   "metadata": {},
   "outputs": [],
   "source": [
    "# Log transform very right-skewed data.\n",
    "LoanStatData['annual_inc'] = np.log(LoanStatData['annual_inc'] + 1)\n",
    "LoanStatData['open_acc'] = np.log(LoanStatData['open_acc'] + 1)"
   ]
  },
  {
   "cell_type": "code",
   "execution_count": null,
   "metadata": {},
   "outputs": [],
   "source": [
    "# Split into train/test before imputing missing values with median.\n",
    "X = LoanStatData.drop('default', axis=1)\n",
    "y = LoanStatData['default']\n",
    "test_size = 0.20\n",
    "X_train, X_test, y_train, y_test = train_test_split(X, y, test_size= test_size, random_state=1)"
   ]
  },
  {
   "cell_type": "code",
   "execution_count": null,
   "metadata": {},
   "outputs": [],
   "source": [
    "X_train['dti'].fillna(X_train['dti'].median(), inplace=True)\n",
    "X_train['dti']"
   ]
  },
  {
   "cell_type": "code",
   "execution_count": null,
   "metadata": {},
   "outputs": [],
   "source": [
    "\n",
    "ros = RandomUnderSampler(random_state=1)\n",
    "X_train_new, y_train_new = ros.fit_resample(X_train, y_train)\n",
    "X_train_new\n"
   ]
  },
  {
   "cell_type": "code",
   "execution_count": null,
   "metadata": {},
   "outputs": [],
   "source": [
    "dmatrix = xgb.XGBClassifier(enable_categorical=True, data=X_train_new, label=y_train_new, feature_names=X.columns.to_list())"
   ]
  },
  {
   "cell_type": "code",
   "execution_count": null,
   "metadata": {},
   "outputs": [],
   "source": [
    "xgb_trained = xgb.train(params={'objective':\"reg:logistic\", 'seed':1}, dtrain=dmatrix)"
   ]
  },
  {
   "cell_type": "code",
   "execution_count": null,
   "metadata": {},
   "outputs": [],
   "source": []
  },
  {
   "cell_type": "code",
   "execution_count": null,
   "metadata": {},
   "outputs": [],
   "source": []
  }
 ],
 "metadata": {
  "kernelspec": {
   "display_name": "Python 3 (ipykernel)",
   "language": "python",
   "name": "python3"
  },
  "language_info": {
   "codemirror_mode": {
    "name": "ipython",
    "version": 3
   },
   "file_extension": ".py",
   "mimetype": "text/x-python",
   "name": "python",
   "nbconvert_exporter": "python",
   "pygments_lexer": "ipython3",
   "version": "3.9.13"
  }
 },
 "nbformat": 4,
 "nbformat_minor": 1
}
