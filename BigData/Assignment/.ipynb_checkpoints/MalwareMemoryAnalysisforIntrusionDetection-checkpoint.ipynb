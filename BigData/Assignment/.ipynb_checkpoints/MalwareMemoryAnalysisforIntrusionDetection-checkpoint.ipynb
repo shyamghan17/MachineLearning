{
 "cells": [
  {
   "cell_type": "code",
   "execution_count": null,
   "metadata": {
    "pycharm": {
     "is_executing": true
    }
   },
   "outputs": [],
   "source": [
    "import pandas as pd\n",
    "import numpy as np\n",
    "import matplotlib.pyplot as plt\n",
    "from sklearn.preprocessing import LabelEncoder\n",
    "import seaborn as sns\n",
    "from sklearn.model_selection import train_test_split\n",
    "from tensorflow.keras.models import Sequential\n",
    "from tensorflow.keras.layers import Dense\n",
    "import tensorflow.keras.activations,tensorflow.keras.metrics,tensorflow.keras.losses"
   ]
  },
  {
   "cell_type": "code",
   "execution_count": null,
   "metadata": {
    "pycharm": {
     "is_executing": true
    }
   },
   "outputs": [],
   "source": [
    "MalwareData = pd.read_csv('./Obfuscated-MalMem2022.csv')\n",
    "MalwareData"
   ]
  },
  {
   "cell_type": "code",
   "execution_count": null,
   "metadata": {
    "pycharm": {
     "is_executing": true
    }
   },
   "outputs": [],
   "source": [
    "MalwareData.describe()"
   ]
  },
  {
   "cell_type": "code",
   "execution_count": null,
   "metadata": {
    "pycharm": {
     "is_executing": true
    }
   },
   "outputs": [],
   "source": [
    "print(MalwareData.columns)"
   ]
  },
  {
   "cell_type": "code",
   "execution_count": null,
   "metadata": {
    "pycharm": {
     "is_executing": true
    }
   },
   "outputs": [],
   "source": [
    "print(MalwareData.dtypes)"
   ]
  },
  {
   "cell_type": "code",
   "execution_count": null,
   "metadata": {
    "pycharm": {
     "is_executing": true
    }
   },
   "outputs": [],
   "source": [
    "print(MalwareData.info())"
   ]
  },
  {
   "cell_type": "code",
   "execution_count": null,
   "metadata": {
    "pycharm": {
     "is_executing": true
    }
   },
   "outputs": [],
   "source": [
    "print(MalwareData.isna().sum())"
   ]
  },
  {
   "cell_type": "code",
   "execution_count": null,
   "metadata": {
    "pycharm": {
     "is_executing": true
    }
   },
   "outputs": [],
   "source": [
    "int_columns=MalwareData.select_dtypes(include='int')\n",
    "float_columns=MalwareData.select_dtypes(include='float')\n",
    "cat_columns=MalwareData.select_dtypes(include='object')"
   ]
  },
  {
   "cell_type": "code",
   "execution_count": null,
   "metadata": {
    "pycharm": {
     "is_executing": true
    }
   },
   "outputs": [],
   "source": [
    "print(int_columns.columns)"
   ]
  },
  {
   "cell_type": "code",
   "execution_count": null,
   "metadata": {
    "pycharm": {
     "is_executing": true
    }
   },
   "outputs": [],
   "source": [
    "print(float_columns.columns)"
   ]
  },
  {
   "cell_type": "code",
   "execution_count": null,
   "metadata": {
    "pycharm": {
     "is_executing": true
    }
   },
   "outputs": [],
   "source": [
    "print(cat_columns.nunique())"
   ]
  },
  {
   "cell_type": "code",
   "execution_count": null,
   "metadata": {
    "pycharm": {
     "is_executing": true
    }
   },
   "outputs": [],
   "source": [
    "lab=LabelEncoder()\n",
    "MalwareData['category']=lab.fit_transform(MalwareData['Category'])\n",
    "MalwareData['class']=lab.fit_transform(MalwareData['Class'])\n",
    "sns.countplot(MalwareData['Class'])\n",
    "plt.show()"
   ]
  },
  {
   "cell_type": "code",
   "execution_count": null,
   "metadata": {
    "pycharm": {
     "is_executing": true
    }
   },
   "outputs": [],
   "source": [
    "x=MalwareData[['pslist.nproc', 'pslist.nppid', 'pslist.avg_threads',\n",
    "        'pslist.nprocs64bit', 'pslist.avg_handlers', 'dlllist.ndlls',\n",
    "        'dlllist.avg_dlls_per_proc', 'handles.nhandles',\n",
    "        'handles.avg_handles_per_proc', 'handles.nport', 'handles.nfile',\n",
    "        'handles.nevent', 'handles.ndesktop', 'handles.nkey', 'handles.nthread',\n",
    "        'handles.ndirectory', 'handles.nsemaphore', 'handles.ntimer',\n",
    "        'handles.nsection', 'handles.nmutant', 'ldrmodules.not_in_load',\n",
    "        'ldrmodules.not_in_init', 'ldrmodules.not_in_mem',\n",
    "        'ldrmodules.not_in_load_avg', 'ldrmodules.not_in_init_avg',\n",
    "        'ldrmodules.not_in_mem_avg', 'malfind.ninjections',\n",
    "        'malfind.commitCharge', 'malfind.protection',\n",
    "        'malfind.uniqueInjections', 'psxview.not_in_pslist',\n",
    "        'psxview.not_in_eprocess_pool', 'psxview.not_in_ethread_pool',\n",
    "        'psxview.not_in_pspcid_list', 'psxview.not_in_csrss_handles',\n",
    "        'psxview.not_in_session', 'psxview.not_in_deskthrd',\n",
    "        'psxview.not_in_pslist_false_avg',\n",
    "        'psxview.not_in_eprocess_pool_false_avg',\n",
    "        'psxview.not_in_ethread_pool_false_avg',\n",
    "        'psxview.not_in_pspcid_list_false_avg',\n",
    "        'psxview.not_in_csrss_handles_false_avg',\n",
    "        'psxview.not_in_session_false_avg', 'psxview.not_in_deskthrd_false_avg',\n",
    "        'modules.nmodules', 'svcscan.nservices', 'svcscan.kernel_drivers',\n",
    "        'svcscan.fs_drivers', 'svcscan.process_services',\n",
    "        'svcscan.shared_process_services',\n",
    "        'svcscan.interactive_process_services', 'svcscan.nactive',\n",
    "        'callbacks.ncallbacks', 'callbacks.nanonymous', 'callbacks.ngeneric']]"
   ]
  },
  {
   "cell_type": "code",
   "execution_count": null,
   "metadata": {
    "pycharm": {
     "is_executing": true
    }
   },
   "outputs": [],
   "source": [
    "y=MalwareData[['class']]\n",
    "print(y)"
   ]
  },
  {
   "cell_type": "code",
   "execution_count": null,
   "metadata": {
    "pycharm": {
     "is_executing": true
    }
   },
   "outputs": [],
   "source": [
    "x_train,x_test,y_train,y_test=train_test_split(x,y)"
   ]
  }
 ],
 "metadata": {
  "kernelspec": {
   "display_name": "Python 3 (ipykernel)",
   "language": "python",
   "name": "python3"
  },
  "language_info": {
   "codemirror_mode": {
    "name": "ipython",
    "version": 3
   },
   "file_extension": ".py",
   "mimetype": "text/x-python",
   "name": "python",
   "nbconvert_exporter": "python",
   "pygments_lexer": "ipython3",
   "version": "3.9.13"
  }
 },
 "nbformat": 4,
 "nbformat_minor": 1
}
