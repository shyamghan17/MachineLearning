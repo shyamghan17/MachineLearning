{
 "cells": [
  {
   "cell_type": "code",
   "execution_count": 1,
   "metadata": {},
   "outputs": [],
   "source": [
    "import pandas as pd\n",
    "import numpy as np\n",
    "import matplotlib.pyplot as plt\n",
    "from sklearn.preprocessing import LabelEncoder\n",
    "import seaborn as sns\n",
    "from sklearn.model_selection import train_test_split"
   ]
  },
  {
   "cell_type": "code",
   "execution_count": 2,
   "metadata": {},
   "outputs": [
    {
     "data": {
      "text/plain": "                                                Category  pslist.nproc  \\\n0                                                 Benign            45   \n1                                                 Benign            47   \n2                                                 Benign            40   \n3                                                 Benign            32   \n4                                                 Benign            42   \n...                                                  ...           ...   \n58591  Ransomware-Shade-fa03be3078d1b9840f06745f160eb...            37   \n58592  Ransomware-Shade-f56687137caf9a67678cde91e4614...            37   \n58593  Ransomware-Shade-faddeea111a25da4d0888f3044ae9...            38   \n58594  Ransomware-Shade-f866c086af2e1d8ebaa6f2c863157...            37   \n58595  Ransomware-Shade-955d9af38346c1755527bd196668e...            38   \n\n       pslist.nppid  pslist.avg_threads  pslist.nprocs64bit  \\\n0                17           10.555556                   0   \n1                19           11.531915                   0   \n2                14           14.725000                   0   \n3                13           13.500000                   0   \n4                16           11.452381                   0   \n...             ...                 ...                 ...   \n58591            15           10.108108                   0   \n58592            14            9.945946                   0   \n58593            15            9.842105                   0   \n58594            15           10.243243                   0   \n58595            15            9.868421                   0   \n\n       pslist.avg_handlers  dlllist.ndlls  dlllist.avg_dlls_per_proc  \\\n0               202.844444           1694                  38.500000   \n1               242.234043           2074                  44.127660   \n2               288.225000           1932                  48.300000   \n3               264.281250           1445                  45.156250   \n4               281.333333           2067                  49.214286   \n...                    ...            ...                        ...   \n58591           215.486487           1453                  39.270270   \n58592           190.216216           1347                  36.405405   \n58593           210.026316           1448                  38.105263   \n58594           215.513513           1452                  39.243243   \n58595           213.026316           1487                  39.131579   \n\n       handles.nhandles  handles.avg_handles_per_proc  ...  \\\n0                  9129                    212.302326  ...   \n1                 11385                    242.234043  ...   \n2                 11529                    288.225000  ...   \n3                  8457                    264.281250  ...   \n4                 11816                    281.333333  ...   \n...                 ...                           ...  ...   \n58591              7973                    215.486487  ...   \n58592              7038                    190.216216  ...   \n58593              7982                    215.729730  ...   \n58594              7974                    215.513513  ...   \n58595              8095                    213.026316  ...   \n\n       svcscan.kernel_drivers  svcscan.fs_drivers  svcscan.process_services  \\\n0                         221                  26                        24   \n1                         222                  26                        24   \n2                         222                  26                        27   \n3                         222                  26                        27   \n4                         222                  26                        24   \n...                       ...                 ...                       ...   \n58591                     221                  26                        24   \n58592                     221                  26                        24   \n58593                     221                  26                        24   \n58594                     221                  26                        24   \n58595                     221                  26                        24   \n\n       svcscan.shared_process_services  svcscan.interactive_process_services  \\\n0                                  116                                     0   \n1                                  118                                     0   \n2                                  118                                     0   \n3                                  118                                     0   \n4                                  118                                     0   \n...                                ...                                   ...   \n58591                              116                                     0   \n58592                              116                                     0   \n58593                              116                                     0   \n58594                              116                                     0   \n58595                              116                                     0   \n\n       svcscan.nactive  callbacks.ncallbacks  callbacks.nanonymous  \\\n0                  121                    87                     0   \n1                  122                    87                     0   \n2                  120                    88                     0   \n3                  120                    88                     0   \n4                  124                    87                     0   \n...                ...                   ...                   ...   \n58591              120                    86                     0   \n58592              116                    88                     0   \n58593              120                    88                     0   \n58594              120                    87                     0   \n58595              120                    86                     0   \n\n       callbacks.ngeneric    Class  \n0                       8   Benign  \n1                       8   Benign  \n2                       8   Benign  \n3                       8   Benign  \n4                       8   Benign  \n...                   ...      ...  \n58591                   8  Malware  \n58592                   8  Malware  \n58593                   8  Malware  \n58594                   8  Malware  \n58595                   8  Malware  \n\n[58596 rows x 57 columns]",
      "text/html": "<div>\n<style scoped>\n    .dataframe tbody tr th:only-of-type {\n        vertical-align: middle;\n    }\n\n    .dataframe tbody tr th {\n        vertical-align: top;\n    }\n\n    .dataframe thead th {\n        text-align: right;\n    }\n</style>\n<table border=\"1\" class=\"dataframe\">\n  <thead>\n    <tr style=\"text-align: right;\">\n      <th></th>\n      <th>Category</th>\n      <th>pslist.nproc</th>\n      <th>pslist.nppid</th>\n      <th>pslist.avg_threads</th>\n      <th>pslist.nprocs64bit</th>\n      <th>pslist.avg_handlers</th>\n      <th>dlllist.ndlls</th>\n      <th>dlllist.avg_dlls_per_proc</th>\n      <th>handles.nhandles</th>\n      <th>handles.avg_handles_per_proc</th>\n      <th>...</th>\n      <th>svcscan.kernel_drivers</th>\n      <th>svcscan.fs_drivers</th>\n      <th>svcscan.process_services</th>\n      <th>svcscan.shared_process_services</th>\n      <th>svcscan.interactive_process_services</th>\n      <th>svcscan.nactive</th>\n      <th>callbacks.ncallbacks</th>\n      <th>callbacks.nanonymous</th>\n      <th>callbacks.ngeneric</th>\n      <th>Class</th>\n    </tr>\n  </thead>\n  <tbody>\n    <tr>\n      <th>0</th>\n      <td>Benign</td>\n      <td>45</td>\n      <td>17</td>\n      <td>10.555556</td>\n      <td>0</td>\n      <td>202.844444</td>\n      <td>1694</td>\n      <td>38.500000</td>\n      <td>9129</td>\n      <td>212.302326</td>\n      <td>...</td>\n      <td>221</td>\n      <td>26</td>\n      <td>24</td>\n      <td>116</td>\n      <td>0</td>\n      <td>121</td>\n      <td>87</td>\n      <td>0</td>\n      <td>8</td>\n      <td>Benign</td>\n    </tr>\n    <tr>\n      <th>1</th>\n      <td>Benign</td>\n      <td>47</td>\n      <td>19</td>\n      <td>11.531915</td>\n      <td>0</td>\n      <td>242.234043</td>\n      <td>2074</td>\n      <td>44.127660</td>\n      <td>11385</td>\n      <td>242.234043</td>\n      <td>...</td>\n      <td>222</td>\n      <td>26</td>\n      <td>24</td>\n      <td>118</td>\n      <td>0</td>\n      <td>122</td>\n      <td>87</td>\n      <td>0</td>\n      <td>8</td>\n      <td>Benign</td>\n    </tr>\n    <tr>\n      <th>2</th>\n      <td>Benign</td>\n      <td>40</td>\n      <td>14</td>\n      <td>14.725000</td>\n      <td>0</td>\n      <td>288.225000</td>\n      <td>1932</td>\n      <td>48.300000</td>\n      <td>11529</td>\n      <td>288.225000</td>\n      <td>...</td>\n      <td>222</td>\n      <td>26</td>\n      <td>27</td>\n      <td>118</td>\n      <td>0</td>\n      <td>120</td>\n      <td>88</td>\n      <td>0</td>\n      <td>8</td>\n      <td>Benign</td>\n    </tr>\n    <tr>\n      <th>3</th>\n      <td>Benign</td>\n      <td>32</td>\n      <td>13</td>\n      <td>13.500000</td>\n      <td>0</td>\n      <td>264.281250</td>\n      <td>1445</td>\n      <td>45.156250</td>\n      <td>8457</td>\n      <td>264.281250</td>\n      <td>...</td>\n      <td>222</td>\n      <td>26</td>\n      <td>27</td>\n      <td>118</td>\n      <td>0</td>\n      <td>120</td>\n      <td>88</td>\n      <td>0</td>\n      <td>8</td>\n      <td>Benign</td>\n    </tr>\n    <tr>\n      <th>4</th>\n      <td>Benign</td>\n      <td>42</td>\n      <td>16</td>\n      <td>11.452381</td>\n      <td>0</td>\n      <td>281.333333</td>\n      <td>2067</td>\n      <td>49.214286</td>\n      <td>11816</td>\n      <td>281.333333</td>\n      <td>...</td>\n      <td>222</td>\n      <td>26</td>\n      <td>24</td>\n      <td>118</td>\n      <td>0</td>\n      <td>124</td>\n      <td>87</td>\n      <td>0</td>\n      <td>8</td>\n      <td>Benign</td>\n    </tr>\n    <tr>\n      <th>...</th>\n      <td>...</td>\n      <td>...</td>\n      <td>...</td>\n      <td>...</td>\n      <td>...</td>\n      <td>...</td>\n      <td>...</td>\n      <td>...</td>\n      <td>...</td>\n      <td>...</td>\n      <td>...</td>\n      <td>...</td>\n      <td>...</td>\n      <td>...</td>\n      <td>...</td>\n      <td>...</td>\n      <td>...</td>\n      <td>...</td>\n      <td>...</td>\n      <td>...</td>\n      <td>...</td>\n    </tr>\n    <tr>\n      <th>58591</th>\n      <td>Ransomware-Shade-fa03be3078d1b9840f06745f160eb...</td>\n      <td>37</td>\n      <td>15</td>\n      <td>10.108108</td>\n      <td>0</td>\n      <td>215.486487</td>\n      <td>1453</td>\n      <td>39.270270</td>\n      <td>7973</td>\n      <td>215.486487</td>\n      <td>...</td>\n      <td>221</td>\n      <td>26</td>\n      <td>24</td>\n      <td>116</td>\n      <td>0</td>\n      <td>120</td>\n      <td>86</td>\n      <td>0</td>\n      <td>8</td>\n      <td>Malware</td>\n    </tr>\n    <tr>\n      <th>58592</th>\n      <td>Ransomware-Shade-f56687137caf9a67678cde91e4614...</td>\n      <td>37</td>\n      <td>14</td>\n      <td>9.945946</td>\n      <td>0</td>\n      <td>190.216216</td>\n      <td>1347</td>\n      <td>36.405405</td>\n      <td>7038</td>\n      <td>190.216216</td>\n      <td>...</td>\n      <td>221</td>\n      <td>26</td>\n      <td>24</td>\n      <td>116</td>\n      <td>0</td>\n      <td>116</td>\n      <td>88</td>\n      <td>0</td>\n      <td>8</td>\n      <td>Malware</td>\n    </tr>\n    <tr>\n      <th>58593</th>\n      <td>Ransomware-Shade-faddeea111a25da4d0888f3044ae9...</td>\n      <td>38</td>\n      <td>15</td>\n      <td>9.842105</td>\n      <td>0</td>\n      <td>210.026316</td>\n      <td>1448</td>\n      <td>38.105263</td>\n      <td>7982</td>\n      <td>215.729730</td>\n      <td>...</td>\n      <td>221</td>\n      <td>26</td>\n      <td>24</td>\n      <td>116</td>\n      <td>0</td>\n      <td>120</td>\n      <td>88</td>\n      <td>0</td>\n      <td>8</td>\n      <td>Malware</td>\n    </tr>\n    <tr>\n      <th>58594</th>\n      <td>Ransomware-Shade-f866c086af2e1d8ebaa6f2c863157...</td>\n      <td>37</td>\n      <td>15</td>\n      <td>10.243243</td>\n      <td>0</td>\n      <td>215.513513</td>\n      <td>1452</td>\n      <td>39.243243</td>\n      <td>7974</td>\n      <td>215.513513</td>\n      <td>...</td>\n      <td>221</td>\n      <td>26</td>\n      <td>24</td>\n      <td>116</td>\n      <td>0</td>\n      <td>120</td>\n      <td>87</td>\n      <td>0</td>\n      <td>8</td>\n      <td>Malware</td>\n    </tr>\n    <tr>\n      <th>58595</th>\n      <td>Ransomware-Shade-955d9af38346c1755527bd196668e...</td>\n      <td>38</td>\n      <td>15</td>\n      <td>9.868421</td>\n      <td>0</td>\n      <td>213.026316</td>\n      <td>1487</td>\n      <td>39.131579</td>\n      <td>8095</td>\n      <td>213.026316</td>\n      <td>...</td>\n      <td>221</td>\n      <td>26</td>\n      <td>24</td>\n      <td>116</td>\n      <td>0</td>\n      <td>120</td>\n      <td>86</td>\n      <td>0</td>\n      <td>8</td>\n      <td>Malware</td>\n    </tr>\n  </tbody>\n</table>\n<p>58596 rows × 57 columns</p>\n</div>"
     },
     "execution_count": 2,
     "metadata": {},
     "output_type": "execute_result"
    }
   ],
   "source": [
    "MalwareData = pd.read_csv('./Obfuscated-MalMem2022.csv')\n",
    "MalwareData"
   ]
  },
  {
   "cell_type": "code",
   "execution_count": 2,
   "metadata": {},
   "outputs": [],
   "source": []
  },
  {
   "cell_type": "code",
   "execution_count": 3,
   "metadata": {},
   "outputs": [
    {
     "data": {
      "text/plain": "       pslist.nproc  pslist.nppid  pslist.avg_threads  pslist.nprocs64bit  \\\ncount  58596.000000  58596.000000        58596.000000             58596.0   \nmean      41.394771     14.713837           11.341655                 0.0   \nstd        5.777249      2.656748            1.588231                 0.0   \nmin       21.000000      8.000000            1.650000                 0.0   \n25%       40.000000     12.000000            9.972973                 0.0   \n50%       41.000000     15.000000           11.000000                 0.0   \n75%       43.000000     16.000000           12.861955                 0.0   \nmax      240.000000     72.000000           16.818182                 0.0   \n\n       pslist.avg_handlers  dlllist.ndlls  dlllist.avg_dlls_per_proc  \\\ncount         58596.000000   58596.000000               58596.000000   \nmean            247.509819    1810.805447                  43.707806   \nstd             111.857790     329.782639                   5.742023   \nmin              34.962500     670.000000                   7.333333   \n25%             208.725000    1556.000000                  38.833333   \n50%             243.963710    1735.000000                  42.781524   \n75%             289.974322    2087.000000                  49.605280   \nmax           24845.951220    3443.000000                  53.170732   \n\n       handles.nhandles  handles.avg_handles_per_proc  handles.nport  ...  \\\ncount      5.859600e+04                  58596.000000        58596.0  ...   \nmean       1.025858e+04                    249.560958            0.0  ...   \nstd        4.866864e+03                    145.999866            0.0  ...   \nmin        3.514000e+03                     71.139241            0.0  ...   \n25%        8.393000e+03                    209.648228            0.0  ...   \n50%        9.287500e+03                    247.208951            0.0  ...   \n75%        1.219300e+04                    291.355050            0.0  ...   \nmax        1.047310e+06                  33784.193550            0.0  ...   \n\n       svcscan.nservices  svcscan.kernel_drivers  svcscan.fs_drivers  \\\ncount       58596.000000            58596.000000        58596.000000   \nmean          391.347549              221.406581           25.996245   \nstd             4.529704                1.991087            0.170790   \nmin            94.000000               55.000000            6.000000   \n25%           389.000000              221.000000           26.000000   \n50%           389.000000              221.000000           26.000000   \n75%           395.000000              222.000000           26.000000   \nmax           395.000000              222.000000           26.000000   \n\n       svcscan.process_services  svcscan.shared_process_services  \\\ncount              58596.000000                     58596.000000   \nmean                  25.063417                       116.879514   \nstd                    1.529628                         1.550401   \nmin                    7.000000                        26.000000   \n25%                   24.000000                       116.000000   \n50%                   24.000000                       116.000000   \n75%                   27.000000                       118.000000   \nmax                   27.000000                       118.000000   \n\n       svcscan.interactive_process_services  svcscan.nactive  \\\ncount                               58596.0     58596.000000   \nmean                                    0.0       121.995546   \nstd                                     0.0         2.822858   \nmin                                     0.0        30.000000   \n25%                                     0.0       121.000000   \n50%                                     0.0       122.000000   \n75%                                     0.0       123.000000   \nmax                                     0.0       129.000000   \n\n       callbacks.ncallbacks  callbacks.nanonymous  callbacks.ngeneric  \ncount          58596.000000          58596.000000        58596.000000  \nmean              86.905659              0.000853            7.999881  \nstd                3.134117              0.029199            0.010929  \nmin               50.000000              0.000000            7.000000  \n25%               87.000000              0.000000            8.000000  \n50%               87.000000              0.000000            8.000000  \n75%               88.000000              0.000000            8.000000  \nmax               89.000000              1.000000            8.000000  \n\n[8 rows x 55 columns]",
      "text/html": "<div>\n<style scoped>\n    .dataframe tbody tr th:only-of-type {\n        vertical-align: middle;\n    }\n\n    .dataframe tbody tr th {\n        vertical-align: top;\n    }\n\n    .dataframe thead th {\n        text-align: right;\n    }\n</style>\n<table border=\"1\" class=\"dataframe\">\n  <thead>\n    <tr style=\"text-align: right;\">\n      <th></th>\n      <th>pslist.nproc</th>\n      <th>pslist.nppid</th>\n      <th>pslist.avg_threads</th>\n      <th>pslist.nprocs64bit</th>\n      <th>pslist.avg_handlers</th>\n      <th>dlllist.ndlls</th>\n      <th>dlllist.avg_dlls_per_proc</th>\n      <th>handles.nhandles</th>\n      <th>handles.avg_handles_per_proc</th>\n      <th>handles.nport</th>\n      <th>...</th>\n      <th>svcscan.nservices</th>\n      <th>svcscan.kernel_drivers</th>\n      <th>svcscan.fs_drivers</th>\n      <th>svcscan.process_services</th>\n      <th>svcscan.shared_process_services</th>\n      <th>svcscan.interactive_process_services</th>\n      <th>svcscan.nactive</th>\n      <th>callbacks.ncallbacks</th>\n      <th>callbacks.nanonymous</th>\n      <th>callbacks.ngeneric</th>\n    </tr>\n  </thead>\n  <tbody>\n    <tr>\n      <th>count</th>\n      <td>58596.000000</td>\n      <td>58596.000000</td>\n      <td>58596.000000</td>\n      <td>58596.0</td>\n      <td>58596.000000</td>\n      <td>58596.000000</td>\n      <td>58596.000000</td>\n      <td>5.859600e+04</td>\n      <td>58596.000000</td>\n      <td>58596.0</td>\n      <td>...</td>\n      <td>58596.000000</td>\n      <td>58596.000000</td>\n      <td>58596.000000</td>\n      <td>58596.000000</td>\n      <td>58596.000000</td>\n      <td>58596.0</td>\n      <td>58596.000000</td>\n      <td>58596.000000</td>\n      <td>58596.000000</td>\n      <td>58596.000000</td>\n    </tr>\n    <tr>\n      <th>mean</th>\n      <td>41.394771</td>\n      <td>14.713837</td>\n      <td>11.341655</td>\n      <td>0.0</td>\n      <td>247.509819</td>\n      <td>1810.805447</td>\n      <td>43.707806</td>\n      <td>1.025858e+04</td>\n      <td>249.560958</td>\n      <td>0.0</td>\n      <td>...</td>\n      <td>391.347549</td>\n      <td>221.406581</td>\n      <td>25.996245</td>\n      <td>25.063417</td>\n      <td>116.879514</td>\n      <td>0.0</td>\n      <td>121.995546</td>\n      <td>86.905659</td>\n      <td>0.000853</td>\n      <td>7.999881</td>\n    </tr>\n    <tr>\n      <th>std</th>\n      <td>5.777249</td>\n      <td>2.656748</td>\n      <td>1.588231</td>\n      <td>0.0</td>\n      <td>111.857790</td>\n      <td>329.782639</td>\n      <td>5.742023</td>\n      <td>4.866864e+03</td>\n      <td>145.999866</td>\n      <td>0.0</td>\n      <td>...</td>\n      <td>4.529704</td>\n      <td>1.991087</td>\n      <td>0.170790</td>\n      <td>1.529628</td>\n      <td>1.550401</td>\n      <td>0.0</td>\n      <td>2.822858</td>\n      <td>3.134117</td>\n      <td>0.029199</td>\n      <td>0.010929</td>\n    </tr>\n    <tr>\n      <th>min</th>\n      <td>21.000000</td>\n      <td>8.000000</td>\n      <td>1.650000</td>\n      <td>0.0</td>\n      <td>34.962500</td>\n      <td>670.000000</td>\n      <td>7.333333</td>\n      <td>3.514000e+03</td>\n      <td>71.139241</td>\n      <td>0.0</td>\n      <td>...</td>\n      <td>94.000000</td>\n      <td>55.000000</td>\n      <td>6.000000</td>\n      <td>7.000000</td>\n      <td>26.000000</td>\n      <td>0.0</td>\n      <td>30.000000</td>\n      <td>50.000000</td>\n      <td>0.000000</td>\n      <td>7.000000</td>\n    </tr>\n    <tr>\n      <th>25%</th>\n      <td>40.000000</td>\n      <td>12.000000</td>\n      <td>9.972973</td>\n      <td>0.0</td>\n      <td>208.725000</td>\n      <td>1556.000000</td>\n      <td>38.833333</td>\n      <td>8.393000e+03</td>\n      <td>209.648228</td>\n      <td>0.0</td>\n      <td>...</td>\n      <td>389.000000</td>\n      <td>221.000000</td>\n      <td>26.000000</td>\n      <td>24.000000</td>\n      <td>116.000000</td>\n      <td>0.0</td>\n      <td>121.000000</td>\n      <td>87.000000</td>\n      <td>0.000000</td>\n      <td>8.000000</td>\n    </tr>\n    <tr>\n      <th>50%</th>\n      <td>41.000000</td>\n      <td>15.000000</td>\n      <td>11.000000</td>\n      <td>0.0</td>\n      <td>243.963710</td>\n      <td>1735.000000</td>\n      <td>42.781524</td>\n      <td>9.287500e+03</td>\n      <td>247.208951</td>\n      <td>0.0</td>\n      <td>...</td>\n      <td>389.000000</td>\n      <td>221.000000</td>\n      <td>26.000000</td>\n      <td>24.000000</td>\n      <td>116.000000</td>\n      <td>0.0</td>\n      <td>122.000000</td>\n      <td>87.000000</td>\n      <td>0.000000</td>\n      <td>8.000000</td>\n    </tr>\n    <tr>\n      <th>75%</th>\n      <td>43.000000</td>\n      <td>16.000000</td>\n      <td>12.861955</td>\n      <td>0.0</td>\n      <td>289.974322</td>\n      <td>2087.000000</td>\n      <td>49.605280</td>\n      <td>1.219300e+04</td>\n      <td>291.355050</td>\n      <td>0.0</td>\n      <td>...</td>\n      <td>395.000000</td>\n      <td>222.000000</td>\n      <td>26.000000</td>\n      <td>27.000000</td>\n      <td>118.000000</td>\n      <td>0.0</td>\n      <td>123.000000</td>\n      <td>88.000000</td>\n      <td>0.000000</td>\n      <td>8.000000</td>\n    </tr>\n    <tr>\n      <th>max</th>\n      <td>240.000000</td>\n      <td>72.000000</td>\n      <td>16.818182</td>\n      <td>0.0</td>\n      <td>24845.951220</td>\n      <td>3443.000000</td>\n      <td>53.170732</td>\n      <td>1.047310e+06</td>\n      <td>33784.193550</td>\n      <td>0.0</td>\n      <td>...</td>\n      <td>395.000000</td>\n      <td>222.000000</td>\n      <td>26.000000</td>\n      <td>27.000000</td>\n      <td>118.000000</td>\n      <td>0.0</td>\n      <td>129.000000</td>\n      <td>89.000000</td>\n      <td>1.000000</td>\n      <td>8.000000</td>\n    </tr>\n  </tbody>\n</table>\n<p>8 rows × 55 columns</p>\n</div>"
     },
     "execution_count": 3,
     "metadata": {},
     "output_type": "execute_result"
    }
   ],
   "source": [
    "MalwareData.describe()"
   ]
  },
  {
   "cell_type": "code",
   "execution_count": 4,
   "metadata": {},
   "outputs": [
    {
     "name": "stdout",
     "output_type": "stream",
     "text": [
      "Index(['Category', 'pslist.nproc', 'pslist.nppid', 'pslist.avg_threads',\n",
      "       'pslist.nprocs64bit', 'pslist.avg_handlers', 'dlllist.ndlls',\n",
      "       'dlllist.avg_dlls_per_proc', 'handles.nhandles',\n",
      "       'handles.avg_handles_per_proc', 'handles.nport', 'handles.nfile',\n",
      "       'handles.nevent', 'handles.ndesktop', 'handles.nkey', 'handles.nthread',\n",
      "       'handles.ndirectory', 'handles.nsemaphore', 'handles.ntimer',\n",
      "       'handles.nsection', 'handles.nmutant', 'ldrmodules.not_in_load',\n",
      "       'ldrmodules.not_in_init', 'ldrmodules.not_in_mem',\n",
      "       'ldrmodules.not_in_load_avg', 'ldrmodules.not_in_init_avg',\n",
      "       'ldrmodules.not_in_mem_avg', 'malfind.ninjections',\n",
      "       'malfind.commitCharge', 'malfind.protection',\n",
      "       'malfind.uniqueInjections', 'psxview.not_in_pslist',\n",
      "       'psxview.not_in_eprocess_pool', 'psxview.not_in_ethread_pool',\n",
      "       'psxview.not_in_pspcid_list', 'psxview.not_in_csrss_handles',\n",
      "       'psxview.not_in_session', 'psxview.not_in_deskthrd',\n",
      "       'psxview.not_in_pslist_false_avg',\n",
      "       'psxview.not_in_eprocess_pool_false_avg',\n",
      "       'psxview.not_in_ethread_pool_false_avg',\n",
      "       'psxview.not_in_pspcid_list_false_avg',\n",
      "       'psxview.not_in_csrss_handles_false_avg',\n",
      "       'psxview.not_in_session_false_avg', 'psxview.not_in_deskthrd_false_avg',\n",
      "       'modules.nmodules', 'svcscan.nservices', 'svcscan.kernel_drivers',\n",
      "       'svcscan.fs_drivers', 'svcscan.process_services',\n",
      "       'svcscan.shared_process_services',\n",
      "       'svcscan.interactive_process_services', 'svcscan.nactive',\n",
      "       'callbacks.ncallbacks', 'callbacks.nanonymous', 'callbacks.ngeneric',\n",
      "       'Class'],\n",
      "      dtype='object')\n"
     ]
    }
   ],
   "source": [
    "print(MalwareData.columns)"
   ]
  },
  {
   "cell_type": "code",
   "execution_count": 5,
   "metadata": {},
   "outputs": [
    {
     "name": "stdout",
     "output_type": "stream",
     "text": [
      "Category                                   object\n",
      "pslist.nproc                                int64\n",
      "pslist.nppid                                int64\n",
      "pslist.avg_threads                        float64\n",
      "pslist.nprocs64bit                          int64\n",
      "pslist.avg_handlers                       float64\n",
      "dlllist.ndlls                               int64\n",
      "dlllist.avg_dlls_per_proc                 float64\n",
      "handles.nhandles                            int64\n",
      "handles.avg_handles_per_proc              float64\n",
      "handles.nport                               int64\n",
      "handles.nfile                               int64\n",
      "handles.nevent                              int64\n",
      "handles.ndesktop                            int64\n",
      "handles.nkey                                int64\n",
      "handles.nthread                             int64\n",
      "handles.ndirectory                          int64\n",
      "handles.nsemaphore                          int64\n",
      "handles.ntimer                              int64\n",
      "handles.nsection                            int64\n",
      "handles.nmutant                             int64\n",
      "ldrmodules.not_in_load                      int64\n",
      "ldrmodules.not_in_init                      int64\n",
      "ldrmodules.not_in_mem                       int64\n",
      "ldrmodules.not_in_load_avg                float64\n",
      "ldrmodules.not_in_init_avg                float64\n",
      "ldrmodules.not_in_mem_avg                 float64\n",
      "malfind.ninjections                         int64\n",
      "malfind.commitCharge                        int64\n",
      "malfind.protection                          int64\n",
      "malfind.uniqueInjections                  float64\n",
      "psxview.not_in_pslist                       int64\n",
      "psxview.not_in_eprocess_pool                int64\n",
      "psxview.not_in_ethread_pool                 int64\n",
      "psxview.not_in_pspcid_list                  int64\n",
      "psxview.not_in_csrss_handles                int64\n",
      "psxview.not_in_session                      int64\n",
      "psxview.not_in_deskthrd                     int64\n",
      "psxview.not_in_pslist_false_avg           float64\n",
      "psxview.not_in_eprocess_pool_false_avg    float64\n",
      "psxview.not_in_ethread_pool_false_avg     float64\n",
      "psxview.not_in_pspcid_list_false_avg      float64\n",
      "psxview.not_in_csrss_handles_false_avg    float64\n",
      "psxview.not_in_session_false_avg          float64\n",
      "psxview.not_in_deskthrd_false_avg         float64\n",
      "modules.nmodules                            int64\n",
      "svcscan.nservices                           int64\n",
      "svcscan.kernel_drivers                      int64\n",
      "svcscan.fs_drivers                          int64\n",
      "svcscan.process_services                    int64\n",
      "svcscan.shared_process_services             int64\n",
      "svcscan.interactive_process_services        int64\n",
      "svcscan.nactive                             int64\n",
      "callbacks.ncallbacks                        int64\n",
      "callbacks.nanonymous                        int64\n",
      "callbacks.ngeneric                          int64\n",
      "Class                                      object\n",
      "dtype: object\n"
     ]
    }
   ],
   "source": [
    "print(MalwareData.dtypes)"
   ]
  },
  {
   "cell_type": "code",
   "execution_count": 6,
   "metadata": {},
   "outputs": [
    {
     "name": "stdout",
     "output_type": "stream",
     "text": [
      "<class 'pandas.core.frame.DataFrame'>\n",
      "RangeIndex: 58596 entries, 0 to 58595\n",
      "Data columns (total 57 columns):\n",
      " #   Column                                  Non-Null Count  Dtype  \n",
      "---  ------                                  --------------  -----  \n",
      " 0   Category                                58596 non-null  object \n",
      " 1   pslist.nproc                            58596 non-null  int64  \n",
      " 2   pslist.nppid                            58596 non-null  int64  \n",
      " 3   pslist.avg_threads                      58596 non-null  float64\n",
      " 4   pslist.nprocs64bit                      58596 non-null  int64  \n",
      " 5   pslist.avg_handlers                     58596 non-null  float64\n",
      " 6   dlllist.ndlls                           58596 non-null  int64  \n",
      " 7   dlllist.avg_dlls_per_proc               58596 non-null  float64\n",
      " 8   handles.nhandles                        58596 non-null  int64  \n",
      " 9   handles.avg_handles_per_proc            58596 non-null  float64\n",
      " 10  handles.nport                           58596 non-null  int64  \n",
      " 11  handles.nfile                           58596 non-null  int64  \n",
      " 12  handles.nevent                          58596 non-null  int64  \n",
      " 13  handles.ndesktop                        58596 non-null  int64  \n",
      " 14  handles.nkey                            58596 non-null  int64  \n",
      " 15  handles.nthread                         58596 non-null  int64  \n",
      " 16  handles.ndirectory                      58596 non-null  int64  \n",
      " 17  handles.nsemaphore                      58596 non-null  int64  \n",
      " 18  handles.ntimer                          58596 non-null  int64  \n",
      " 19  handles.nsection                        58596 non-null  int64  \n",
      " 20  handles.nmutant                         58596 non-null  int64  \n",
      " 21  ldrmodules.not_in_load                  58596 non-null  int64  \n",
      " 22  ldrmodules.not_in_init                  58596 non-null  int64  \n",
      " 23  ldrmodules.not_in_mem                   58596 non-null  int64  \n",
      " 24  ldrmodules.not_in_load_avg              58596 non-null  float64\n",
      " 25  ldrmodules.not_in_init_avg              58596 non-null  float64\n",
      " 26  ldrmodules.not_in_mem_avg               58596 non-null  float64\n",
      " 27  malfind.ninjections                     58596 non-null  int64  \n",
      " 28  malfind.commitCharge                    58596 non-null  int64  \n",
      " 29  malfind.protection                      58596 non-null  int64  \n",
      " 30  malfind.uniqueInjections                58596 non-null  float64\n",
      " 31  psxview.not_in_pslist                   58596 non-null  int64  \n",
      " 32  psxview.not_in_eprocess_pool            58596 non-null  int64  \n",
      " 33  psxview.not_in_ethread_pool             58596 non-null  int64  \n",
      " 34  psxview.not_in_pspcid_list              58596 non-null  int64  \n",
      " 35  psxview.not_in_csrss_handles            58596 non-null  int64  \n",
      " 36  psxview.not_in_session                  58596 non-null  int64  \n",
      " 37  psxview.not_in_deskthrd                 58596 non-null  int64  \n",
      " 38  psxview.not_in_pslist_false_avg         58596 non-null  float64\n",
      " 39  psxview.not_in_eprocess_pool_false_avg  58596 non-null  float64\n",
      " 40  psxview.not_in_ethread_pool_false_avg   58596 non-null  float64\n",
      " 41  psxview.not_in_pspcid_list_false_avg    58596 non-null  float64\n",
      " 42  psxview.not_in_csrss_handles_false_avg  58596 non-null  float64\n",
      " 43  psxview.not_in_session_false_avg        58596 non-null  float64\n",
      " 44  psxview.not_in_deskthrd_false_avg       58596 non-null  float64\n",
      " 45  modules.nmodules                        58596 non-null  int64  \n",
      " 46  svcscan.nservices                       58596 non-null  int64  \n",
      " 47  svcscan.kernel_drivers                  58596 non-null  int64  \n",
      " 48  svcscan.fs_drivers                      58596 non-null  int64  \n",
      " 49  svcscan.process_services                58596 non-null  int64  \n",
      " 50  svcscan.shared_process_services         58596 non-null  int64  \n",
      " 51  svcscan.interactive_process_services    58596 non-null  int64  \n",
      " 52  svcscan.nactive                         58596 non-null  int64  \n",
      " 53  callbacks.ncallbacks                    58596 non-null  int64  \n",
      " 54  callbacks.nanonymous                    58596 non-null  int64  \n",
      " 55  callbacks.ngeneric                      58596 non-null  int64  \n",
      " 56  Class                                   58596 non-null  object \n",
      "dtypes: float64(15), int64(40), object(2)\n",
      "memory usage: 25.5+ MB\n",
      "None\n"
     ]
    }
   ],
   "source": [
    "print(MalwareData.info())"
   ]
  },
  {
   "cell_type": "code",
   "execution_count": 7,
   "metadata": {},
   "outputs": [
    {
     "name": "stdout",
     "output_type": "stream",
     "text": [
      "Category                                  0\n",
      "pslist.nproc                              0\n",
      "pslist.nppid                              0\n",
      "pslist.avg_threads                        0\n",
      "pslist.nprocs64bit                        0\n",
      "pslist.avg_handlers                       0\n",
      "dlllist.ndlls                             0\n",
      "dlllist.avg_dlls_per_proc                 0\n",
      "handles.nhandles                          0\n",
      "handles.avg_handles_per_proc              0\n",
      "handles.nport                             0\n",
      "handles.nfile                             0\n",
      "handles.nevent                            0\n",
      "handles.ndesktop                          0\n",
      "handles.nkey                              0\n",
      "handles.nthread                           0\n",
      "handles.ndirectory                        0\n",
      "handles.nsemaphore                        0\n",
      "handles.ntimer                            0\n",
      "handles.nsection                          0\n",
      "handles.nmutant                           0\n",
      "ldrmodules.not_in_load                    0\n",
      "ldrmodules.not_in_init                    0\n",
      "ldrmodules.not_in_mem                     0\n",
      "ldrmodules.not_in_load_avg                0\n",
      "ldrmodules.not_in_init_avg                0\n",
      "ldrmodules.not_in_mem_avg                 0\n",
      "malfind.ninjections                       0\n",
      "malfind.commitCharge                      0\n",
      "malfind.protection                        0\n",
      "malfind.uniqueInjections                  0\n",
      "psxview.not_in_pslist                     0\n",
      "psxview.not_in_eprocess_pool              0\n",
      "psxview.not_in_ethread_pool               0\n",
      "psxview.not_in_pspcid_list                0\n",
      "psxview.not_in_csrss_handles              0\n",
      "psxview.not_in_session                    0\n",
      "psxview.not_in_deskthrd                   0\n",
      "psxview.not_in_pslist_false_avg           0\n",
      "psxview.not_in_eprocess_pool_false_avg    0\n",
      "psxview.not_in_ethread_pool_false_avg     0\n",
      "psxview.not_in_pspcid_list_false_avg      0\n",
      "psxview.not_in_csrss_handles_false_avg    0\n",
      "psxview.not_in_session_false_avg          0\n",
      "psxview.not_in_deskthrd_false_avg         0\n",
      "modules.nmodules                          0\n",
      "svcscan.nservices                         0\n",
      "svcscan.kernel_drivers                    0\n",
      "svcscan.fs_drivers                        0\n",
      "svcscan.process_services                  0\n",
      "svcscan.shared_process_services           0\n",
      "svcscan.interactive_process_services      0\n",
      "svcscan.nactive                           0\n",
      "callbacks.ncallbacks                      0\n",
      "callbacks.nanonymous                      0\n",
      "callbacks.ngeneric                        0\n",
      "Class                                     0\n",
      "dtype: int64\n"
     ]
    }
   ],
   "source": [
    "print(MalwareData.isna().sum())"
   ]
  },
  {
   "cell_type": "code",
   "execution_count": 8,
   "metadata": {},
   "outputs": [],
   "source": [
    "int_columns=MalwareData.select_dtypes(include='int')\n",
    "float_columns=MalwareData.select_dtypes(include='float')\n",
    "cat_columns=MalwareData.select_dtypes(include='object')"
   ]
  },
  {
   "cell_type": "code",
   "execution_count": 9,
   "metadata": {},
   "outputs": [
    {
     "name": "stdout",
     "output_type": "stream",
     "text": [
      "Index(['pslist.nproc', 'pslist.nppid', 'pslist.nprocs64bit', 'dlllist.ndlls',\n",
      "       'handles.nhandles', 'handles.nport', 'handles.nfile', 'handles.nevent',\n",
      "       'handles.ndesktop', 'handles.nkey', 'handles.nthread',\n",
      "       'handles.ndirectory', 'handles.nsemaphore', 'handles.ntimer',\n",
      "       'handles.nsection', 'handles.nmutant', 'ldrmodules.not_in_load',\n",
      "       'ldrmodules.not_in_init', 'ldrmodules.not_in_mem',\n",
      "       'malfind.ninjections', 'malfind.commitCharge', 'malfind.protection',\n",
      "       'psxview.not_in_pslist', 'psxview.not_in_eprocess_pool',\n",
      "       'psxview.not_in_ethread_pool', 'psxview.not_in_pspcid_list',\n",
      "       'psxview.not_in_csrss_handles', 'psxview.not_in_session',\n",
      "       'psxview.not_in_deskthrd', 'modules.nmodules', 'svcscan.nservices',\n",
      "       'svcscan.kernel_drivers', 'svcscan.fs_drivers',\n",
      "       'svcscan.process_services', 'svcscan.shared_process_services',\n",
      "       'svcscan.interactive_process_services', 'svcscan.nactive',\n",
      "       'callbacks.ncallbacks', 'callbacks.nanonymous', 'callbacks.ngeneric'],\n",
      "      dtype='object')\n"
     ]
    }
   ],
   "source": [
    "print(int_columns.columns)"
   ]
  },
  {
   "cell_type": "code",
   "execution_count": 10,
   "metadata": {},
   "outputs": [
    {
     "name": "stdout",
     "output_type": "stream",
     "text": [
      "Index(['pslist.avg_threads', 'pslist.avg_handlers',\n",
      "       'dlllist.avg_dlls_per_proc', 'handles.avg_handles_per_proc',\n",
      "       'ldrmodules.not_in_load_avg', 'ldrmodules.not_in_init_avg',\n",
      "       'ldrmodules.not_in_mem_avg', 'malfind.uniqueInjections',\n",
      "       'psxview.not_in_pslist_false_avg',\n",
      "       'psxview.not_in_eprocess_pool_false_avg',\n",
      "       'psxview.not_in_ethread_pool_false_avg',\n",
      "       'psxview.not_in_pspcid_list_false_avg',\n",
      "       'psxview.not_in_csrss_handles_false_avg',\n",
      "       'psxview.not_in_session_false_avg',\n",
      "       'psxview.not_in_deskthrd_false_avg'],\n",
      "      dtype='object')\n"
     ]
    }
   ],
   "source": [
    "print(float_columns.columns)"
   ]
  },
  {
   "cell_type": "code",
   "execution_count": 11,
   "metadata": {},
   "outputs": [
    {
     "name": "stdout",
     "output_type": "stream",
     "text": [
      "Category    28346\n",
      "Class           2\n",
      "dtype: int64\n"
     ]
    }
   ],
   "source": [
    "print(cat_columns.nunique())"
   ]
  },
  {
   "cell_type": "code",
   "execution_count": 12,
   "metadata": {},
   "outputs": [
    {
     "name": "stderr",
     "output_type": "stream",
     "text": [
      "/Users/ghanshyam/opt/anaconda3/lib/python3.9/site-packages/seaborn/_decorators.py:36: FutureWarning: Pass the following variable as a keyword arg: x. From version 0.12, the only valid positional argument will be `data`, and passing other arguments without an explicit keyword will result in an error or misinterpretation.\n",
      "  warnings.warn(\n"
     ]
    },
    {
     "data": {
      "text/plain": "<Figure size 640x480 with 1 Axes>",
      "image/png": "[encoded data removed]"
     },
     "metadata": {},
     "output_type": "display_data"
    }
   ],
   "source": [
    "lab=LabelEncoder()\n",
    "MalwareData['category']=lab.fit_transform(MalwareData['Category'])\n",
    "MalwareData['class']=lab.fit_transform(MalwareData['Class'])\n",
    "sns.countplot(MalwareData['Class'])\n",
    "plt.show()"
   ]
  },
  {
   "cell_type": "code",
   "execution_count": 13,
   "metadata": {},
   "outputs": [],
   "source": [
    "x=MalwareData[['pslist.nproc', 'pslist.nppid', 'pslist.avg_threads',\n",
    "        'pslist.nprocs64bit', 'pslist.avg_handlers', 'dlllist.ndlls',\n",
    "        'dlllist.avg_dlls_per_proc', 'handles.nhandles',\n",
    "        'handles.avg_handles_per_proc', 'handles.nport', 'handles.nfile',\n",
    "        'handles.nevent', 'handles.ndesktop', 'handles.nkey', 'handles.nthread',\n",
    "        'handles.ndirectory', 'handles.nsemaphore', 'handles.ntimer',\n",
    "        'handles.nsection', 'handles.nmutant', 'ldrmodules.not_in_load',\n",
    "        'ldrmodules.not_in_init', 'ldrmodules.not_in_mem',\n",
    "        'ldrmodules.not_in_load_avg', 'ldrmodules.not_in_init_avg',\n",
    "        'ldrmodules.not_in_mem_avg', 'malfind.ninjections',\n",
    "        'malfind.commitCharge', 'malfind.protection',\n",
    "        'malfind.uniqueInjections', 'psxview.not_in_pslist',\n",
    "        'psxview.not_in_eprocess_pool', 'psxview.not_in_ethread_pool',\n",
    "        'psxview.not_in_pspcid_list', 'psxview.not_in_csrss_handles',\n",
    "        'psxview.not_in_session', 'psxview.not_in_deskthrd',\n",
    "        'psxview.not_in_pslist_false_avg',\n",
    "        'psxview.not_in_eprocess_pool_false_avg',\n",
    "        'psxview.not_in_ethread_pool_false_avg',\n",
    "        'psxview.not_in_pspcid_list_false_avg',\n",
    "        'psxview.not_in_csrss_handles_false_avg',\n",
    "        'psxview.not_in_session_false_avg', 'psxview.not_in_deskthrd_false_avg',\n",
    "        'modules.nmodules', 'svcscan.nservices', 'svcscan.kernel_drivers',\n",
    "        'svcscan.fs_drivers', 'svcscan.process_services',\n",
    "        'svcscan.shared_process_services',\n",
    "        'svcscan.interactive_process_services', 'svcscan.nactive',\n",
    "        'callbacks.ncallbacks', 'callbacks.nanonymous', 'callbacks.ngeneric']]"
   ]
  },
  {
   "cell_type": "code",
   "execution_count": 14,
   "metadata": {},
   "outputs": [
    {
     "name": "stdout",
     "output_type": "stream",
     "text": [
      "       class\n",
      "0          0\n",
      "1          0\n",
      "2          0\n",
      "3          0\n",
      "4          0\n",
      "...      ...\n",
      "58591      1\n",
      "58592      1\n",
      "58593      1\n",
      "58594      1\n",
      "58595      1\n",
      "\n",
      "[58596 rows x 1 columns]\n"
     ]
    }
   ],
   "source": [
    "y=MalwareData[['class']]\n",
    "print(y)"
   ]
  },
  {
   "cell_type": "code",
   "execution_count": null,
   "metadata": {
    "pycharm": {
     "is_executing": true
    }
   },
   "outputs": [],
   "source": [
    "import keras.activations, keras.metrics, keras.losses\n",
    "from keras.models import Sequential\n",
    "from keras.layers import Dense\n",
    "\n",
    "x_train,x_test,y_train,y_test=train_test_split(x,y)"
   ]
  },
  {
   "cell_type": "code",
   "execution_count": null,
   "outputs": [],
   "source": [],
   "metadata": {
    "collapsed": false,
    "pycharm": {
     "is_executing": true
    }
   }
  }
 ],
 "metadata": {
  "kernelspec": {
   "display_name": "Python 3 (ipykernel)",
   "language": "python",
   "name": "python3"
  },
  "language_info": {
   "codemirror_mode": {
    "name": "ipython",
    "version": 3
   },
   "file_extension": ".py",
   "mimetype": "text/x-python",
   "name": "python",
   "nbconvert_exporter": "python",
   "pygments_lexer": "ipython3",
   "version": "3.9.13"
  }
 },
 "nbformat": 4,
 "nbformat_minor": 1
}
