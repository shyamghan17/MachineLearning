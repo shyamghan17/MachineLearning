{
 "cells": [
  {
   "cell_type": "code",
   "execution_count": 41,
   "metadata": {
    "collapsed": true
   },
   "outputs": [],
   "source": [
    "from sklearn.preprocessing import OneHotEncoder, LabelEncoder\n",
    "# from imblearn.under_sampling import RandomUnderSampler\n",
    "# import xgboost as xgb\n",
    "import seaborn as sns\n",
    "import plotly.graph_objects as go\n",
    "import numpy as np\n",
    "import pandas as pd\n",
    "from sklearn.model_selection import train_test_split\n",
    "import matplotlib.pyplot as plt\n",
    "from sklearn.metrics import auc, roc_curve, roc_auc_score, plot_roc_curve, f1_score, plot_confusion_matrix, classification_report\n",
    "from sklearn.model_selection import GridSearchCV\n",
    "\n"
   ]
  },
  {
   "cell_type": "code",
   "execution_count": 42,
   "outputs": [
    {
     "name": "stderr",
     "output_type": "stream",
     "text": [
      "/var/folders/sk/qnqfmc1n43xcb8gqr40z974c0000gn/T/ipykernel_18817/3177714401.py:1: DtypeWarning: Columns (1,48,58,117,127,128,129,132,133,134,137) have mixed types. Specify dtype option on import or set low_memory=False.\n",
      "  LoanStatData = pd.read_csv('./Loan_status_2007-2020Q3.gzip')\n"
     ]
    },
    {
     "data": {
      "text/plain": "         Unnamed: 0     loan_amnt   funded_amnt  funded_amnt_inv  \\\ncount  2.925493e+06  2.925492e+06  2.925492e+06     2.925492e+06   \nmean   8.697419e+04  1.535878e+04  1.535470e+04     1.534005e+04   \nstd    8.048842e+04  9.478383e+03  9.477145e+03     9.480634e+03   \nmin    0.000000e+00  5.000000e+02  5.000000e+02     0.000000e+00   \n25%    3.284100e+04  8.000000e+03  8.000000e+03     8.000000e+03   \n50%    6.892500e+04  1.300000e+04  1.300000e+04     1.300000e+04   \n75%    1.072940e+05  2.000000e+04  2.000000e+04     2.000000e+04   \nmax    4.210940e+05  4.000000e+04  4.000000e+04     4.000000e+04   \n\n        installment    annual_inc           dti   delinq_2yrs  fico_range_low  \\\ncount  2.925492e+06  2.925488e+06  2.922384e+06  2.925463e+06    2.925492e+06   \nmean   4.523914e+02  7.993727e+04  1.929648e+01  2.897012e-01    7.005110e+02   \nstd    2.729478e+02  1.117476e+05  1.571977e+01  8.436819e-01    3.376565e+01   \nmin    4.930000e+00  0.000000e+00 -1.000000e+00  0.000000e+00    6.100000e+02   \n25%    2.535000e+02  4.700000e+04  1.208000e+01  0.000000e+00    6.750000e+02   \n50%    3.823000e+02  6.600000e+04  1.810000e+01  0.000000e+00    6.950000e+02   \n75%    6.039200e+02  9.500000e+04  2.488000e+01  0.000000e+00    7.200000e+02   \nmax    1.719830e+03  1.100000e+08  9.990000e+02  5.800000e+01    8.450000e+02   \n\n       fico_range_high  ...  sec_app_num_rev_accts  \\\ncount     2.925492e+06  ...          197824.000000   \nmean      7.045112e+02  ...              12.544398   \nstd       3.376653e+01  ...               8.206977   \nmin       6.140000e+02  ...               0.000000   \n25%       6.790000e+02  ...               7.000000   \n50%       6.990000e+02  ...              11.000000   \n75%       7.240000e+02  ...              17.000000   \nmax       8.500000e+02  ...             121.000000   \n\n       sec_app_chargeoff_within_12_mths  sec_app_collections_12_mths_ex_med  \\\ncount                     197824.000000                       197824.000000   \nmean                           0.038327                            0.067545   \nstd                            0.362390                            0.371836   \nmin                            0.000000                            0.000000   \n25%                            0.000000                            0.000000   \n50%                            0.000000                            0.000000   \n75%                            0.000000                            0.000000   \nmax                           21.000000                           23.000000   \n\n       deferral_term  hardship_amount  hardship_length   hardship_dpd  \\\ncount  143638.000000    182076.000000    143638.000000  143637.000000   \nmean        2.233427       119.887400         2.233427       2.323148   \nstd         0.565689       247.522976         0.565689       6.179453   \nmin         0.000000         0.000000         0.000000       0.000000   \n25%         2.000000         0.000000         2.000000       0.000000   \n50%         2.000000         0.000000         2.000000       0.000000   \n75%         2.000000       101.940000         2.000000       0.000000   \nmax         4.000000      2797.500000         4.000000      82.000000   \n\n       orig_projected_additional_accrued_interest  \\\ncount                               179240.000000   \nmean                                   369.367460   \nstd                                    468.696526   \nmin                                      0.000000   \n25%                                    104.280000   \n50%                                    249.474420   \n75%                                    482.532500   \nmax                                  11581.820000   \n\n       hardship_payoff_balance_amount  hardship_last_payment_amount  \ncount                   182076.000000                 182076.000000  \nmean                     11993.128927                    745.504875  \nstd                       9162.902724                   2095.316599  \nmin                          0.000000                      0.000000  \n25%                       4749.142500                    259.040000  \n50%                       9967.160000                    423.200000  \n75%                      17640.670000                    679.580000  \nmax                      42135.550000                  40270.980000  \n\n[8 rows x 107 columns]",
      "text/html": "<div>\n<style scoped>\n    .dataframe tbody tr th:only-of-type {\n        vertical-align: middle;\n    }\n\n    .dataframe tbody tr th {\n        vertical-align: top;\n    }\n\n    .dataframe thead th {\n        text-align: right;\n    }\n</style>\n<table border=\"1\" class=\"dataframe\">\n  <thead>\n    <tr style=\"text-align: right;\">\n      <th></th>\n      <th>Unnamed: 0</th>\n      <th>loan_amnt</th>\n      <th>funded_amnt</th>\n      <th>funded_amnt_inv</th>\n      <th>installment</th>\n      <th>annual_inc</th>\n      <th>dti</th>\n      <th>delinq_2yrs</th>\n      <th>fico_range_low</th>\n      <th>fico_range_high</th>\n      <th>...</th>\n      <th>sec_app_num_rev_accts</th>\n      <th>sec_app_chargeoff_within_12_mths</th>\n      <th>sec_app_collections_12_mths_ex_med</th>\n      <th>deferral_term</th>\n      <th>hardship_amount</th>\n      <th>hardship_length</th>\n      <th>hardship_dpd</th>\n      <th>orig_projected_additional_accrued_interest</th>\n      <th>hardship_payoff_balance_amount</th>\n      <th>hardship_last_payment_amount</th>\n    </tr>\n  </thead>\n  <tbody>\n    <tr>\n      <th>count</th>\n      <td>2.925493e+06</td>\n      <td>2.925492e+06</td>\n      <td>2.925492e+06</td>\n      <td>2.925492e+06</td>\n      <td>2.925492e+06</td>\n      <td>2.925488e+06</td>\n      <td>2.922384e+06</td>\n      <td>2.925463e+06</td>\n      <td>2.925492e+06</td>\n      <td>2.925492e+06</td>\n      <td>...</td>\n      <td>197824.000000</td>\n      <td>197824.000000</td>\n      <td>197824.000000</td>\n      <td>143638.000000</td>\n      <td>182076.000000</td>\n      <td>143638.000000</td>\n      <td>143637.000000</td>\n      <td>179240.000000</td>\n      <td>182076.000000</td>\n      <td>182076.000000</td>\n    </tr>\n    <tr>\n      <th>mean</th>\n      <td>8.697419e+04</td>\n      <td>1.535878e+04</td>\n      <td>1.535470e+04</td>\n      <td>1.534005e+04</td>\n      <td>4.523914e+02</td>\n      <td>7.993727e+04</td>\n      <td>1.929648e+01</td>\n      <td>2.897012e-01</td>\n      <td>7.005110e+02</td>\n      <td>7.045112e+02</td>\n      <td>...</td>\n      <td>12.544398</td>\n      <td>0.038327</td>\n      <td>0.067545</td>\n      <td>2.233427</td>\n      <td>119.887400</td>\n      <td>2.233427</td>\n      <td>2.323148</td>\n      <td>369.367460</td>\n      <td>11993.128927</td>\n      <td>745.504875</td>\n    </tr>\n    <tr>\n      <th>std</th>\n      <td>8.048842e+04</td>\n      <td>9.478383e+03</td>\n      <td>9.477145e+03</td>\n      <td>9.480634e+03</td>\n      <td>2.729478e+02</td>\n      <td>1.117476e+05</td>\n      <td>1.571977e+01</td>\n      <td>8.436819e-01</td>\n      <td>3.376565e+01</td>\n      <td>3.376653e+01</td>\n      <td>...</td>\n      <td>8.206977</td>\n      <td>0.362390</td>\n      <td>0.371836</td>\n      <td>0.565689</td>\n      <td>247.522976</td>\n      <td>0.565689</td>\n      <td>6.179453</td>\n      <td>468.696526</td>\n      <td>9162.902724</td>\n      <td>2095.316599</td>\n    </tr>\n    <tr>\n      <th>min</th>\n      <td>0.000000e+00</td>\n      <td>5.000000e+02</td>\n      <td>5.000000e+02</td>\n      <td>0.000000e+00</td>\n      <td>4.930000e+00</td>\n      <td>0.000000e+00</td>\n      <td>-1.000000e+00</td>\n      <td>0.000000e+00</td>\n      <td>6.100000e+02</td>\n      <td>6.140000e+02</td>\n      <td>...</td>\n      <td>0.000000</td>\n      <td>0.000000</td>\n      <td>0.000000</td>\n      <td>0.000000</td>\n      <td>0.000000</td>\n      <td>0.000000</td>\n      <td>0.000000</td>\n      <td>0.000000</td>\n      <td>0.000000</td>\n      <td>0.000000</td>\n    </tr>\n    <tr>\n      <th>25%</th>\n      <td>3.284100e+04</td>\n      <td>8.000000e+03</td>\n      <td>8.000000e+03</td>\n      <td>8.000000e+03</td>\n      <td>2.535000e+02</td>\n      <td>4.700000e+04</td>\n      <td>1.208000e+01</td>\n      <td>0.000000e+00</td>\n      <td>6.750000e+02</td>\n      <td>6.790000e+02</td>\n      <td>...</td>\n      <td>7.000000</td>\n      <td>0.000000</td>\n      <td>0.000000</td>\n      <td>2.000000</td>\n      <td>0.000000</td>\n      <td>2.000000</td>\n      <td>0.000000</td>\n      <td>104.280000</td>\n      <td>4749.142500</td>\n      <td>259.040000</td>\n    </tr>\n    <tr>\n      <th>50%</th>\n      <td>6.892500e+04</td>\n      <td>1.300000e+04</td>\n      <td>1.300000e+04</td>\n      <td>1.300000e+04</td>\n      <td>3.823000e+02</td>\n      <td>6.600000e+04</td>\n      <td>1.810000e+01</td>\n      <td>0.000000e+00</td>\n      <td>6.950000e+02</td>\n      <td>6.990000e+02</td>\n      <td>...</td>\n      <td>11.000000</td>\n      <td>0.000000</td>\n      <td>0.000000</td>\n      <td>2.000000</td>\n      <td>0.000000</td>\n      <td>2.000000</td>\n      <td>0.000000</td>\n      <td>249.474420</td>\n      <td>9967.160000</td>\n      <td>423.200000</td>\n    </tr>\n    <tr>\n      <th>75%</th>\n      <td>1.072940e+05</td>\n      <td>2.000000e+04</td>\n      <td>2.000000e+04</td>\n      <td>2.000000e+04</td>\n      <td>6.039200e+02</td>\n      <td>9.500000e+04</td>\n      <td>2.488000e+01</td>\n      <td>0.000000e+00</td>\n      <td>7.200000e+02</td>\n      <td>7.240000e+02</td>\n      <td>...</td>\n      <td>17.000000</td>\n      <td>0.000000</td>\n      <td>0.000000</td>\n      <td>2.000000</td>\n      <td>101.940000</td>\n      <td>2.000000</td>\n      <td>0.000000</td>\n      <td>482.532500</td>\n      <td>17640.670000</td>\n      <td>679.580000</td>\n    </tr>\n    <tr>\n      <th>max</th>\n      <td>4.210940e+05</td>\n      <td>4.000000e+04</td>\n      <td>4.000000e+04</td>\n      <td>4.000000e+04</td>\n      <td>1.719830e+03</td>\n      <td>1.100000e+08</td>\n      <td>9.990000e+02</td>\n      <td>5.800000e+01</td>\n      <td>8.450000e+02</td>\n      <td>8.500000e+02</td>\n      <td>...</td>\n      <td>121.000000</td>\n      <td>21.000000</td>\n      <td>23.000000</td>\n      <td>4.000000</td>\n      <td>2797.500000</td>\n      <td>4.000000</td>\n      <td>82.000000</td>\n      <td>11581.820000</td>\n      <td>42135.550000</td>\n      <td>40270.980000</td>\n    </tr>\n  </tbody>\n</table>\n<p>8 rows × 107 columns</p>\n</div>"
     },
     "execution_count": 42,
     "metadata": {},
     "output_type": "execute_result"
    }
   ],
   "source": [
    "LoanStatData = pd.read_csv('./Loan_status_2007-2020Q3.gzip')\n",
    "#Checking the data\n",
    "LoanStatData.describe()"
   ],
   "metadata": {
    "collapsed": false
   }
  },
  {
   "cell_type": "code",
   "execution_count": 43,
   "outputs": [
    {
     "data": {
      "text/plain": "Unnamed: 0                                      int64\nid                                             object\nloan_amnt                                     float64\nfunded_amnt                                   float64\nfunded_amnt_inv                               float64\n                                               ...   \nhardship_loan_status                           object\norig_projected_additional_accrued_interest    float64\nhardship_payoff_balance_amount                float64\nhardship_last_payment_amount                  float64\ndebt_settlement_flag                           object\nLength: 142, dtype: object"
     },
     "execution_count": 43,
     "metadata": {},
     "output_type": "execute_result"
    }
   ],
   "source": [
    "LoanStatData = LoanStatData[LoanStatData['loan_status'].isin(['Fully Paid', 'Charged Off', 'Default'])]\n",
    "LoanStatData.dtypes"
   ],
   "metadata": {
    "collapsed": false
   }
  },
  {
   "cell_type": "code",
   "execution_count": 44,
   "outputs": [],
   "source": [
    "#creatubg a column for the year in the data set\n",
    "LoanStatData['year'] = pd.to_datetime(LoanStatData['issue_d']).dt.year"
   ],
   "metadata": {
    "collapsed": false
   }
  },
  {
   "cell_type": "code",
   "execution_count": 45,
   "outputs": [],
   "source": [
    "#creating FICO for the setting range\n",
    "LoanStatData['fico'] = LoanStatData.apply(lambda r: (r.fico_range_low + r.fico_range_high) / 2, axis=1)\n"
   ],
   "metadata": {
    "collapsed": false
   }
  },
  {
   "cell_type": "code",
   "execution_count": 46,
   "outputs": [
    {
     "data": {
      "text/plain": "[Text(0.5, 1.0, 'Taking new loans to pay for other assets is loan debt consolidation ')]"
     },
     "execution_count": 46,
     "metadata": {},
     "output_type": "execute_result"
    },
    {
     "data": {
      "text/plain": "<Figure size 1200x900 with 1 Axes>",
      "image/png": "[encoded data removed]"
     },
     "metadata": {},
     "output_type": "display_data"
    }
   ],
   "source": [
    "plt.figure(figsize=(12,9))\n",
    "ax = sns.countplot(y=\"purpose\", data=LoanStatData, palette=\"Set3\",\n",
    "                   order=LoanStatData['purpose'].value_counts().index,\n",
    "                   dodge=False)\n",
    "ax.set(title=\"Taking new loans to pay for other assets is loan debt consolidation \")"
   ],
   "metadata": {
    "collapsed": false
   }
  },
  {
   "cell_type": "code",
   "execution_count": 47,
   "outputs": [],
   "source": [
    "ax.get_figure().savefig('1_1.jpg')"
   ],
   "metadata": {
    "collapsed": false
   }
  },
  {
   "cell_type": "code",
   "execution_count": 48,
   "outputs": [
    {
     "data": {
      "text/plain": "   addr_state    size\n0          AK    4343\n1          AL   22802\n2          AR   14087\n3          AZ   45521\n4          CA  264525\n5          CO   40501\n6          CT   28161\n7          DC    4549\n8          DE    5264\n9          FL  133643\n10         GA   60592\n11         HI    9050\n12         IA       7\n13         ID    3313\n14         IL   72623\n15         IN   30728\n16         KS   15489\n17         KY   17917\n18         LA   21072\n19         MA   42719\n20         MD   43593\n21         ME    3583\n22         MI   48661\n23         MN   32966\n24         MO   29725\n25         MS    9932\n26         MT    5257\n27         NC   52062\n28         ND    2674\n29         NE    6009\n30         NH    9049\n31         NJ   66982\n32         NM   10028\n33         NV   27866\n34         NY  150911\n35         OH   61150\n36         OK   16964\n37         OR   22555\n38         PA   62774\n39         RI    8191\n40         SC   22489\n41         SD    3773\n42         TN   29092\n43         TX  152990\n44         UT   13463\n45         VA   51929\n46         VT    3877\n47         WA   39944\n48         WI   24834\n49         WV    6551\n50         WY    3984",
      "text/html": "<div>\n<style scoped>\n    .dataframe tbody tr th:only-of-type {\n        vertical-align: middle;\n    }\n\n    .dataframe tbody tr th {\n        vertical-align: top;\n    }\n\n    .dataframe thead th {\n        text-align: right;\n    }\n</style>\n<table border=\"1\" class=\"dataframe\">\n  <thead>\n    <tr style=\"text-align: right;\">\n      <th></th>\n      <th>addr_state</th>\n      <th>size</th>\n    </tr>\n  </thead>\n  <tbody>\n    <tr>\n      <th>0</th>\n      <td>AK</td>\n      <td>4343</td>\n    </tr>\n    <tr>\n      <th>1</th>\n      <td>AL</td>\n      <td>22802</td>\n    </tr>\n    <tr>\n      <th>2</th>\n      <td>AR</td>\n      <td>14087</td>\n    </tr>\n    <tr>\n      <th>3</th>\n      <td>AZ</td>\n      <td>45521</td>\n    </tr>\n    <tr>\n      <th>4</th>\n      <td>CA</td>\n      <td>264525</td>\n    </tr>\n    <tr>\n      <th>5</th>\n      <td>CO</td>\n      <td>40501</td>\n    </tr>\n    <tr>\n      <th>6</th>\n      <td>CT</td>\n      <td>28161</td>\n    </tr>\n    <tr>\n      <th>7</th>\n      <td>DC</td>\n      <td>4549</td>\n    </tr>\n    <tr>\n      <th>8</th>\n      <td>DE</td>\n      <td>5264</td>\n    </tr>\n    <tr>\n      <th>9</th>\n      <td>FL</td>\n      <td>133643</td>\n    </tr>\n    <tr>\n      <th>10</th>\n      <td>GA</td>\n      <td>60592</td>\n    </tr>\n    <tr>\n      <th>11</th>\n      <td>HI</td>\n      <td>9050</td>\n    </tr>\n    <tr>\n      <th>12</th>\n      <td>IA</td>\n      <td>7</td>\n    </tr>\n    <tr>\n      <th>13</th>\n      <td>ID</td>\n      <td>3313</td>\n    </tr>\n    <tr>\n      <th>14</th>\n      <td>IL</td>\n      <td>72623</td>\n    </tr>\n    <tr>\n      <th>15</th>\n      <td>IN</td>\n      <td>30728</td>\n    </tr>\n    <tr>\n      <th>16</th>\n      <td>KS</td>\n      <td>15489</td>\n    </tr>\n    <tr>\n      <th>17</th>\n      <td>KY</td>\n      <td>17917</td>\n    </tr>\n    <tr>\n      <th>18</th>\n      <td>LA</td>\n      <td>21072</td>\n    </tr>\n    <tr>\n      <th>19</th>\n      <td>MA</td>\n      <td>42719</td>\n    </tr>\n    <tr>\n      <th>20</th>\n      <td>MD</td>\n      <td>43593</td>\n    </tr>\n    <tr>\n      <th>21</th>\n      <td>ME</td>\n      <td>3583</td>\n    </tr>\n    <tr>\n      <th>22</th>\n      <td>MI</td>\n      <td>48661</td>\n    </tr>\n    <tr>\n      <th>23</th>\n      <td>MN</td>\n      <td>32966</td>\n    </tr>\n    <tr>\n      <th>24</th>\n      <td>MO</td>\n      <td>29725</td>\n    </tr>\n    <tr>\n      <th>25</th>\n      <td>MS</td>\n      <td>9932</td>\n    </tr>\n    <tr>\n      <th>26</th>\n      <td>MT</td>\n      <td>5257</td>\n    </tr>\n    <tr>\n      <th>27</th>\n      <td>NC</td>\n      <td>52062</td>\n    </tr>\n    <tr>\n      <th>28</th>\n      <td>ND</td>\n      <td>2674</td>\n    </tr>\n    <tr>\n      <th>29</th>\n      <td>NE</td>\n      <td>6009</td>\n    </tr>\n    <tr>\n      <th>30</th>\n      <td>NH</td>\n      <td>9049</td>\n    </tr>\n    <tr>\n      <th>31</th>\n      <td>NJ</td>\n      <td>66982</td>\n    </tr>\n    <tr>\n      <th>32</th>\n      <td>NM</td>\n      <td>10028</td>\n    </tr>\n    <tr>\n      <th>33</th>\n      <td>NV</td>\n      <td>27866</td>\n    </tr>\n    <tr>\n      <th>34</th>\n      <td>NY</td>\n      <td>150911</td>\n    </tr>\n    <tr>\n      <th>35</th>\n      <td>OH</td>\n      <td>61150</td>\n    </tr>\n    <tr>\n      <th>36</th>\n      <td>OK</td>\n      <td>16964</td>\n    </tr>\n    <tr>\n      <th>37</th>\n      <td>OR</td>\n      <td>22555</td>\n    </tr>\n    <tr>\n      <th>38</th>\n      <td>PA</td>\n      <td>62774</td>\n    </tr>\n    <tr>\n      <th>39</th>\n      <td>RI</td>\n      <td>8191</td>\n    </tr>\n    <tr>\n      <th>40</th>\n      <td>SC</td>\n      <td>22489</td>\n    </tr>\n    <tr>\n      <th>41</th>\n      <td>SD</td>\n      <td>3773</td>\n    </tr>\n    <tr>\n      <th>42</th>\n      <td>TN</td>\n      <td>29092</td>\n    </tr>\n    <tr>\n      <th>43</th>\n      <td>TX</td>\n      <td>152990</td>\n    </tr>\n    <tr>\n      <th>44</th>\n      <td>UT</td>\n      <td>13463</td>\n    </tr>\n    <tr>\n      <th>45</th>\n      <td>VA</td>\n      <td>51929</td>\n    </tr>\n    <tr>\n      <th>46</th>\n      <td>VT</td>\n      <td>3877</td>\n    </tr>\n    <tr>\n      <th>47</th>\n      <td>WA</td>\n      <td>39944</td>\n    </tr>\n    <tr>\n      <th>48</th>\n      <td>WI</td>\n      <td>24834</td>\n    </tr>\n    <tr>\n      <th>49</th>\n      <td>WV</td>\n      <td>6551</td>\n    </tr>\n    <tr>\n      <th>50</th>\n      <td>WY</td>\n      <td>3984</td>\n    </tr>\n  </tbody>\n</table>\n</div>"
     },
     "execution_count": 48,
     "metadata": {},
     "output_type": "execute_result"
    }
   ],
   "source": [
    "#maximum amount of loans in the dataset are four states that are from California, Texas, New York and Florida.\n",
    "#finding frequency of loans given to different states\n",
    "statewise_loan_freq = LoanStatData.groupby(['addr_state'], as_index=False).size()\n",
    "statewise_loan_freq"
   ],
   "metadata": {
    "collapsed": false
   }
  },
  {
   "cell_type": "code",
   "execution_count": 57,
   "outputs": [
    {
     "data": {
      "application/vnd.plotly.v1+json": {
       "data": [
        {
         "colorscale": [
          [
           0.0,
           "rgb(150,0,90)"
          ],
          [
           0.125,
           "rgb(0,0,200)"
          ],
          [
           0.25,
           "rgb(0,25,255)"
          ],
          [
           0.375,
           "rgb(0,152,255)"
          ],
          [
           0.5,
           "rgb(44,255,150)"
          ],
          [
           0.625,
           "rgb(151,255,0)"
          ],
          [
           0.75,
           "rgb(255,234,0)"
          ],
          [
           0.875,
           "rgb(255,111,0)"
          ],
          [
           1.0,
           "rgb(255,0,0)"
          ]
         ],
         "locationmode": "USA-states",
         "locations": [
          "AK",
          "AL",
          "AR",
          "AZ",
          "CA",
          "CO",
          "CT",
          "DC",
          "DE",
          "FL",
          "GA",
          "HI",
          "IA",
          "ID",
          "IL",
          "IN",
          "KS",
          "KY",
          "LA",
          "MA",
          "MD",
          "ME",
          "MI",
          "MN",
          "MO",
          "MS",
          "MT",
          "NC",
          "ND",
          "NE",
          "NH",
          "NJ",
          "NM",
          "NV",
          "NY",
          "OH",
          "OK",
          "OR",
          "PA",
          "RI",
          "SC",
          "SD",
          "TN",
          "TX",
          "UT",
          "VA",
          "VT",
          "WA",
          "WI",
          "WV",
          "WY"
         ],
         "z": [
          4343,
          22802,
          14087,
          45521,
          264525,
          40501,
          28161,
          4549,
          5264,
          133643,
          60592,
          9050,
          7,
          3313,
          72623,
          30728,
          15489,
          17917,
          21072,
          42719,
          43593,
          3583,
          48661,
          32966,
          29725,
          9932,
          5257,
          52062,
          2674,
          6009,
          9049,
          66982,
          10028,
          27866,
          150911,
          61150,
          16964,
          22555,
          62774,
          8191,
          22489,
          3773,
          29092,
          152990,
          13463,
          51929,
          3877,
          39944,
          24834,
          6551,
          3984
         ],
         "type": "choropleth"
        }
       ],
       "layout": {
        "template": {
         "data": {
          "histogram2dcontour": [
           {
            "type": "histogram2dcontour",
            "colorbar": {
             "outlinewidth": 0,
             "ticks": ""
            },
            "colorscale": [
             [
              0.0,
              "#0d0887"
             ],
             [
              0.1111111111111111,
              "#46039f"
             ],
             [
              0.2222222222222222,
              "#7201a8"
             ],
             [
              0.3333333333333333,
              "#9c179e"
             ],
             [
              0.4444444444444444,
              "#bd3786"
             ],
             [
              0.5555555555555556,
              "#d8576b"
             ],
             [
              0.6666666666666666,
              "#ed7953"
             ],
             [
              0.7777777777777778,
              "#fb9f3a"
             ],
             [
              0.8888888888888888,
              "#fdca26"
             ],
             [
              1.0,
              "#f0f921"
             ]
            ]
           }
          ],
          "choropleth": [
           {
            "type": "choropleth",
            "colorbar": {
             "outlinewidth": 0,
             "ticks": ""
            }
           }
          ],
          "histogram2d": [
           {
            "type": "histogram2d",
            "colorbar": {
             "outlinewidth": 0,
             "ticks": ""
            },
            "colorscale": [
             [
              0.0,
              "#0d0887"
             ],
             [
              0.1111111111111111,
              "#46039f"
             ],
             [
              0.2222222222222222,
              "#7201a8"
             ],
             [
              0.3333333333333333,
              "#9c179e"
             ],
             [
              0.4444444444444444,
              "#bd3786"
             ],
             [
              0.5555555555555556,
              "#d8576b"
             ],
             [
              0.6666666666666666,
              "#ed7953"
             ],
             [
              0.7777777777777778,
              "#fb9f3a"
             ],
             [
              0.8888888888888888,
              "#fdca26"
             ],
             [
              1.0,
              "#f0f921"
             ]
            ]
           }
          ],
          "heatmap": [
           {
            "type": "heatmap",
            "colorbar": {
             "outlinewidth": 0,
             "ticks": ""
            },
            "colorscale": [
             [
              0.0,
              "#0d0887"
             ],
             [
              0.1111111111111111,
              "#46039f"
             ],
             [
              0.2222222222222222,
              "#7201a8"
             ],
             [
              0.3333333333333333,
              "#9c179e"
             ],
             [
              0.4444444444444444,
              "#bd3786"
             ],
             [
              0.5555555555555556,
              "#d8576b"
             ],
             [
              0.6666666666666666,
              "#ed7953"
             ],
             [
              0.7777777777777778,
              "#fb9f3a"
             ],
             [
              0.8888888888888888,
              "#fdca26"
             ],
             [
              1.0,
              "#f0f921"
             ]
            ]
           }
          ],
          "heatmapgl": [
           {
            "type": "heatmapgl",
            "colorbar": {
             "outlinewidth": 0,
             "ticks": ""
            },
            "colorscale": [
             [
              0.0,
              "#0d0887"
             ],
             [
              0.1111111111111111,
              "#46039f"
             ],
             [
              0.2222222222222222,
              "#7201a8"
             ],
             [
              0.3333333333333333,
              "#9c179e"
             ],
             [
              0.4444444444444444,
              "#bd3786"
             ],
             [
              0.5555555555555556,
              "#d8576b"
             ],
             [
              0.6666666666666666,
              "#ed7953"
             ],
             [
              0.7777777777777778,
              "#fb9f3a"
             ],
             [
              0.8888888888888888,
              "#fdca26"
             ],
             [
              1.0,
              "#f0f921"
             ]
            ]
           }
          ],
          "contourcarpet": [
           {
            "type": "contourcarpet",
            "colorbar": {
             "outlinewidth": 0,
             "ticks": ""
            }
           }
          ],
          "contour": [
           {
            "type": "contour",
            "colorbar": {
             "outlinewidth": 0,
             "ticks": ""
            },
            "colorscale": [
             [
              0.0,
              "#0d0887"
             ],
             [
              0.1111111111111111,
              "#46039f"
             ],
             [
              0.2222222222222222,
              "#7201a8"
             ],
             [
              0.3333333333333333,
              "#9c179e"
             ],
             [
              0.4444444444444444,
              "#bd3786"
             ],
             [
              0.5555555555555556,
              "#d8576b"
             ],
             [
              0.6666666666666666,
              "#ed7953"
             ],
             [
              0.7777777777777778,
              "#fb9f3a"
             ],
             [
              0.8888888888888888,
              "#fdca26"
             ],
             [
              1.0,
              "#f0f921"
             ]
            ]
           }
          ],
          "surface": [
           {
            "type": "surface",
            "colorbar": {
             "outlinewidth": 0,
             "ticks": ""
            },
            "colorscale": [
             [
              0.0,
              "#0d0887"
             ],
             [
              0.1111111111111111,
              "#46039f"
             ],
             [
              0.2222222222222222,
              "#7201a8"
             ],
             [
              0.3333333333333333,
              "#9c179e"
             ],
             [
              0.4444444444444444,
              "#bd3786"
             ],
             [
              0.5555555555555556,
              "#d8576b"
             ],
             [
              0.6666666666666666,
              "#ed7953"
             ],
             [
              0.7777777777777778,
              "#fb9f3a"
             ],
             [
              0.8888888888888888,
              "#fdca26"
             ],
             [
              1.0,
              "#f0f921"
             ]
            ]
           }
          ],
          "mesh3d": [
           {
            "type": "mesh3d",
            "colorbar": {
             "outlinewidth": 0,
             "ticks": ""
            }
           }
          ],
          "scatter": [
           {
            "fillpattern": {
             "fillmode": "overlay",
             "size": 10,
             "solidity": 0.2
            },
            "type": "scatter"
           }
          ],
          "parcoords": [
           {
            "type": "parcoords",
            "line": {
             "colorbar": {
              "outlinewidth": 0,
              "ticks": ""
             }
            }
           }
          ],
          "scatterpolargl": [
           {
            "type": "scatterpolargl",
            "marker": {
             "colorbar": {
              "outlinewidth": 0,
              "ticks": ""
             }
            }
           }
          ],
          "bar": [
           {
            "error_x": {
             "color": "#2a3f5f"
            },
            "error_y": {
             "color": "#2a3f5f"
            },
            "marker": {
             "line": {
              "color": "#E5ECF6",
              "width": 0.5
             },
             "pattern": {
              "fillmode": "overlay",
              "size": 10,
              "solidity": 0.2
             }
            },
            "type": "bar"
           }
          ],
          "scattergeo": [
           {
            "type": "scattergeo",
            "marker": {
             "colorbar": {
              "outlinewidth": 0,
              "ticks": ""
             }
            }
           }
          ],
          "scatterpolar": [
           {
            "type": "scatterpolar",
            "marker": {
             "colorbar": {
              "outlinewidth": 0,
              "ticks": ""
             }
            }
           }
          ],
          "histogram": [
           {
            "marker": {
             "pattern": {
              "fillmode": "overlay",
              "size": 10,
              "solidity": 0.2
             }
            },
            "type": "histogram"
           }
          ],
          "scattergl": [
           {
            "type": "scattergl",
            "marker": {
             "colorbar": {
              "outlinewidth": 0,
              "ticks": ""
             }
            }
           }
          ],
          "scatter3d": [
           {
            "type": "scatter3d",
            "line": {
             "colorbar": {
              "outlinewidth": 0,
              "ticks": ""
             }
            },
            "marker": {
             "colorbar": {
              "outlinewidth": 0,
              "ticks": ""
             }
            }
           }
          ],
          "scattermapbox": [
           {
            "type": "scattermapbox",
            "marker": {
             "colorbar": {
              "outlinewidth": 0,
              "ticks": ""
             }
            }
           }
          ],
          "scatterternary": [
           {
            "type": "scatterternary",
            "marker": {
             "colorbar": {
              "outlinewidth": 0,
              "ticks": ""
             }
            }
           }
          ],
          "scattercarpet": [
           {
            "type": "scattercarpet",
            "marker": {
             "colorbar": {
              "outlinewidth": 0,
              "ticks": ""
             }
            }
           }
          ],
          "carpet": [
           {
            "aaxis": {
             "endlinecolor": "#2a3f5f",
             "gridcolor": "white",
             "linecolor": "white",
             "minorgridcolor": "white",
             "startlinecolor": "#2a3f5f"
            },
            "baxis": {
             "endlinecolor": "#2a3f5f",
             "gridcolor": "white",
             "linecolor": "white",
             "minorgridcolor": "white",
             "startlinecolor": "#2a3f5f"
            },
            "type": "carpet"
           }
          ],
          "table": [
           {
            "cells": {
             "fill": {
              "color": "#EBF0F8"
             },
             "line": {
              "color": "white"
             }
            },
            "header": {
             "fill": {
              "color": "#C8D4E3"
             },
             "line": {
              "color": "white"
             }
            },
            "type": "table"
           }
          ],
          "barpolar": [
           {
            "marker": {
             "line": {
              "color": "#E5ECF6",
              "width": 0.5
             },
             "pattern": {
              "fillmode": "overlay",
              "size": 10,
              "solidity": 0.2
             }
            },
            "type": "barpolar"
           }
          ],
          "pie": [
           {
            "automargin": true,
            "type": "pie"
           }
          ]
         },
         "layout": {
          "autotypenumbers": "strict",
          "colorway": [
           "#636efa",
           "#EF553B",
           "#00cc96",
           "#ab63fa",
           "#FFA15A",
           "#19d3f3",
           "#FF6692",
           "#B6E880",
           "#FF97FF",
           "#FECB52"
          ],
          "font": {
           "color": "#2a3f5f"
          },
          "hovermode": "closest",
          "hoverlabel": {
           "align": "left"
          },
          "paper_bgcolor": "white",
          "plot_bgcolor": "#E5ECF6",
          "polar": {
           "bgcolor": "#E5ECF6",
           "angularaxis": {
            "gridcolor": "white",
            "linecolor": "white",
            "ticks": ""
           },
           "radialaxis": {
            "gridcolor": "white",
            "linecolor": "white",
            "ticks": ""
           }
          },
          "ternary": {
           "bgcolor": "#E5ECF6",
           "aaxis": {
            "gridcolor": "white",
            "linecolor": "white",
            "ticks": ""
           },
           "baxis": {
            "gridcolor": "white",
            "linecolor": "white",
            "ticks": ""
           },
           "caxis": {
            "gridcolor": "white",
            "linecolor": "white",
            "ticks": ""
           }
          },
          "coloraxis": {
           "colorbar": {
            "outlinewidth": 0,
            "ticks": ""
           }
          },
          "colorscale": {
           "sequential": [
            [
             0.0,
             "#0d0887"
            ],
            [
             0.1111111111111111,
             "#46039f"
            ],
            [
             0.2222222222222222,
             "#7201a8"
            ],
            [
             0.3333333333333333,
             "#9c179e"
            ],
            [
             0.4444444444444444,
             "#bd3786"
            ],
            [
             0.5555555555555556,
             "#d8576b"
            ],
            [
             0.6666666666666666,
             "#ed7953"
            ],
            [
             0.7777777777777778,
             "#fb9f3a"
            ],
            [
             0.8888888888888888,
             "#fdca26"
            ],
            [
             1.0,
             "#f0f921"
            ]
           ],
           "sequentialminus": [
            [
             0.0,
             "#0d0887"
            ],
            [
             0.1111111111111111,
             "#46039f"
            ],
            [
             0.2222222222222222,
             "#7201a8"
            ],
            [
             0.3333333333333333,
             "#9c179e"
            ],
            [
             0.4444444444444444,
             "#bd3786"
            ],
            [
             0.5555555555555556,
             "#d8576b"
            ],
            [
             0.6666666666666666,
             "#ed7953"
            ],
            [
             0.7777777777777778,
             "#fb9f3a"
            ],
            [
             0.8888888888888888,
             "#fdca26"
            ],
            [
             1.0,
             "#f0f921"
            ]
           ],
           "diverging": [
            [
             0,
             "#8e0152"
            ],
            [
             0.1,
             "#c51b7d"
            ],
            [
             0.2,
             "#de77ae"
            ],
            [
             0.3,
             "#f1b6da"
            ],
            [
             0.4,
             "#fde0ef"
            ],
            [
             0.5,
             "#f7f7f7"
            ],
            [
             0.6,
             "#e6f5d0"
            ],
            [
             0.7,
             "#b8e186"
            ],
            [
             0.8,
             "#7fbc41"
            ],
            [
             0.9,
             "#4d9221"
            ],
            [
             1,
             "#276419"
            ]
           ]
          },
          "xaxis": {
           "gridcolor": "white",
           "linecolor": "white",
           "ticks": "",
           "title": {
            "standoff": 15
           },
           "zerolinecolor": "white",
           "automargin": true,
           "zerolinewidth": 2
          },
          "yaxis": {
           "gridcolor": "white",
           "linecolor": "white",
           "ticks": "",
           "title": {
            "standoff": 15
           },
           "zerolinecolor": "white",
           "automargin": true,
           "zerolinewidth": 2
          },
          "scene": {
           "xaxis": {
            "backgroundcolor": "#E5ECF6",
            "gridcolor": "white",
            "linecolor": "white",
            "showbackground": true,
            "ticks": "",
            "zerolinecolor": "white",
            "gridwidth": 2
           },
           "yaxis": {
            "backgroundcolor": "#E5ECF6",
            "gridcolor": "white",
            "linecolor": "white",
            "showbackground": true,
            "ticks": "",
            "zerolinecolor": "white",
            "gridwidth": 2
           },
           "zaxis": {
            "backgroundcolor": "#E5ECF6",
            "gridcolor": "white",
            "linecolor": "white",
            "showbackground": true,
            "ticks": "",
            "zerolinecolor": "white",
            "gridwidth": 2
           }
          },
          "shapedefaults": {
           "line": {
            "color": "#2a3f5f"
           }
          },
          "annotationdefaults": {
           "arrowcolor": "#2a3f5f",
           "arrowhead": 0,
           "arrowwidth": 1
          },
          "geo": {
           "bgcolor": "white",
           "landcolor": "#E5ECF6",
           "subunitcolor": "white",
           "showland": true,
           "showlakes": true,
           "lakecolor": "white"
          },
          "title": {
           "x": 0.05
          },
          "mapbox": {
           "style": "light"
          }
         }
        },
        "title": {
         "text": "Offered Loans from different State"
        },
        "geo": {
         "scope": "usa"
        }
       },
       "config": {
        "plotlyServerURL": "https://plot.ly"
       }
      },
      "text/html": "<div>                            <div id=\"c0d96d1d-894c-4efc-982c-96a3c8690694\" class=\"plotly-graph-div\" style=\"height:525px; width:100%;\"></div>            <script type=\"text/javascript\">                require([\"plotly\"], function(Plotly) {                    window.PLOTLYENV=window.PLOTLYENV || {};                                    if (document.getElementById(\"c0d96d1d-894c-4efc-982c-96a3c8690694\")) {                    Plotly.newPlot(                        \"c0d96d1d-894c-4efc-982c-96a3c8690694\",                        [{\"colorscale\":[[0.0,\"rgb(150,0,90)\"],[0.125,\"rgb(0,0,200)\"],[0.25,\"rgb(0,25,255)\"],[0.375,\"rgb(0,152,255)\"],[0.5,\"rgb(44,255,150)\"],[0.625,\"rgb(151,255,0)\"],[0.75,\"rgb(255,234,0)\"],[0.875,\"rgb(255,111,0)\"],[1.0,\"rgb(255,0,0)\"]],\"locationmode\":\"USA-states\",\"locations\":[\"AK\",\"AL\",\"AR\",\"AZ\",\"CA\",\"CO\",\"CT\",\"DC\",\"DE\",\"FL\",\"GA\",\"HI\",\"IA\",\"ID\",\"IL\",\"IN\",\"KS\",\"KY\",\"LA\",\"MA\",\"MD\",\"ME\",\"MI\",\"MN\",\"MO\",\"MS\",\"MT\",\"NC\",\"ND\",\"NE\",\"NH\",\"NJ\",\"NM\",\"NV\",\"NY\",\"OH\",\"OK\",\"OR\",\"PA\",\"RI\",\"SC\",\"SD\",\"TN\",\"TX\",\"UT\",\"VA\",\"VT\",\"WA\",\"WI\",\"WV\",\"WY\"],\"z\":[4343,22802,14087,45521,264525,40501,28161,4549,5264,133643,60592,9050,7,3313,72623,30728,15489,17917,21072,42719,43593,3583,48661,32966,29725,9932,5257,52062,2674,6009,9049,66982,10028,27866,150911,61150,16964,22555,62774,8191,22489,3773,29092,152990,13463,51929,3877,39944,24834,6551,3984],\"type\":\"choropleth\"}],                        {\"template\":{\"data\":{\"histogram2dcontour\":[{\"type\":\"histogram2dcontour\",\"colorbar\":{\"outlinewidth\":0,\"ticks\":\"\"},\"colorscale\":[[0.0,\"#0d0887\"],[0.1111111111111111,\"#46039f\"],[0.2222222222222222,\"#7201a8\"],[0.3333333333333333,\"#9c179e\"],[0.4444444444444444,\"#bd3786\"],[0.5555555555555556,\"#d8576b\"],[0.6666666666666666,\"#ed7953\"],[0.7777777777777778,\"#fb9f3a\"],[0.8888888888888888,\"#fdca26\"],[1.0,\"#f0f921\"]]}],\"choropleth\":[{\"type\":\"choropleth\",\"colorbar\":{\"outlinewidth\":0,\"ticks\":\"\"}}],\"histogram2d\":[{\"type\":\"histogram2d\",\"colorbar\":{\"outlinewidth\":0,\"ticks\":\"\"},\"colorscale\":[[0.0,\"#0d0887\"],[0.1111111111111111,\"#46039f\"],[0.2222222222222222,\"#7201a8\"],[0.3333333333333333,\"#9c179e\"],[0.4444444444444444,\"#bd3786\"],[0.5555555555555556,\"#d8576b\"],[0.6666666666666666,\"#ed7953\"],[0.7777777777777778,\"#fb9f3a\"],[0.8888888888888888,\"#fdca26\"],[1.0,\"#f0f921\"]]}],\"heatmap\":[{\"type\":\"heatmap\",\"colorbar\":{\"outlinewidth\":0,\"ticks\":\"\"},\"colorscale\":[[0.0,\"#0d0887\"],[0.1111111111111111,\"#46039f\"],[0.2222222222222222,\"#7201a8\"],[0.3333333333333333,\"#9c179e\"],[0.4444444444444444,\"#bd3786\"],[0.5555555555555556,\"#d8576b\"],[0.6666666666666666,\"#ed7953\"],[0.7777777777777778,\"#fb9f3a\"],[0.8888888888888888,\"#fdca26\"],[1.0,\"#f0f921\"]]}],\"heatmapgl\":[{\"type\":\"heatmapgl\",\"colorbar\":{\"outlinewidth\":0,\"ticks\":\"\"},\"colorscale\":[[0.0,\"#0d0887\"],[0.1111111111111111,\"#46039f\"],[0.2222222222222222,\"#7201a8\"],[0.3333333333333333,\"#9c179e\"],[0.4444444444444444,\"#bd3786\"],[0.5555555555555556,\"#d8576b\"],[0.6666666666666666,\"#ed7953\"],[0.7777777777777778,\"#fb9f3a\"],[0.8888888888888888,\"#fdca26\"],[1.0,\"#f0f921\"]]}],\"contourcarpet\":[{\"type\":\"contourcarpet\",\"colorbar\":{\"outlinewidth\":0,\"ticks\":\"\"}}],\"contour\":[{\"type\":\"contour\",\"colorbar\":{\"outlinewidth\":0,\"ticks\":\"\"},\"colorscale\":[[0.0,\"#0d0887\"],[0.1111111111111111,\"#46039f\"],[0.2222222222222222,\"#7201a8\"],[0.3333333333333333,\"#9c179e\"],[0.4444444444444444,\"#bd3786\"],[0.5555555555555556,\"#d8576b\"],[0.6666666666666666,\"#ed7953\"],[0.7777777777777778,\"#fb9f3a\"],[0.8888888888888888,\"#fdca26\"],[1.0,\"#f0f921\"]]}],\"surface\":[{\"type\":\"surface\",\"colorbar\":{\"outlinewidth\":0,\"ticks\":\"\"},\"colorscale\":[[0.0,\"#0d0887\"],[0.1111111111111111,\"#46039f\"],[0.2222222222222222,\"#7201a8\"],[0.3333333333333333,\"#9c179e\"],[0.4444444444444444,\"#bd3786\"],[0.5555555555555556,\"#d8576b\"],[0.6666666666666666,\"#ed7953\"],[0.7777777777777778,\"#fb9f3a\"],[0.8888888888888888,\"#fdca26\"],[1.0,\"#f0f921\"]]}],\"mesh3d\":[{\"type\":\"mesh3d\",\"colorbar\":{\"outlinewidth\":0,\"ticks\":\"\"}}],\"scatter\":[{\"fillpattern\":{\"fillmode\":\"overlay\",\"size\":10,\"solidity\":0.2},\"type\":\"scatter\"}],\"parcoords\":[{\"type\":\"parcoords\",\"line\":{\"colorbar\":{\"outlinewidth\":0,\"ticks\":\"\"}}}],\"scatterpolargl\":[{\"type\":\"scatterpolargl\",\"marker\":{\"colorbar\":{\"outlinewidth\":0,\"ticks\":\"\"}}}],\"bar\":[{\"error_x\":{\"color\":\"#2a3f5f\"},\"error_y\":{\"color\":\"#2a3f5f\"},\"marker\":{\"line\":{\"color\":\"#E5ECF6\",\"width\":0.5},\"pattern\":{\"fillmode\":\"overlay\",\"size\":10,\"solidity\":0.2}},\"type\":\"bar\"}],\"scattergeo\":[{\"type\":\"scattergeo\",\"marker\":{\"colorbar\":{\"outlinewidth\":0,\"ticks\":\"\"}}}],\"scatterpolar\":[{\"type\":\"scatterpolar\",\"marker\":{\"colorbar\":{\"outlinewidth\":0,\"ticks\":\"\"}}}],\"histogram\":[{\"marker\":{\"pattern\":{\"fillmode\":\"overlay\",\"size\":10,\"solidity\":0.2}},\"type\":\"histogram\"}],\"scattergl\":[{\"type\":\"scattergl\",\"marker\":{\"colorbar\":{\"outlinewidth\":0,\"ticks\":\"\"}}}],\"scatter3d\":[{\"type\":\"scatter3d\",\"line\":{\"colorbar\":{\"outlinewidth\":0,\"ticks\":\"\"}},\"marker\":{\"colorbar\":{\"outlinewidth\":0,\"ticks\":\"\"}}}],\"scattermapbox\":[{\"type\":\"scattermapbox\",\"marker\":{\"colorbar\":{\"outlinewidth\":0,\"ticks\":\"\"}}}],\"scatterternary\":[{\"type\":\"scatterternary\",\"marker\":{\"colorbar\":{\"outlinewidth\":0,\"ticks\":\"\"}}}],\"scattercarpet\":[{\"type\":\"scattercarpet\",\"marker\":{\"colorbar\":{\"outlinewidth\":0,\"ticks\":\"\"}}}],\"carpet\":[{\"aaxis\":{\"endlinecolor\":\"#2a3f5f\",\"gridcolor\":\"white\",\"linecolor\":\"white\",\"minorgridcolor\":\"white\",\"startlinecolor\":\"#2a3f5f\"},\"baxis\":{\"endlinecolor\":\"#2a3f5f\",\"gridcolor\":\"white\",\"linecolor\":\"white\",\"minorgridcolor\":\"white\",\"startlinecolor\":\"#2a3f5f\"},\"type\":\"carpet\"}],\"table\":[{\"cells\":{\"fill\":{\"color\":\"#EBF0F8\"},\"line\":{\"color\":\"white\"}},\"header\":{\"fill\":{\"color\":\"#C8D4E3\"},\"line\":{\"color\":\"white\"}},\"type\":\"table\"}],\"barpolar\":[{\"marker\":{\"line\":{\"color\":\"#E5ECF6\",\"width\":0.5},\"pattern\":{\"fillmode\":\"overlay\",\"size\":10,\"solidity\":0.2}},\"type\":\"barpolar\"}],\"pie\":[{\"automargin\":true,\"type\":\"pie\"}]},\"layout\":{\"autotypenumbers\":\"strict\",\"colorway\":[\"#636efa\",\"#EF553B\",\"#00cc96\",\"#ab63fa\",\"#FFA15A\",\"#19d3f3\",\"#FF6692\",\"#B6E880\",\"#FF97FF\",\"#FECB52\"],\"font\":{\"color\":\"#2a3f5f\"},\"hovermode\":\"closest\",\"hoverlabel\":{\"align\":\"left\"},\"paper_bgcolor\":\"white\",\"plot_bgcolor\":\"#E5ECF6\",\"polar\":{\"bgcolor\":\"#E5ECF6\",\"angularaxis\":{\"gridcolor\":\"white\",\"linecolor\":\"white\",\"ticks\":\"\"},\"radialaxis\":{\"gridcolor\":\"white\",\"linecolor\":\"white\",\"ticks\":\"\"}},\"ternary\":{\"bgcolor\":\"#E5ECF6\",\"aaxis\":{\"gridcolor\":\"white\",\"linecolor\":\"white\",\"ticks\":\"\"},\"baxis\":{\"gridcolor\":\"white\",\"linecolor\":\"white\",\"ticks\":\"\"},\"caxis\":{\"gridcolor\":\"white\",\"linecolor\":\"white\",\"ticks\":\"\"}},\"coloraxis\":{\"colorbar\":{\"outlinewidth\":0,\"ticks\":\"\"}},\"colorscale\":{\"sequential\":[[0.0,\"#0d0887\"],[0.1111111111111111,\"#46039f\"],[0.2222222222222222,\"#7201a8\"],[0.3333333333333333,\"#9c179e\"],[0.4444444444444444,\"#bd3786\"],[0.5555555555555556,\"#d8576b\"],[0.6666666666666666,\"#ed7953\"],[0.7777777777777778,\"#fb9f3a\"],[0.8888888888888888,\"#fdca26\"],[1.0,\"#f0f921\"]],\"sequentialminus\":[[0.0,\"#0d0887\"],[0.1111111111111111,\"#46039f\"],[0.2222222222222222,\"#7201a8\"],[0.3333333333333333,\"#9c179e\"],[0.4444444444444444,\"#bd3786\"],[0.5555555555555556,\"#d8576b\"],[0.6666666666666666,\"#ed7953\"],[0.7777777777777778,\"#fb9f3a\"],[0.8888888888888888,\"#fdca26\"],[1.0,\"#f0f921\"]],\"diverging\":[[0,\"#8e0152\"],[0.1,\"#c51b7d\"],[0.2,\"#de77ae\"],[0.3,\"#f1b6da\"],[0.4,\"#fde0ef\"],[0.5,\"#f7f7f7\"],[0.6,\"#e6f5d0\"],[0.7,\"#b8e186\"],[0.8,\"#7fbc41\"],[0.9,\"#4d9221\"],[1,\"#276419\"]]},\"xaxis\":{\"gridcolor\":\"white\",\"linecolor\":\"white\",\"ticks\":\"\",\"title\":{\"standoff\":15},\"zerolinecolor\":\"white\",\"automargin\":true,\"zerolinewidth\":2},\"yaxis\":{\"gridcolor\":\"white\",\"linecolor\":\"white\",\"ticks\":\"\",\"title\":{\"standoff\":15},\"zerolinecolor\":\"white\",\"automargin\":true,\"zerolinewidth\":2},\"scene\":{\"xaxis\":{\"backgroundcolor\":\"#E5ECF6\",\"gridcolor\":\"white\",\"linecolor\":\"white\",\"showbackground\":true,\"ticks\":\"\",\"zerolinecolor\":\"white\",\"gridwidth\":2},\"yaxis\":{\"backgroundcolor\":\"#E5ECF6\",\"gridcolor\":\"white\",\"linecolor\":\"white\",\"showbackground\":true,\"ticks\":\"\",\"zerolinecolor\":\"white\",\"gridwidth\":2},\"zaxis\":{\"backgroundcolor\":\"#E5ECF6\",\"gridcolor\":\"white\",\"linecolor\":\"white\",\"showbackground\":true,\"ticks\":\"\",\"zerolinecolor\":\"white\",\"gridwidth\":2}},\"shapedefaults\":{\"line\":{\"color\":\"#2a3f5f\"}},\"annotationdefaults\":{\"arrowcolor\":\"#2a3f5f\",\"arrowhead\":0,\"arrowwidth\":1},\"geo\":{\"bgcolor\":\"white\",\"landcolor\":\"#E5ECF6\",\"subunitcolor\":\"white\",\"showland\":true,\"showlakes\":true,\"lakecolor\":\"white\"},\"title\":{\"x\":0.05},\"mapbox\":{\"style\":\"light\"}}},\"title\":{\"text\":\"Offered Loans from different State\"},\"geo\":{\"scope\":\"usa\"}},                        {\"responsive\": true}                    ).then(function(){\n                            \nvar gd = document.getElementById('c0d96d1d-894c-4efc-982c-96a3c8690694');\nvar x = new MutationObserver(function (mutations, observer) {{\n        var display = window.getComputedStyle(gd).display;\n        if (!display || display === 'none') {{\n            console.log([gd, 'removed!']);\n            Plotly.purge(gd);\n            observer.disconnect();\n        }}\n}});\n\n// Listen for the removal of the full notebook cells\nvar notebookContainer = gd.closest('#notebook-container');\nif (notebookContainer) {{\n    x.observe(notebookContainer, {childList: true});\n}}\n\n// Listen for the clearing of the current output cell\nvar outputEl = gd.closest('.output');\nif (outputEl) {{\n    x.observe(outputEl, {childList: true});\n}}\n\n                        })                };                });            </script>        </div>"
     },
     "metadata": {},
     "output_type": "display_data"
    }
   ],
   "source": [
    "fig = go.Figure(\n",
    "    data=go.Choropleth(\n",
    "        locations=list(statewise_loan_freq['addr_state'].values),\n",
    "        z = list(statewise_loan_freq['size'].values),\n",
    "        locationmode = 'USA-states',\n",
    "        colorscale = 'Rainbow'\n",
    "    ))\n",
    "\n",
    "fig.update_layout(\n",
    "    title_text = 'Offered Loans from different State',\n",
    "    geo_scope='usa',\n",
    ")\n",
    "\n",
    "fig.show()"
   ],
   "metadata": {
    "collapsed": false
   }
  },
  {
   "cell_type": "code",
   "execution_count": 59,
   "outputs": [],
   "source": [
    "dti_non_null = LoanStatData[~LoanStatData['dti'].isnull()]"
   ],
   "metadata": {
    "collapsed": false
   }
  },
  {
   "cell_type": "code",
   "execution_count": 60,
   "outputs": [
    {
     "data": {
      "text/plain": "         Unnamed: 0         id  loan_amnt  funded_amnt  funded_amnt_inv  \\\n0                 0    1077501     5000.0       5000.0           4975.0   \n1                 1    1077430     2500.0       2500.0           2500.0   \n2                 2    1077175     2400.0       2400.0           2400.0   \n3                 3    1076863    10000.0      10000.0          10000.0   \n4                 4    1075358     3000.0       3000.0           3000.0   \n...             ...        ...        ...          ...              ...   \n2925488      105446  102556443    24000.0      24000.0          24000.0   \n2925489      105447  102653304    10000.0      10000.0          10000.0   \n2925490      105448  102628603    10050.0      10050.0          10050.0   \n2925491      105449  102196576     6000.0       6000.0           6000.0   \n2925492      105450   99799684    30000.0      30000.0          30000.0   \n\n               term int_rate  installment grade sub_grade  ...  \\\n0         36 months   10.65%       162.87     B        B2  ...   \n1         60 months   15.27%        59.83     C        C4  ...   \n2         36 months   15.96%        84.33     C        C5  ...   \n3         36 months   13.49%       339.31     C        C1  ...   \n4         60 months   12.69%        67.79     B        B5  ...   \n...             ...      ...          ...   ...       ...  ...   \n2925488   60 months   23.99%       690.30     E        E2  ...   \n2925489   36 months    7.99%       313.32     A        A5  ...   \n2925490   36 months   16.99%       358.26     D        D1  ...   \n2925491   36 months   11.44%       197.69     B        B4  ...   \n2925492   60 months   25.49%       889.18     E        E4  ...   \n\n        payment_plan_start_date hardship_length hardship_dpd  \\\n0                           NaN             NaN          NaN   \n1                           NaN             NaN          NaN   \n2                           NaN             NaN          NaN   \n3                           NaN             NaN          NaN   \n4                           NaN             NaN          NaN   \n...                         ...             ...          ...   \n2925488                     NaN             NaN          NaN   \n2925489                     NaN             NaN          NaN   \n2925490                     NaN             NaN          NaN   \n2925491                     NaN             NaN          NaN   \n2925492                     NaN             NaN          NaN   \n\n         hardship_loan_status orig_projected_additional_accrued_interest  \\\n0                         NaN                                        NaN   \n1                         NaN                                        NaN   \n2                         NaN                                        NaN   \n3                         NaN                                        NaN   \n4                         NaN                                        NaN   \n...                       ...                                        ...   \n2925488                   NaN                                        NaN   \n2925489                   NaN                                        NaN   \n2925490                   NaN                                        NaN   \n2925491                   NaN                                        NaN   \n2925492                   NaN                                        NaN   \n\n        hardship_payoff_balance_amount hardship_last_payment_amount  \\\n0                                  NaN                          NaN   \n1                                  NaN                          NaN   \n2                                  NaN                          NaN   \n3                                  NaN                          NaN   \n4                                  NaN                          NaN   \n...                                ...                          ...   \n2925488                            NaN                          NaN   \n2925489                            NaN                          NaN   \n2925490                            NaN                          NaN   \n2925491                            NaN                          NaN   \n2925492                            NaN                          NaN   \n\n        debt_settlement_flag  year   fico  \n0                          N  2011  737.0  \n1                          N  2011  742.0  \n2                          N  2011  737.0  \n3                          N  2011  692.0  \n4                          N  2011  697.0  \n...                      ...   ...    ...  \n2925488                    N  2017  672.0  \n2925489                    N  2017  727.0  \n2925490                    N  2017  707.0  \n2925491                    N  2017  672.0  \n2925492                    N  2017  697.0  \n\n[1859655 rows x 144 columns]",
      "text/html": "<div>\n<style scoped>\n    .dataframe tbody tr th:only-of-type {\n        vertical-align: middle;\n    }\n\n    .dataframe tbody tr th {\n        vertical-align: top;\n    }\n\n    .dataframe thead th {\n        text-align: right;\n    }\n</style>\n<table border=\"1\" class=\"dataframe\">\n  <thead>\n    <tr style=\"text-align: right;\">\n      <th></th>\n      <th>Unnamed: 0</th>\n      <th>id</th>\n      <th>loan_amnt</th>\n      <th>funded_amnt</th>\n      <th>funded_amnt_inv</th>\n      <th>term</th>\n      <th>int_rate</th>\n      <th>installment</th>\n      <th>grade</th>\n      <th>sub_grade</th>\n      <th>...</th>\n      <th>payment_plan_start_date</th>\n      <th>hardship_length</th>\n      <th>hardship_dpd</th>\n      <th>hardship_loan_status</th>\n      <th>orig_projected_additional_accrued_interest</th>\n      <th>hardship_payoff_balance_amount</th>\n      <th>hardship_last_payment_amount</th>\n      <th>debt_settlement_flag</th>\n      <th>year</th>\n      <th>fico</th>\n    </tr>\n  </thead>\n  <tbody>\n    <tr>\n      <th>0</th>\n      <td>0</td>\n      <td>1077501</td>\n      <td>5000.0</td>\n      <td>5000.0</td>\n      <td>4975.0</td>\n      <td>36 months</td>\n      <td>10.65%</td>\n      <td>162.87</td>\n      <td>B</td>\n      <td>B2</td>\n      <td>...</td>\n      <td>NaN</td>\n      <td>NaN</td>\n      <td>NaN</td>\n      <td>NaN</td>\n      <td>NaN</td>\n      <td>NaN</td>\n      <td>NaN</td>\n      <td>N</td>\n      <td>2011</td>\n      <td>737.0</td>\n    </tr>\n    <tr>\n      <th>1</th>\n      <td>1</td>\n      <td>1077430</td>\n      <td>2500.0</td>\n      <td>2500.0</td>\n      <td>2500.0</td>\n      <td>60 months</td>\n      <td>15.27%</td>\n      <td>59.83</td>\n      <td>C</td>\n      <td>C4</td>\n      <td>...</td>\n      <td>NaN</td>\n      <td>NaN</td>\n      <td>NaN</td>\n      <td>NaN</td>\n      <td>NaN</td>\n      <td>NaN</td>\n      <td>NaN</td>\n      <td>N</td>\n      <td>2011</td>\n      <td>742.0</td>\n    </tr>\n    <tr>\n      <th>2</th>\n      <td>2</td>\n      <td>1077175</td>\n      <td>2400.0</td>\n      <td>2400.0</td>\n      <td>2400.0</td>\n      <td>36 months</td>\n      <td>15.96%</td>\n      <td>84.33</td>\n      <td>C</td>\n      <td>C5</td>\n      <td>...</td>\n      <td>NaN</td>\n      <td>NaN</td>\n      <td>NaN</td>\n      <td>NaN</td>\n      <td>NaN</td>\n      <td>NaN</td>\n      <td>NaN</td>\n      <td>N</td>\n      <td>2011</td>\n      <td>737.0</td>\n    </tr>\n    <tr>\n      <th>3</th>\n      <td>3</td>\n      <td>1076863</td>\n      <td>10000.0</td>\n      <td>10000.0</td>\n      <td>10000.0</td>\n      <td>36 months</td>\n      <td>13.49%</td>\n      <td>339.31</td>\n      <td>C</td>\n      <td>C1</td>\n      <td>...</td>\n      <td>NaN</td>\n      <td>NaN</td>\n      <td>NaN</td>\n      <td>NaN</td>\n      <td>NaN</td>\n      <td>NaN</td>\n      <td>NaN</td>\n      <td>N</td>\n      <td>2011</td>\n      <td>692.0</td>\n    </tr>\n    <tr>\n      <th>4</th>\n      <td>4</td>\n      <td>1075358</td>\n      <td>3000.0</td>\n      <td>3000.0</td>\n      <td>3000.0</td>\n      <td>60 months</td>\n      <td>12.69%</td>\n      <td>67.79</td>\n      <td>B</td>\n      <td>B5</td>\n      <td>...</td>\n      <td>NaN</td>\n      <td>NaN</td>\n      <td>NaN</td>\n      <td>NaN</td>\n      <td>NaN</td>\n      <td>NaN</td>\n      <td>NaN</td>\n      <td>N</td>\n      <td>2011</td>\n      <td>697.0</td>\n    </tr>\n    <tr>\n      <th>...</th>\n      <td>...</td>\n      <td>...</td>\n      <td>...</td>\n      <td>...</td>\n      <td>...</td>\n      <td>...</td>\n      <td>...</td>\n      <td>...</td>\n      <td>...</td>\n      <td>...</td>\n      <td>...</td>\n      <td>...</td>\n      <td>...</td>\n      <td>...</td>\n      <td>...</td>\n      <td>...</td>\n      <td>...</td>\n      <td>...</td>\n      <td>...</td>\n      <td>...</td>\n      <td>...</td>\n    </tr>\n    <tr>\n      <th>2925488</th>\n      <td>105446</td>\n      <td>102556443</td>\n      <td>24000.0</td>\n      <td>24000.0</td>\n      <td>24000.0</td>\n      <td>60 months</td>\n      <td>23.99%</td>\n      <td>690.30</td>\n      <td>E</td>\n      <td>E2</td>\n      <td>...</td>\n      <td>NaN</td>\n      <td>NaN</td>\n      <td>NaN</td>\n      <td>NaN</td>\n      <td>NaN</td>\n      <td>NaN</td>\n      <td>NaN</td>\n      <td>N</td>\n      <td>2017</td>\n      <td>672.0</td>\n    </tr>\n    <tr>\n      <th>2925489</th>\n      <td>105447</td>\n      <td>102653304</td>\n      <td>10000.0</td>\n      <td>10000.0</td>\n      <td>10000.0</td>\n      <td>36 months</td>\n      <td>7.99%</td>\n      <td>313.32</td>\n      <td>A</td>\n      <td>A5</td>\n      <td>...</td>\n      <td>NaN</td>\n      <td>NaN</td>\n      <td>NaN</td>\n      <td>NaN</td>\n      <td>NaN</td>\n      <td>NaN</td>\n      <td>NaN</td>\n      <td>N</td>\n      <td>2017</td>\n      <td>727.0</td>\n    </tr>\n    <tr>\n      <th>2925490</th>\n      <td>105448</td>\n      <td>102628603</td>\n      <td>10050.0</td>\n      <td>10050.0</td>\n      <td>10050.0</td>\n      <td>36 months</td>\n      <td>16.99%</td>\n      <td>358.26</td>\n      <td>D</td>\n      <td>D1</td>\n      <td>...</td>\n      <td>NaN</td>\n      <td>NaN</td>\n      <td>NaN</td>\n      <td>NaN</td>\n      <td>NaN</td>\n      <td>NaN</td>\n      <td>NaN</td>\n      <td>N</td>\n      <td>2017</td>\n      <td>707.0</td>\n    </tr>\n    <tr>\n      <th>2925491</th>\n      <td>105449</td>\n      <td>102196576</td>\n      <td>6000.0</td>\n      <td>6000.0</td>\n      <td>6000.0</td>\n      <td>36 months</td>\n      <td>11.44%</td>\n      <td>197.69</td>\n      <td>B</td>\n      <td>B4</td>\n      <td>...</td>\n      <td>NaN</td>\n      <td>NaN</td>\n      <td>NaN</td>\n      <td>NaN</td>\n      <td>NaN</td>\n      <td>NaN</td>\n      <td>NaN</td>\n      <td>N</td>\n      <td>2017</td>\n      <td>672.0</td>\n    </tr>\n    <tr>\n      <th>2925492</th>\n      <td>105450</td>\n      <td>99799684</td>\n      <td>30000.0</td>\n      <td>30000.0</td>\n      <td>30000.0</td>\n      <td>60 months</td>\n      <td>25.49%</td>\n      <td>889.18</td>\n      <td>E</td>\n      <td>E4</td>\n      <td>...</td>\n      <td>NaN</td>\n      <td>NaN</td>\n      <td>NaN</td>\n      <td>NaN</td>\n      <td>NaN</td>\n      <td>NaN</td>\n      <td>NaN</td>\n      <td>N</td>\n      <td>2017</td>\n      <td>697.0</td>\n    </tr>\n  </tbody>\n</table>\n<p>1859655 rows × 144 columns</p>\n</div>"
     },
     "execution_count": 60,
     "metadata": {},
     "output_type": "execute_result"
    }
   ],
   "source": [
    "dti_non_null"
   ],
   "metadata": {
    "collapsed": false
   }
  },
  {
   "cell_type": "code",
   "execution_count": 61,
   "outputs": [
    {
     "data": {
      "text/plain": "[Text(0.5, 1.0, 'Debt-to-Income ratio has many outliers - Very right-skewed.')]"
     },
     "execution_count": 61,
     "metadata": {},
     "output_type": "execute_result"
    },
    {
     "data": {
      "text/plain": "<Figure size 1500x800 with 1 Axes>",
      "image/png": "[encoded data removed]"
     },
     "metadata": {},
     "output_type": "display_data"
    }
   ],
   "source": [
    "plt.figure(figsize=(15, 8))\n",
    "ax = sns.histplot(x=\"dti\", data=dti_non_null)\n",
    "ax.set(title=\"Debt-to-Income ratio has many outliers - Very right-skewed.\")\n"
   ],
   "metadata": {
    "collapsed": false
   }
  },
  {
   "cell_type": "code",
   "execution_count": null,
   "outputs": [],
   "source": [
    "plt.figure(figsize=(15, 8))\n",
    "ax = sns.histplot(x=\"dti\", kde=True, data=dti_non_null[dti_non_null.dti <= 40])\n",
    "ax.set(title=\"Debt-to-Income ratio below 40 is somewhat normal\")"
   ],
   "metadata": {
    "collapsed": false,
    "pycharm": {
     "is_executing": true
    }
   }
  },
  {
   "cell_type": "code",
   "execution_count": null,
   "outputs": [],
   "source": [],
   "metadata": {
    "collapsed": false
   }
  }
 ],
 "metadata": {
  "kernelspec": {
   "display_name": "Python 3",
   "language": "python",
   "name": "python3"
  },
  "language_info": {
   "codemirror_mode": {
    "name": "ipython",
    "version": 2
   },
   "file_extension": ".py",
   "mimetype": "text/x-python",
   "name": "python",
   "nbconvert_exporter": "python",
   "pygments_lexer": "ipython2",
   "version": "2.7.6"
  }
 },
 "nbformat": 4,
 "nbformat_minor": 0
}
