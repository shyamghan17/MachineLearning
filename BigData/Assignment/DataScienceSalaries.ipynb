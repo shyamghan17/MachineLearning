{
 "cells": [
  {
   "cell_type": "markdown",
   "source": [
    "#### Importing all the necessary libraries"
   ],
   "metadata": {
    "collapsed": false
   }
  },
  {
   "cell_type": "code",
   "execution_count": 1,
   "outputs": [],
   "source": [
    "import pandas as pd\n",
    "import numpy as np"
   ],
   "metadata": {
    "collapsed": false
   }
  },
  {
   "cell_type": "markdown",
   "source": [
    "#### Reading dataset form the local storage"
   ],
   "metadata": {
    "collapsed": false
   }
  },
  {
   "cell_type": "code",
   "execution_count": 2,
   "outputs": [
    {
     "name": "stderr",
     "output_type": "stream",
     "text": [
      "/var/folders/sk/qnqfmc1n43xcb8gqr40z974c0000gn/T/ipykernel_30792/2655267862.py:1: DtypeWarning: Columns (1,48,58,117,127,128,129,132,133,134,137) have mixed types. Specify dtype option on import or set low_memory=False.\n",
      "  df = pd.read_csv('Loan_status_2007-2020Q3.gzip')\n"
     ]
    },
    {
     "data": {
      "text/plain": "   Unnamed: 0       id  loan_amnt  funded_amnt  funded_amnt_inv        term  \\\n0           0  1077501     5000.0       5000.0           4975.0   36 months   \n1           1  1077430     2500.0       2500.0           2500.0   60 months   \n2           2  1077175     2400.0       2400.0           2400.0   36 months   \n3           3  1076863    10000.0      10000.0          10000.0   36 months   \n4           4  1075358     3000.0       3000.0           3000.0   60 months   \n\n  int_rate  installment grade sub_grade  ... hardship_start_date  \\\n0   10.65%       162.87     B        B2  ...                 NaN   \n1   15.27%        59.83     C        C4  ...                 NaN   \n2   15.96%        84.33     C        C5  ...                 NaN   \n3   13.49%       339.31     C        C1  ...                 NaN   \n4   12.69%        67.79     B        B5  ...                 NaN   \n\n  hardship_end_date payment_plan_start_date  hardship_length hardship_dpd  \\\n0               NaN                     NaN              NaN          NaN   \n1               NaN                     NaN              NaN          NaN   \n2               NaN                     NaN              NaN          NaN   \n3               NaN                     NaN              NaN          NaN   \n4               NaN                     NaN              NaN          NaN   \n\n  hardship_loan_status orig_projected_additional_accrued_interest  \\\n0                  NaN                                        NaN   \n1                  NaN                                        NaN   \n2                  NaN                                        NaN   \n3                  NaN                                        NaN   \n4                  NaN                                        NaN   \n\n  hardship_payoff_balance_amount hardship_last_payment_amount  \\\n0                            NaN                          NaN   \n1                            NaN                          NaN   \n2                            NaN                          NaN   \n3                            NaN                          NaN   \n4                            NaN                          NaN   \n\n  debt_settlement_flag  \n0                    N  \n1                    N  \n2                    N  \n3                    N  \n4                    N  \n\n[5 rows x 142 columns]",
      "text/html": "<div>\n<style scoped>\n    .dataframe tbody tr th:only-of-type {\n        vertical-align: middle;\n    }\n\n    .dataframe tbody tr th {\n        vertical-align: top;\n    }\n\n    .dataframe thead th {\n        text-align: right;\n    }\n</style>\n<table border=\"1\" class=\"dataframe\">\n  <thead>\n    <tr style=\"text-align: right;\">\n      <th></th>\n      <th>Unnamed: 0</th>\n      <th>id</th>\n      <th>loan_amnt</th>\n      <th>funded_amnt</th>\n      <th>funded_amnt_inv</th>\n      <th>term</th>\n      <th>int_rate</th>\n      <th>installment</th>\n      <th>grade</th>\n      <th>sub_grade</th>\n      <th>...</th>\n      <th>hardship_start_date</th>\n      <th>hardship_end_date</th>\n      <th>payment_plan_start_date</th>\n      <th>hardship_length</th>\n      <th>hardship_dpd</th>\n      <th>hardship_loan_status</th>\n      <th>orig_projected_additional_accrued_interest</th>\n      <th>hardship_payoff_balance_amount</th>\n      <th>hardship_last_payment_amount</th>\n      <th>debt_settlement_flag</th>\n    </tr>\n  </thead>\n  <tbody>\n    <tr>\n      <th>0</th>\n      <td>0</td>\n      <td>1077501</td>\n      <td>5000.0</td>\n      <td>5000.0</td>\n      <td>4975.0</td>\n      <td>36 months</td>\n      <td>10.65%</td>\n      <td>162.87</td>\n      <td>B</td>\n      <td>B2</td>\n      <td>...</td>\n      <td>NaN</td>\n      <td>NaN</td>\n      <td>NaN</td>\n      <td>NaN</td>\n      <td>NaN</td>\n      <td>NaN</td>\n      <td>NaN</td>\n      <td>NaN</td>\n      <td>NaN</td>\n      <td>N</td>\n    </tr>\n    <tr>\n      <th>1</th>\n      <td>1</td>\n      <td>1077430</td>\n      <td>2500.0</td>\n      <td>2500.0</td>\n      <td>2500.0</td>\n      <td>60 months</td>\n      <td>15.27%</td>\n      <td>59.83</td>\n      <td>C</td>\n      <td>C4</td>\n      <td>...</td>\n      <td>NaN</td>\n      <td>NaN</td>\n      <td>NaN</td>\n      <td>NaN</td>\n      <td>NaN</td>\n      <td>NaN</td>\n      <td>NaN</td>\n      <td>NaN</td>\n      <td>NaN</td>\n      <td>N</td>\n    </tr>\n    <tr>\n      <th>2</th>\n      <td>2</td>\n      <td>1077175</td>\n      <td>2400.0</td>\n      <td>2400.0</td>\n      <td>2400.0</td>\n      <td>36 months</td>\n      <td>15.96%</td>\n      <td>84.33</td>\n      <td>C</td>\n      <td>C5</td>\n      <td>...</td>\n      <td>NaN</td>\n      <td>NaN</td>\n      <td>NaN</td>\n      <td>NaN</td>\n      <td>NaN</td>\n      <td>NaN</td>\n      <td>NaN</td>\n      <td>NaN</td>\n      <td>NaN</td>\n      <td>N</td>\n    </tr>\n    <tr>\n      <th>3</th>\n      <td>3</td>\n      <td>1076863</td>\n      <td>10000.0</td>\n      <td>10000.0</td>\n      <td>10000.0</td>\n      <td>36 months</td>\n      <td>13.49%</td>\n      <td>339.31</td>\n      <td>C</td>\n      <td>C1</td>\n      <td>...</td>\n      <td>NaN</td>\n      <td>NaN</td>\n      <td>NaN</td>\n      <td>NaN</td>\n      <td>NaN</td>\n      <td>NaN</td>\n      <td>NaN</td>\n      <td>NaN</td>\n      <td>NaN</td>\n      <td>N</td>\n    </tr>\n    <tr>\n      <th>4</th>\n      <td>4</td>\n      <td>1075358</td>\n      <td>3000.0</td>\n      <td>3000.0</td>\n      <td>3000.0</td>\n      <td>60 months</td>\n      <td>12.69%</td>\n      <td>67.79</td>\n      <td>B</td>\n      <td>B5</td>\n      <td>...</td>\n      <td>NaN</td>\n      <td>NaN</td>\n      <td>NaN</td>\n      <td>NaN</td>\n      <td>NaN</td>\n      <td>NaN</td>\n      <td>NaN</td>\n      <td>NaN</td>\n      <td>NaN</td>\n      <td>N</td>\n    </tr>\n  </tbody>\n</table>\n<p>5 rows × 142 columns</p>\n</div>"
     },
     "execution_count": 2,
     "metadata": {},
     "output_type": "execute_result"
    }
   ],
   "source": [
    "df = pd.read_csv('Loan_status_2007-2020Q3.gzip')\n",
    "df.head()"
   ],
   "metadata": {
    "collapsed": false
   }
  },
  {
   "cell_type": "markdown",
   "source": [
    "#### basic information or stastistics"
   ],
   "metadata": {
    "collapsed": false
   }
  },
  {
   "cell_type": "code",
   "execution_count": 3,
   "outputs": [
    {
     "data": {
      "text/plain": "         Unnamed: 0     loan_amnt   funded_amnt  funded_amnt_inv  \\\ncount  2.925493e+06  2.925492e+06  2.925492e+06     2.925492e+06   \nmean   8.697419e+04  1.535878e+04  1.535470e+04     1.534005e+04   \nstd    8.048842e+04  9.478383e+03  9.477145e+03     9.480634e+03   \nmin    0.000000e+00  5.000000e+02  5.000000e+02     0.000000e+00   \n25%    3.284100e+04  8.000000e+03  8.000000e+03     8.000000e+03   \n50%    6.892500e+04  1.300000e+04  1.300000e+04     1.300000e+04   \n75%    1.072940e+05  2.000000e+04  2.000000e+04     2.000000e+04   \nmax    4.210940e+05  4.000000e+04  4.000000e+04     4.000000e+04   \n\n        installment    annual_inc           dti   delinq_2yrs  fico_range_low  \\\ncount  2.925492e+06  2.925488e+06  2.922384e+06  2.925463e+06    2.925492e+06   \nmean   4.523914e+02  7.993727e+04  1.929648e+01  2.897012e-01    7.005110e+02   \nstd    2.729478e+02  1.117476e+05  1.571977e+01  8.436819e-01    3.376565e+01   \nmin    4.930000e+00  0.000000e+00 -1.000000e+00  0.000000e+00    6.100000e+02   \n25%    2.535000e+02  4.700000e+04  1.208000e+01  0.000000e+00    6.750000e+02   \n50%    3.823000e+02  6.600000e+04  1.810000e+01  0.000000e+00    6.950000e+02   \n75%    6.039200e+02  9.500000e+04  2.488000e+01  0.000000e+00    7.200000e+02   \nmax    1.719830e+03  1.100000e+08  9.990000e+02  5.800000e+01    8.450000e+02   \n\n       fico_range_high  ...  sec_app_num_rev_accts  \\\ncount     2.925492e+06  ...          197824.000000   \nmean      7.045112e+02  ...              12.544398   \nstd       3.376653e+01  ...               8.206977   \nmin       6.140000e+02  ...               0.000000   \n25%       6.790000e+02  ...               7.000000   \n50%       6.990000e+02  ...              11.000000   \n75%       7.240000e+02  ...              17.000000   \nmax       8.500000e+02  ...             121.000000   \n\n       sec_app_chargeoff_within_12_mths  sec_app_collections_12_mths_ex_med  \\\ncount                     197824.000000                       197824.000000   \nmean                           0.038327                            0.067545   \nstd                            0.362390                            0.371836   \nmin                            0.000000                            0.000000   \n25%                            0.000000                            0.000000   \n50%                            0.000000                            0.000000   \n75%                            0.000000                            0.000000   \nmax                           21.000000                           23.000000   \n\n       deferral_term  hardship_amount  hardship_length   hardship_dpd  \\\ncount  143638.000000    182076.000000    143638.000000  143637.000000   \nmean        2.233427       119.887400         2.233427       2.323148   \nstd         0.565689       247.522976         0.565689       6.179453   \nmin         0.000000         0.000000         0.000000       0.000000   \n25%         2.000000         0.000000         2.000000       0.000000   \n50%         2.000000         0.000000         2.000000       0.000000   \n75%         2.000000       101.940000         2.000000       0.000000   \nmax         4.000000      2797.500000         4.000000      82.000000   \n\n       orig_projected_additional_accrued_interest  \\\ncount                               179240.000000   \nmean                                   369.367460   \nstd                                    468.696526   \nmin                                      0.000000   \n25%                                    104.280000   \n50%                                    249.474420   \n75%                                    482.532500   \nmax                                  11581.820000   \n\n       hardship_payoff_balance_amount  hardship_last_payment_amount  \ncount                   182076.000000                 182076.000000  \nmean                     11993.128927                    745.504875  \nstd                       9162.902724                   2095.316599  \nmin                          0.000000                      0.000000  \n25%                       4749.142500                    259.040000  \n50%                       9967.160000                    423.200000  \n75%                      17640.670000                    679.580000  \nmax                      42135.550000                  40270.980000  \n\n[8 rows x 107 columns]",
      "text/html": "<div>\n<style scoped>\n    .dataframe tbody tr th:only-of-type {\n        vertical-align: middle;\n    }\n\n    .dataframe tbody tr th {\n        vertical-align: top;\n    }\n\n    .dataframe thead th {\n        text-align: right;\n    }\n</style>\n<table border=\"1\" class=\"dataframe\">\n  <thead>\n    <tr style=\"text-align: right;\">\n      <th></th>\n      <th>Unnamed: 0</th>\n      <th>loan_amnt</th>\n      <th>funded_amnt</th>\n      <th>funded_amnt_inv</th>\n      <th>installment</th>\n      <th>annual_inc</th>\n      <th>dti</th>\n      <th>delinq_2yrs</th>\n      <th>fico_range_low</th>\n      <th>fico_range_high</th>\n      <th>...</th>\n      <th>sec_app_num_rev_accts</th>\n      <th>sec_app_chargeoff_within_12_mths</th>\n      <th>sec_app_collections_12_mths_ex_med</th>\n      <th>deferral_term</th>\n      <th>hardship_amount</th>\n      <th>hardship_length</th>\n      <th>hardship_dpd</th>\n      <th>orig_projected_additional_accrued_interest</th>\n      <th>hardship_payoff_balance_amount</th>\n      <th>hardship_last_payment_amount</th>\n    </tr>\n  </thead>\n  <tbody>\n    <tr>\n      <th>count</th>\n      <td>2.925493e+06</td>\n      <td>2.925492e+06</td>\n      <td>2.925492e+06</td>\n      <td>2.925492e+06</td>\n      <td>2.925492e+06</td>\n      <td>2.925488e+06</td>\n      <td>2.922384e+06</td>\n      <td>2.925463e+06</td>\n      <td>2.925492e+06</td>\n      <td>2.925492e+06</td>\n      <td>...</td>\n      <td>197824.000000</td>\n      <td>197824.000000</td>\n      <td>197824.000000</td>\n      <td>143638.000000</td>\n      <td>182076.000000</td>\n      <td>143638.000000</td>\n      <td>143637.000000</td>\n      <td>179240.000000</td>\n      <td>182076.000000</td>\n      <td>182076.000000</td>\n    </tr>\n    <tr>\n      <th>mean</th>\n      <td>8.697419e+04</td>\n      <td>1.535878e+04</td>\n      <td>1.535470e+04</td>\n      <td>1.534005e+04</td>\n      <td>4.523914e+02</td>\n      <td>7.993727e+04</td>\n      <td>1.929648e+01</td>\n      <td>2.897012e-01</td>\n      <td>7.005110e+02</td>\n      <td>7.045112e+02</td>\n      <td>...</td>\n      <td>12.544398</td>\n      <td>0.038327</td>\n      <td>0.067545</td>\n      <td>2.233427</td>\n      <td>119.887400</td>\n      <td>2.233427</td>\n      <td>2.323148</td>\n      <td>369.367460</td>\n      <td>11993.128927</td>\n      <td>745.504875</td>\n    </tr>\n    <tr>\n      <th>std</th>\n      <td>8.048842e+04</td>\n      <td>9.478383e+03</td>\n      <td>9.477145e+03</td>\n      <td>9.480634e+03</td>\n      <td>2.729478e+02</td>\n      <td>1.117476e+05</td>\n      <td>1.571977e+01</td>\n      <td>8.436819e-01</td>\n      <td>3.376565e+01</td>\n      <td>3.376653e+01</td>\n      <td>...</td>\n      <td>8.206977</td>\n      <td>0.362390</td>\n      <td>0.371836</td>\n      <td>0.565689</td>\n      <td>247.522976</td>\n      <td>0.565689</td>\n      <td>6.179453</td>\n      <td>468.696526</td>\n      <td>9162.902724</td>\n      <td>2095.316599</td>\n    </tr>\n    <tr>\n      <th>min</th>\n      <td>0.000000e+00</td>\n      <td>5.000000e+02</td>\n      <td>5.000000e+02</td>\n      <td>0.000000e+00</td>\n      <td>4.930000e+00</td>\n      <td>0.000000e+00</td>\n      <td>-1.000000e+00</td>\n      <td>0.000000e+00</td>\n      <td>6.100000e+02</td>\n      <td>6.140000e+02</td>\n      <td>...</td>\n      <td>0.000000</td>\n      <td>0.000000</td>\n      <td>0.000000</td>\n      <td>0.000000</td>\n      <td>0.000000</td>\n      <td>0.000000</td>\n      <td>0.000000</td>\n      <td>0.000000</td>\n      <td>0.000000</td>\n      <td>0.000000</td>\n    </tr>\n    <tr>\n      <th>25%</th>\n      <td>3.284100e+04</td>\n      <td>8.000000e+03</td>\n      <td>8.000000e+03</td>\n      <td>8.000000e+03</td>\n      <td>2.535000e+02</td>\n      <td>4.700000e+04</td>\n      <td>1.208000e+01</td>\n      <td>0.000000e+00</td>\n      <td>6.750000e+02</td>\n      <td>6.790000e+02</td>\n      <td>...</td>\n      <td>7.000000</td>\n      <td>0.000000</td>\n      <td>0.000000</td>\n      <td>2.000000</td>\n      <td>0.000000</td>\n      <td>2.000000</td>\n      <td>0.000000</td>\n      <td>104.280000</td>\n      <td>4749.142500</td>\n      <td>259.040000</td>\n    </tr>\n    <tr>\n      <th>50%</th>\n      <td>6.892500e+04</td>\n      <td>1.300000e+04</td>\n      <td>1.300000e+04</td>\n      <td>1.300000e+04</td>\n      <td>3.823000e+02</td>\n      <td>6.600000e+04</td>\n      <td>1.810000e+01</td>\n      <td>0.000000e+00</td>\n      <td>6.950000e+02</td>\n      <td>6.990000e+02</td>\n      <td>...</td>\n      <td>11.000000</td>\n      <td>0.000000</td>\n      <td>0.000000</td>\n      <td>2.000000</td>\n      <td>0.000000</td>\n      <td>2.000000</td>\n      <td>0.000000</td>\n      <td>249.474420</td>\n      <td>9967.160000</td>\n      <td>423.200000</td>\n    </tr>\n    <tr>\n      <th>75%</th>\n      <td>1.072940e+05</td>\n      <td>2.000000e+04</td>\n      <td>2.000000e+04</td>\n      <td>2.000000e+04</td>\n      <td>6.039200e+02</td>\n      <td>9.500000e+04</td>\n      <td>2.488000e+01</td>\n      <td>0.000000e+00</td>\n      <td>7.200000e+02</td>\n      <td>7.240000e+02</td>\n      <td>...</td>\n      <td>17.000000</td>\n      <td>0.000000</td>\n      <td>0.000000</td>\n      <td>2.000000</td>\n      <td>101.940000</td>\n      <td>2.000000</td>\n      <td>0.000000</td>\n      <td>482.532500</td>\n      <td>17640.670000</td>\n      <td>679.580000</td>\n    </tr>\n    <tr>\n      <th>max</th>\n      <td>4.210940e+05</td>\n      <td>4.000000e+04</td>\n      <td>4.000000e+04</td>\n      <td>4.000000e+04</td>\n      <td>1.719830e+03</td>\n      <td>1.100000e+08</td>\n      <td>9.990000e+02</td>\n      <td>5.800000e+01</td>\n      <td>8.450000e+02</td>\n      <td>8.500000e+02</td>\n      <td>...</td>\n      <td>121.000000</td>\n      <td>21.000000</td>\n      <td>23.000000</td>\n      <td>4.000000</td>\n      <td>2797.500000</td>\n      <td>4.000000</td>\n      <td>82.000000</td>\n      <td>11581.820000</td>\n      <td>42135.550000</td>\n      <td>40270.980000</td>\n    </tr>\n  </tbody>\n</table>\n<p>8 rows × 107 columns</p>\n</div>"
     },
     "execution_count": 3,
     "metadata": {},
     "output_type": "execute_result"
    }
   ],
   "source": [
    "df.describe()"
   ],
   "metadata": {
    "collapsed": false
   }
  },
  {
   "cell_type": "code",
   "execution_count": 5,
   "outputs": [
    {
     "data": {
      "text/plain": "Index(['Unnamed: 0', 'id', 'loan_amnt', 'funded_amnt', 'funded_amnt_inv',\n       'term', 'int_rate', 'installment', 'grade', 'sub_grade',\n       ...\n       'hardship_start_date', 'hardship_end_date', 'payment_plan_start_date',\n       'hardship_length', 'hardship_dpd', 'hardship_loan_status',\n       'orig_projected_additional_accrued_interest',\n       'hardship_payoff_balance_amount', 'hardship_last_payment_amount',\n       'debt_settlement_flag'],\n      dtype='object', length=142)"
     },
     "execution_count": 4,
     "metadata": {},
     "output_type": "execute_result"
    },
    {
     "ename": "TypeError",
     "evalue": "'Index' object is not callable",
     "output_type": "error",
     "traceback": [
      "\u001B[0;31m---------------------------------------------------------------------------\u001B[0m",
      "\u001B[0;31mTypeError\u001B[0m                                 Traceback (most recent call last)",
      "\u001B[0;32m/var/folders/sk/qnqfmc1n43xcb8gqr40z974c0000gn/T/ipykernel_30792/2189025856.py\u001B[0m in \u001B[0;36m<module>\u001B[0;34m\u001B[0m\n\u001B[0;32m----> 1\u001B[0;31m \u001B[0mdf\u001B[0m\u001B[0;34m.\u001B[0m\u001B[0mcolumns\u001B[0m\u001B[0;34m(\u001B[0m\u001B[0;34m)\u001B[0m\u001B[0;34m\u001B[0m\u001B[0;34m\u001B[0m\u001B[0m\n\u001B[0m",
      "\u001B[0;31mTypeError\u001B[0m: 'Index' object is not callable"
     ]
    }
   ],
   "source": [
    "df.columns()"
   ],
   "metadata": {
    "collapsed": false
   }
  },
  {
   "cell_type": "code",
   "execution_count": null,
   "outputs": [],
   "source": [],
   "metadata": {
    "collapsed": false
   }
  }
 ],
 "metadata": {
  "kernelspec": {
   "display_name": "Python 3",
   "language": "python",
   "name": "python3"
  },
  "language_info": {
   "codemirror_mode": {
    "name": "ipython",
    "version": 2
   },
   "file_extension": ".py",
   "mimetype": "text/x-python",
   "name": "python",
   "nbconvert_exporter": "python",
   "pygments_lexer": "ipython2",
   "version": "2.7.6"
  }
 },
 "nbformat": 4,
 "nbformat_minor": 0
}
