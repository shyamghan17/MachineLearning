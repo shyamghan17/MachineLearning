{
 "cells": [
  {
   "cell_type": "markdown",
   "source": [
    "import pandas as pd"
   ],
   "metadata": {
    "collapsed": false
   }
  },
  {
   "cell_type": "code",
   "execution_count": 48,
   "outputs": [],
   "source": [
    "import pandas as pd\n",
    "import numpy as np\n",
    "import seaborn as sns\n",
    "import datetime as dt\n",
    "import matplotlib.pyplot as plt\n"
   ],
   "metadata": {
    "collapsed": false
   }
  },
  {
   "cell_type": "code",
   "execution_count": 49,
   "outputs": [
    {
     "name": "stdout",
     "output_type": "stream",
     "text": [
      "(76534, 16)\n"
     ]
    },
    {
     "data": {
      "text/plain": "      id                                               name  host_id  \\\n0  13913                Holiday London DB Room Let-on going    54730   \n1  15400                Bright Chelsea  Apartment. Chelsea!    60302   \n2  17402              Superb 3-Bed/2 Bath & Wifi: Trendy W1    67564   \n3  17506  Boutique Chelsea/Fulham Double bed 5-star ensuite    67915   \n4  25123                  Clean big Room in London (Room 1)   103583   \n\n   host_name  neighbourhood_group           neighbourhood  latitude  \\\n0      Alina                  NaN               Islington  51.56802   \n1   Philippa                  NaN  Kensington and Chelsea  51.48796   \n2        Liz                  NaN             Westminster  51.52195   \n3  Charlotte                  NaN  Hammersmith and Fulham  51.47935   \n4      Grace                  NaN                  Barnet  51.57224   \n\n   longitude        room_type  price  minimum_nights  number_of_reviews  \\\n0   -0.11121     Private room     40               1                 21   \n1   -0.16898  Entire home/apt     75              10                 89   \n2   -0.14094  Entire home/apt    307               4                 42   \n3   -0.19743     Private room    150               3                  0   \n4   -0.20906     Private room     29              10                129   \n\n  last_review  reviews_per_month  calculated_host_listings_count  \\\n0  22/02/2020               0.16                               2   \n1  16/03/2020               0.66                               1   \n2  02/11/2019               0.35                              15   \n3         NaN                NaN                               2   \n4  15/03/2020               0.98                               3   \n\n   availability_365  \n0               365  \n1               189  \n2               270  \n3               364  \n4                43  ",
      "text/html": "<div>\n<style scoped>\n    .dataframe tbody tr th:only-of-type {\n        vertical-align: middle;\n    }\n\n    .dataframe tbody tr th {\n        vertical-align: top;\n    }\n\n    .dataframe thead th {\n        text-align: right;\n    }\n</style>\n<table border=\"1\" class=\"dataframe\">\n  <thead>\n    <tr style=\"text-align: right;\">\n      <th></th>\n      <th>id</th>\n      <th>name</th>\n      <th>host_id</th>\n      <th>host_name</th>\n      <th>neighbourhood_group</th>\n      <th>neighbourhood</th>\n      <th>latitude</th>\n      <th>longitude</th>\n      <th>room_type</th>\n      <th>price</th>\n      <th>minimum_nights</th>\n      <th>number_of_reviews</th>\n      <th>last_review</th>\n      <th>reviews_per_month</th>\n      <th>calculated_host_listings_count</th>\n      <th>availability_365</th>\n    </tr>\n  </thead>\n  <tbody>\n    <tr>\n      <th>0</th>\n      <td>13913</td>\n      <td>Holiday London DB Room Let-on going</td>\n      <td>54730</td>\n      <td>Alina</td>\n      <td>NaN</td>\n      <td>Islington</td>\n      <td>51.56802</td>\n      <td>-0.11121</td>\n      <td>Private room</td>\n      <td>40</td>\n      <td>1</td>\n      <td>21</td>\n      <td>22/02/2020</td>\n      <td>0.16</td>\n      <td>2</td>\n      <td>365</td>\n    </tr>\n    <tr>\n      <th>1</th>\n      <td>15400</td>\n      <td>Bright Chelsea  Apartment. Chelsea!</td>\n      <td>60302</td>\n      <td>Philippa</td>\n      <td>NaN</td>\n      <td>Kensington and Chelsea</td>\n      <td>51.48796</td>\n      <td>-0.16898</td>\n      <td>Entire home/apt</td>\n      <td>75</td>\n      <td>10</td>\n      <td>89</td>\n      <td>16/03/2020</td>\n      <td>0.66</td>\n      <td>1</td>\n      <td>189</td>\n    </tr>\n    <tr>\n      <th>2</th>\n      <td>17402</td>\n      <td>Superb 3-Bed/2 Bath &amp; Wifi: Trendy W1</td>\n      <td>67564</td>\n      <td>Liz</td>\n      <td>NaN</td>\n      <td>Westminster</td>\n      <td>51.52195</td>\n      <td>-0.14094</td>\n      <td>Entire home/apt</td>\n      <td>307</td>\n      <td>4</td>\n      <td>42</td>\n      <td>02/11/2019</td>\n      <td>0.35</td>\n      <td>15</td>\n      <td>270</td>\n    </tr>\n    <tr>\n      <th>3</th>\n      <td>17506</td>\n      <td>Boutique Chelsea/Fulham Double bed 5-star ensuite</td>\n      <td>67915</td>\n      <td>Charlotte</td>\n      <td>NaN</td>\n      <td>Hammersmith and Fulham</td>\n      <td>51.47935</td>\n      <td>-0.19743</td>\n      <td>Private room</td>\n      <td>150</td>\n      <td>3</td>\n      <td>0</td>\n      <td>NaN</td>\n      <td>NaN</td>\n      <td>2</td>\n      <td>364</td>\n    </tr>\n    <tr>\n      <th>4</th>\n      <td>25123</td>\n      <td>Clean big Room in London (Room 1)</td>\n      <td>103583</td>\n      <td>Grace</td>\n      <td>NaN</td>\n      <td>Barnet</td>\n      <td>51.57224</td>\n      <td>-0.20906</td>\n      <td>Private room</td>\n      <td>29</td>\n      <td>10</td>\n      <td>129</td>\n      <td>15/03/2020</td>\n      <td>0.98</td>\n      <td>3</td>\n      <td>43</td>\n    </tr>\n  </tbody>\n</table>\n</div>"
     },
     "execution_count": 49,
     "metadata": {},
     "output_type": "execute_result"
    }
   ],
   "source": [
    "df = pd.read_csv('listings.csv')\n",
    "print (df.shape)\n",
    "df.head ()"
   ],
   "metadata": {
    "collapsed": false
   }
  },
  {
   "cell_type": "code",
   "execution_count": 50,
   "outputs": [
    {
     "name": "stdout",
     "output_type": "stream",
     "text": [
      "1 id\n",
      "2 name\n",
      "3 host_id\n",
      "4 host_name\n",
      "5 neighbourhood_group\n",
      "6 neighbourhood\n",
      "7 latitude\n",
      "8 longitude\n",
      "9 room_type\n",
      "10 price\n",
      "11 minimum_nights\n",
      "12 number_of_reviews\n",
      "13 last_review\n",
      "14 reviews_per_month\n",
      "15 calculated_host_listings_count\n",
      "16 availability_365\n"
     ]
    }
   ],
   "source": [
    "#viewing every columns properly\n",
    "count = 1\n",
    "for i in df. columns:\n",
    "    print (count, i)\n",
    "    count += 1"
   ],
   "metadata": {
    "collapsed": false
   }
  },
  {
   "cell_type": "code",
   "execution_count": 51,
   "outputs": [
    {
     "data": {
      "text/plain": "             id           neighbourhood  \\\n0         13913               Islington   \n1         15400  Kensington and Chelsea   \n2         17402             Westminster   \n3         17506  Hammersmith and Fulham   \n4         25123                  Barnet   \n...         ...                     ...   \n76529  48101619             Westminster   \n76530  48102439                 Lambeth   \n76531  48102612              Wandsworth   \n76532  48102679                  Camden   \n76533  48102989              Wandsworth   \n\n                                                    name        room_type  \\\n0                    Holiday London DB Room Let-on going     Private room   \n1                    Bright Chelsea  Apartment. Chelsea!  Entire home/apt   \n2                  Superb 3-Bed/2 Bath & Wifi: Trendy W1  Entire home/apt   \n3      Boutique Chelsea/Fulham Double bed 5-star ensuite     Private room   \n4                      Clean big Room in London (Room 1)     Private room   \n...                                                  ...              ...   \n76529                      One Bedroom Apartment Mayfair  Entire home/apt   \n76530              Amazing Clapham Common 4bedroom house  Entire home/apt   \n76531                   Luxury Manhattan 2 Bed Battersea  Entire home/apt   \n76532  GuestReady - Lux Central 2BR Garden Flat in Fi...  Entire home/apt   \n76533                   Luxury Two bed by the US Embassy  Entire home/apt   \n\n       price  \n0         40  \n1         75  \n2        307  \n3        150  \n4         29  \n...      ...  \n76529    105  \n76530     90  \n76531    139  \n76532    177  \n76533    140  \n\n[76534 rows x 5 columns]",
      "text/html": "<div>\n<style scoped>\n    .dataframe tbody tr th:only-of-type {\n        vertical-align: middle;\n    }\n\n    .dataframe tbody tr th {\n        vertical-align: top;\n    }\n\n    .dataframe thead th {\n        text-align: right;\n    }\n</style>\n<table border=\"1\" class=\"dataframe\">\n  <thead>\n    <tr style=\"text-align: right;\">\n      <th></th>\n      <th>id</th>\n      <th>neighbourhood</th>\n      <th>name</th>\n      <th>room_type</th>\n      <th>price</th>\n    </tr>\n  </thead>\n  <tbody>\n    <tr>\n      <th>0</th>\n      <td>13913</td>\n      <td>Islington</td>\n      <td>Holiday London DB Room Let-on going</td>\n      <td>Private room</td>\n      <td>40</td>\n    </tr>\n    <tr>\n      <th>1</th>\n      <td>15400</td>\n      <td>Kensington and Chelsea</td>\n      <td>Bright Chelsea  Apartment. Chelsea!</td>\n      <td>Entire home/apt</td>\n      <td>75</td>\n    </tr>\n    <tr>\n      <th>2</th>\n      <td>17402</td>\n      <td>Westminster</td>\n      <td>Superb 3-Bed/2 Bath &amp; Wifi: Trendy W1</td>\n      <td>Entire home/apt</td>\n      <td>307</td>\n    </tr>\n    <tr>\n      <th>3</th>\n      <td>17506</td>\n      <td>Hammersmith and Fulham</td>\n      <td>Boutique Chelsea/Fulham Double bed 5-star ensuite</td>\n      <td>Private room</td>\n      <td>150</td>\n    </tr>\n    <tr>\n      <th>4</th>\n      <td>25123</td>\n      <td>Barnet</td>\n      <td>Clean big Room in London (Room 1)</td>\n      <td>Private room</td>\n      <td>29</td>\n    </tr>\n    <tr>\n      <th>...</th>\n      <td>...</td>\n      <td>...</td>\n      <td>...</td>\n      <td>...</td>\n      <td>...</td>\n    </tr>\n    <tr>\n      <th>76529</th>\n      <td>48101619</td>\n      <td>Westminster</td>\n      <td>One Bedroom Apartment Mayfair</td>\n      <td>Entire home/apt</td>\n      <td>105</td>\n    </tr>\n    <tr>\n      <th>76530</th>\n      <td>48102439</td>\n      <td>Lambeth</td>\n      <td>Amazing Clapham Common 4bedroom house</td>\n      <td>Entire home/apt</td>\n      <td>90</td>\n    </tr>\n    <tr>\n      <th>76531</th>\n      <td>48102612</td>\n      <td>Wandsworth</td>\n      <td>Luxury Manhattan 2 Bed Battersea</td>\n      <td>Entire home/apt</td>\n      <td>139</td>\n    </tr>\n    <tr>\n      <th>76532</th>\n      <td>48102679</td>\n      <td>Camden</td>\n      <td>GuestReady - Lux Central 2BR Garden Flat in Fi...</td>\n      <td>Entire home/apt</td>\n      <td>177</td>\n    </tr>\n    <tr>\n      <th>76533</th>\n      <td>48102989</td>\n      <td>Wandsworth</td>\n      <td>Luxury Two bed by the US Embassy</td>\n      <td>Entire home/apt</td>\n      <td>140</td>\n    </tr>\n  </tbody>\n</table>\n<p>76534 rows × 5 columns</p>\n</div>"
     },
     "execution_count": 51,
     "metadata": {},
     "output_type": "execute_result"
    }
   ],
   "source": [
    "#1. Take only the columns that are necessary for analysis\n",
    "# No of reviews datas was found misleading so it has not been considered here\n",
    "df = df [['id', 'neighbourhood', 'name', 'room_type', 'price']]\n",
    "#df = f[['id', 'description', 'zipcode']]\n",
    "df\n"
   ],
   "metadata": {
    "collapsed": false
   }
  },
  {
   "cell_type": "code",
   "execution_count": 52,
   "outputs": [
    {
     "name": "stdout",
     "output_type": "stream",
     "text": [
      "Number of rows in each column affected by existence of non-existing values:\n"
     ]
    },
    {
     "data": {
      "text/plain": "id                0\nneighbourhood     0\nname             24\nroom_type         0\nprice             0\ndtype: int64"
     },
     "execution_count": 52,
     "metadata": {},
     "output_type": "execute_result"
    }
   ],
   "source": [
    "#Check for any NaN values that affect the dataset\n",
    "print('Number of rows in each column affected by existence of non-existing values:')\n",
    "df.isnull().sum()"
   ],
   "metadata": {
    "collapsed": false
   }
  },
  {
   "cell_type": "code",
   "execution_count": 53,
   "outputs": [
    {
     "data": {
      "text/plain": "id               0\nneighbourhood    0\nname             0\nroom_type        0\nprice            0\ndtype: int64"
     },
     "execution_count": 53,
     "metadata": {},
     "output_type": "execute_result"
    }
   ],
   "source": [
    "df = df.dropna()\n",
    "df.isnull().sum()"
   ],
   "metadata": {
    "collapsed": false
   }
  },
  {
   "cell_type": "code",
   "execution_count": 56,
   "outputs": [
    {
     "data": {
      "text/plain": "   listing_id      id        date  reviewer_id reviewer_name  \\\n0       13913   80770  2010-08-18       177109       Michael   \n1       13913  367568  2011-07-11     19835707       Mathias   \n2       13913  529579  2011-09-13      1110304       Kristin   \n3       13913  595481  2011-10-03      1216358       Camilla   \n4       13913  612947  2011-10-09       490840         Jorik   \n\n                                            comments  \n0  My girlfriend and I hadn't known Alina before ...  \n1  Alina was a really good host. The flat is clea...  \n2  Alina is an amazing host. She made me feel rig...  \n3  Alina's place is so nice, the room is big and ...  \n4  Nice location in Islington area, good for shor...  ",
      "text/html": "<div>\n<style scoped>\n    .dataframe tbody tr th:only-of-type {\n        vertical-align: middle;\n    }\n\n    .dataframe tbody tr th {\n        vertical-align: top;\n    }\n\n    .dataframe thead th {\n        text-align: right;\n    }\n</style>\n<table border=\"1\" class=\"dataframe\">\n  <thead>\n    <tr style=\"text-align: right;\">\n      <th></th>\n      <th>listing_id</th>\n      <th>id</th>\n      <th>date</th>\n      <th>reviewer_id</th>\n      <th>reviewer_name</th>\n      <th>comments</th>\n    </tr>\n  </thead>\n  <tbody>\n    <tr>\n      <th>0</th>\n      <td>13913</td>\n      <td>80770</td>\n      <td>2010-08-18</td>\n      <td>177109</td>\n      <td>Michael</td>\n      <td>My girlfriend and I hadn't known Alina before ...</td>\n    </tr>\n    <tr>\n      <th>1</th>\n      <td>13913</td>\n      <td>367568</td>\n      <td>2011-07-11</td>\n      <td>19835707</td>\n      <td>Mathias</td>\n      <td>Alina was a really good host. The flat is clea...</td>\n    </tr>\n    <tr>\n      <th>2</th>\n      <td>13913</td>\n      <td>529579</td>\n      <td>2011-09-13</td>\n      <td>1110304</td>\n      <td>Kristin</td>\n      <td>Alina is an amazing host. She made me feel rig...</td>\n    </tr>\n    <tr>\n      <th>3</th>\n      <td>13913</td>\n      <td>595481</td>\n      <td>2011-10-03</td>\n      <td>1216358</td>\n      <td>Camilla</td>\n      <td>Alina's place is so nice, the room is big and ...</td>\n    </tr>\n    <tr>\n      <th>4</th>\n      <td>13913</td>\n      <td>612947</td>\n      <td>2011-10-09</td>\n      <td>490840</td>\n      <td>Jorik</td>\n      <td>Nice location in Islington area, good for shor...</td>\n    </tr>\n  </tbody>\n</table>\n</div>"
     },
     "execution_count": 56,
     "metadata": {},
     "output_type": "execute_result"
    }
   ],
   "source": [
    "review = pd.read_csv('reviews.csv')\n",
    "review.head()"
   ],
   "metadata": {
    "collapsed": false
   }
  },
  {
   "cell_type": "code",
   "execution_count": 57,
   "outputs": [],
   "source": [
    "review = review[['listing_id', 'comments']]"
   ],
   "metadata": {
    "collapsed": false
   }
  },
  {
   "cell_type": "code",
   "execution_count": 62,
   "outputs": [
    {
     "name": "stdout",
     "output_type": "stream",
     "text": [
      "(512, 2)\n"
     ]
    }
   ],
   "source": [
    "#1. Remove rows that do not contain comments.\n",
    "reviewNAcomments = review[(review.comments.isnull())]\n",
    "print(reviewNAcomments.shape)\n",
    "review=review[~(review.comments.isnull())]"
   ],
   "metadata": {
    "collapsed": false
   }
  },
  {
   "cell_type": "code",
   "execution_count": 63,
   "outputs": [
    {
     "name": "stdout",
     "output_type": "stream",
     "text": [
      "<pandas.core.groupby.generic.DataFrameGroupBy object at 0x7fd9bcba3790>\n"
     ]
    }
   ],
   "source": [
    "#group the dataframe by Listing id and then bring all the comments to a particular listing_id to group accord\n",
    "review_group = review.groupby('listing_id')\n",
    "print(review_group)\n",
    "review = review_group.apply(lambda x: list(x[ 'comments']))"
   ],
   "metadata": {
    "collapsed": false
   }
  },
  {
   "cell_type": "code",
   "execution_count": 64,
   "outputs": [
    {
     "data": {
      "text/plain": "                                                     comments\nlisting_id                                                   \n13913       [My girlfriend and I hadn't known Alina before...\n15400       [We loved staying at Phillipa's place in Chels...\n17402       [Amazing location - great apartment, plenty of...\n25123       [10,000 times better and cheaper than staying ...\n33332       [The room is spacious and cozy, and the house ...\n...                                                       ...\n47948833                              [Fantastic hospitality]\n47957224    [Salahudin was a great host! He was extremely ...\n47975947    [Great place, very pleasent, great host, Cosy ...\n47979693    [Easy check in, great place and location, the ...\n48039462    [Elizabeth is the ultimate host. She made ever...\n\n[54334 rows x 1 columns]",
      "text/html": "<div>\n<style scoped>\n    .dataframe tbody tr th:only-of-type {\n        vertical-align: middle;\n    }\n\n    .dataframe tbody tr th {\n        vertical-align: top;\n    }\n\n    .dataframe thead th {\n        text-align: right;\n    }\n</style>\n<table border=\"1\" class=\"dataframe\">\n  <thead>\n    <tr style=\"text-align: right;\">\n      <th></th>\n      <th>comments</th>\n    </tr>\n    <tr>\n      <th>listing_id</th>\n      <th></th>\n    </tr>\n  </thead>\n  <tbody>\n    <tr>\n      <th>13913</th>\n      <td>[My girlfriend and I hadn't known Alina before...</td>\n    </tr>\n    <tr>\n      <th>15400</th>\n      <td>[We loved staying at Phillipa's place in Chels...</td>\n    </tr>\n    <tr>\n      <th>17402</th>\n      <td>[Amazing location - great apartment, plenty of...</td>\n    </tr>\n    <tr>\n      <th>25123</th>\n      <td>[10,000 times better and cheaper than staying ...</td>\n    </tr>\n    <tr>\n      <th>33332</th>\n      <td>[The room is spacious and cozy, and the house ...</td>\n    </tr>\n    <tr>\n      <th>...</th>\n      <td>...</td>\n    </tr>\n    <tr>\n      <th>47948833</th>\n      <td>[Fantastic hospitality]</td>\n    </tr>\n    <tr>\n      <th>47957224</th>\n      <td>[Salahudin was a great host! He was extremely ...</td>\n    </tr>\n    <tr>\n      <th>47975947</th>\n      <td>[Great place, very pleasent, great host, Cosy ...</td>\n    </tr>\n    <tr>\n      <th>47979693</th>\n      <td>[Easy check in, great place and location, the ...</td>\n    </tr>\n    <tr>\n      <th>48039462</th>\n      <td>[Elizabeth is the ultimate host. She made ever...</td>\n    </tr>\n  </tbody>\n</table>\n<p>54334 rows × 1 columns</p>\n</div>"
     },
     "execution_count": 64,
     "metadata": {},
     "output_type": "execute_result"
    }
   ],
   "source": [
    "#Convert from series to dataframe\n",
    "review = review.to_frame ('comments')\n",
    "review"
   ],
   "metadata": {
    "collapsed": false
   }
  },
  {
   "cell_type": "code",
   "execution_count": 65,
   "outputs": [
    {
     "data": {
      "text/plain": "                                                comments        id  \\\n0      [My girlfriend and I hadn't known Alina before...     13913   \n1      [We loved staying at Phillipa's place in Chels...     15400   \n2      [Amazing location - great apartment, plenty of...     17402   \n3      [10,000 times better and cheaper than staying ...     25123   \n4      [The room is spacious and cozy, and the house ...     33332   \n...                                                  ...       ...   \n54329                            [Fantastic hospitality]  47948833   \n54330  [Salahudin was a great host! He was extremely ...  47957224   \n54331  [Great place, very pleasent, great host, Cosy ...  47975947   \n54332  [Easy check in, great place and location, the ...  47979693   \n54333  [Elizabeth is the ultimate host. She made ever...  48039462   \n\n                neighbourhood  \\\n0                   Islington   \n1      Kensington and Chelsea   \n2                 Westminster   \n3                      Barnet   \n4                    Hounslow   \n...                       ...   \n54329                  Newham   \n54330             Westminster   \n54331                 Lambeth   \n54332           Tower Hamlets   \n54333                 Hackney   \n\n                                                    name        room_type  \\\n0                    Holiday London DB Room Let-on going     Private room   \n1                    Bright Chelsea  Apartment. Chelsea!  Entire home/apt   \n2                  Superb 3-Bed/2 Bath & Wifi: Trendy W1  Entire home/apt   \n3                      Clean big Room in London (Room 1)     Private room   \n4         Beautiful Ensuite Richmond-upon-Thames borough     Private room   \n...                                                  ...              ...   \n54329                                  Cozy & quiet room     Private room   \n54330                         Titiwangsa One  Paddington     Private room   \n54331              2 Bedroom Flat in Clapham / Stockwell  Entire home/apt   \n54332            Luxury waterside apartment Canary Wharf  Entire home/apt   \n54333  One Bedroom Flat on Clissold Park, Stoke Newin...  Entire home/apt   \n\n       price  \n0       40.0  \n1       75.0  \n2      307.0  \n3       29.0  \n4       65.0  \n...      ...  \n54329   35.0  \n54330   85.0  \n54331   75.0  \n54332  140.0  \n54333  110.0  \n\n[54334 rows x 6 columns]",
      "text/html": "<div>\n<style scoped>\n    .dataframe tbody tr th:only-of-type {\n        vertical-align: middle;\n    }\n\n    .dataframe tbody tr th {\n        vertical-align: top;\n    }\n\n    .dataframe thead th {\n        text-align: right;\n    }\n</style>\n<table border=\"1\" class=\"dataframe\">\n  <thead>\n    <tr style=\"text-align: right;\">\n      <th></th>\n      <th>comments</th>\n      <th>id</th>\n      <th>neighbourhood</th>\n      <th>name</th>\n      <th>room_type</th>\n      <th>price</th>\n    </tr>\n  </thead>\n  <tbody>\n    <tr>\n      <th>0</th>\n      <td>[My girlfriend and I hadn't known Alina before...</td>\n      <td>13913</td>\n      <td>Islington</td>\n      <td>Holiday London DB Room Let-on going</td>\n      <td>Private room</td>\n      <td>40.0</td>\n    </tr>\n    <tr>\n      <th>1</th>\n      <td>[We loved staying at Phillipa's place in Chels...</td>\n      <td>15400</td>\n      <td>Kensington and Chelsea</td>\n      <td>Bright Chelsea  Apartment. Chelsea!</td>\n      <td>Entire home/apt</td>\n      <td>75.0</td>\n    </tr>\n    <tr>\n      <th>2</th>\n      <td>[Amazing location - great apartment, plenty of...</td>\n      <td>17402</td>\n      <td>Westminster</td>\n      <td>Superb 3-Bed/2 Bath &amp; Wifi: Trendy W1</td>\n      <td>Entire home/apt</td>\n      <td>307.0</td>\n    </tr>\n    <tr>\n      <th>3</th>\n      <td>[10,000 times better and cheaper than staying ...</td>\n      <td>25123</td>\n      <td>Barnet</td>\n      <td>Clean big Room in London (Room 1)</td>\n      <td>Private room</td>\n      <td>29.0</td>\n    </tr>\n    <tr>\n      <th>4</th>\n      <td>[The room is spacious and cozy, and the house ...</td>\n      <td>33332</td>\n      <td>Hounslow</td>\n      <td>Beautiful Ensuite Richmond-upon-Thames borough</td>\n      <td>Private room</td>\n      <td>65.0</td>\n    </tr>\n    <tr>\n      <th>...</th>\n      <td>...</td>\n      <td>...</td>\n      <td>...</td>\n      <td>...</td>\n      <td>...</td>\n      <td>...</td>\n    </tr>\n    <tr>\n      <th>54329</th>\n      <td>[Fantastic hospitality]</td>\n      <td>47948833</td>\n      <td>Newham</td>\n      <td>Cozy &amp; quiet room</td>\n      <td>Private room</td>\n      <td>35.0</td>\n    </tr>\n    <tr>\n      <th>54330</th>\n      <td>[Salahudin was a great host! He was extremely ...</td>\n      <td>47957224</td>\n      <td>Westminster</td>\n      <td>Titiwangsa One  Paddington</td>\n      <td>Private room</td>\n      <td>85.0</td>\n    </tr>\n    <tr>\n      <th>54331</th>\n      <td>[Great place, very pleasent, great host, Cosy ...</td>\n      <td>47975947</td>\n      <td>Lambeth</td>\n      <td>2 Bedroom Flat in Clapham / Stockwell</td>\n      <td>Entire home/apt</td>\n      <td>75.0</td>\n    </tr>\n    <tr>\n      <th>54332</th>\n      <td>[Easy check in, great place and location, the ...</td>\n      <td>47979693</td>\n      <td>Tower Hamlets</td>\n      <td>Luxury waterside apartment Canary Wharf</td>\n      <td>Entire home/apt</td>\n      <td>140.0</td>\n    </tr>\n    <tr>\n      <th>54333</th>\n      <td>[Elizabeth is the ultimate host. She made ever...</td>\n      <td>48039462</td>\n      <td>Hackney</td>\n      <td>One Bedroom Flat on Clissold Park, Stoke Newin...</td>\n      <td>Entire home/apt</td>\n      <td>110.0</td>\n    </tr>\n  </tbody>\n</table>\n<p>54334 rows × 6 columns</p>\n</div>"
     },
     "execution_count": 65,
     "metadata": {},
     "output_type": "execute_result"
    }
   ],
   "source": [
    "# merging full review + add only specific columns from df\n",
    "cleaned_df = pd.merge(left=review, right=df, how='left', left_on=review.index, right_on='id')\n",
    "cleaned_df"
   ],
   "metadata": {
    "collapsed": false
   }
  },
  {
   "cell_type": "code",
   "execution_count": null,
   "outputs": [],
   "source": [
    "#cleaned df. to csv('processed airbnb.csv')"
   ],
   "metadata": {
    "collapsed": false
   }
  },
  {
   "cell_type": "code",
   "execution_count": 72,
   "outputs": [],
   "source": [
    "#loading the dataset of positive text and Negative text file:\n",
    "P_file = open (\"positive.txt\",'r')\n",
    "positive_list = []\n",
    "for line in P_file:\n",
    "    stripped_line = line.strip()\n",
    "    positive_list.append(stripped_line)\n",
    "P_file. close ()\n",
    "#Loading the dataset for negative text file\n",
    "n_file = open(\"negative.txt\", \"r\")\n",
    "negative_list = []\n",
    "for line in n_file:\n",
    "    stripped_line = line.strip()\n",
    "    negative_list.append(stripped_line)\n",
    "n_file. close()\n",
    "def positive_negative_checker(cleanW):\n",
    "    print (cleanW)\n",
    "#quit ()\n",
    "# comparing whether the comment is negative or neutral or positive\n",
    "    positive_count = 0;\n",
    "    negative_count = 0;\n",
    "    for c in cleanW:\n",
    "        if c in positive_list:\n",
    "            positive_count = positive_count + 1\n",
    "        elif c in negative_list:\n",
    "            negative_count = negative_count + 1\n",
    "# print(\"Positive Count is: % In\" %( positive_count))\n",
    "# print \"Negative Count is: %d In\" %( negative_count))\n",
    "#quit ()\n",
    "    if negative_count > positive_count:\n",
    "        return-1\n",
    "    elif positive_count > negative_count:\n",
    "        return 1\n",
    "    else:\n",
    "        return 0"
   ],
   "metadata": {
    "collapsed": false
   }
  },
  {
   "cell_type": "code",
   "execution_count": 73,
   "outputs": [],
   "source": [
    "import nltk\n",
    "#stopwords = set(STOPWORDS) # STOPWORDS is a list with english common words that you should not count in the\n",
    "# wordcloud, Like prepositions and conjuctions\n",
    "# nltk.download('stopwords\")\n",
    "# nltk. download ('punkt\")\n",
    "# from nltk.corpus import stopwords\n",
    "# stopWords = set(stopwords.words('english'))\n",
    "#stopwords = set (STOPWORDS) # STOPWORDS is a List with english common words that you should not count in the\n",
    "# wordcloud, Like prepositions and conjuctions"
   ],
   "metadata": {
    "collapsed": false
   }
  },
  {
   "cell_type": "code",
   "execution_count": null,
   "outputs": [],
   "source": [
    "#We are defining the function getRanks that receive only one parameter: the class to analyse.\n",
    "#import word tokenize import collections,string from nltk import word tokenize def comment_analyser (sentence_list):\n",
    "positive_comment_count = o\n",
    "neutral_comment_count = 0\n",
    "negative_comment_count = 0\n",
    "for i in range(len (sentence_list)):\n",
    "    words = word_tokenize(sentence_list[i]) #Tokenise all values stored in revtextC\n",
    "words= w.lower() for w in words] #Change to Lower\n",
    "words = word for word in words if word.isalnum()] # Remove conjuctions/punctuation\n",
    "#words = [ele for ele in words if ele not in stopWords] #Remove stopwords\n",
    "cleanW = [ele for ele in words if ele not in stopwords\n",
    "comment_value = positive_negative_checker (cleanW)\n",
    "if comment value == 1:\n",
    "    positive_comment_count += 1 elif comment value == 0:\n",
    "neutral_comment_count += 1 elif comment value == -1:\n",
    "negative comment count += 1\n",
    "analyzed_comment = [positive_comment_count, neutral_comment_count, negative_comment_count]\n",
    "print (analyzed comment)\n",
    "return analyzed_comment"
   ],
   "metadata": {
    "collapsed": false
   }
  },
  {
   "cell_type": "code",
   "execution_count": null,
   "outputs": [],
   "source": [
    "cleaned_df.insert (1, 'positive_comment', 0)\n",
    "cleaned_df.insert (2, 'neutral_comment', 0) cleaned_df. insert (2, 'negative_comment'\n",
    "                                                                , 0)"
   ],
   "metadata": {
    "collapsed": false
   }
  },
  {
   "cell_type": "code",
   "execution_count": null,
   "outputs": [],
   "source": [
    "cleaned df"
   ],
   "metadata": {
    "collapsed": false
   }
  },
  {
   "cell_type": "code",
   "execution_count": null,
   "outputs": [],
   "source": [
    "from wordcloud import Wordcloud, STOPWORDS\n",
    "stopwords = set(STOPWORDS)\n",
    "count = 0\n",
    "checking_value = 0\n",
    "for i in range(len (cleaned df)):\n",
    "    checking_value = [] #gets the total positive comments, neutral comments and negative comments count\n",
    "checking value = comment analyser (cleaned_df.iloc[i,0])\n",
    "cleaned_df.iloc[i, 1] = checking_value[0] #put the total_positive_comment into positive_comment column\n",
    "cleaned_df.iloc[i, 2] = checking_value[1] #put the total_neutral_comment into neutral_comment column\n",
    "cleaned_df.iloc[i, 3] = checking_value [2] #put the total_negative_comment into negative_comment column\n",
    "print(it1) # printing the total rows that have been proceeded"
   ],
   "metadata": {
    "collapsed": false
   }
  },
  {
   "cell_type": "code",
   "execution_count": null,
   "outputs": [],
   "source": [
    "#you can save the cleaned data as cs file using .to csv)\n",
    "cleaned_df.to_csv('processed_airbnb.csv')"
   ],
   "metadata": {
    "collapsed": false
   }
  },
  {
   "cell_type": "code",
   "execution_count": null,
   "outputs": [],
   "source": [
    "cleaned_df"
   ],
   "metadata": {
    "collapsed": false
   }
  }
 ],
 "metadata": {
  "kernelspec": {
   "display_name": "Python 3",
   "language": "python",
   "name": "python3"
  },
  "language_info": {
   "codemirror_mode": {
    "name": "ipython",
    "version": 2
   },
   "file_extension": ".py",
   "mimetype": "text/x-python",
   "name": "python",
   "nbconvert_exporter": "python",
   "pygments_lexer": "ipython2",
   "version": "2.7.6"
  }
 },
 "nbformat": 4,
 "nbformat_minor": 0
}
