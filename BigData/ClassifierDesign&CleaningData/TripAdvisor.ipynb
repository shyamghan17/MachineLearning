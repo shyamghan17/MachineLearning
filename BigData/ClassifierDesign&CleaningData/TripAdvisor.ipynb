{
 "cells": [
  {
   "cell_type": "code",
   "execution_count": 1,
   "metadata": {},
   "outputs": [],
   "source": [
    "import pandas as pd"
   ]
  },
  {
   "cell_type": "code",
   "execution_count": 2,
   "metadata": {},
   "outputs": [
    {
     "data": {
      "text/html": [
       "<div>\n",
       "<style scoped>\n",
       "    .dataframe tbody tr th:only-of-type {\n",
       "        vertical-align: middle;\n",
       "    }\n",
       "\n",
       "    .dataframe tbody tr th {\n",
       "        vertical-align: top;\n",
       "    }\n",
       "\n",
       "    .dataframe thead th {\n",
       "        text-align: right;\n",
       "    }\n",
       "</style>\n",
       "<table border=\"1\" class=\"dataframe\">\n",
       "  <thead>\n",
       "    <tr style=\"text-align: right;\">\n",
       "      <th></th>\n",
       "      <th>Review</th>\n",
       "      <th>Rating</th>\n",
       "    </tr>\n",
       "  </thead>\n",
       "  <tbody>\n",
       "    <tr>\n",
       "      <th>0</th>\n",
       "      <td>nice hotel expensive parking got good deal sta...</td>\n",
       "      <td>4</td>\n",
       "    </tr>\n",
       "    <tr>\n",
       "      <th>1</th>\n",
       "      <td>ok nothing special charge diamond member hilto...</td>\n",
       "      <td>2</td>\n",
       "    </tr>\n",
       "    <tr>\n",
       "      <th>2</th>\n",
       "      <td>nice rooms not 4* experience hotel monaco seat...</td>\n",
       "      <td>3</td>\n",
       "    </tr>\n",
       "    <tr>\n",
       "      <th>3</th>\n",
       "      <td>unique, great stay, wonderful time hotel monac...</td>\n",
       "      <td>5</td>\n",
       "    </tr>\n",
       "    <tr>\n",
       "      <th>4</th>\n",
       "      <td>great stay great stay, went seahawk game aweso...</td>\n",
       "      <td>5</td>\n",
       "    </tr>\n",
       "    <tr>\n",
       "      <th>...</th>\n",
       "      <td>...</td>\n",
       "      <td>...</td>\n",
       "    </tr>\n",
       "    <tr>\n",
       "      <th>20486</th>\n",
       "      <td>best kept secret 3rd time staying charm, not 5...</td>\n",
       "      <td>5</td>\n",
       "    </tr>\n",
       "    <tr>\n",
       "      <th>20487</th>\n",
       "      <td>great location price view hotel great quick pl...</td>\n",
       "      <td>4</td>\n",
       "    </tr>\n",
       "    <tr>\n",
       "      <th>20488</th>\n",
       "      <td>ok just looks nice modern outside, desk staff ...</td>\n",
       "      <td>2</td>\n",
       "    </tr>\n",
       "    <tr>\n",
       "      <th>20489</th>\n",
       "      <td>hotel theft ruined vacation hotel opened sept ...</td>\n",
       "      <td>1</td>\n",
       "    </tr>\n",
       "    <tr>\n",
       "      <th>20490</th>\n",
       "      <td>people talking, ca n't believe excellent ratin...</td>\n",
       "      <td>2</td>\n",
       "    </tr>\n",
       "  </tbody>\n",
       "</table>\n",
       "<p>20491 rows × 2 columns</p>\n",
       "</div>"
      ],
      "text/plain": [
       "                                                  Review  Rating\n",
       "0      nice hotel expensive parking got good deal sta...       4\n",
       "1      ok nothing special charge diamond member hilto...       2\n",
       "2      nice rooms not 4* experience hotel monaco seat...       3\n",
       "3      unique, great stay, wonderful time hotel monac...       5\n",
       "4      great stay great stay, went seahawk game aweso...       5\n",
       "...                                                  ...     ...\n",
       "20486  best kept secret 3rd time staying charm, not 5...       5\n",
       "20487  great location price view hotel great quick pl...       4\n",
       "20488  ok just looks nice modern outside, desk staff ...       2\n",
       "20489  hotel theft ruined vacation hotel opened sept ...       1\n",
       "20490  people talking, ca n't believe excellent ratin...       2\n",
       "\n",
       "[20491 rows x 2 columns]"
      ]
     },
     "execution_count": 2,
     "metadata": {},
     "output_type": "execute_result"
    }
   ],
   "source": [
    "Data = pd.read_csv('./tripadvisor_hotel_reviews.csv')\n",
    "Data"
   ]
  },
  {
   "cell_type": "code",
   "execution_count": 3,
   "metadata": {},
   "outputs": [
    {
     "data": {
      "text/html": [
       "<div>\n",
       "<style scoped>\n",
       "    .dataframe tbody tr th:only-of-type {\n",
       "        vertical-align: middle;\n",
       "    }\n",
       "\n",
       "    .dataframe tbody tr th {\n",
       "        vertical-align: top;\n",
       "    }\n",
       "\n",
       "    .dataframe thead th {\n",
       "        text-align: right;\n",
       "    }\n",
       "</style>\n",
       "<table border=\"1\" class=\"dataframe\">\n",
       "  <thead>\n",
       "    <tr style=\"text-align: right;\">\n",
       "      <th></th>\n",
       "      <th>Review</th>\n",
       "      <th>Rating</th>\n",
       "    </tr>\n",
       "  </thead>\n",
       "  <tbody>\n",
       "    <tr>\n",
       "      <th>11666</th>\n",
       "      <td>not bad pay booked connecting rooms 4 people a...</td>\n",
       "      <td>4</td>\n",
       "    </tr>\n",
       "    <tr>\n",
       "      <th>713</th>\n",
       "      <td>great hotel, told desk staff write version sta...</td>\n",
       "      <td>5</td>\n",
       "    </tr>\n",
       "    <tr>\n",
       "      <th>10178</th>\n",
       "      <td>great place stay wonderful stay hotel, beautif...</td>\n",
       "      <td>5</td>\n",
       "    </tr>\n",
       "    <tr>\n",
       "      <th>8579</th>\n",
       "      <td>bit let, stayed hotel final 3 days honeymoon, ...</td>\n",
       "      <td>2</td>\n",
       "    </tr>\n",
       "    <tr>\n",
       "      <th>20121</th>\n",
       "      <td>awesome little downfalls, review long tells, r...</td>\n",
       "      <td>4</td>\n",
       "    </tr>\n",
       "    <tr>\n",
       "      <th>...</th>\n",
       "      <td>...</td>\n",
       "      <td>...</td>\n",
       "    </tr>\n",
       "    <tr>\n",
       "      <th>733</th>\n",
       "      <td>fabulous, stay dauphine orleans, better pictur...</td>\n",
       "      <td>5</td>\n",
       "    </tr>\n",
       "    <tr>\n",
       "      <th>18388</th>\n",
       "      <td>great hotel boyfriend stayed suites 1 king wes...</td>\n",
       "      <td>5</td>\n",
       "    </tr>\n",
       "    <tr>\n",
       "      <th>9154</th>\n",
       "      <td>gem hotel lovely small hotel situated minutes ...</td>\n",
       "      <td>4</td>\n",
       "    </tr>\n",
       "    <tr>\n",
       "      <th>19523</th>\n",
       "      <td>great hotel stayed hotel mela weekend 12/12-12...</td>\n",
       "      <td>5</td>\n",
       "    </tr>\n",
       "    <tr>\n",
       "      <th>12765</th>\n",
       "      <td>hilton lower manhattan wife stayed hotel twice...</td>\n",
       "      <td>4</td>\n",
       "    </tr>\n",
       "  </tbody>\n",
       "</table>\n",
       "<p>100 rows × 2 columns</p>\n",
       "</div>"
      ],
      "text/plain": [
       "                                                  Review  Rating\n",
       "11666  not bad pay booked connecting rooms 4 people a...       4\n",
       "713    great hotel, told desk staff write version sta...       5\n",
       "10178  great place stay wonderful stay hotel, beautif...       5\n",
       "8579   bit let, stayed hotel final 3 days honeymoon, ...       2\n",
       "20121  awesome little downfalls, review long tells, r...       4\n",
       "...                                                  ...     ...\n",
       "733    fabulous, stay dauphine orleans, better pictur...       5\n",
       "18388  great hotel boyfriend stayed suites 1 king wes...       5\n",
       "9154   gem hotel lovely small hotel situated minutes ...       4\n",
       "19523  great hotel stayed hotel mela weekend 12/12-12...       5\n",
       "12765  hilton lower manhattan wife stayed hotel twice...       4\n",
       "\n",
       "[100 rows x 2 columns]"
      ]
     },
     "execution_count": 3,
     "metadata": {},
     "output_type": "execute_result"
    }
   ],
   "source": [
    "Data = Data.sample(100)\n",
    "Data"
   ]
  },
  {
   "cell_type": "code",
   "execution_count": 4,
   "metadata": {},
   "outputs": [
    {
     "name": "stdout",
     "output_type": "stream",
     "text": [
      "(100, 2)\n"
     ]
    }
   ],
   "source": [
    "print(Data.shape)"
   ]
  },
  {
   "cell_type": "code",
   "execution_count": 5,
   "metadata": {},
   "outputs": [
    {
     "data": {
      "text/plain": [
       "5    40\n",
       "4    36\n",
       "1    10\n",
       "2     8\n",
       "3     6\n",
       "Name: Rating, dtype: int64"
      ]
     },
     "execution_count": 5,
     "metadata": {},
     "output_type": "execute_result"
    }
   ],
   "source": [
    "Data['Rating'].value_counts()"
   ]
  },
  {
   "cell_type": "code",
   "execution_count": 6,
   "metadata": {},
   "outputs": [],
   "source": [
    "Data[\"text\"] = Data[\"Review\"].astype(str)"
   ]
  },
  {
   "cell_type": "code",
   "execution_count": 7,
   "metadata": {},
   "outputs": [
    {
     "data": {
      "text/plain": [
       "11666    not bad pay booked connecting rooms 4 people a...\n",
       "713      great hotel, told desk staff write version sta...\n",
       "10178    great place stay wonderful stay hotel, beautif...\n",
       "8579     bit let, stayed hotel final 3 days honeymoon, ...\n",
       "20121    awesome little downfalls, review long tells, r...\n",
       "Name: text, dtype: object"
      ]
     },
     "execution_count": 7,
     "metadata": {},
     "output_type": "execute_result"
    }
   ],
   "source": [
    "Data['text'].head()"
   ]
  },
  {
   "cell_type": "code",
   "execution_count": 8,
   "metadata": {},
   "outputs": [
    {
     "data": {
      "text/plain": [
       "High    76\n",
       "Low     18\n",
       "Med      6\n",
       "Name: rate, dtype: int64"
      ]
     },
     "execution_count": 8,
     "metadata": {},
     "output_type": "execute_result"
    }
   ],
   "source": [
    "def classes_def(x):\n",
    "    if x == 1 or x==2:\n",
    "        return \"Low\"\n",
    "    elif x == 3:\n",
    "        return \"Med\"\n",
    "    elif x == 4 or x == 5:\n",
    "        return \"High\"\n",
    "Data['rate']=Data['Rating'].apply(lambda x:classes_def(x))\n",
    "target=Data['rate']\n",
    "Data['rate'].value_counts()"
   ]
  },
  {
   "cell_type": "code",
   "execution_count": 9,
   "metadata": {},
   "outputs": [],
   "source": [
    "import re"
   ]
  },
  {
   "cell_type": "code",
   "execution_count": 10,
   "metadata": {},
   "outputs": [
    {
     "name": "stdout",
     "output_type": "stream",
     "text": [
      "11666    not bad pay booked connecting rooms 4 people a...\n",
      "713      great hotel, told desk staff write version sta...\n",
      "10178    great place stay wonderful stay hotel, beautif...\n",
      "8579     bit let, stayed hotel final 3 days honeymoon, ...\n",
      "20121    awesome little downfalls, review long tells, r...\n",
      "                               ...                        \n",
      "733      fabulous, stay dauphine orleans, better pictur...\n",
      "18388    great hotel boyfriend stayed suites 1 king wes...\n",
      "9154     gem hotel lovely small hotel situated minutes ...\n",
      "19523    great hotel stayed hotel mela weekend 12/12-12...\n",
      "12765    hilton lower manhattan wife stayed hotel twice...\n",
      "Name: text, Length: 100, dtype: object\n"
     ]
    }
   ],
   "source": [
    "#Removes the urls on the column 'text'\n",
    "Data['text'] = Data['text'].apply(lambda x:re.sub(r'\\s*https?://t\\.co/[a-zA-Z0-9]+\\s*', ' ', x))\n",
    "print(Data['text'])"
   ]
  },
  {
   "cell_type": "code",
   "execution_count": 11,
   "metadata": {},
   "outputs": [
    {
     "name": "stdout",
     "output_type": "stream",
     "text": [
      "11666    not bad pay booked connecting rooms  people am...\n",
      "713      great hotel, told desk staff write version sta...\n",
      "10178    great place stay wonderful stay hotel, beautif...\n",
      "8579     bit let, stayed hotel final  days honeymoon, a...\n",
      "20121    awesome little downfalls, review long tells, r...\n",
      "                               ...                        \n",
      "733      fabulous, stay dauphine orleans, better pictur...\n",
      "18388    great hotel boyfriend stayed suites  king west...\n",
      "9154     gem hotel lovely small hotel situated minutes ...\n",
      "19523    great hotel stayed hotel mela weekend /-/ mom,...\n",
      "12765    hilton lower manhattan wife stayed hotel twice...\n",
      "Name: text, Length: 100, dtype: object\n"
     ]
    }
   ],
   "source": [
    "# We can also remove any numbers, as they may not be useful to the analysis, using a similar approach.\n",
    "Data['text'] = Data['text'].apply(lambda x:re.sub(r'[0-9]+', '', x))\n",
    "print(Data['text'])"
   ]
  },
  {
   "cell_type": "code",
   "execution_count": 12,
   "metadata": {},
   "outputs": [
    {
     "name": "stdout",
     "output_type": "stream",
     "text": [
      "['not', 'bad', 'pay', 'booked', 'connecting', 'rooms', 'people', 'amerisuites', 'miami', 'blue', 'lagoon', 'post', 'cruise', 'weekend', 'stay', 'january', 'based', 'entirely', 'information', 'read', 'web', 'site', ',', 'got', 'cruise', 'ship', 'early', 'able', 'rooms', 'saturday', 'morning', 'definetly', 'appreciated', 'let', 'unpack', 'rest', 'cleanup', 'earlier', 'start', 'day', ',', 'rooms', 'large', 'modern', 'clean', 'worked', ',', 'paid', '/night', 'pus', 'tax', 'room', ',', 'desk', 'friendly', 'helpful', ',', 'said', 'outside', 'small', 'pool', 'open', 'hours', ',', 'security', 'guard', 'parking', 'lot', 'hotel', 'hrs', 'day', 'hotel', 'located', 'quiet', 'nice', 'area', 'condos', 'airport', ',', 'saw', 'people', 'jogging', 'sidewalk', 'road', 'hotel', 'morning', 'road', \"n't\", 'busy', 'properties', 'passes', 'nicely', 'landscapped', 'runner', 'nice', ',', 'fitness', 'room', 'standard', 'small', 'room', 'treadmill', 'exercise', 'bike', 'peice', 'equipment', 'plus', 'tv', ',', 'morning', 'continental', 'breakfast', 'chioces', 'substantial', 'fresh', 'fruit', 'apples', 'bananas', 'toast', 'bagels', 'english', 'muffins', 'make-your-own', 'waffles', 'scrambled', 'eggs', 'pastries', 'muffins', 'cereals', 'coffee/tea', 'fruit', 'juices', ',', 'seating', 'area', 'good', 'sized', ',', 'free', 'coffee', 'available', 'lobby', 'day', \"n't\", 'kept', 'later', ',', 'complaint', 'breakfast', 'prson', 'responsible', 'keeping', 'area', 'clean', 'stocked', 'disappear', 'things', 'laid', 'eventually', 'silveware', 'tables', 'garbage', ',', 'scheduled', 'end', 'breakfast', 'things', 'cleared', 'away', 'pretty', 'quickly', ',', 'definetly', 'need', 'car', 'hotel', ',', 'nothing', 'walking', 'distance', 'restaurants', 'cuban', 'chain', 'not', 'far', 'away', ',', 'desk', 'map', ',', 'did', \"n't\", 'use', 'hotel', 'airport', 'shuttle', 'leaves', 'afor', 'airport', 'am', 'hour', 'rental', 'car', 'return', 'drive', 'terminal', 'minutes', 'weekday', 'rental', 'car', 'return', 'minutes', 'away', ',', 'stay', 'hotel', 'especially', 'needed', 'catch', 'early', 'flight', 'town', ',', '/night', 'reasonable', 'price', 'half', 'way', 'decent', 'hotel', 'weekend', 'miami', 'january', 'paid', 'low', '/night', 'comparable', 'places', 'not', 'near', 'airport', 'east', 'coast', 'cities', ',']\n",
      "                                                  Review  Rating  \\\n",
      "11666  not bad pay booked connecting rooms 4 people a...       4   \n",
      "\n",
      "                                                    text  rate  \n",
      "11666  not bad pay booked connecting rooms  people am...  High  \n"
     ]
    },
    {
     "name": "stderr",
     "output_type": "stream",
     "text": [
      "[nltk_data] Downloading package stopwords to\n",
      "[nltk_data]     /Users/ghanshyam/nltk_data...\n",
      "[nltk_data]   Package stopwords is already up-to-date!\n",
      "[nltk_data] Downloading package punkt to /Users/ghanshyam/nltk_data...\n",
      "[nltk_data]   Package punkt is already up-to-date!\n"
     ]
    }
   ],
   "source": [
    "# Importing necessary library\n",
    "import nltk.corpus #natural language toolkit\n",
    "# import nltk.corpus\n",
    "nltk.download('stopwords')\n",
    "nltk.download('punkt')\n",
    "import os\n",
    "from nltk.tokenize import word_tokenize\n",
    "# Passing the string text into word tokenize for breaking the sentences\n",
    "Token_list=[]\n",
    "for tweet in Data['text']:\n",
    "    Token_list.append(word_tokenize(tweet))\n",
    "#Let us look at the content of the first review as a set of tokens, and the rating.\n",
    "print(Token_list[0])\n",
    "print(Data.iloc[0:1])"
   ]
  },
  {
   "cell_type": "code",
   "execution_count": 13,
   "metadata": {},
   "outputs": [
    {
     "name": "stdout",
     "output_type": "stream",
     "text": [
      "['not', 'bad', 'pay', 'booked', 'connecting', 'rooms', 'people', 'amerisuites', 'miami', 'blue', 'lagoon', 'post', 'cruise', 'weekend', 'stay', 'january', 'based', 'entirely', 'information', 'read', 'web', 'site', 'got', 'cruise', 'ship', 'early', 'able', 'rooms', 'saturday', 'morning', 'definetly', 'appreciated', 'let', 'unpack', 'rest', 'cleanup', 'earlier', 'start', 'day', 'rooms', 'large', 'modern', 'clean', 'worked', 'paid', 'pus', 'tax', 'room', 'desk', 'friendly', 'helpful', 'said', 'outside', 'small', 'pool', 'open', 'hours', 'security', 'guard', 'parking', 'lot', 'hotel', 'hrs', 'day', 'hotel', 'located', 'quiet', 'nice', 'area', 'condos', 'airport', 'saw', 'people', 'jogging', 'sidewalk', 'road', 'hotel', 'morning', 'road', 'busy', 'properties', 'passes', 'nicely', 'landscapped', 'runner', 'nice', 'fitness', 'room', 'standard', 'small', 'room', 'treadmill', 'exercise', 'bike', 'peice', 'equipment', 'plus', 'tv', 'morning', 'continental', 'breakfast', 'chioces', 'substantial', 'fresh', 'fruit', 'apples', 'bananas', 'toast', 'bagels', 'english', 'muffins', 'waffles', 'scrambled', 'eggs', 'pastries', 'muffins', 'cereals', 'fruit', 'juices', 'seating', 'area', 'good', 'sized', 'free', 'coffee', 'available', 'lobby', 'day', 'kept', 'later', 'complaint', 'breakfast', 'prson', 'responsible', 'keeping', 'area', 'clean', 'stocked', 'disappear', 'things', 'laid', 'eventually', 'silveware', 'tables', 'garbage', 'scheduled', 'end', 'breakfast', 'things', 'cleared', 'away', 'pretty', 'quickly', 'definetly', 'need', 'car', 'hotel', 'nothing', 'walking', 'distance', 'restaurants', 'cuban', 'chain', 'not', 'far', 'away', 'desk', 'map', 'did', 'use', 'hotel', 'airport', 'shuttle', 'leaves', 'afor', 'airport', 'am', 'hour', 'rental', 'car', 'return', 'drive', 'terminal', 'minutes', 'weekday', 'rental', 'car', 'return', 'minutes', 'away', 'stay', 'hotel', 'especially', 'needed', 'catch', 'early', 'flight', 'town', 'reasonable', 'price', 'half', 'way', 'decent', 'hotel', 'weekend', 'miami', 'january', 'paid', 'low', 'comparable', 'places', 'not', 'near', 'airport', 'east', 'coast', 'cities']\n"
     ]
    }
   ],
   "source": [
    "#Remove the puntuation and other non alphanumeric tokens\n",
    "for i in range (0,len(Token_list)):\n",
    "    Token_list[i] =[word for word in Token_list[i] if word.isalnum() ]\n",
    "\n",
    "#Again we look at first review to see the effect.\n",
    "print(Token_list[0])"
   ]
  },
  {
   "cell_type": "code",
   "execution_count": 14,
   "metadata": {},
   "outputs": [
    {
     "name": "stdout",
     "output_type": "stream",
     "text": [
      "['i', 'me', 'my', 'myself', 'we', 'our', 'ours', 'ourselves', 'you', \"you're\", \"you've\", \"you'll\", \"you'd\", 'your', 'yours', 'yourself', 'yourselves', 'he', 'him', 'his', 'himself', 'she', \"she's\", 'her', 'hers', 'herself', 'it', \"it's\", 'its', 'itself', 'they', 'them', 'their', 'theirs', 'themselves', 'what', 'which', 'who', 'whom', 'this', 'that', \"that'll\", 'these', 'those', 'am', 'is', 'are', 'was', 'were', 'be', 'been', 'being', 'have', 'has', 'had', 'having', 'do', 'does', 'did', 'doing', 'a', 'an', 'the', 'and', 'but', 'if', 'or', 'because', 'as', 'until', 'while', 'of', 'at', 'by', 'for', 'with', 'about', 'against', 'between', 'into', 'through', 'during', 'before', 'after', 'above', 'below', 'to', 'from', 'up', 'down', 'in', 'out', 'on', 'off', 'over', 'under', 'again', 'further', 'then', 'once', 'here', 'there', 'when', 'where', 'why', 'how', 'all', 'any', 'both', 'each', 'few', 'more', 'most', 'other', 'some', 'such', 'no', 'nor', 'not', 'only', 'own', 'same', 'so', 'than', 'too', 'very', 's', 't', 'can', 'will', 'just', 'don', \"don't\", 'should', \"should've\", 'now', 'd', 'll', 'm', 'o', 're', 've', 'y', 'ain', 'aren', \"aren't\", 'couldn', \"couldn't\", 'didn', \"didn't\", 'doesn', \"doesn't\", 'hadn', \"hadn't\", 'hasn', \"hasn't\", 'haven', \"haven't\", 'isn', \"isn't\", 'ma', 'mightn', \"mightn't\", 'mustn', \"mustn't\", 'needn', \"needn't\", 'shan', \"shan't\", 'shouldn', \"shouldn't\", 'wasn', \"wasn't\", 'weren', \"weren't\", 'won', \"won't\", 'wouldn', \"wouldn't\"]\n",
      "['bad', 'pay', 'booked', 'connecting', 'rooms', 'people', 'amerisuites', 'miami', 'blue', 'lagoon', 'post', 'cruise', 'weekend', 'stay', 'january', 'based', 'entirely', 'information', 'read', 'web', 'site', 'got', 'cruise', 'ship', 'early', 'able', 'rooms', 'saturday', 'morning', 'definetly', 'appreciated', 'let', 'unpack', 'rest', 'cleanup', 'earlier', 'start', 'day', 'rooms', 'large', 'modern', 'clean', 'worked', 'paid', 'pus', 'tax', 'room', 'desk', 'friendly', 'helpful', 'said', 'outside', 'small', 'pool', 'open', 'hours', 'security', 'guard', 'parking', 'lot', 'hotel', 'hrs', 'day', 'hotel', 'located', 'quiet', 'nice', 'area', 'condos', 'airport', 'saw', 'people', 'jogging', 'sidewalk', 'road', 'hotel', 'morning', 'road', 'busy', 'properties', 'passes', 'nicely', 'landscapped', 'runner', 'nice', 'fitness', 'room', 'standard', 'small', 'room', 'treadmill', 'exercise', 'bike', 'peice', 'equipment', 'plus', 'tv', 'morning', 'continental', 'breakfast', 'chioces', 'substantial', 'fresh', 'fruit', 'apples', 'bananas', 'toast', 'bagels', 'english', 'muffins', 'waffles', 'scrambled', 'eggs', 'pastries', 'muffins', 'cereals', 'fruit', 'juices', 'seating', 'area', 'good', 'sized', 'free', 'coffee', 'available', 'lobby', 'day', 'kept', 'later', 'complaint', 'breakfast', 'prson', 'responsible', 'keeping', 'area', 'clean', 'stocked', 'disappear', 'things', 'laid', 'eventually', 'silveware', 'tables', 'garbage', 'scheduled', 'end', 'breakfast', 'things', 'cleared', 'away', 'pretty', 'quickly', 'definetly', 'need', 'car', 'hotel', 'nothing', 'walking', 'distance', 'restaurants', 'cuban', 'chain', 'far', 'away', 'desk', 'map', 'use', 'hotel', 'airport', 'shuttle', 'leaves', 'afor', 'airport', 'hour', 'rental', 'car', 'return', 'drive', 'terminal', 'minutes', 'weekday', 'rental', 'car', 'return', 'minutes', 'away', 'stay', 'hotel', 'especially', 'needed', 'catch', 'early', 'flight', 'town', 'reasonable', 'price', 'half', 'way', 'decent', 'hotel', 'weekend', 'miami', 'january', 'paid', 'low', 'comparable', 'places', 'near', 'airport', 'east', 'coast', 'cities']\n"
     ]
    }
   ],
   "source": [
    "stopwords = nltk.corpus.stopwords.words('english')\n",
    "print(stopwords)# pronouns and prepositions mainly\n",
    "# importing stopwors from nltk library\n",
    "from nltk import word_tokenize\n",
    "from nltk.corpus import stopwords\n",
    "a = set(stopwords.words('english'))\n",
    "for i in range (0,len(Token_list)):\n",
    "    Token_list[i] =[word for word in Token_list[i] if word not in a ]\n",
    "print(Token_list[0])\n",
    "#print(stopwords)"
   ]
  },
  {
   "cell_type": "code",
   "execution_count": 15,
   "metadata": {},
   "outputs": [
    {
     "name": "stdout",
     "output_type": "stream",
     "text": [
      "Bigrams:  ['bad pay', 'pay booked', 'booked connecting', 'connecting rooms', 'rooms people', 'people amerisuites', 'amerisuites miami', 'miami blue', 'blue lagoon', 'lagoon post', 'post cruise', 'cruise weekend', 'weekend stay', 'stay january', 'january based', 'based entirely', 'entirely information', 'information read', 'read web', 'web site', 'site got', 'got cruise', 'cruise ship', 'ship early', 'early able', 'able rooms', 'rooms saturday', 'saturday morning', 'morning definetly', 'definetly appreciated', 'appreciated let', 'let unpack', 'unpack rest', 'rest cleanup', 'cleanup earlier', 'earlier start', 'start day', 'day rooms', 'rooms large', 'large modern', 'modern clean', 'clean worked', 'worked paid', 'paid pus', 'pus tax', 'tax room', 'room desk', 'desk friendly', 'friendly helpful', 'helpful said', 'said outside', 'outside small', 'small pool', 'pool open', 'open hours', 'hours security', 'security guard', 'guard parking', 'parking lot', 'lot hotel', 'hotel hrs', 'hrs day', 'day hotel', 'hotel located', 'located quiet', 'quiet nice', 'nice area', 'area condos', 'condos airport', 'airport saw', 'saw people', 'people jogging', 'jogging sidewalk', 'sidewalk road', 'road hotel', 'hotel morning', 'morning road', 'road busy', 'busy properties', 'properties passes', 'passes nicely', 'nicely landscapped', 'landscapped runner', 'runner nice', 'nice fitness', 'fitness room', 'room standard', 'standard small', 'small room', 'room treadmill', 'treadmill exercise', 'exercise bike', 'bike peice', 'peice equipment', 'equipment plus', 'plus tv', 'tv morning', 'morning continental', 'continental breakfast', 'breakfast chioces', 'chioces substantial', 'substantial fresh', 'fresh fruit', 'fruit apples', 'apples bananas', 'bananas toast', 'toast bagels', 'bagels english', 'english muffins', 'muffins waffles', 'waffles scrambled', 'scrambled eggs', 'eggs pastries', 'pastries muffins', 'muffins cereals', 'cereals fruit', 'fruit juices', 'juices seating', 'seating area', 'area good', 'good sized', 'sized free', 'free coffee', 'coffee available', 'available lobby', 'lobby day', 'day kept', 'kept later', 'later complaint', 'complaint breakfast', 'breakfast prson', 'prson responsible', 'responsible keeping', 'keeping area', 'area clean', 'clean stocked', 'stocked disappear', 'disappear things', 'things laid', 'laid eventually', 'eventually silveware', 'silveware tables', 'tables garbage', 'garbage scheduled', 'scheduled end', 'end breakfast', 'breakfast things', 'things cleared', 'cleared away', 'away pretty', 'pretty quickly', 'quickly definetly', 'definetly need', 'need car', 'car hotel', 'hotel nothing', 'nothing walking', 'walking distance', 'distance restaurants', 'restaurants cuban', 'cuban chain', 'chain far', 'far away', 'away desk', 'desk map', 'map use', 'use hotel', 'hotel airport', 'airport shuttle', 'shuttle leaves', 'leaves afor', 'afor airport', 'airport hour', 'hour rental', 'rental car', 'car return', 'return drive', 'drive terminal', 'terminal minutes', 'minutes weekday', 'weekday rental', 'rental car', 'car return', 'return minutes', 'minutes away', 'away stay', 'stay hotel', 'hotel especially', 'especially needed', 'needed catch', 'catch early', 'early flight', 'flight town', 'town reasonable', 'reasonable price', 'price half', 'half way', 'way decent', 'decent hotel', 'hotel weekend', 'weekend miami', 'miami january', 'january paid', 'paid low', 'low comparable', 'comparable places', 'places near', 'near airport', 'airport east', 'east coast', 'coast cities']\n",
      "\n",
      "Trigrams:  ['bad pay booked', 'pay booked connecting', 'booked connecting rooms', 'connecting rooms people', 'rooms people amerisuites', 'people amerisuites miami', 'amerisuites miami blue', 'miami blue lagoon', 'blue lagoon post', 'lagoon post cruise', 'post cruise weekend', 'cruise weekend stay', 'weekend stay january', 'stay january based', 'january based entirely', 'based entirely information', 'entirely information read', 'information read web', 'read web site', 'web site got', 'site got cruise', 'got cruise ship', 'cruise ship early', 'ship early able', 'early able rooms', 'able rooms saturday', 'rooms saturday morning', 'saturday morning definetly', 'morning definetly appreciated', 'definetly appreciated let', 'appreciated let unpack', 'let unpack rest', 'unpack rest cleanup', 'rest cleanup earlier', 'cleanup earlier start', 'earlier start day', 'start day rooms', 'day rooms large', 'rooms large modern', 'large modern clean', 'modern clean worked', 'clean worked paid', 'worked paid pus', 'paid pus tax', 'pus tax room', 'tax room desk', 'room desk friendly', 'desk friendly helpful', 'friendly helpful said', 'helpful said outside', 'said outside small', 'outside small pool', 'small pool open', 'pool open hours', 'open hours security', 'hours security guard', 'security guard parking', 'guard parking lot', 'parking lot hotel', 'lot hotel hrs', 'hotel hrs day', 'hrs day hotel', 'day hotel located', 'hotel located quiet', 'located quiet nice', 'quiet nice area', 'nice area condos', 'area condos airport', 'condos airport saw', 'airport saw people', 'saw people jogging', 'people jogging sidewalk', 'jogging sidewalk road', 'sidewalk road hotel', 'road hotel morning', 'hotel morning road', 'morning road busy', 'road busy properties', 'busy properties passes', 'properties passes nicely', 'passes nicely landscapped', 'nicely landscapped runner', 'landscapped runner nice', 'runner nice fitness', 'nice fitness room', 'fitness room standard', 'room standard small', 'standard small room', 'small room treadmill', 'room treadmill exercise', 'treadmill exercise bike', 'exercise bike peice', 'bike peice equipment', 'peice equipment plus', 'equipment plus tv', 'plus tv morning', 'tv morning continental', 'morning continental breakfast', 'continental breakfast chioces', 'breakfast chioces substantial', 'chioces substantial fresh', 'substantial fresh fruit', 'fresh fruit apples', 'fruit apples bananas', 'apples bananas toast', 'bananas toast bagels', 'toast bagels english', 'bagels english muffins', 'english muffins waffles', 'muffins waffles scrambled', 'waffles scrambled eggs', 'scrambled eggs pastries', 'eggs pastries muffins', 'pastries muffins cereals', 'muffins cereals fruit', 'cereals fruit juices', 'fruit juices seating', 'juices seating area', 'seating area good', 'area good sized', 'good sized free', 'sized free coffee', 'free coffee available', 'coffee available lobby', 'available lobby day', 'lobby day kept', 'day kept later', 'kept later complaint', 'later complaint breakfast', 'complaint breakfast prson', 'breakfast prson responsible', 'prson responsible keeping', 'responsible keeping area', 'keeping area clean', 'area clean stocked', 'clean stocked disappear', 'stocked disappear things', 'disappear things laid', 'things laid eventually', 'laid eventually silveware', 'eventually silveware tables', 'silveware tables garbage', 'tables garbage scheduled', 'garbage scheduled end', 'scheduled end breakfast', 'end breakfast things', 'breakfast things cleared', 'things cleared away', 'cleared away pretty', 'away pretty quickly', 'pretty quickly definetly', 'quickly definetly need', 'definetly need car', 'need car hotel', 'car hotel nothing', 'hotel nothing walking', 'nothing walking distance', 'walking distance restaurants', 'distance restaurants cuban', 'restaurants cuban chain', 'cuban chain far', 'chain far away', 'far away desk', 'away desk map', 'desk map use', 'map use hotel', 'use hotel airport', 'hotel airport shuttle', 'airport shuttle leaves', 'shuttle leaves afor', 'leaves afor airport', 'afor airport hour', 'airport hour rental', 'hour rental car', 'rental car return', 'car return drive', 'return drive terminal', 'drive terminal minutes', 'terminal minutes weekday', 'minutes weekday rental', 'weekday rental car', 'rental car return', 'car return minutes', 'return minutes away', 'minutes away stay', 'away stay hotel', 'stay hotel especially', 'hotel especially needed', 'especially needed catch', 'needed catch early', 'catch early flight', 'early flight town', 'flight town reasonable', 'town reasonable price', 'reasonable price half', 'price half way', 'half way decent', 'way decent hotel', 'decent hotel weekend', 'hotel weekend miami', 'weekend miami january', 'miami january paid', 'january paid low', 'paid low comparable', 'low comparable places', 'comparable places near', 'places near airport', 'near airport east', 'airport east coast', 'east coast cities']\n"
     ]
    }
   ],
   "source": [
    "from nltk.util import ngrams\n",
    "def words_to_ngrams(words, n, sep=\" \"):\n",
    "    return [sep.join(words[i:i+n]) for i in range(len(words)-n+1)]\n",
    "print(\"Bigrams: \", words_to_ngrams(Token_list[0],2))\n",
    "print(\"\\nTrigrams: \",words_to_ngrams(Token_list[0],3))"
   ]
  },
  {
   "cell_type": "code",
   "execution_count": 16,
   "metadata": {},
   "outputs": [
    {
     "data": {
      "text/plain": [
       "FreqDist({'hotel': 271, 'room': 160, 'great': 109, 'good': 81, 'staff': 77, 'location': 73, 'stay': 63, 'breakfast': 56, 'rooms': 55, 'service': 54, ...})"
      ]
     },
     "execution_count": 16,
     "metadata": {},
     "output_type": "execute_result"
    }
   ],
   "source": [
    "# finding the frequency distinct in the tokens\n",
    "# Importing FreqDist library from nltk and passing token into FreqDist\n",
    "from nltk.probability import FreqDist\n",
    "fdist = FreqDist()\n",
    "for i in range (0,len(Token_list)):\n",
    "    for word in Token_list[i]:\n",
    "        fdist[word.lower()]+=1\n",
    "fdist"
   ]
  },
  {
   "cell_type": "code",
   "execution_count": 17,
   "metadata": {},
   "outputs": [],
   "source": [
    "#Concatenate the words together for each document or review\n",
    "word_concat=[' '.join(word) for word in Token_list]"
   ]
  },
  {
   "cell_type": "code",
   "execution_count": 18,
   "metadata": {},
   "outputs": [
    {
     "name": "stdout",
     "output_type": "stream",
     "text": [
      "[[0.05213716 0.         0.         ... 0.         0.         0.        ]\n",
      " [0.         0.         0.         ... 0.         0.         0.        ]\n",
      " [0.         0.         0.         ... 0.         0.         0.        ]\n",
      " ...\n",
      " [0.         0.         0.         ... 0.         0.         0.        ]\n",
      " [0.         0.         0.         ... 0.         0.         0.        ]\n",
      " [0.         0.         0.         ... 0.         0.         0.        ]]\n"
     ]
    }
   ],
   "source": [
    "from sklearn.feature_extraction.text import TfidfVectorizer\n",
    "tf=TfidfVectorizer()\n",
    "text_tf= tf.fit_transform(word_concat)\n",
    "print (text_tf.todense())"
   ]
  },
  {
   "cell_type": "code",
   "execution_count": 19,
   "metadata": {},
   "outputs": [],
   "source": [
    "X = text_tf"
   ]
  },
  {
   "cell_type": "code",
   "execution_count": 20,
   "metadata": {},
   "outputs": [
    {
     "name": "stdout",
     "output_type": "stream",
     "text": [
      "['High' 'Low' 'Med']\n"
     ]
    },
    {
     "data": {
      "text/plain": [
       "array([0, 0, 0, 1, 0, 0, 0, 0, 0, 0, 0, 0, 0, 0, 0, 2, 0, 0, 0, 0, 0, 0,\n",
       "       0, 1, 1, 0, 1, 0, 0, 0, 0, 0, 0, 0, 0, 1, 0, 0, 1, 0, 2, 0, 0, 0,\n",
       "       0, 1, 0, 0, 1, 0, 2, 0, 0, 0, 0, 1, 0, 0, 0, 1, 1, 0, 0, 0, 0, 1,\n",
       "       0, 0, 1, 0, 0, 0, 1, 0, 0, 2, 0, 0, 0, 1, 0, 0, 0, 0, 0, 0, 0, 2,\n",
       "       1, 0, 1, 2, 1, 0, 0, 0, 0, 0, 0, 0])"
      ]
     },
     "execution_count": 20,
     "metadata": {},
     "output_type": "execute_result"
    }
   ],
   "source": [
    "y=Data['rate']\n",
    "from sklearn.preprocessing import LabelEncoder\n",
    "#encode the labels from strings to values.\n",
    "le = LabelEncoder()\n",
    "y = le.fit_transform(y)\n",
    "print(le.classes_)\n",
    "y"
   ]
  },
  {
   "cell_type": "code",
   "execution_count": 21,
   "metadata": {},
   "outputs": [],
   "source": [
    "from sklearn.model_selection import train_test_split\n",
    "X_train, X_test, y_train, y_test = train_test_split(X, y, test_size=0.3)"
   ]
  },
  {
   "cell_type": "code",
   "execution_count": 22,
   "metadata": {},
   "outputs": [
    {
     "data": {
      "text/plain": [
       "array([0, 0, 0, 0, 0, 0, 0, 0, 0, 0, 0, 0, 0, 0, 0, 0, 0, 0, 0, 0, 0, 0,\n",
       "       0, 0, 0, 0, 0, 0, 0, 0])"
      ]
     },
     "execution_count": 22,
     "metadata": {},
     "output_type": "execute_result"
    }
   ],
   "source": [
    "from sklearn.ensemble import RandomForestClassifier\n",
    "clf = RandomForestClassifier(criterion='entropy',max_depth= 2,class_weight='balanced')\n",
    "clf.fit(X_train,y_train);\n",
    "y_pred = clf.predict(X_test)\n",
    "y_pred"
   ]
  },
  {
   "cell_type": "code",
   "execution_count": 23,
   "metadata": {},
   "outputs": [
    {
     "name": "stderr",
     "output_type": "stream",
     "text": [
      "/Users/ghanshyam/opt/anaconda3/lib/python3.9/site-packages/sklearn/utils/deprecation.py:87: FutureWarning: Function plot_confusion_matrix is deprecated; Function `plot_confusion_matrix` is deprecated in 1.0 and will be removed in 1.2. Use one of the class methods: ConfusionMatrixDisplay.from_predictions or ConfusionMatrixDisplay.from_estimator.\n",
      "  warnings.warn(msg, category=FutureWarning)\n"
     ]
    },
    {
     "name": "stdout",
     "output_type": "stream",
     "text": [
      "Results on the test set:\n",
      "              precision    recall  f1-score   support\n",
      "\n",
      "           0       1.00      0.77      0.87        30\n",
      "           1       0.00      0.00      0.00         0\n",
      "           2       0.00      0.00      0.00         0\n",
      "\n",
      "    accuracy                           0.77        30\n",
      "   macro avg       0.33      0.26      0.29        30\n",
      "weighted avg       1.00      0.77      0.87        30\n",
      "\n"
     ]
    },
    {
     "name": "stderr",
     "output_type": "stream",
     "text": [
      "/Users/ghanshyam/opt/anaconda3/lib/python3.9/site-packages/sklearn/metrics/_classification.py:1318: UndefinedMetricWarning: Recall and F-score are ill-defined and being set to 0.0 in labels with no true samples. Use `zero_division` parameter to control this behavior.\n",
      "  _warn_prf(average, modifier, msg_start, len(result))\n",
      "/Users/ghanshyam/opt/anaconda3/lib/python3.9/site-packages/sklearn/metrics/_classification.py:1318: UndefinedMetricWarning: Recall and F-score are ill-defined and being set to 0.0 in labels with no true samples. Use `zero_division` parameter to control this behavior.\n",
      "  _warn_prf(average, modifier, msg_start, len(result))\n",
      "/Users/ghanshyam/opt/anaconda3/lib/python3.9/site-packages/sklearn/metrics/_classification.py:1318: UndefinedMetricWarning: Recall and F-score are ill-defined and being set to 0.0 in labels with no true samples. Use `zero_division` parameter to control this behavior.\n",
      "  _warn_prf(average, modifier, msg_start, len(result))\n"
     ]
    },
    {
     "data": {
      "image/png": "[encoded data removed]",
      "text/plain": [
       "<Figure size 640x480 with 2 Axes>"
      ]
     },
     "metadata": {},
     "output_type": "display_data"
    }
   ],
   "source": [
    "from sklearn.metrics import confusion_matrix\n",
    "from sklearn.metrics import plot_confusion_matrix\n",
    "from sklearn.metrics import accuracy_score\n",
    "from sklearn.metrics import classification_report\n",
    "#we can get the confusion matrix\n",
    "cm = confusion_matrix(y_test, y_pred)\n",
    "#we can plot it\n",
    "from sklearn.metrics import plot_confusion_matrix\n",
    "plot_confusion_matrix(clf, X_test, y_test)\n",
    "print('Results on the test set:')\n",
    "print(classification_report(y_pred, y_test))"
   ]
  },
  {
   "cell_type": "code",
   "execution_count": 24,
   "metadata": {},
   "outputs": [],
   "source": [
    "words = ''\n",
    "# iterate through the text attribute in the dataframe splitting the text into the component tokens\n",
    "for val in Data['text'] :\n",
    "    # typecaste each val to string\n",
    "    val = str(val)\n",
    "\n",
    "    # split the value\n",
    "    tokens = val.split()\n",
    "\n",
    "    # Converts each token into lowercase\n",
    "    for i in range(len(tokens)):\n",
    "        tokens[i] = tokens[i].lower()\n",
    "\n",
    "    words += \" \".join(tokens)+\" \""
   ]
  },
  {
   "cell_type": "code",
   "execution_count": 27,
   "metadata": {},
   "outputs": [
    {
     "data": {
      "image/png": "[encoded data removed]",
      "text/plain": [
       "<Figure size 400x400 with 1 Axes>"
      ]
     },
     "metadata": {},
     "output_type": "display_data"
    }
   ],
   "source": [
    "# importing all necessery modules\n",
    "import matplotlib.pyplot as plt\n",
    "from wordcloud import WordCloud, STOPWORDS\n",
    "wordcloud = WordCloud(width = 800, height = 800,\n",
    "                      background_color ='white',\n",
    "                      stopwords = a,#We don't want to see stopwords in the word clous\n",
    "                      min_font_size = 10,\n",
    "                      max_font_size=100,\n",
    "                      max_words=50).generate(words)\n",
    "\n",
    "\n",
    "# plot the WordCloud image\n",
    "plt.figure(figsize = (4, 4), alpha=0.5)\n",
    "plt.imshow(wordcloud)\n",
    "plt.axis(\"off\")\n",
    "plt.tight_layout(pad = 0)\n",
    "\n",
    "plt.show()"
   ]
  },
  {
   "cell_type": "code",
   "execution_count": null,
   "metadata": {},
   "outputs": [],
   "source": []
  }
 ],
 "metadata": {
  "kernelspec": {
   "display_name": "Python 3 (ipykernel)",
   "language": "python",
   "name": "python3"
  },
  "language_info": {
   "codemirror_mode": {
    "name": "ipython",
    "version": 3
   },
   "file_extension": ".py",
   "mimetype": "text/x-python",
   "name": "python",
   "nbconvert_exporter": "python",
   "pygments_lexer": "ipython3",
   "version": "3.9.13"
  }
 },
 "nbformat": 4,
 "nbformat_minor": 1
}
