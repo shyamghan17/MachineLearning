{
 "cells": [
  {
   "cell_type": "code",
   "execution_count": 455,
   "metadata": {
    "collapsed": true
   },
   "outputs": [],
   "source": [
    "import pandas as pd"
   ]
  },
  {
   "cell_type": "code",
   "execution_count": 456,
   "outputs": [
    {
     "data": {
      "text/plain": "         Name  Age  Gender\n10  Ghanshyam   28    Male\n20    Manisha   26  Female\n30    Shaunak    7    Male\n7     Aadarsh   27    male\n3     Kaushal   25    male",
      "text/html": "<div>\n<style scoped>\n    .dataframe tbody tr th:only-of-type {\n        vertical-align: middle;\n    }\n\n    .dataframe tbody tr th {\n        vertical-align: top;\n    }\n\n    .dataframe thead th {\n        text-align: right;\n    }\n</style>\n<table border=\"1\" class=\"dataframe\">\n  <thead>\n    <tr style=\"text-align: right;\">\n      <th></th>\n      <th>Name</th>\n      <th>Age</th>\n      <th>Gender</th>\n    </tr>\n  </thead>\n  <tbody>\n    <tr>\n      <th>10</th>\n      <td>Ghanshyam</td>\n      <td>28</td>\n      <td>Male</td>\n    </tr>\n    <tr>\n      <th>20</th>\n      <td>Manisha</td>\n      <td>26</td>\n      <td>Female</td>\n    </tr>\n    <tr>\n      <th>30</th>\n      <td>Shaunak</td>\n      <td>7</td>\n      <td>Male</td>\n    </tr>\n    <tr>\n      <th>7</th>\n      <td>Aadarsh</td>\n      <td>27</td>\n      <td>male</td>\n    </tr>\n    <tr>\n      <th>3</th>\n      <td>Kaushal</td>\n      <td>25</td>\n      <td>male</td>\n    </tr>\n  </tbody>\n</table>\n</div>"
     },
     "execution_count": 456,
     "metadata": {},
     "output_type": "execute_result"
    }
   ],
   "source": [
    "\n",
    "df = pd.DataFrame({\n",
    "    \"Name\":[\n",
    "        'Ghanshyam',\n",
    "        'Manisha',\n",
    "        'Shaunak',\n",
    "        'Aadarsh',\n",
    "        'Kaushal',\n",
    "        'Santosh',\n",
    "        'elina'\n",
    "    ],\n",
    "    \"Age\":[28, 26, 7, 27, 25, 35, 30],\n",
    "    \"Gender\":['Male', 'Female', 'Male','male', 'male', 'Male', 'female']\n",
    "},  index=([10, 20, 30, 7, 3, 4, 5]))\n",
    "\n",
    "df.head()"
   ],
   "metadata": {
    "collapsed": false
   }
  },
  {
   "cell_type": "code",
   "execution_count": 457,
   "outputs": [
    {
     "data": {
      "text/plain": "0    28\n1    38\n2    48\nName: Age, dtype: int64"
     },
     "execution_count": 457,
     "metadata": {},
     "output_type": "execute_result"
    }
   ],
   "source": [
    "age = pd.Series([28, 38, 48], name = \"Age\")\n",
    "age"
   ],
   "metadata": {
    "collapsed": false
   }
  },
  {
   "cell_type": "code",
   "execution_count": 458,
   "outputs": [
    {
     "data": {
      "text/plain": "10    28\n20    26\n30     7\n7     27\n3     25\n4     35\n5     30\nName: Age, dtype: int64"
     },
     "execution_count": 458,
     "metadata": {},
     "output_type": "execute_result"
    }
   ],
   "source": [
    "df['Age']"
   ],
   "metadata": {
    "collapsed": false
   }
  },
  {
   "cell_type": "code",
   "execution_count": 459,
   "outputs": [
    {
     "data": {
      "text/plain": "10    28\n20    26\n30     7\n7     27\n3     25\n4     35\n5     30\nName: Age, dtype: int64"
     },
     "execution_count": 459,
     "metadata": {},
     "output_type": "execute_result"
    }
   ],
   "source": [
    "df['Age']"
   ],
   "metadata": {
    "collapsed": false
   }
  },
  {
   "cell_type": "code",
   "execution_count": 460,
   "outputs": [],
   "source": [
    "# droplist = {'Age'}\n",
    "# df.drop(droplist, axis=1, inplace = True)"
   ],
   "metadata": {
    "collapsed": false
   }
  },
  {
   "cell_type": "code",
   "execution_count": 461,
   "outputs": [],
   "source": [
    "# df.drop({\"Name\", 'Age'}, inplace=True, axis =1)"
   ],
   "metadata": {
    "collapsed": false
   }
  },
  {
   "cell_type": "code",
   "execution_count": 462,
   "outputs": [
    {
     "data": {
      "text/plain": "         Name  Age  Gender\n10  Ghanshyam   28    Male\n20    Manisha   26  Female\n30    Shaunak    7    Male\n7     Aadarsh   27    male\n3     Kaushal   25    male\n4     Santosh   35    Male\n5       elina   30  female",
      "text/html": "<div>\n<style scoped>\n    .dataframe tbody tr th:only-of-type {\n        vertical-align: middle;\n    }\n\n    .dataframe tbody tr th {\n        vertical-align: top;\n    }\n\n    .dataframe thead th {\n        text-align: right;\n    }\n</style>\n<table border=\"1\" class=\"dataframe\">\n  <thead>\n    <tr style=\"text-align: right;\">\n      <th></th>\n      <th>Name</th>\n      <th>Age</th>\n      <th>Gender</th>\n    </tr>\n  </thead>\n  <tbody>\n    <tr>\n      <th>10</th>\n      <td>Ghanshyam</td>\n      <td>28</td>\n      <td>Male</td>\n    </tr>\n    <tr>\n      <th>20</th>\n      <td>Manisha</td>\n      <td>26</td>\n      <td>Female</td>\n    </tr>\n    <tr>\n      <th>30</th>\n      <td>Shaunak</td>\n      <td>7</td>\n      <td>Male</td>\n    </tr>\n    <tr>\n      <th>7</th>\n      <td>Aadarsh</td>\n      <td>27</td>\n      <td>male</td>\n    </tr>\n    <tr>\n      <th>3</th>\n      <td>Kaushal</td>\n      <td>25</td>\n      <td>male</td>\n    </tr>\n    <tr>\n      <th>4</th>\n      <td>Santosh</td>\n      <td>35</td>\n      <td>Male</td>\n    </tr>\n    <tr>\n      <th>5</th>\n      <td>elina</td>\n      <td>30</td>\n      <td>female</td>\n    </tr>\n  </tbody>\n</table>\n</div>"
     },
     "execution_count": 462,
     "metadata": {},
     "output_type": "execute_result"
    }
   ],
   "source": [
    "df"
   ],
   "metadata": {
    "collapsed": false
   }
  },
  {
   "cell_type": "code",
   "execution_count": 463,
   "outputs": [
    {
     "data": {
      "text/plain": "     PassengerId  Survived  Pclass  \\\n0              1         0       3   \n1              2         1       1   \n2              3         1       3   \n3              4         1       1   \n4              5         0       3   \n..           ...       ...     ...   \n886          887         0       2   \n887          888         1       1   \n888          889         0       3   \n889          890         1       1   \n890          891         0       3   \n\n                                                  Name     Sex   Age  SibSp  \\\n0                              Braund, Mr. Owen Harris    male  22.0      1   \n1    Cumings, Mrs. John Bradley (Florence Briggs Th...  female  38.0      1   \n2                               Heikkinen, Miss. Laina  female  26.0      0   \n3         Futrelle, Mrs. Jacques Heath (Lily May Peel)  female  35.0      1   \n4                             Allen, Mr. William Henry    male  35.0      0   \n..                                                 ...     ...   ...    ...   \n886                              Montvila, Rev. Juozas    male  27.0      0   \n887                       Graham, Miss. Margaret Edith  female  19.0      0   \n888           Johnston, Miss. Catherine Helen \"Carrie\"  female   NaN      1   \n889                              Behr, Mr. Karl Howell    male  26.0      0   \n890                                Dooley, Mr. Patrick    male  32.0      0   \n\n     Parch            Ticket     Fare Cabin Embarked  \n0        0         A/5 21171   7.2500   NaN        S  \n1        0          PC 17599  71.2833   C85        C  \n2        0  STON/O2. 3101282   7.9250   NaN        S  \n3        0            113803  53.1000  C123        S  \n4        0            373450   8.0500   NaN        S  \n..     ...               ...      ...   ...      ...  \n886      0            211536  13.0000   NaN        S  \n887      0            112053  30.0000   B42        S  \n888      2        W./C. 6607  23.4500   NaN        S  \n889      0            111369  30.0000  C148        C  \n890      0            370376   7.7500   NaN        Q  \n\n[891 rows x 12 columns]",
      "text/html": "<div>\n<style scoped>\n    .dataframe tbody tr th:only-of-type {\n        vertical-align: middle;\n    }\n\n    .dataframe tbody tr th {\n        vertical-align: top;\n    }\n\n    .dataframe thead th {\n        text-align: right;\n    }\n</style>\n<table border=\"1\" class=\"dataframe\">\n  <thead>\n    <tr style=\"text-align: right;\">\n      <th></th>\n      <th>PassengerId</th>\n      <th>Survived</th>\n      <th>Pclass</th>\n      <th>Name</th>\n      <th>Sex</th>\n      <th>Age</th>\n      <th>SibSp</th>\n      <th>Parch</th>\n      <th>Ticket</th>\n      <th>Fare</th>\n      <th>Cabin</th>\n      <th>Embarked</th>\n    </tr>\n  </thead>\n  <tbody>\n    <tr>\n      <th>0</th>\n      <td>1</td>\n      <td>0</td>\n      <td>3</td>\n      <td>Braund, Mr. Owen Harris</td>\n      <td>male</td>\n      <td>22.0</td>\n      <td>1</td>\n      <td>0</td>\n      <td>A/5 21171</td>\n      <td>7.2500</td>\n      <td>NaN</td>\n      <td>S</td>\n    </tr>\n    <tr>\n      <th>1</th>\n      <td>2</td>\n      <td>1</td>\n      <td>1</td>\n      <td>Cumings, Mrs. John Bradley (Florence Briggs Th...</td>\n      <td>female</td>\n      <td>38.0</td>\n      <td>1</td>\n      <td>0</td>\n      <td>PC 17599</td>\n      <td>71.2833</td>\n      <td>C85</td>\n      <td>C</td>\n    </tr>\n    <tr>\n      <th>2</th>\n      <td>3</td>\n      <td>1</td>\n      <td>3</td>\n      <td>Heikkinen, Miss. Laina</td>\n      <td>female</td>\n      <td>26.0</td>\n      <td>0</td>\n      <td>0</td>\n      <td>STON/O2. 3101282</td>\n      <td>7.9250</td>\n      <td>NaN</td>\n      <td>S</td>\n    </tr>\n    <tr>\n      <th>3</th>\n      <td>4</td>\n      <td>1</td>\n      <td>1</td>\n      <td>Futrelle, Mrs. Jacques Heath (Lily May Peel)</td>\n      <td>female</td>\n      <td>35.0</td>\n      <td>1</td>\n      <td>0</td>\n      <td>113803</td>\n      <td>53.1000</td>\n      <td>C123</td>\n      <td>S</td>\n    </tr>\n    <tr>\n      <th>4</th>\n      <td>5</td>\n      <td>0</td>\n      <td>3</td>\n      <td>Allen, Mr. William Henry</td>\n      <td>male</td>\n      <td>35.0</td>\n      <td>0</td>\n      <td>0</td>\n      <td>373450</td>\n      <td>8.0500</td>\n      <td>NaN</td>\n      <td>S</td>\n    </tr>\n    <tr>\n      <th>...</th>\n      <td>...</td>\n      <td>...</td>\n      <td>...</td>\n      <td>...</td>\n      <td>...</td>\n      <td>...</td>\n      <td>...</td>\n      <td>...</td>\n      <td>...</td>\n      <td>...</td>\n      <td>...</td>\n      <td>...</td>\n    </tr>\n    <tr>\n      <th>886</th>\n      <td>887</td>\n      <td>0</td>\n      <td>2</td>\n      <td>Montvila, Rev. Juozas</td>\n      <td>male</td>\n      <td>27.0</td>\n      <td>0</td>\n      <td>0</td>\n      <td>211536</td>\n      <td>13.0000</td>\n      <td>NaN</td>\n      <td>S</td>\n    </tr>\n    <tr>\n      <th>887</th>\n      <td>888</td>\n      <td>1</td>\n      <td>1</td>\n      <td>Graham, Miss. Margaret Edith</td>\n      <td>female</td>\n      <td>19.0</td>\n      <td>0</td>\n      <td>0</td>\n      <td>112053</td>\n      <td>30.0000</td>\n      <td>B42</td>\n      <td>S</td>\n    </tr>\n    <tr>\n      <th>888</th>\n      <td>889</td>\n      <td>0</td>\n      <td>3</td>\n      <td>Johnston, Miss. Catherine Helen \"Carrie\"</td>\n      <td>female</td>\n      <td>NaN</td>\n      <td>1</td>\n      <td>2</td>\n      <td>W./C. 6607</td>\n      <td>23.4500</td>\n      <td>NaN</td>\n      <td>S</td>\n    </tr>\n    <tr>\n      <th>889</th>\n      <td>890</td>\n      <td>1</td>\n      <td>1</td>\n      <td>Behr, Mr. Karl Howell</td>\n      <td>male</td>\n      <td>26.0</td>\n      <td>0</td>\n      <td>0</td>\n      <td>111369</td>\n      <td>30.0000</td>\n      <td>C148</td>\n      <td>C</td>\n    </tr>\n    <tr>\n      <th>890</th>\n      <td>891</td>\n      <td>0</td>\n      <td>3</td>\n      <td>Dooley, Mr. Patrick</td>\n      <td>male</td>\n      <td>32.0</td>\n      <td>0</td>\n      <td>0</td>\n      <td>370376</td>\n      <td>7.7500</td>\n      <td>NaN</td>\n      <td>Q</td>\n    </tr>\n  </tbody>\n</table>\n<p>891 rows × 12 columns</p>\n</div>"
     },
     "execution_count": 463,
     "metadata": {},
     "output_type": "execute_result"
    }
   ],
   "source": [
    "df_titanic = pd.read_csv('https://raw.githubusercontent.com/pandas-dev/pandas/main/doc/data/titanic.csv')\n",
    "df_titanic"
   ],
   "metadata": {
    "collapsed": false
   }
  },
  {
   "cell_type": "code",
   "execution_count": 464,
   "outputs": [
    {
     "data": {
      "text/plain": "       PassengerId    Survived      Pclass         Age       SibSp  \\\ncount   891.000000  891.000000  891.000000  714.000000  891.000000   \nmean    446.000000    0.383838    2.308642   29.699118    0.523008   \nstd     257.353842    0.486592    0.836071   14.526497    1.102743   \nmin       1.000000    0.000000    1.000000    0.420000    0.000000   \n25%     223.500000    0.000000    2.000000   20.125000    0.000000   \n50%     446.000000    0.000000    3.000000   28.000000    0.000000   \n75%     668.500000    1.000000    3.000000   38.000000    1.000000   \nmax     891.000000    1.000000    3.000000   80.000000    8.000000   \n\n            Parch        Fare  \ncount  891.000000  891.000000  \nmean     0.381594   32.204208  \nstd      0.806057   49.693429  \nmin      0.000000    0.000000  \n25%      0.000000    7.910400  \n50%      0.000000   14.454200  \n75%      0.000000   31.000000  \nmax      6.000000  512.329200  ",
      "text/html": "<div>\n<style scoped>\n    .dataframe tbody tr th:only-of-type {\n        vertical-align: middle;\n    }\n\n    .dataframe tbody tr th {\n        vertical-align: top;\n    }\n\n    .dataframe thead th {\n        text-align: right;\n    }\n</style>\n<table border=\"1\" class=\"dataframe\">\n  <thead>\n    <tr style=\"text-align: right;\">\n      <th></th>\n      <th>PassengerId</th>\n      <th>Survived</th>\n      <th>Pclass</th>\n      <th>Age</th>\n      <th>SibSp</th>\n      <th>Parch</th>\n      <th>Fare</th>\n    </tr>\n  </thead>\n  <tbody>\n    <tr>\n      <th>count</th>\n      <td>891.000000</td>\n      <td>891.000000</td>\n      <td>891.000000</td>\n      <td>714.000000</td>\n      <td>891.000000</td>\n      <td>891.000000</td>\n      <td>891.000000</td>\n    </tr>\n    <tr>\n      <th>mean</th>\n      <td>446.000000</td>\n      <td>0.383838</td>\n      <td>2.308642</td>\n      <td>29.699118</td>\n      <td>0.523008</td>\n      <td>0.381594</td>\n      <td>32.204208</td>\n    </tr>\n    <tr>\n      <th>std</th>\n      <td>257.353842</td>\n      <td>0.486592</td>\n      <td>0.836071</td>\n      <td>14.526497</td>\n      <td>1.102743</td>\n      <td>0.806057</td>\n      <td>49.693429</td>\n    </tr>\n    <tr>\n      <th>min</th>\n      <td>1.000000</td>\n      <td>0.000000</td>\n      <td>1.000000</td>\n      <td>0.420000</td>\n      <td>0.000000</td>\n      <td>0.000000</td>\n      <td>0.000000</td>\n    </tr>\n    <tr>\n      <th>25%</th>\n      <td>223.500000</td>\n      <td>0.000000</td>\n      <td>2.000000</td>\n      <td>20.125000</td>\n      <td>0.000000</td>\n      <td>0.000000</td>\n      <td>7.910400</td>\n    </tr>\n    <tr>\n      <th>50%</th>\n      <td>446.000000</td>\n      <td>0.000000</td>\n      <td>3.000000</td>\n      <td>28.000000</td>\n      <td>0.000000</td>\n      <td>0.000000</td>\n      <td>14.454200</td>\n    </tr>\n    <tr>\n      <th>75%</th>\n      <td>668.500000</td>\n      <td>1.000000</td>\n      <td>3.000000</td>\n      <td>38.000000</td>\n      <td>1.000000</td>\n      <td>0.000000</td>\n      <td>31.000000</td>\n    </tr>\n    <tr>\n      <th>max</th>\n      <td>891.000000</td>\n      <td>1.000000</td>\n      <td>3.000000</td>\n      <td>80.000000</td>\n      <td>8.000000</td>\n      <td>6.000000</td>\n      <td>512.329200</td>\n    </tr>\n  </tbody>\n</table>\n</div>"
     },
     "execution_count": 464,
     "metadata": {},
     "output_type": "execute_result"
    }
   ],
   "source": [
    "df_titanic.describe()"
   ],
   "metadata": {
    "collapsed": false
   }
  },
  {
   "cell_type": "code",
   "execution_count": 465,
   "outputs": [
    {
     "data": {
      "text/plain": "PassengerId      0\nSurvived         0\nPclass           0\nName             0\nSex              0\nAge            177\nSibSp            0\nParch            0\nTicket           0\nFare             0\nCabin          687\nEmbarked         2\ndtype: int64"
     },
     "execution_count": 465,
     "metadata": {},
     "output_type": "execute_result"
    }
   ],
   "source": [
    "df_titanic.isna().sum()"
   ],
   "metadata": {
    "collapsed": false
   }
  },
  {
   "cell_type": "code",
   "execution_count": 466,
   "outputs": [
    {
     "data": {
      "text/plain": "Index(['PassengerId', 'Survived', 'Pclass', 'Name', 'Sex', 'Age', 'SibSp',\n       'Parch', 'Ticket', 'Fare', 'Cabin', 'Embarked'],\n      dtype='object')"
     },
     "execution_count": 466,
     "metadata": {},
     "output_type": "execute_result"
    }
   ],
   "source": [
    "df_titanic.columns"
   ],
   "metadata": {
    "collapsed": false
   }
  },
  {
   "cell_type": "code",
   "execution_count": 467,
   "outputs": [
    {
     "data": {
      "text/plain": "0      22.0\n1      38.0\n2      26.0\n3      35.0\n4      35.0\n       ... \n886    27.0\n887    19.0\n888     NaN\n889    26.0\n890    32.0\nName: Age, Length: 891, dtype: float64"
     },
     "execution_count": 467,
     "metadata": {},
     "output_type": "execute_result"
    }
   ],
   "source": [
    "df_mean = df_titanic['Age'].mean()\n",
    "df_titanic['Age']"
   ],
   "metadata": {
    "collapsed": false
   }
  },
  {
   "cell_type": "code",
   "execution_count": 468,
   "outputs": [],
   "source": [
    "df_titanic[\"Age\"]= df_titanic['Age'].fillna(df_titanic['Age'].mean(),  axis=0)\n",
    "# df_titanic['Age'] = df_titanic['Age'].fillna(df_titanic['Age'].mean(), axis=0,)"
   ],
   "metadata": {
    "collapsed": false
   }
  },
  {
   "cell_type": "code",
   "execution_count": 469,
   "outputs": [
    {
     "data": {
      "text/plain": "0      False\n1      False\n2      False\n3      False\n4      False\n       ...  \n886    False\n887    False\n888    False\n889    False\n890    False\nName: Age, Length: 891, dtype: bool"
     },
     "execution_count": 469,
     "metadata": {},
     "output_type": "execute_result"
    }
   ],
   "source": [
    "df_titanic['Age'].isna()"
   ],
   "metadata": {
    "collapsed": false
   }
  },
  {
   "cell_type": "code",
   "execution_count": 470,
   "outputs": [
    {
     "data": {
      "text/plain": "PassengerId      int64\nSurvived         int64\nPclass           int64\nName            object\nSex             object\nAge            float64\nSibSp            int64\nParch            int64\nTicket          object\nFare           float64\nCabin           object\nEmbarked        object\ndtype: object"
     },
     "execution_count": 470,
     "metadata": {},
     "output_type": "execute_result"
    }
   ],
   "source": [
    "df_titanic.dtypes"
   ],
   "metadata": {
    "collapsed": false
   }
  },
  {
   "cell_type": "code",
   "execution_count": 471,
   "outputs": [],
   "source": [
    "df_titanic['Embarked'] = df_titanic['Embarked'].fillna(df_titanic['Embarked'].mode())"
   ],
   "metadata": {
    "collapsed": false
   }
  },
  {
   "cell_type": "code",
   "execution_count": 472,
   "outputs": [
    {
     "data": {
      "text/plain": "PassengerId    891\nSurvived       891\nPclass         891\nName           891\nSex            891\nAge            891\nSibSp          891\nParch          891\nTicket         891\nFare           891\nCabin          891\nEmbarked       891\ndtype: int64"
     },
     "execution_count": 472,
     "metadata": {},
     "output_type": "execute_result"
    }
   ],
   "source": [
    "df_titanic.isna().count()"
   ],
   "metadata": {
    "collapsed": false
   }
  },
  {
   "cell_type": "code",
   "execution_count": 473,
   "outputs": [
    {
     "data": {
      "text/plain": "     PassengerId  Survived  Pclass  \\\n0              1         0       3   \n1              2         1       1   \n2              3         1       3   \n3              4         1       1   \n4              5         0       3   \n..           ...       ...     ...   \n886          887         0       2   \n887          888         1       1   \n888          889         0       3   \n889          890         1       1   \n890          891         0       3   \n\n                                                  Name     Sex        Age  \\\n0                              Braund, Mr. Owen Harris    male  22.000000   \n1    Cumings, Mrs. John Bradley (Florence Briggs Th...  female  38.000000   \n2                               Heikkinen, Miss. Laina  female  26.000000   \n3         Futrelle, Mrs. Jacques Heath (Lily May Peel)  female  35.000000   \n4                             Allen, Mr. William Henry    male  35.000000   \n..                                                 ...     ...        ...   \n886                              Montvila, Rev. Juozas    male  27.000000   \n887                       Graham, Miss. Margaret Edith  female  19.000000   \n888           Johnston, Miss. Catherine Helen \"Carrie\"  female  29.699118   \n889                              Behr, Mr. Karl Howell    male  26.000000   \n890                                Dooley, Mr. Patrick    male  32.000000   \n\n     SibSp  Parch            Ticket     Fare Cabin Embarked  \n0        1      0         A/5 21171   7.2500   NaN        S  \n1        1      0          PC 17599  71.2833   C85        C  \n2        0      0  STON/O2. 3101282   7.9250   NaN        S  \n3        1      0            113803  53.1000  C123        S  \n4        0      0            373450   8.0500   NaN        S  \n..     ...    ...               ...      ...   ...      ...  \n886      0      0            211536  13.0000   NaN        S  \n887      0      0            112053  30.0000   B42        S  \n888      1      2        W./C. 6607  23.4500   NaN        S  \n889      0      0            111369  30.0000  C148        C  \n890      0      0            370376   7.7500   NaN        Q  \n\n[891 rows x 12 columns]",
      "text/html": "<div>\n<style scoped>\n    .dataframe tbody tr th:only-of-type {\n        vertical-align: middle;\n    }\n\n    .dataframe tbody tr th {\n        vertical-align: top;\n    }\n\n    .dataframe thead th {\n        text-align: right;\n    }\n</style>\n<table border=\"1\" class=\"dataframe\">\n  <thead>\n    <tr style=\"text-align: right;\">\n      <th></th>\n      <th>PassengerId</th>\n      <th>Survived</th>\n      <th>Pclass</th>\n      <th>Name</th>\n      <th>Sex</th>\n      <th>Age</th>\n      <th>SibSp</th>\n      <th>Parch</th>\n      <th>Ticket</th>\n      <th>Fare</th>\n      <th>Cabin</th>\n      <th>Embarked</th>\n    </tr>\n  </thead>\n  <tbody>\n    <tr>\n      <th>0</th>\n      <td>1</td>\n      <td>0</td>\n      <td>3</td>\n      <td>Braund, Mr. Owen Harris</td>\n      <td>male</td>\n      <td>22.000000</td>\n      <td>1</td>\n      <td>0</td>\n      <td>A/5 21171</td>\n      <td>7.2500</td>\n      <td>NaN</td>\n      <td>S</td>\n    </tr>\n    <tr>\n      <th>1</th>\n      <td>2</td>\n      <td>1</td>\n      <td>1</td>\n      <td>Cumings, Mrs. John Bradley (Florence Briggs Th...</td>\n      <td>female</td>\n      <td>38.000000</td>\n      <td>1</td>\n      <td>0</td>\n      <td>PC 17599</td>\n      <td>71.2833</td>\n      <td>C85</td>\n      <td>C</td>\n    </tr>\n    <tr>\n      <th>2</th>\n      <td>3</td>\n      <td>1</td>\n      <td>3</td>\n      <td>Heikkinen, Miss. Laina</td>\n      <td>female</td>\n      <td>26.000000</td>\n      <td>0</td>\n      <td>0</td>\n      <td>STON/O2. 3101282</td>\n      <td>7.9250</td>\n      <td>NaN</td>\n      <td>S</td>\n    </tr>\n    <tr>\n      <th>3</th>\n      <td>4</td>\n      <td>1</td>\n      <td>1</td>\n      <td>Futrelle, Mrs. Jacques Heath (Lily May Peel)</td>\n      <td>female</td>\n      <td>35.000000</td>\n      <td>1</td>\n      <td>0</td>\n      <td>113803</td>\n      <td>53.1000</td>\n      <td>C123</td>\n      <td>S</td>\n    </tr>\n    <tr>\n      <th>4</th>\n      <td>5</td>\n      <td>0</td>\n      <td>3</td>\n      <td>Allen, Mr. William Henry</td>\n      <td>male</td>\n      <td>35.000000</td>\n      <td>0</td>\n      <td>0</td>\n      <td>373450</td>\n      <td>8.0500</td>\n      <td>NaN</td>\n      <td>S</td>\n    </tr>\n    <tr>\n      <th>...</th>\n      <td>...</td>\n      <td>...</td>\n      <td>...</td>\n      <td>...</td>\n      <td>...</td>\n      <td>...</td>\n      <td>...</td>\n      <td>...</td>\n      <td>...</td>\n      <td>...</td>\n      <td>...</td>\n      <td>...</td>\n    </tr>\n    <tr>\n      <th>886</th>\n      <td>887</td>\n      <td>0</td>\n      <td>2</td>\n      <td>Montvila, Rev. Juozas</td>\n      <td>male</td>\n      <td>27.000000</td>\n      <td>0</td>\n      <td>0</td>\n      <td>211536</td>\n      <td>13.0000</td>\n      <td>NaN</td>\n      <td>S</td>\n    </tr>\n    <tr>\n      <th>887</th>\n      <td>888</td>\n      <td>1</td>\n      <td>1</td>\n      <td>Graham, Miss. Margaret Edith</td>\n      <td>female</td>\n      <td>19.000000</td>\n      <td>0</td>\n      <td>0</td>\n      <td>112053</td>\n      <td>30.0000</td>\n      <td>B42</td>\n      <td>S</td>\n    </tr>\n    <tr>\n      <th>888</th>\n      <td>889</td>\n      <td>0</td>\n      <td>3</td>\n      <td>Johnston, Miss. Catherine Helen \"Carrie\"</td>\n      <td>female</td>\n      <td>29.699118</td>\n      <td>1</td>\n      <td>2</td>\n      <td>W./C. 6607</td>\n      <td>23.4500</td>\n      <td>NaN</td>\n      <td>S</td>\n    </tr>\n    <tr>\n      <th>889</th>\n      <td>890</td>\n      <td>1</td>\n      <td>1</td>\n      <td>Behr, Mr. Karl Howell</td>\n      <td>male</td>\n      <td>26.000000</td>\n      <td>0</td>\n      <td>0</td>\n      <td>111369</td>\n      <td>30.0000</td>\n      <td>C148</td>\n      <td>C</td>\n    </tr>\n    <tr>\n      <th>890</th>\n      <td>891</td>\n      <td>0</td>\n      <td>3</td>\n      <td>Dooley, Mr. Patrick</td>\n      <td>male</td>\n      <td>32.000000</td>\n      <td>0</td>\n      <td>0</td>\n      <td>370376</td>\n      <td>7.7500</td>\n      <td>NaN</td>\n      <td>Q</td>\n    </tr>\n  </tbody>\n</table>\n<p>891 rows × 12 columns</p>\n</div>"
     },
     "execution_count": 473,
     "metadata": {},
     "output_type": "execute_result"
    }
   ],
   "source": [
    "df_titanic"
   ],
   "metadata": {
    "collapsed": false
   }
  },
  {
   "cell_type": "code",
   "execution_count": 474,
   "outputs": [
    {
     "data": {
      "text/plain": "         Name  Age  Gender\n10  Ghanshyam   28    Male\n20    Manisha   26  Female\n30    Shaunak    7    Male\n7     Aadarsh   27    male\n3     Kaushal   25    male\n4     Santosh   35    Male\n5       elina   30  female",
      "text/html": "<div>\n<style scoped>\n    .dataframe tbody tr th:only-of-type {\n        vertical-align: middle;\n    }\n\n    .dataframe tbody tr th {\n        vertical-align: top;\n    }\n\n    .dataframe thead th {\n        text-align: right;\n    }\n</style>\n<table border=\"1\" class=\"dataframe\">\n  <thead>\n    <tr style=\"text-align: right;\">\n      <th></th>\n      <th>Name</th>\n      <th>Age</th>\n      <th>Gender</th>\n    </tr>\n  </thead>\n  <tbody>\n    <tr>\n      <th>10</th>\n      <td>Ghanshyam</td>\n      <td>28</td>\n      <td>Male</td>\n    </tr>\n    <tr>\n      <th>20</th>\n      <td>Manisha</td>\n      <td>26</td>\n      <td>Female</td>\n    </tr>\n    <tr>\n      <th>30</th>\n      <td>Shaunak</td>\n      <td>7</td>\n      <td>Male</td>\n    </tr>\n    <tr>\n      <th>7</th>\n      <td>Aadarsh</td>\n      <td>27</td>\n      <td>male</td>\n    </tr>\n    <tr>\n      <th>3</th>\n      <td>Kaushal</td>\n      <td>25</td>\n      <td>male</td>\n    </tr>\n    <tr>\n      <th>4</th>\n      <td>Santosh</td>\n      <td>35</td>\n      <td>Male</td>\n    </tr>\n    <tr>\n      <th>5</th>\n      <td>elina</td>\n      <td>30</td>\n      <td>female</td>\n    </tr>\n  </tbody>\n</table>\n</div>"
     },
     "execution_count": 474,
     "metadata": {},
     "output_type": "execute_result"
    }
   ],
   "source": [
    "df"
   ],
   "metadata": {
    "collapsed": false
   }
  },
  {
   "cell_type": "code",
   "execution_count": 475,
   "outputs": [
    {
     "data": {
      "text/plain": "<bound method DataFrame.to_numpy of          Name  Age  Gender\n10  Ghanshyam   28    Male\n20    Manisha   26  Female\n30    Shaunak    7    Male\n7     Aadarsh   27    male\n3     Kaushal   25    male\n4     Santosh   35    Male\n5       elina   30  female>"
     },
     "execution_count": 475,
     "metadata": {},
     "output_type": "execute_result"
    }
   ],
   "source": [
    "df.to_numpy"
   ],
   "metadata": {
    "collapsed": false
   }
  },
  {
   "cell_type": "code",
   "execution_count": 476,
   "outputs": [
    {
     "data": {
      "text/plain": "Int64Index([10, 20, 30, 7, 3, 4, 5], dtype='int64')"
     },
     "execution_count": 476,
     "metadata": {},
     "output_type": "execute_result"
    }
   ],
   "source": [
    "df.index"
   ],
   "metadata": {
    "collapsed": false
   }
  },
  {
   "cell_type": "code",
   "execution_count": 477,
   "outputs": [
    {
     "data": {
      "text/plain": "         Name  Age  Gender\n10  Ghanshyam   28    Male\n20    Manisha   26  Female\n30    Shaunak    7    Male\n7     Aadarsh   27    male\n3     Kaushal   25    male\n4     Santosh   35    Male\n5       elina   30  female",
      "text/html": "<div>\n<style scoped>\n    .dataframe tbody tr th:only-of-type {\n        vertical-align: middle;\n    }\n\n    .dataframe tbody tr th {\n        vertical-align: top;\n    }\n\n    .dataframe thead th {\n        text-align: right;\n    }\n</style>\n<table border=\"1\" class=\"dataframe\">\n  <thead>\n    <tr style=\"text-align: right;\">\n      <th></th>\n      <th>Name</th>\n      <th>Age</th>\n      <th>Gender</th>\n    </tr>\n  </thead>\n  <tbody>\n    <tr>\n      <th>10</th>\n      <td>Ghanshyam</td>\n      <td>28</td>\n      <td>Male</td>\n    </tr>\n    <tr>\n      <th>20</th>\n      <td>Manisha</td>\n      <td>26</td>\n      <td>Female</td>\n    </tr>\n    <tr>\n      <th>30</th>\n      <td>Shaunak</td>\n      <td>7</td>\n      <td>Male</td>\n    </tr>\n    <tr>\n      <th>7</th>\n      <td>Aadarsh</td>\n      <td>27</td>\n      <td>male</td>\n    </tr>\n    <tr>\n      <th>3</th>\n      <td>Kaushal</td>\n      <td>25</td>\n      <td>male</td>\n    </tr>\n    <tr>\n      <th>4</th>\n      <td>Santosh</td>\n      <td>35</td>\n      <td>Male</td>\n    </tr>\n    <tr>\n      <th>5</th>\n      <td>elina</td>\n      <td>30</td>\n      <td>female</td>\n    </tr>\n  </tbody>\n</table>\n</div>"
     },
     "execution_count": 477,
     "metadata": {},
     "output_type": "execute_result"
    }
   ],
   "source": [
    "df"
   ],
   "metadata": {
    "collapsed": false
   }
  },
  {
   "cell_type": "code",
   "execution_count": 478,
   "outputs": [
    {
     "name": "stdout",
     "output_type": "stream",
     "text": [
      "<class 'pandas.core.frame.DataFrame'>\n",
      "Index: 3 entries, Name to Gender\n",
      "Data columns (total 7 columns):\n",
      " #   Column  Non-Null Count  Dtype \n",
      "---  ------  --------------  ----- \n",
      " 0   10      3 non-null      object\n",
      " 1   20      3 non-null      object\n",
      " 2   30      3 non-null      object\n",
      " 3   7       3 non-null      object\n",
      " 4   3       3 non-null      object\n",
      " 5   4       3 non-null      object\n",
      " 6   5       3 non-null      object\n",
      "dtypes: object(7)\n",
      "memory usage: 300.0+ bytes\n"
     ]
    }
   ],
   "source": [
    "df.T.info()"
   ],
   "metadata": {
    "collapsed": false
   }
  },
  {
   "cell_type": "code",
   "execution_count": 479,
   "outputs": [
    {
     "name": "stdout",
     "output_type": "stream",
     "text": [
      "<class 'pandas.core.frame.DataFrame'>\n",
      "Int64Index: 7 entries, 10 to 5\n",
      "Data columns (total 3 columns):\n",
      " #   Column  Non-Null Count  Dtype \n",
      "---  ------  --------------  ----- \n",
      " 0   Name    7 non-null      object\n",
      " 1   Age     7 non-null      int64 \n",
      " 2   Gender  7 non-null      object\n",
      "dtypes: int64(1), object(2)\n",
      "memory usage: 524.0+ bytes\n"
     ]
    }
   ],
   "source": [
    "df.info(verbose = True)"
   ],
   "metadata": {
    "collapsed": false
   }
  },
  {
   "cell_type": "markdown",
   "source": [
    "### pandas dataframe - select_dtypes"
   ],
   "metadata": {
    "collapsed": false
   }
  },
  {
   "cell_type": "code",
   "execution_count": 480,
   "outputs": [
    {
     "data": {
      "text/plain": "PassengerId    0\nSurvived       0\nPclass         0\nSibSp          0\nParch          0\ndtype: int64"
     },
     "execution_count": 480,
     "metadata": {},
     "output_type": "execute_result"
    }
   ],
   "source": [
    "df_titanic.select_dtypes\\\n",
    "    (include = 'int').isna().sum()"
   ],
   "metadata": {
    "collapsed": false
   }
  },
  {
   "cell_type": "code",
   "execution_count": 481,
   "outputs": [
    {
     "data": {
      "text/plain": "Name          0\nSex           0\nAge           0\nTicket        0\nFare          0\nCabin       687\nEmbarked      2\ndtype: int64"
     },
     "execution_count": 481,
     "metadata": {},
     "output_type": "execute_result"
    }
   ],
   "source": [
    "df_titanic.select_dtypes\\\n",
    "    (exclude = 'int').isna().sum()"
   ],
   "metadata": {
    "collapsed": false
   }
  },
  {
   "cell_type": "code",
   "execution_count": 482,
   "outputs": [
    {
     "data": {
      "text/plain": "                                                  Name     Sex  \\\n0                              Braund, Mr. Owen Harris    male   \n1    Cumings, Mrs. John Bradley (Florence Briggs Th...  female   \n2                               Heikkinen, Miss. Laina  female   \n3         Futrelle, Mrs. Jacques Heath (Lily May Peel)  female   \n4                             Allen, Mr. William Henry    male   \n..                                                 ...     ...   \n886                              Montvila, Rev. Juozas    male   \n887                       Graham, Miss. Margaret Edith  female   \n888           Johnston, Miss. Catherine Helen \"Carrie\"  female   \n889                              Behr, Mr. Karl Howell    male   \n890                                Dooley, Mr. Patrick    male   \n\n               Ticket Cabin Embarked  \n0           A/5 21171   NaN        S  \n1            PC 17599   C85        C  \n2    STON/O2. 3101282   NaN        S  \n3              113803  C123        S  \n4              373450   NaN        S  \n..                ...   ...      ...  \n886            211536   NaN        S  \n887            112053   B42        S  \n888        W./C. 6607   NaN        S  \n889            111369  C148        C  \n890            370376   NaN        Q  \n\n[891 rows x 5 columns]",
      "text/html": "<div>\n<style scoped>\n    .dataframe tbody tr th:only-of-type {\n        vertical-align: middle;\n    }\n\n    .dataframe tbody tr th {\n        vertical-align: top;\n    }\n\n    .dataframe thead th {\n        text-align: right;\n    }\n</style>\n<table border=\"1\" class=\"dataframe\">\n  <thead>\n    <tr style=\"text-align: right;\">\n      <th></th>\n      <th>Name</th>\n      <th>Sex</th>\n      <th>Ticket</th>\n      <th>Cabin</th>\n      <th>Embarked</th>\n    </tr>\n  </thead>\n  <tbody>\n    <tr>\n      <th>0</th>\n      <td>Braund, Mr. Owen Harris</td>\n      <td>male</td>\n      <td>A/5 21171</td>\n      <td>NaN</td>\n      <td>S</td>\n    </tr>\n    <tr>\n      <th>1</th>\n      <td>Cumings, Mrs. John Bradley (Florence Briggs Th...</td>\n      <td>female</td>\n      <td>PC 17599</td>\n      <td>C85</td>\n      <td>C</td>\n    </tr>\n    <tr>\n      <th>2</th>\n      <td>Heikkinen, Miss. Laina</td>\n      <td>female</td>\n      <td>STON/O2. 3101282</td>\n      <td>NaN</td>\n      <td>S</td>\n    </tr>\n    <tr>\n      <th>3</th>\n      <td>Futrelle, Mrs. Jacques Heath (Lily May Peel)</td>\n      <td>female</td>\n      <td>113803</td>\n      <td>C123</td>\n      <td>S</td>\n    </tr>\n    <tr>\n      <th>4</th>\n      <td>Allen, Mr. William Henry</td>\n      <td>male</td>\n      <td>373450</td>\n      <td>NaN</td>\n      <td>S</td>\n    </tr>\n    <tr>\n      <th>...</th>\n      <td>...</td>\n      <td>...</td>\n      <td>...</td>\n      <td>...</td>\n      <td>...</td>\n    </tr>\n    <tr>\n      <th>886</th>\n      <td>Montvila, Rev. Juozas</td>\n      <td>male</td>\n      <td>211536</td>\n      <td>NaN</td>\n      <td>S</td>\n    </tr>\n    <tr>\n      <th>887</th>\n      <td>Graham, Miss. Margaret Edith</td>\n      <td>female</td>\n      <td>112053</td>\n      <td>B42</td>\n      <td>S</td>\n    </tr>\n    <tr>\n      <th>888</th>\n      <td>Johnston, Miss. Catherine Helen \"Carrie\"</td>\n      <td>female</td>\n      <td>W./C. 6607</td>\n      <td>NaN</td>\n      <td>S</td>\n    </tr>\n    <tr>\n      <th>889</th>\n      <td>Behr, Mr. Karl Howell</td>\n      <td>male</td>\n      <td>111369</td>\n      <td>C148</td>\n      <td>C</td>\n    </tr>\n    <tr>\n      <th>890</th>\n      <td>Dooley, Mr. Patrick</td>\n      <td>male</td>\n      <td>370376</td>\n      <td>NaN</td>\n      <td>Q</td>\n    </tr>\n  </tbody>\n</table>\n<p>891 rows × 5 columns</p>\n</div>"
     },
     "execution_count": 482,
     "metadata": {},
     "output_type": "execute_result"
    }
   ],
   "source": [
    "df_titanic.select_dtypes\\\n",
    "    (exclude = {'int', 'float'})"
   ],
   "metadata": {
    "collapsed": false
   }
  },
  {
   "cell_type": "code",
   "execution_count": 483,
   "outputs": [
    {
     "data": {
      "text/plain": "                                                  Name     Sex        Age  \\\n0                              Braund, Mr. Owen Harris    male  22.000000   \n1    Cumings, Mrs. John Bradley (Florence Briggs Th...  female  38.000000   \n2                               Heikkinen, Miss. Laina  female  26.000000   \n3         Futrelle, Mrs. Jacques Heath (Lily May Peel)  female  35.000000   \n4                             Allen, Mr. William Henry    male  35.000000   \n..                                                 ...     ...        ...   \n886                              Montvila, Rev. Juozas    male  27.000000   \n887                       Graham, Miss. Margaret Edith  female  19.000000   \n888           Johnston, Miss. Catherine Helen \"Carrie\"  female  29.699118   \n889                              Behr, Mr. Karl Howell    male  26.000000   \n890                                Dooley, Mr. Patrick    male  32.000000   \n\n               Ticket     Fare Cabin Embarked  \n0           A/5 21171   7.2500   NaN        S  \n1            PC 17599  71.2833   C85        C  \n2    STON/O2. 3101282   7.9250   NaN        S  \n3              113803  53.1000  C123        S  \n4              373450   8.0500   NaN        S  \n..                ...      ...   ...      ...  \n886            211536  13.0000   NaN        S  \n887            112053  30.0000   B42        S  \n888        W./C. 6607  23.4500   NaN        S  \n889            111369  30.0000  C148        C  \n890            370376   7.7500   NaN        Q  \n\n[891 rows x 7 columns]",
      "text/html": "<div>\n<style scoped>\n    .dataframe tbody tr th:only-of-type {\n        vertical-align: middle;\n    }\n\n    .dataframe tbody tr th {\n        vertical-align: top;\n    }\n\n    .dataframe thead th {\n        text-align: right;\n    }\n</style>\n<table border=\"1\" class=\"dataframe\">\n  <thead>\n    <tr style=\"text-align: right;\">\n      <th></th>\n      <th>Name</th>\n      <th>Sex</th>\n      <th>Age</th>\n      <th>Ticket</th>\n      <th>Fare</th>\n      <th>Cabin</th>\n      <th>Embarked</th>\n    </tr>\n  </thead>\n  <tbody>\n    <tr>\n      <th>0</th>\n      <td>Braund, Mr. Owen Harris</td>\n      <td>male</td>\n      <td>22.000000</td>\n      <td>A/5 21171</td>\n      <td>7.2500</td>\n      <td>NaN</td>\n      <td>S</td>\n    </tr>\n    <tr>\n      <th>1</th>\n      <td>Cumings, Mrs. John Bradley (Florence Briggs Th...</td>\n      <td>female</td>\n      <td>38.000000</td>\n      <td>PC 17599</td>\n      <td>71.2833</td>\n      <td>C85</td>\n      <td>C</td>\n    </tr>\n    <tr>\n      <th>2</th>\n      <td>Heikkinen, Miss. Laina</td>\n      <td>female</td>\n      <td>26.000000</td>\n      <td>STON/O2. 3101282</td>\n      <td>7.9250</td>\n      <td>NaN</td>\n      <td>S</td>\n    </tr>\n    <tr>\n      <th>3</th>\n      <td>Futrelle, Mrs. Jacques Heath (Lily May Peel)</td>\n      <td>female</td>\n      <td>35.000000</td>\n      <td>113803</td>\n      <td>53.1000</td>\n      <td>C123</td>\n      <td>S</td>\n    </tr>\n    <tr>\n      <th>4</th>\n      <td>Allen, Mr. William Henry</td>\n      <td>male</td>\n      <td>35.000000</td>\n      <td>373450</td>\n      <td>8.0500</td>\n      <td>NaN</td>\n      <td>S</td>\n    </tr>\n    <tr>\n      <th>...</th>\n      <td>...</td>\n      <td>...</td>\n      <td>...</td>\n      <td>...</td>\n      <td>...</td>\n      <td>...</td>\n      <td>...</td>\n    </tr>\n    <tr>\n      <th>886</th>\n      <td>Montvila, Rev. Juozas</td>\n      <td>male</td>\n      <td>27.000000</td>\n      <td>211536</td>\n      <td>13.0000</td>\n      <td>NaN</td>\n      <td>S</td>\n    </tr>\n    <tr>\n      <th>887</th>\n      <td>Graham, Miss. Margaret Edith</td>\n      <td>female</td>\n      <td>19.000000</td>\n      <td>112053</td>\n      <td>30.0000</td>\n      <td>B42</td>\n      <td>S</td>\n    </tr>\n    <tr>\n      <th>888</th>\n      <td>Johnston, Miss. Catherine Helen \"Carrie\"</td>\n      <td>female</td>\n      <td>29.699118</td>\n      <td>W./C. 6607</td>\n      <td>23.4500</td>\n      <td>NaN</td>\n      <td>S</td>\n    </tr>\n    <tr>\n      <th>889</th>\n      <td>Behr, Mr. Karl Howell</td>\n      <td>male</td>\n      <td>26.000000</td>\n      <td>111369</td>\n      <td>30.0000</td>\n      <td>C148</td>\n      <td>C</td>\n    </tr>\n    <tr>\n      <th>890</th>\n      <td>Dooley, Mr. Patrick</td>\n      <td>male</td>\n      <td>32.000000</td>\n      <td>370376</td>\n      <td>7.7500</td>\n      <td>NaN</td>\n      <td>Q</td>\n    </tr>\n  </tbody>\n</table>\n<p>891 rows × 7 columns</p>\n</div>"
     },
     "execution_count": 483,
     "metadata": {},
     "output_type": "execute_result"
    }
   ],
   "source": [
    "df_titanic.select_dtypes\\\n",
    "    (include = {'float', 'object'})"
   ],
   "metadata": {
    "collapsed": false
   }
  },
  {
   "cell_type": "code",
   "execution_count": 484,
   "outputs": [
    {
     "data": {
      "text/plain": "           Age     Fare\n0    22.000000   7.2500\n1    38.000000  71.2833\n2    26.000000   7.9250\n3    35.000000  53.1000\n4    35.000000   8.0500\n..         ...      ...\n886  27.000000  13.0000\n887  19.000000  30.0000\n888  29.699118  23.4500\n889  26.000000  30.0000\n890  32.000000   7.7500\n\n[891 rows x 2 columns]",
      "text/html": "<div>\n<style scoped>\n    .dataframe tbody tr th:only-of-type {\n        vertical-align: middle;\n    }\n\n    .dataframe tbody tr th {\n        vertical-align: top;\n    }\n\n    .dataframe thead th {\n        text-align: right;\n    }\n</style>\n<table border=\"1\" class=\"dataframe\">\n  <thead>\n    <tr style=\"text-align: right;\">\n      <th></th>\n      <th>Age</th>\n      <th>Fare</th>\n    </tr>\n  </thead>\n  <tbody>\n    <tr>\n      <th>0</th>\n      <td>22.000000</td>\n      <td>7.2500</td>\n    </tr>\n    <tr>\n      <th>1</th>\n      <td>38.000000</td>\n      <td>71.2833</td>\n    </tr>\n    <tr>\n      <th>2</th>\n      <td>26.000000</td>\n      <td>7.9250</td>\n    </tr>\n    <tr>\n      <th>3</th>\n      <td>35.000000</td>\n      <td>53.1000</td>\n    </tr>\n    <tr>\n      <th>4</th>\n      <td>35.000000</td>\n      <td>8.0500</td>\n    </tr>\n    <tr>\n      <th>...</th>\n      <td>...</td>\n      <td>...</td>\n    </tr>\n    <tr>\n      <th>886</th>\n      <td>27.000000</td>\n      <td>13.0000</td>\n    </tr>\n    <tr>\n      <th>887</th>\n      <td>19.000000</td>\n      <td>30.0000</td>\n    </tr>\n    <tr>\n      <th>888</th>\n      <td>29.699118</td>\n      <td>23.4500</td>\n    </tr>\n    <tr>\n      <th>889</th>\n      <td>26.000000</td>\n      <td>30.0000</td>\n    </tr>\n    <tr>\n      <th>890</th>\n      <td>32.000000</td>\n      <td>7.7500</td>\n    </tr>\n  </tbody>\n</table>\n<p>891 rows × 2 columns</p>\n</div>"
     },
     "execution_count": 484,
     "metadata": {},
     "output_type": "execute_result"
    }
   ],
   "source": [
    "df_titanic.select_dtypes\\\n",
    "    (include = 'float')"
   ],
   "metadata": {
    "collapsed": false
   }
  },
  {
   "cell_type": "code",
   "execution_count": 485,
   "outputs": [
    {
     "data": {
      "text/plain": "   PassengerId  Survived  Pclass  \\\n0            1         0       3   \n1            2         1       1   \n2            3         1       3   \n3            4         1       1   \n4            5         0       3   \n\n                                                Name     Sex   Age  SibSp  \\\n0                            Braund, Mr. Owen Harris    male  22.0      1   \n1  Cumings, Mrs. John Bradley (Florence Briggs Th...  female  38.0      1   \n2                             Heikkinen, Miss. Laina  female  26.0      0   \n3       Futrelle, Mrs. Jacques Heath (Lily May Peel)  female  35.0      1   \n4                           Allen, Mr. William Henry    male  35.0      0   \n\n   Parch            Ticket     Fare Cabin Embarked  \n0      0         A/5 21171   7.2500   NaN        S  \n1      0          PC 17599  71.2833   C85        C  \n2      0  STON/O2. 3101282   7.9250   NaN        S  \n3      0            113803  53.1000  C123        S  \n4      0            373450   8.0500   NaN        S  ",
      "text/html": "<div>\n<style scoped>\n    .dataframe tbody tr th:only-of-type {\n        vertical-align: middle;\n    }\n\n    .dataframe tbody tr th {\n        vertical-align: top;\n    }\n\n    .dataframe thead th {\n        text-align: right;\n    }\n</style>\n<table border=\"1\" class=\"dataframe\">\n  <thead>\n    <tr style=\"text-align: right;\">\n      <th></th>\n      <th>PassengerId</th>\n      <th>Survived</th>\n      <th>Pclass</th>\n      <th>Name</th>\n      <th>Sex</th>\n      <th>Age</th>\n      <th>SibSp</th>\n      <th>Parch</th>\n      <th>Ticket</th>\n      <th>Fare</th>\n      <th>Cabin</th>\n      <th>Embarked</th>\n    </tr>\n  </thead>\n  <tbody>\n    <tr>\n      <th>0</th>\n      <td>1</td>\n      <td>0</td>\n      <td>3</td>\n      <td>Braund, Mr. Owen Harris</td>\n      <td>male</td>\n      <td>22.0</td>\n      <td>1</td>\n      <td>0</td>\n      <td>A/5 21171</td>\n      <td>7.2500</td>\n      <td>NaN</td>\n      <td>S</td>\n    </tr>\n    <tr>\n      <th>1</th>\n      <td>2</td>\n      <td>1</td>\n      <td>1</td>\n      <td>Cumings, Mrs. John Bradley (Florence Briggs Th...</td>\n      <td>female</td>\n      <td>38.0</td>\n      <td>1</td>\n      <td>0</td>\n      <td>PC 17599</td>\n      <td>71.2833</td>\n      <td>C85</td>\n      <td>C</td>\n    </tr>\n    <tr>\n      <th>2</th>\n      <td>3</td>\n      <td>1</td>\n      <td>3</td>\n      <td>Heikkinen, Miss. Laina</td>\n      <td>female</td>\n      <td>26.0</td>\n      <td>0</td>\n      <td>0</td>\n      <td>STON/O2. 3101282</td>\n      <td>7.9250</td>\n      <td>NaN</td>\n      <td>S</td>\n    </tr>\n    <tr>\n      <th>3</th>\n      <td>4</td>\n      <td>1</td>\n      <td>1</td>\n      <td>Futrelle, Mrs. Jacques Heath (Lily May Peel)</td>\n      <td>female</td>\n      <td>35.0</td>\n      <td>1</td>\n      <td>0</td>\n      <td>113803</td>\n      <td>53.1000</td>\n      <td>C123</td>\n      <td>S</td>\n    </tr>\n    <tr>\n      <th>4</th>\n      <td>5</td>\n      <td>0</td>\n      <td>3</td>\n      <td>Allen, Mr. William Henry</td>\n      <td>male</td>\n      <td>35.0</td>\n      <td>0</td>\n      <td>0</td>\n      <td>373450</td>\n      <td>8.0500</td>\n      <td>NaN</td>\n      <td>S</td>\n    </tr>\n  </tbody>\n</table>\n</div>"
     },
     "execution_count": 485,
     "metadata": {},
     "output_type": "execute_result"
    }
   ],
   "source": [
    "df_titanic.head()"
   ],
   "metadata": {
    "collapsed": false
   }
  },
  {
   "cell_type": "code",
   "execution_count": 486,
   "outputs": [
    {
     "data": {
      "text/plain": "array([['Ghanshyam', 28, 'Male'],\n       ['Manisha', 26, 'Female'],\n       ['Shaunak', 7, 'Male'],\n       ['Aadarsh', 27, 'male'],\n       ['Kaushal', 25, 'male'],\n       ['Santosh', 35, 'Male'],\n       ['elina', 30, 'female']], dtype=object)"
     },
     "execution_count": 486,
     "metadata": {},
     "output_type": "execute_result"
    }
   ],
   "source": [
    "df.to_numpy()"
   ],
   "metadata": {
    "collapsed": false
   }
  },
  {
   "cell_type": "code",
   "execution_count": 487,
   "outputs": [],
   "source": [
    "import numpy as np\n",
    "df['Time'] = np.random.random(len(df))"
   ],
   "metadata": {
    "collapsed": false
   }
  },
  {
   "cell_type": "code",
   "execution_count": 488,
   "outputs": [
    {
     "data": {
      "text/plain": "array([['Ghanshyam', 28, 'Male', 0.04785973516164854],\n       ['Manisha', 26, 'Female', 0.06564614619295273],\n       ['Shaunak', 7, 'Male', 0.14280413690649463],\n       ['Aadarsh', 27, 'male', 0.8150557743091922],\n       ['Kaushal', 25, 'male', 0.2232726388325712],\n       ['Santosh', 35, 'Male', 0.8269953608535938],\n       ['elina', 30, 'female', 0.7918320305473165]], dtype=object)"
     },
     "execution_count": 488,
     "metadata": {},
     "output_type": "execute_result"
    }
   ],
   "source": [
    "df.values"
   ],
   "metadata": {
    "collapsed": false
   }
  },
  {
   "cell_type": "code",
   "execution_count": 489,
   "outputs": [
    {
     "data": {
      "text/plain": "<pandas.io.formats.style.Styler at 0x7fe9788cf3a0>",
      "text/html": "<style type=\"text/css\">\n</style>\n<table id=\"T_fd453\">\n  <thead>\n    <tr>\n      <th class=\"blank level0\" >&nbsp;</th>\n      <th id=\"T_fd453_level0_col0\" class=\"col_heading level0 col0\" >Name</th>\n      <th id=\"T_fd453_level0_col1\" class=\"col_heading level0 col1\" >Age</th>\n      <th id=\"T_fd453_level0_col2\" class=\"col_heading level0 col2\" >Gender</th>\n      <th id=\"T_fd453_level0_col3\" class=\"col_heading level0 col3\" >Time</th>\n    </tr>\n  </thead>\n  <tbody>\n    <tr>\n      <th id=\"T_fd453_level0_row0\" class=\"row_heading level0 row0\" >10</th>\n      <td id=\"T_fd453_row0_col0\" class=\"data row0 col0\" >Ghanshyam</td>\n      <td id=\"T_fd453_row0_col1\" class=\"data row0 col1\" >28</td>\n      <td id=\"T_fd453_row0_col2\" class=\"data row0 col2\" >Male</td>\n      <td id=\"T_fd453_row0_col3\" class=\"data row0 col3\" >0.047860</td>\n    </tr>\n    <tr>\n      <th id=\"T_fd453_level0_row1\" class=\"row_heading level0 row1\" >20</th>\n      <td id=\"T_fd453_row1_col0\" class=\"data row1 col0\" >Manisha</td>\n      <td id=\"T_fd453_row1_col1\" class=\"data row1 col1\" >26</td>\n      <td id=\"T_fd453_row1_col2\" class=\"data row1 col2\" >Female</td>\n      <td id=\"T_fd453_row1_col3\" class=\"data row1 col3\" >0.065646</td>\n    </tr>\n    <tr>\n      <th id=\"T_fd453_level0_row2\" class=\"row_heading level0 row2\" >30</th>\n      <td id=\"T_fd453_row2_col0\" class=\"data row2 col0\" >Shaunak</td>\n      <td id=\"T_fd453_row2_col1\" class=\"data row2 col1\" >7</td>\n      <td id=\"T_fd453_row2_col2\" class=\"data row2 col2\" >Male</td>\n      <td id=\"T_fd453_row2_col3\" class=\"data row2 col3\" >0.142804</td>\n    </tr>\n    <tr>\n      <th id=\"T_fd453_level0_row3\" class=\"row_heading level0 row3\" >7</th>\n      <td id=\"T_fd453_row3_col0\" class=\"data row3 col0\" >Aadarsh</td>\n      <td id=\"T_fd453_row3_col1\" class=\"data row3 col1\" >27</td>\n      <td id=\"T_fd453_row3_col2\" class=\"data row3 col2\" >male</td>\n      <td id=\"T_fd453_row3_col3\" class=\"data row3 col3\" >0.815056</td>\n    </tr>\n    <tr>\n      <th id=\"T_fd453_level0_row4\" class=\"row_heading level0 row4\" >3</th>\n      <td id=\"T_fd453_row4_col0\" class=\"data row4 col0\" >Kaushal</td>\n      <td id=\"T_fd453_row4_col1\" class=\"data row4 col1\" >25</td>\n      <td id=\"T_fd453_row4_col2\" class=\"data row4 col2\" >male</td>\n      <td id=\"T_fd453_row4_col3\" class=\"data row4 col3\" >0.223273</td>\n    </tr>\n    <tr>\n      <th id=\"T_fd453_level0_row5\" class=\"row_heading level0 row5\" >4</th>\n      <td id=\"T_fd453_row5_col0\" class=\"data row5 col0\" >Santosh</td>\n      <td id=\"T_fd453_row5_col1\" class=\"data row5 col1\" >35</td>\n      <td id=\"T_fd453_row5_col2\" class=\"data row5 col2\" >Male</td>\n      <td id=\"T_fd453_row5_col3\" class=\"data row5 col3\" >0.826995</td>\n    </tr>\n    <tr>\n      <th id=\"T_fd453_level0_row6\" class=\"row_heading level0 row6\" >5</th>\n      <td id=\"T_fd453_row6_col0\" class=\"data row6 col0\" >elina</td>\n      <td id=\"T_fd453_row6_col1\" class=\"data row6 col1\" >30</td>\n      <td id=\"T_fd453_row6_col2\" class=\"data row6 col2\" >female</td>\n      <td id=\"T_fd453_row6_col3\" class=\"data row6 col3\" >0.791832</td>\n    </tr>\n  </tbody>\n</table>\n"
     },
     "execution_count": 489,
     "metadata": {},
     "output_type": "execute_result"
    }
   ],
   "source": [
    "df.style"
   ],
   "metadata": {
    "collapsed": false
   }
  },
  {
   "cell_type": "code",
   "execution_count": 502,
   "outputs": [
    {
     "data": {
      "text/plain": "<pandas.io.formats.style.Styler at 0x7fe9c8d96f10>",
      "text/html": "<style type=\"text/css\">\n</style>\n<table id=\"T_38157\">\n  <thead>\n    <tr>\n      <th class=\"blank level0\" >&nbsp;</th>\n      <th id=\"T_38157_level0_col0\" class=\"col_heading level0 col0\" >NAME</th>\n      <th id=\"T_38157_level0_col1\" class=\"col_heading level0 col1\" >AGE</th>\n      <th id=\"T_38157_level0_col2\" class=\"col_heading level0 col2\" >GENDER</th>\n      <th id=\"T_38157_level0_col3\" class=\"col_heading level0 col3\" >TIME</th>\n    </tr>\n  </thead>\n  <tbody>\n    <tr>\n      <th id=\"T_38157_level0_row0\" class=\"row_heading level0 row0\" >10</th>\n      <td id=\"T_38157_row0_col0\" class=\"data row0 col0\" >Ghanshyam</td>\n      <td id=\"T_38157_row0_col1\" class=\"data row0 col1\" >28</td>\n      <td id=\"T_38157_row0_col2\" class=\"data row0 col2\" >Male</td>\n      <td id=\"T_38157_row0_col3\" class=\"data row0 col3\" >0.047860</td>\n    </tr>\n    <tr>\n      <th id=\"T_38157_level0_row1\" class=\"row_heading level0 row1\" >20</th>\n      <td id=\"T_38157_row1_col0\" class=\"data row1 col0\" >Manisha</td>\n      <td id=\"T_38157_row1_col1\" class=\"data row1 col1\" >26</td>\n      <td id=\"T_38157_row1_col2\" class=\"data row1 col2\" >Female</td>\n      <td id=\"T_38157_row1_col3\" class=\"data row1 col3\" >0.065646</td>\n    </tr>\n    <tr>\n      <th id=\"T_38157_level0_row2\" class=\"row_heading level0 row2\" >30</th>\n      <td id=\"T_38157_row2_col0\" class=\"data row2 col0\" >Shaunak</td>\n      <td id=\"T_38157_row2_col1\" class=\"data row2 col1\" >7</td>\n      <td id=\"T_38157_row2_col2\" class=\"data row2 col2\" >Male</td>\n      <td id=\"T_38157_row2_col3\" class=\"data row2 col3\" >0.142804</td>\n    </tr>\n    <tr>\n      <th id=\"T_38157_level0_row3\" class=\"row_heading level0 row3\" >7</th>\n      <td id=\"T_38157_row3_col0\" class=\"data row3 col0\" >Aadarsh</td>\n      <td id=\"T_38157_row3_col1\" class=\"data row3 col1\" >27</td>\n      <td id=\"T_38157_row3_col2\" class=\"data row3 col2\" >male</td>\n      <td id=\"T_38157_row3_col3\" class=\"data row3 col3\" >0.815056</td>\n    </tr>\n    <tr>\n      <th id=\"T_38157_level0_row4\" class=\"row_heading level0 row4\" >3</th>\n      <td id=\"T_38157_row4_col0\" class=\"data row4 col0\" >Kaushal</td>\n      <td id=\"T_38157_row4_col1\" class=\"data row4 col1\" >25</td>\n      <td id=\"T_38157_row4_col2\" class=\"data row4 col2\" >male</td>\n      <td id=\"T_38157_row4_col3\" class=\"data row4 col3\" >0.223273</td>\n    </tr>\n    <tr>\n      <th id=\"T_38157_level0_row5\" class=\"row_heading level0 row5\" >4</th>\n      <td id=\"T_38157_row5_col0\" class=\"data row5 col0\" >Santosh</td>\n      <td id=\"T_38157_row5_col1\" class=\"data row5 col1\" >35</td>\n      <td id=\"T_38157_row5_col2\" class=\"data row5 col2\" >Male</td>\n      <td id=\"T_38157_row5_col3\" class=\"data row5 col3\" >0.826995</td>\n    </tr>\n    <tr>\n      <th id=\"T_38157_level0_row6\" class=\"row_heading level0 row6\" >5</th>\n      <td id=\"T_38157_row6_col0\" class=\"data row6 col0\" >elina</td>\n      <td id=\"T_38157_row6_col1\" class=\"data row6 col1\" >30</td>\n      <td id=\"T_38157_row6_col2\" class=\"data row6 col2\" >female</td>\n      <td id=\"T_38157_row6_col3\" class=\"data row6 col3\" >0.791832</td>\n    </tr>\n  </tbody>\n</table>\n"
     },
     "execution_count": 502,
     "metadata": {},
     "output_type": "execute_result"
    }
   ],
   "source": [
    "df.style.format_index(str.upper, axis = 1)"
   ],
   "metadata": {
    "collapsed": false
   }
  },
  {
   "cell_type": "code",
   "execution_count": 509,
   "outputs": [
    {
     "data": {
      "text/plain": "[Int64Index([10, 20, 30, 7, 3, 4, 5], dtype='int64'),\n Index(['Name', 'Age', 'Gender', 'Time'], dtype='object')]"
     },
     "execution_count": 509,
     "metadata": {},
     "output_type": "execute_result"
    }
   ],
   "source": [
    "df.axes"
   ],
   "metadata": {
    "collapsed": false
   }
  },
  {
   "cell_type": "code",
   "execution_count": 510,
   "outputs": [
    {
     "data": {
      "text/plain": "2"
     },
     "execution_count": 510,
     "metadata": {},
     "output_type": "execute_result"
    }
   ],
   "source": [
    "df.ndim"
   ],
   "metadata": {
    "collapsed": false
   }
  },
  {
   "cell_type": "code",
   "execution_count": 511,
   "outputs": [
    {
     "data": {
      "text/plain": "28"
     },
     "execution_count": 511,
     "metadata": {},
     "output_type": "execute_result"
    }
   ],
   "source": [
    "df.size"
   ],
   "metadata": {
    "collapsed": false
   }
  },
  {
   "cell_type": "code",
   "execution_count": 512,
   "outputs": [
    {
     "data": {
      "text/plain": "(7, 4)"
     },
     "execution_count": 512,
     "metadata": {},
     "output_type": "execute_result"
    }
   ],
   "source": [
    "df.shape"
   ],
   "metadata": {
    "collapsed": false
   }
  },
  {
   "cell_type": "code",
   "execution_count": 514,
   "outputs": [
    {
     "data": {
      "text/plain": "Index     356\nName       56\nAge        56\nGender     56\nTime       56\ndtype: int64"
     },
     "execution_count": 514,
     "metadata": {},
     "output_type": "execute_result"
    }
   ],
   "source": [
    "df.memory_usage(index= True)"
   ],
   "metadata": {
    "collapsed": false
   }
  },
  {
   "cell_type": "code",
   "execution_count": 517,
   "outputs": [
    {
     "data": {
      "text/plain": "False"
     },
     "execution_count": 517,
     "metadata": {},
     "output_type": "execute_result"
    }
   ],
   "source": [
    "df_titanic.empty"
   ],
   "metadata": {
    "collapsed": false
   }
  },
  {
   "cell_type": "code",
   "execution_count": 522,
   "outputs": [
    {
     "ename": "ValueError",
     "evalue": "invalid literal for int() with base 10: 'Ghanshyam'",
     "output_type": "error",
     "traceback": [
      "\u001B[0;31m---------------------------------------------------------------------------\u001B[0m",
      "\u001B[0;31mValueError\u001B[0m                                Traceback (most recent call last)",
      "Cell \u001B[0;32mIn[522], line 1\u001B[0m\n\u001B[0;32m----> 1\u001B[0m \u001B[43mdf\u001B[49m\u001B[38;5;241;43m.\u001B[39;49m\u001B[43mastype\u001B[49m\u001B[43m(\u001B[49m\u001B[38;5;124;43m'\u001B[39;49m\u001B[38;5;124;43mint32\u001B[39;49m\u001B[38;5;124;43m'\u001B[39;49m\u001B[43m)\u001B[49m\u001B[38;5;241m.\u001B[39mdtype\n",
      "File \u001B[0;32m~/opt/anaconda3/lib/python3.9/site-packages/pandas/core/generic.py:5912\u001B[0m, in \u001B[0;36mNDFrame.astype\u001B[0;34m(self, dtype, copy, errors)\u001B[0m\n\u001B[1;32m   5905\u001B[0m     results \u001B[38;5;241m=\u001B[39m [\n\u001B[1;32m   5906\u001B[0m         \u001B[38;5;28mself\u001B[39m\u001B[38;5;241m.\u001B[39miloc[:, i]\u001B[38;5;241m.\u001B[39mastype(dtype, copy\u001B[38;5;241m=\u001B[39mcopy)\n\u001B[1;32m   5907\u001B[0m         \u001B[38;5;28;01mfor\u001B[39;00m i \u001B[38;5;129;01min\u001B[39;00m \u001B[38;5;28mrange\u001B[39m(\u001B[38;5;28mlen\u001B[39m(\u001B[38;5;28mself\u001B[39m\u001B[38;5;241m.\u001B[39mcolumns))\n\u001B[1;32m   5908\u001B[0m     ]\n\u001B[1;32m   5910\u001B[0m \u001B[38;5;28;01melse\u001B[39;00m:\n\u001B[1;32m   5911\u001B[0m     \u001B[38;5;66;03m# else, only a single dtype is given\u001B[39;00m\n\u001B[0;32m-> 5912\u001B[0m     new_data \u001B[38;5;241m=\u001B[39m \u001B[38;5;28;43mself\u001B[39;49m\u001B[38;5;241;43m.\u001B[39;49m\u001B[43m_mgr\u001B[49m\u001B[38;5;241;43m.\u001B[39;49m\u001B[43mastype\u001B[49m\u001B[43m(\u001B[49m\u001B[43mdtype\u001B[49m\u001B[38;5;241;43m=\u001B[39;49m\u001B[43mdtype\u001B[49m\u001B[43m,\u001B[49m\u001B[43m \u001B[49m\u001B[43mcopy\u001B[49m\u001B[38;5;241;43m=\u001B[39;49m\u001B[43mcopy\u001B[49m\u001B[43m,\u001B[49m\u001B[43m \u001B[49m\u001B[43merrors\u001B[49m\u001B[38;5;241;43m=\u001B[39;49m\u001B[43merrors\u001B[49m\u001B[43m)\u001B[49m\n\u001B[1;32m   5913\u001B[0m     \u001B[38;5;28;01mreturn\u001B[39;00m \u001B[38;5;28mself\u001B[39m\u001B[38;5;241m.\u001B[39m_constructor(new_data)\u001B[38;5;241m.\u001B[39m__finalize__(\u001B[38;5;28mself\u001B[39m, method\u001B[38;5;241m=\u001B[39m\u001B[38;5;124m\"\u001B[39m\u001B[38;5;124mastype\u001B[39m\u001B[38;5;124m\"\u001B[39m)\n\u001B[1;32m   5915\u001B[0m \u001B[38;5;66;03m# GH 33113: handle empty frame or series\u001B[39;00m\n",
      "File \u001B[0;32m~/opt/anaconda3/lib/python3.9/site-packages/pandas/core/internals/managers.py:419\u001B[0m, in \u001B[0;36mBaseBlockManager.astype\u001B[0;34m(self, dtype, copy, errors)\u001B[0m\n\u001B[1;32m    418\u001B[0m \u001B[38;5;28;01mdef\u001B[39;00m \u001B[38;5;21mastype\u001B[39m(\u001B[38;5;28mself\u001B[39m: T, dtype, copy: \u001B[38;5;28mbool\u001B[39m \u001B[38;5;241m=\u001B[39m \u001B[38;5;28;01mFalse\u001B[39;00m, errors: \u001B[38;5;28mstr\u001B[39m \u001B[38;5;241m=\u001B[39m \u001B[38;5;124m\"\u001B[39m\u001B[38;5;124mraise\u001B[39m\u001B[38;5;124m\"\u001B[39m) \u001B[38;5;241m-\u001B[39m\u001B[38;5;241m>\u001B[39m T:\n\u001B[0;32m--> 419\u001B[0m     \u001B[38;5;28;01mreturn\u001B[39;00m \u001B[38;5;28;43mself\u001B[39;49m\u001B[38;5;241;43m.\u001B[39;49m\u001B[43mapply\u001B[49m\u001B[43m(\u001B[49m\u001B[38;5;124;43m\"\u001B[39;49m\u001B[38;5;124;43mastype\u001B[39;49m\u001B[38;5;124;43m\"\u001B[39;49m\u001B[43m,\u001B[49m\u001B[43m \u001B[49m\u001B[43mdtype\u001B[49m\u001B[38;5;241;43m=\u001B[39;49m\u001B[43mdtype\u001B[49m\u001B[43m,\u001B[49m\u001B[43m \u001B[49m\u001B[43mcopy\u001B[49m\u001B[38;5;241;43m=\u001B[39;49m\u001B[43mcopy\u001B[49m\u001B[43m,\u001B[49m\u001B[43m \u001B[49m\u001B[43merrors\u001B[49m\u001B[38;5;241;43m=\u001B[39;49m\u001B[43merrors\u001B[49m\u001B[43m)\u001B[49m\n",
      "File \u001B[0;32m~/opt/anaconda3/lib/python3.9/site-packages/pandas/core/internals/managers.py:304\u001B[0m, in \u001B[0;36mBaseBlockManager.apply\u001B[0;34m(self, f, align_keys, ignore_failures, **kwargs)\u001B[0m\n\u001B[1;32m    302\u001B[0m         applied \u001B[38;5;241m=\u001B[39m b\u001B[38;5;241m.\u001B[39mapply(f, \u001B[38;5;241m*\u001B[39m\u001B[38;5;241m*\u001B[39mkwargs)\n\u001B[1;32m    303\u001B[0m     \u001B[38;5;28;01melse\u001B[39;00m:\n\u001B[0;32m--> 304\u001B[0m         applied \u001B[38;5;241m=\u001B[39m \u001B[38;5;28;43mgetattr\u001B[39;49m\u001B[43m(\u001B[49m\u001B[43mb\u001B[49m\u001B[43m,\u001B[49m\u001B[43m \u001B[49m\u001B[43mf\u001B[49m\u001B[43m)\u001B[49m\u001B[43m(\u001B[49m\u001B[38;5;241;43m*\u001B[39;49m\u001B[38;5;241;43m*\u001B[39;49m\u001B[43mkwargs\u001B[49m\u001B[43m)\u001B[49m\n\u001B[1;32m    305\u001B[0m \u001B[38;5;28;01mexcept\u001B[39;00m (\u001B[38;5;167;01mTypeError\u001B[39;00m, \u001B[38;5;167;01mNotImplementedError\u001B[39;00m):\n\u001B[1;32m    306\u001B[0m     \u001B[38;5;28;01mif\u001B[39;00m \u001B[38;5;129;01mnot\u001B[39;00m ignore_failures:\n",
      "File \u001B[0;32m~/opt/anaconda3/lib/python3.9/site-packages/pandas/core/internals/blocks.py:580\u001B[0m, in \u001B[0;36mBlock.astype\u001B[0;34m(self, dtype, copy, errors)\u001B[0m\n\u001B[1;32m    562\u001B[0m \u001B[38;5;250m\u001B[39m\u001B[38;5;124;03m\"\"\"\u001B[39;00m\n\u001B[1;32m    563\u001B[0m \u001B[38;5;124;03mCoerce to the new dtype.\u001B[39;00m\n\u001B[1;32m    564\u001B[0m \n\u001B[0;32m   (...)\u001B[0m\n\u001B[1;32m    576\u001B[0m \u001B[38;5;124;03mBlock\u001B[39;00m\n\u001B[1;32m    577\u001B[0m \u001B[38;5;124;03m\"\"\"\u001B[39;00m\n\u001B[1;32m    578\u001B[0m values \u001B[38;5;241m=\u001B[39m \u001B[38;5;28mself\u001B[39m\u001B[38;5;241m.\u001B[39mvalues\n\u001B[0;32m--> 580\u001B[0m new_values \u001B[38;5;241m=\u001B[39m \u001B[43mastype_array_safe\u001B[49m\u001B[43m(\u001B[49m\u001B[43mvalues\u001B[49m\u001B[43m,\u001B[49m\u001B[43m \u001B[49m\u001B[43mdtype\u001B[49m\u001B[43m,\u001B[49m\u001B[43m \u001B[49m\u001B[43mcopy\u001B[49m\u001B[38;5;241;43m=\u001B[39;49m\u001B[43mcopy\u001B[49m\u001B[43m,\u001B[49m\u001B[43m \u001B[49m\u001B[43merrors\u001B[49m\u001B[38;5;241;43m=\u001B[39;49m\u001B[43merrors\u001B[49m\u001B[43m)\u001B[49m\n\u001B[1;32m    582\u001B[0m new_values \u001B[38;5;241m=\u001B[39m maybe_coerce_values(new_values)\n\u001B[1;32m    583\u001B[0m newb \u001B[38;5;241m=\u001B[39m \u001B[38;5;28mself\u001B[39m\u001B[38;5;241m.\u001B[39mmake_block(new_values)\n",
      "File \u001B[0;32m~/opt/anaconda3/lib/python3.9/site-packages/pandas/core/dtypes/cast.py:1292\u001B[0m, in \u001B[0;36mastype_array_safe\u001B[0;34m(values, dtype, copy, errors)\u001B[0m\n\u001B[1;32m   1289\u001B[0m     dtype \u001B[38;5;241m=\u001B[39m dtype\u001B[38;5;241m.\u001B[39mnumpy_dtype\n\u001B[1;32m   1291\u001B[0m \u001B[38;5;28;01mtry\u001B[39;00m:\n\u001B[0;32m-> 1292\u001B[0m     new_values \u001B[38;5;241m=\u001B[39m \u001B[43mastype_array\u001B[49m\u001B[43m(\u001B[49m\u001B[43mvalues\u001B[49m\u001B[43m,\u001B[49m\u001B[43m \u001B[49m\u001B[43mdtype\u001B[49m\u001B[43m,\u001B[49m\u001B[43m \u001B[49m\u001B[43mcopy\u001B[49m\u001B[38;5;241;43m=\u001B[39;49m\u001B[43mcopy\u001B[49m\u001B[43m)\u001B[49m\n\u001B[1;32m   1293\u001B[0m \u001B[38;5;28;01mexcept\u001B[39;00m (\u001B[38;5;167;01mValueError\u001B[39;00m, \u001B[38;5;167;01mTypeError\u001B[39;00m):\n\u001B[1;32m   1294\u001B[0m     \u001B[38;5;66;03m# e.g. astype_nansafe can fail on object-dtype of strings\u001B[39;00m\n\u001B[1;32m   1295\u001B[0m     \u001B[38;5;66;03m#  trying to convert to float\u001B[39;00m\n\u001B[1;32m   1296\u001B[0m     \u001B[38;5;28;01mif\u001B[39;00m errors \u001B[38;5;241m==\u001B[39m \u001B[38;5;124m\"\u001B[39m\u001B[38;5;124mignore\u001B[39m\u001B[38;5;124m\"\u001B[39m:\n",
      "File \u001B[0;32m~/opt/anaconda3/lib/python3.9/site-packages/pandas/core/dtypes/cast.py:1237\u001B[0m, in \u001B[0;36mastype_array\u001B[0;34m(values, dtype, copy)\u001B[0m\n\u001B[1;32m   1234\u001B[0m     values \u001B[38;5;241m=\u001B[39m values\u001B[38;5;241m.\u001B[39mastype(dtype, copy\u001B[38;5;241m=\u001B[39mcopy)\n\u001B[1;32m   1236\u001B[0m \u001B[38;5;28;01melse\u001B[39;00m:\n\u001B[0;32m-> 1237\u001B[0m     values \u001B[38;5;241m=\u001B[39m \u001B[43mastype_nansafe\u001B[49m\u001B[43m(\u001B[49m\u001B[43mvalues\u001B[49m\u001B[43m,\u001B[49m\u001B[43m \u001B[49m\u001B[43mdtype\u001B[49m\u001B[43m,\u001B[49m\u001B[43m \u001B[49m\u001B[43mcopy\u001B[49m\u001B[38;5;241;43m=\u001B[39;49m\u001B[43mcopy\u001B[49m\u001B[43m)\u001B[49m\n\u001B[1;32m   1239\u001B[0m \u001B[38;5;66;03m# in pandas we don't store numpy str dtypes, so convert to object\u001B[39;00m\n\u001B[1;32m   1240\u001B[0m \u001B[38;5;28;01mif\u001B[39;00m \u001B[38;5;28misinstance\u001B[39m(dtype, np\u001B[38;5;241m.\u001B[39mdtype) \u001B[38;5;129;01mand\u001B[39;00m \u001B[38;5;28missubclass\u001B[39m(values\u001B[38;5;241m.\u001B[39mdtype\u001B[38;5;241m.\u001B[39mtype, \u001B[38;5;28mstr\u001B[39m):\n",
      "File \u001B[0;32m~/opt/anaconda3/lib/python3.9/site-packages/pandas/core/dtypes/cast.py:1098\u001B[0m, in \u001B[0;36mastype_nansafe\u001B[0;34m(arr, dtype, copy, skipna)\u001B[0m\n\u001B[1;32m   1096\u001B[0m \u001B[38;5;28;01mif\u001B[39;00m arr\u001B[38;5;241m.\u001B[39mndim \u001B[38;5;241m>\u001B[39m \u001B[38;5;241m1\u001B[39m:\n\u001B[1;32m   1097\u001B[0m     flat \u001B[38;5;241m=\u001B[39m arr\u001B[38;5;241m.\u001B[39mravel()\n\u001B[0;32m-> 1098\u001B[0m     result \u001B[38;5;241m=\u001B[39m \u001B[43mastype_nansafe\u001B[49m\u001B[43m(\u001B[49m\u001B[43mflat\u001B[49m\u001B[43m,\u001B[49m\u001B[43m \u001B[49m\u001B[43mdtype\u001B[49m\u001B[43m,\u001B[49m\u001B[43m \u001B[49m\u001B[43mcopy\u001B[49m\u001B[38;5;241;43m=\u001B[39;49m\u001B[43mcopy\u001B[49m\u001B[43m,\u001B[49m\u001B[43m \u001B[49m\u001B[43mskipna\u001B[49m\u001B[38;5;241;43m=\u001B[39;49m\u001B[43mskipna\u001B[49m\u001B[43m)\u001B[49m\n\u001B[1;32m   1099\u001B[0m     \u001B[38;5;66;03m# error: Item \"ExtensionArray\" of \"Union[ExtensionArray, ndarray]\" has no\u001B[39;00m\n\u001B[1;32m   1100\u001B[0m     \u001B[38;5;66;03m# attribute \"reshape\"\u001B[39;00m\n\u001B[1;32m   1101\u001B[0m     \u001B[38;5;28;01mreturn\u001B[39;00m result\u001B[38;5;241m.\u001B[39mreshape(arr\u001B[38;5;241m.\u001B[39mshape)  \u001B[38;5;66;03m# type: ignore[union-attr]\u001B[39;00m\n",
      "File \u001B[0;32m~/opt/anaconda3/lib/python3.9/site-packages/pandas/core/dtypes/cast.py:1154\u001B[0m, in \u001B[0;36mastype_nansafe\u001B[0;34m(arr, dtype, copy, skipna)\u001B[0m\n\u001B[1;32m   1150\u001B[0m \u001B[38;5;28;01melif\u001B[39;00m is_object_dtype(arr\u001B[38;5;241m.\u001B[39mdtype):\n\u001B[1;32m   1151\u001B[0m \n\u001B[1;32m   1152\u001B[0m     \u001B[38;5;66;03m# work around NumPy brokenness, #1987\u001B[39;00m\n\u001B[1;32m   1153\u001B[0m     \u001B[38;5;28;01mif\u001B[39;00m np\u001B[38;5;241m.\u001B[39missubdtype(dtype\u001B[38;5;241m.\u001B[39mtype, np\u001B[38;5;241m.\u001B[39minteger):\n\u001B[0;32m-> 1154\u001B[0m         \u001B[38;5;28;01mreturn\u001B[39;00m \u001B[43mlib\u001B[49m\u001B[38;5;241;43m.\u001B[39;49m\u001B[43mastype_intsafe\u001B[49m\u001B[43m(\u001B[49m\u001B[43marr\u001B[49m\u001B[43m,\u001B[49m\u001B[43m \u001B[49m\u001B[43mdtype\u001B[49m\u001B[43m)\u001B[49m\n\u001B[1;32m   1156\u001B[0m     \u001B[38;5;66;03m# if we have a datetime/timedelta array of objects\u001B[39;00m\n\u001B[1;32m   1157\u001B[0m     \u001B[38;5;66;03m# then coerce to a proper dtype and recall astype_nansafe\u001B[39;00m\n\u001B[1;32m   1159\u001B[0m     \u001B[38;5;28;01melif\u001B[39;00m is_datetime64_dtype(dtype):\n",
      "File \u001B[0;32m~/opt/anaconda3/lib/python3.9/site-packages/pandas/_libs/lib.pyx:668\u001B[0m, in \u001B[0;36mpandas._libs.lib.astype_intsafe\u001B[0;34m()\u001B[0m\n",
      "\u001B[0;31mValueError\u001B[0m: invalid literal for int() with base 10: 'Ghanshyam'"
     ]
    }
   ],
   "source": [],
   "metadata": {
    "collapsed": false
   }
  },
  {
   "cell_type": "code",
   "execution_count": null,
   "outputs": [],
   "source": [],
   "metadata": {
    "collapsed": false
   }
  }
 ],
 "metadata": {
  "kernelspec": {
   "display_name": "Python 3",
   "language": "python",
   "name": "python3"
  },
  "language_info": {
   "codemirror_mode": {
    "name": "ipython",
    "version": 2
   },
   "file_extension": ".py",
   "mimetype": "text/x-python",
   "name": "python",
   "nbconvert_exporter": "python",
   "pygments_lexer": "ipython2",
   "version": "2.7.6"
  }
 },
 "nbformat": 4,
 "nbformat_minor": 0
}
