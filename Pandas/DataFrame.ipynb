{
 "cells": [
  {
   "cell_type": "code",
   "execution_count": 281,
   "metadata": {
    "collapsed": true
   },
   "outputs": [
    {
     "data": {
      "text/plain": "      Name   SurName              Email\n0      ram     singh      ram@gmail.com\n1    shyam    mahato    shyam@gmail.com\n2     ghan  kushwaha     ghan@gmail.com\n3  manisha     singh  Manisha@gmail.com",
      "text/html": "<div>\n<style scoped>\n    .dataframe tbody tr th:only-of-type {\n        vertical-align: middle;\n    }\n\n    .dataframe tbody tr th {\n        vertical-align: top;\n    }\n\n    .dataframe thead th {\n        text-align: right;\n    }\n</style>\n<table border=\"1\" class=\"dataframe\">\n  <thead>\n    <tr style=\"text-align: right;\">\n      <th></th>\n      <th>Name</th>\n      <th>SurName</th>\n      <th>Email</th>\n    </tr>\n  </thead>\n  <tbody>\n    <tr>\n      <th>0</th>\n      <td>ram</td>\n      <td>singh</td>\n      <td>ram@gmail.com</td>\n    </tr>\n    <tr>\n      <th>1</th>\n      <td>shyam</td>\n      <td>mahato</td>\n      <td>shyam@gmail.com</td>\n    </tr>\n    <tr>\n      <th>2</th>\n      <td>ghan</td>\n      <td>kushwaha</td>\n      <td>ghan@gmail.com</td>\n    </tr>\n    <tr>\n      <th>3</th>\n      <td>manisha</td>\n      <td>singh</td>\n      <td>Manisha@gmail.com</td>\n    </tr>\n  </tbody>\n</table>\n</div>"
     },
     "execution_count": 281,
     "metadata": {},
     "output_type": "execute_result"
    }
   ],
   "source": [
    "peopel = {'Name':['ram', 'shyam', 'ghan', 'manisha'], 'SurName':['singh', 'mahato', 'kushwaha', 'singh' ],'Email':['ram@gmail.com', 'shyam@gmail.com', 'ghan@gmail.com', 'Manisha@gmail.com']}\n",
    "#creating a list of data set\n",
    "import pandas as pd\n",
    "#importing pandas library\n",
    "df = pd.DataFrame(peopel)\n",
    "df\n",
    "#printing the data"
   ]
  },
  {
   "cell_type": "code",
   "execution_count": 282,
   "outputs": [
    {
     "data": {
      "text/plain": "0        ram\n1      shyam\n2       ghan\n3    manisha\nName: Name, dtype: object"
     },
     "execution_count": 282,
     "metadata": {},
     "output_type": "execute_result"
    }
   ],
   "source": [
    "df['Name']\n",
    "#printing the column that have Name"
   ],
   "metadata": {
    "collapsed": false
   }
  },
  {
   "cell_type": "code",
   "execution_count": 283,
   "outputs": [
    {
     "data": {
      "text/plain": "0        ram@gmail.com\n1      shyam@gmail.com\n2       ghan@gmail.com\n3    Manisha@gmail.com\nName: Email, dtype: object"
     },
     "execution_count": 283,
     "metadata": {},
     "output_type": "execute_result"
    }
   ],
   "source": [
    "df['Email']\n",
    "#printing the column that have Email"
   ],
   "metadata": {
    "collapsed": false
   }
  },
  {
   "cell_type": "code",
   "execution_count": 284,
   "outputs": [
    {
     "data": {
      "text/plain": "0        ram@gmail.com\n1      shyam@gmail.com\n2       ghan@gmail.com\n3    Manisha@gmail.com\nName: Email, dtype: object"
     },
     "execution_count": 284,
     "metadata": {},
     "output_type": "execute_result"
    }
   ],
   "source": [
    "df.Email\n",
    "#printing the column that have Email"
   ],
   "metadata": {
    "collapsed": false
   }
  },
  {
   "cell_type": "code",
   "execution_count": 285,
   "outputs": [
    {
     "data": {
      "text/plain": "0        ram\n1      shyam\n2       ghan\n3    manisha\nName: Name, dtype: object"
     },
     "execution_count": 285,
     "metadata": {},
     "output_type": "execute_result"
    }
   ],
   "source": [
    "df.Name\n",
    "#printing the column that have Name"
   ],
   "metadata": {
    "collapsed": false
   }
  },
  {
   "cell_type": "code",
   "execution_count": 286,
   "outputs": [
    {
     "data": {
      "text/plain": "0       singh\n1      mahato\n2    kushwaha\n3       singh\nName: SurName, dtype: object"
     },
     "execution_count": 286,
     "metadata": {},
     "output_type": "execute_result"
    }
   ],
   "source": [
    "df.SurName\n",
    "#printing the column that have SurName"
   ],
   "metadata": {
    "collapsed": false
   }
  },
  {
   "cell_type": "code",
   "execution_count": 287,
   "outputs": [
    {
     "data": {
      "text/plain": "      Name              Email\n0      ram      ram@gmail.com\n1    shyam    shyam@gmail.com\n2     ghan     ghan@gmail.com\n3  manisha  Manisha@gmail.com",
      "text/html": "<div>\n<style scoped>\n    .dataframe tbody tr th:only-of-type {\n        vertical-align: middle;\n    }\n\n    .dataframe tbody tr th {\n        vertical-align: top;\n    }\n\n    .dataframe thead th {\n        text-align: right;\n    }\n</style>\n<table border=\"1\" class=\"dataframe\">\n  <thead>\n    <tr style=\"text-align: right;\">\n      <th></th>\n      <th>Name</th>\n      <th>Email</th>\n    </tr>\n  </thead>\n  <tbody>\n    <tr>\n      <th>0</th>\n      <td>ram</td>\n      <td>ram@gmail.com</td>\n    </tr>\n    <tr>\n      <th>1</th>\n      <td>shyam</td>\n      <td>shyam@gmail.com</td>\n    </tr>\n    <tr>\n      <th>2</th>\n      <td>ghan</td>\n      <td>ghan@gmail.com</td>\n    </tr>\n    <tr>\n      <th>3</th>\n      <td>manisha</td>\n      <td>Manisha@gmail.com</td>\n    </tr>\n  </tbody>\n</table>\n</div>"
     },
     "execution_count": 287,
     "metadata": {},
     "output_type": "execute_result"
    }
   ],
   "source": [
    "df[['Name', 'Email']]\n",
    "#printing the column that have Name & Email"
   ],
   "metadata": {
    "collapsed": false
   }
  },
  {
   "cell_type": "code",
   "execution_count": 288,
   "outputs": [
    {
     "data": {
      "text/plain": "Index(['Name', 'SurName', 'Email'], dtype='object')"
     },
     "execution_count": 288,
     "metadata": {},
     "output_type": "execute_result"
    }
   ],
   "source": [
    "df.columns\n",
    "#printing the columns that are present in the dataframe"
   ],
   "metadata": {
    "collapsed": false
   }
  },
  {
   "cell_type": "code",
   "execution_count": 289,
   "outputs": [
    {
     "data": {
      "text/plain": "Name                 ram\nSurName            singh\nEmail      ram@gmail.com\nName: 0, dtype: object"
     },
     "execution_count": 289,
     "metadata": {},
     "output_type": "execute_result"
    }
   ],
   "source": [
    "df.iloc[0]\n",
    "# using iloc & loc method to find locations of the specific rows and columns"
   ],
   "metadata": {
    "collapsed": false
   }
  },
  {
   "cell_type": "code",
   "execution_count": 290,
   "outputs": [
    {
     "data": {
      "text/plain": "    Name SurName            Email\n0    ram   singh    ram@gmail.com\n1  shyam  mahato  shyam@gmail.com",
      "text/html": "<div>\n<style scoped>\n    .dataframe tbody tr th:only-of-type {\n        vertical-align: middle;\n    }\n\n    .dataframe tbody tr th {\n        vertical-align: top;\n    }\n\n    .dataframe thead th {\n        text-align: right;\n    }\n</style>\n<table border=\"1\" class=\"dataframe\">\n  <thead>\n    <tr style=\"text-align: right;\">\n      <th></th>\n      <th>Name</th>\n      <th>SurName</th>\n      <th>Email</th>\n    </tr>\n  </thead>\n  <tbody>\n    <tr>\n      <th>0</th>\n      <td>ram</td>\n      <td>singh</td>\n      <td>ram@gmail.com</td>\n    </tr>\n    <tr>\n      <th>1</th>\n      <td>shyam</td>\n      <td>mahato</td>\n      <td>shyam@gmail.com</td>\n    </tr>\n  </tbody>\n</table>\n</div>"
     },
     "execution_count": 290,
     "metadata": {},
     "output_type": "execute_result"
    }
   ],
   "source": [
    "df.iloc[[0, 1]]\n",
    "#Printing the data in the rows 0 and 1"
   ],
   "metadata": {
    "collapsed": false
   }
  },
  {
   "cell_type": "code",
   "execution_count": 291,
   "outputs": [
    {
     "data": {
      "text/plain": "0      ram@gmail.com\n1    shyam@gmail.com\nName: Email, dtype: object"
     },
     "execution_count": 291,
     "metadata": {},
     "output_type": "execute_result"
    }
   ],
   "source": [
    "df.iloc[[0, 1], 2]\n",
    "#Printing the data in the rows 0 and 1 in colun 2\n"
   ],
   "metadata": {
    "collapsed": false
   }
  },
  {
   "cell_type": "code",
   "execution_count": 292,
   "outputs": [
    {
     "data": {
      "text/plain": "Name                 ram\nSurName            singh\nEmail      ram@gmail.com\nName: 0, dtype: object"
     },
     "execution_count": 292,
     "metadata": {},
     "output_type": "execute_result"
    }
   ],
   "source": [
    "df.loc[0]"
   ],
   "metadata": {
    "collapsed": false
   }
  },
  {
   "cell_type": "code",
   "execution_count": 293,
   "outputs": [
    {
     "data": {
      "text/plain": "             Email   SurName\n1  shyam@gmail.com    mahato\n2   ghan@gmail.com  kushwaha",
      "text/html": "<div>\n<style scoped>\n    .dataframe tbody tr th:only-of-type {\n        vertical-align: middle;\n    }\n\n    .dataframe tbody tr th {\n        vertical-align: top;\n    }\n\n    .dataframe thead th {\n        text-align: right;\n    }\n</style>\n<table border=\"1\" class=\"dataframe\">\n  <thead>\n    <tr style=\"text-align: right;\">\n      <th></th>\n      <th>Email</th>\n      <th>SurName</th>\n    </tr>\n  </thead>\n  <tbody>\n    <tr>\n      <th>1</th>\n      <td>shyam@gmail.com</td>\n      <td>mahato</td>\n    </tr>\n    <tr>\n      <th>2</th>\n      <td>ghan@gmail.com</td>\n      <td>kushwaha</td>\n    </tr>\n  </tbody>\n</table>\n</div>"
     },
     "execution_count": 293,
     "metadata": {},
     "output_type": "execute_result"
    }
   ],
   "source": [
    "df.loc[[1,2], ['Email','SurName']]\n",
    "# This returns the data at row 1 and 2 from column Email and SurName and also it is giving the email's data first but it is in last column of data Frame"
   ],
   "metadata": {
    "collapsed": false
   }
  },
  {
   "cell_type": "code",
   "execution_count": 294,
   "outputs": [
    {
     "data": {
      "text/plain": "                      Name   SurName\nEmail                               \nram@gmail.com          ram     singh\nshyam@gmail.com      shyam    mahato\nghan@gmail.com        ghan  kushwaha\nManisha@gmail.com  manisha     singh",
      "text/html": "<div>\n<style scoped>\n    .dataframe tbody tr th:only-of-type {\n        vertical-align: middle;\n    }\n\n    .dataframe tbody tr th {\n        vertical-align: top;\n    }\n\n    .dataframe thead th {\n        text-align: right;\n    }\n</style>\n<table border=\"1\" class=\"dataframe\">\n  <thead>\n    <tr style=\"text-align: right;\">\n      <th></th>\n      <th>Name</th>\n      <th>SurName</th>\n    </tr>\n    <tr>\n      <th>Email</th>\n      <th></th>\n      <th></th>\n    </tr>\n  </thead>\n  <tbody>\n    <tr>\n      <th>ram@gmail.com</th>\n      <td>ram</td>\n      <td>singh</td>\n    </tr>\n    <tr>\n      <th>shyam@gmail.com</th>\n      <td>shyam</td>\n      <td>mahato</td>\n    </tr>\n    <tr>\n      <th>ghan@gmail.com</th>\n      <td>ghan</td>\n      <td>kushwaha</td>\n    </tr>\n    <tr>\n      <th>Manisha@gmail.com</th>\n      <td>manisha</td>\n      <td>singh</td>\n    </tr>\n  </tbody>\n</table>\n</div>"
     },
     "execution_count": 294,
     "metadata": {},
     "output_type": "execute_result"
    }
   ],
   "source": [
    "#set the index from the columns of the dataFarame\n",
    "# here we'll take email as index because email is different for everyone\n",
    "df.set_index('Email')"
   ],
   "metadata": {
    "collapsed": false
   }
  },
  {
   "cell_type": "code",
   "execution_count": 295,
   "outputs": [
    {
     "data": {
      "text/plain": "      Name   SurName              Email\n0      ram     singh      ram@gmail.com\n1    shyam    mahato    shyam@gmail.com\n2     ghan  kushwaha     ghan@gmail.com\n3  manisha     singh  Manisha@gmail.com",
      "text/html": "<div>\n<style scoped>\n    .dataframe tbody tr th:only-of-type {\n        vertical-align: middle;\n    }\n\n    .dataframe tbody tr th {\n        vertical-align: top;\n    }\n\n    .dataframe thead th {\n        text-align: right;\n    }\n</style>\n<table border=\"1\" class=\"dataframe\">\n  <thead>\n    <tr style=\"text-align: right;\">\n      <th></th>\n      <th>Name</th>\n      <th>SurName</th>\n      <th>Email</th>\n    </tr>\n  </thead>\n  <tbody>\n    <tr>\n      <th>0</th>\n      <td>ram</td>\n      <td>singh</td>\n      <td>ram@gmail.com</td>\n    </tr>\n    <tr>\n      <th>1</th>\n      <td>shyam</td>\n      <td>mahato</td>\n      <td>shyam@gmail.com</td>\n    </tr>\n    <tr>\n      <th>2</th>\n      <td>ghan</td>\n      <td>kushwaha</td>\n      <td>ghan@gmail.com</td>\n    </tr>\n    <tr>\n      <th>3</th>\n      <td>manisha</td>\n      <td>singh</td>\n      <td>Manisha@gmail.com</td>\n    </tr>\n  </tbody>\n</table>\n</div>"
     },
     "execution_count": 295,
     "metadata": {},
     "output_type": "execute_result"
    }
   ],
   "source": [
    "df\n",
    "#so here dataframe is showing defualt index this is because we didnot set the inplace"
   ],
   "metadata": {
    "collapsed": false
   }
  },
  {
   "cell_type": "code",
   "execution_count": 296,
   "outputs": [
    {
     "data": {
      "text/plain": "                      Name   SurName\nEmail                               \nram@gmail.com          ram     singh\nshyam@gmail.com      shyam    mahato\nghan@gmail.com        ghan  kushwaha\nManisha@gmail.com  manisha     singh",
      "text/html": "<div>\n<style scoped>\n    .dataframe tbody tr th:only-of-type {\n        vertical-align: middle;\n    }\n\n    .dataframe tbody tr th {\n        vertical-align: top;\n    }\n\n    .dataframe thead th {\n        text-align: right;\n    }\n</style>\n<table border=\"1\" class=\"dataframe\">\n  <thead>\n    <tr style=\"text-align: right;\">\n      <th></th>\n      <th>Name</th>\n      <th>SurName</th>\n    </tr>\n    <tr>\n      <th>Email</th>\n      <th></th>\n      <th></th>\n    </tr>\n  </thead>\n  <tbody>\n    <tr>\n      <th>ram@gmail.com</th>\n      <td>ram</td>\n      <td>singh</td>\n    </tr>\n    <tr>\n      <th>shyam@gmail.com</th>\n      <td>shyam</td>\n      <td>mahato</td>\n    </tr>\n    <tr>\n      <th>ghan@gmail.com</th>\n      <td>ghan</td>\n      <td>kushwaha</td>\n    </tr>\n    <tr>\n      <th>Manisha@gmail.com</th>\n      <td>manisha</td>\n      <td>singh</td>\n    </tr>\n  </tbody>\n</table>\n</div>"
     },
     "execution_count": 296,
     "metadata": {},
     "output_type": "execute_result"
    }
   ],
   "source": [
    "df.set_index('Email', inplace=True)\n",
    "df"
   ],
   "metadata": {
    "collapsed": false
   }
  },
  {
   "cell_type": "code",
   "execution_count": 297,
   "outputs": [
    {
     "data": {
      "text/plain": "Index(['ram@gmail.com', 'shyam@gmail.com', 'ghan@gmail.com',\n       'Manisha@gmail.com'],\n      dtype='object', name='Email')"
     },
     "execution_count": 297,
     "metadata": {},
     "output_type": "execute_result"
    }
   ],
   "source": [
    "df.index"
   ],
   "metadata": {
    "collapsed": false
   }
  },
  {
   "cell_type": "code",
   "execution_count": 298,
   "outputs": [
    {
     "data": {
      "text/plain": "Name           ghan\nSurName    kushwaha\nName: ghan@gmail.com, dtype: object"
     },
     "execution_count": 298,
     "metadata": {},
     "output_type": "execute_result"
    }
   ],
   "source": [
    "df.loc['ghan@gmail.com']"
   ],
   "metadata": {
    "collapsed": false
   }
  },
  {
   "cell_type": "code",
   "execution_count": 299,
   "outputs": [
    {
     "data": {
      "text/plain": "'kushwaha'"
     },
     "execution_count": 299,
     "metadata": {},
     "output_type": "execute_result"
    }
   ],
   "source": [
    "df.loc['ghan@gmail.com', 'SurName']"
   ],
   "metadata": {
    "collapsed": false
   }
  },
  {
   "cell_type": "code",
   "execution_count": 300,
   "outputs": [
    {
     "data": {
      "text/plain": "Name         ram\nSurName    singh\nName: ram@gmail.com, dtype: object"
     },
     "execution_count": 300,
     "metadata": {},
     "output_type": "execute_result"
    }
   ],
   "source": [
    "# here our index is email but if we use iloc it will still give data from specific index\n",
    "df.iloc[0]"
   ],
   "metadata": {
    "collapsed": false
   }
  },
  {
   "cell_type": "code",
   "execution_count": 301,
   "outputs": [
    {
     "data": {
      "text/plain": "               Email     Name   SurName\n0      ram@gmail.com      ram     singh\n1    shyam@gmail.com    shyam    mahato\n2     ghan@gmail.com     ghan  kushwaha\n3  Manisha@gmail.com  manisha     singh",
      "text/html": "<div>\n<style scoped>\n    .dataframe tbody tr th:only-of-type {\n        vertical-align: middle;\n    }\n\n    .dataframe tbody tr th {\n        vertical-align: top;\n    }\n\n    .dataframe thead th {\n        text-align: right;\n    }\n</style>\n<table border=\"1\" class=\"dataframe\">\n  <thead>\n    <tr style=\"text-align: right;\">\n      <th></th>\n      <th>Email</th>\n      <th>Name</th>\n      <th>SurName</th>\n    </tr>\n  </thead>\n  <tbody>\n    <tr>\n      <th>0</th>\n      <td>ram@gmail.com</td>\n      <td>ram</td>\n      <td>singh</td>\n    </tr>\n    <tr>\n      <th>1</th>\n      <td>shyam@gmail.com</td>\n      <td>shyam</td>\n      <td>mahato</td>\n    </tr>\n    <tr>\n      <th>2</th>\n      <td>ghan@gmail.com</td>\n      <td>ghan</td>\n      <td>kushwaha</td>\n    </tr>\n    <tr>\n      <th>3</th>\n      <td>Manisha@gmail.com</td>\n      <td>manisha</td>\n      <td>singh</td>\n    </tr>\n  </tbody>\n</table>\n</div>"
     },
     "execution_count": 301,
     "metadata": {},
     "output_type": "execute_result"
    }
   ],
   "source": [
    "# also we can resect the index\n",
    "df.reset_index(inplace= True)\n",
    "df"
   ],
   "metadata": {
    "collapsed": false
   }
  },
  {
   "cell_type": "code",
   "execution_count": 302,
   "outputs": [
    {
     "data": {
      "text/plain": "0     True\n1    False\n2    False\n3     True\nName: SurName, dtype: bool"
     },
     "execution_count": 302,
     "metadata": {},
     "output_type": "execute_result"
    }
   ],
   "source": [
    "filt = (df['SurName'] == 'singh')\n",
    "filt"
   ],
   "metadata": {
    "collapsed": false
   }
  },
  {
   "cell_type": "code",
   "execution_count": 303,
   "outputs": [
    {
     "data": {
      "text/plain": "               Email     Name SurName\n0      ram@gmail.com      ram   singh\n3  Manisha@gmail.com  manisha   singh",
      "text/html": "<div>\n<style scoped>\n    .dataframe tbody tr th:only-of-type {\n        vertical-align: middle;\n    }\n\n    .dataframe tbody tr th {\n        vertical-align: top;\n    }\n\n    .dataframe thead th {\n        text-align: right;\n    }\n</style>\n<table border=\"1\" class=\"dataframe\">\n  <thead>\n    <tr style=\"text-align: right;\">\n      <th></th>\n      <th>Email</th>\n      <th>Name</th>\n      <th>SurName</th>\n    </tr>\n  </thead>\n  <tbody>\n    <tr>\n      <th>0</th>\n      <td>ram@gmail.com</td>\n      <td>ram</td>\n      <td>singh</td>\n    </tr>\n    <tr>\n      <th>3</th>\n      <td>Manisha@gmail.com</td>\n      <td>manisha</td>\n      <td>singh</td>\n    </tr>\n  </tbody>\n</table>\n</div>"
     },
     "execution_count": 303,
     "metadata": {},
     "output_type": "execute_result"
    }
   ],
   "source": [
    "df[filt]"
   ],
   "metadata": {
    "collapsed": false
   }
  },
  {
   "cell_type": "code",
   "execution_count": 304,
   "outputs": [
    {
     "data": {
      "text/plain": "0        ram@gmail.com\n3    Manisha@gmail.com\nName: Email, dtype: object"
     },
     "execution_count": 304,
     "metadata": {},
     "output_type": "execute_result"
    }
   ],
   "source": [
    "#also we can do same thing with loc\n",
    "df.loc[filt, 'Email']"
   ],
   "metadata": {
    "collapsed": false
   }
  },
  {
   "cell_type": "code",
   "execution_count": 305,
   "outputs": [],
   "source": [
    "filt1 = (df['SurName'] == 'singh') & (df['Name'] == 'manisha')"
   ],
   "metadata": {
    "collapsed": false
   }
  },
  {
   "cell_type": "code",
   "execution_count": 306,
   "outputs": [
    {
     "data": {
      "text/plain": "               Email     Name SurName\n3  Manisha@gmail.com  manisha   singh",
      "text/html": "<div>\n<style scoped>\n    .dataframe tbody tr th:only-of-type {\n        vertical-align: middle;\n    }\n\n    .dataframe tbody tr th {\n        vertical-align: top;\n    }\n\n    .dataframe thead th {\n        text-align: right;\n    }\n</style>\n<table border=\"1\" class=\"dataframe\">\n  <thead>\n    <tr style=\"text-align: right;\">\n      <th></th>\n      <th>Email</th>\n      <th>Name</th>\n      <th>SurName</th>\n    </tr>\n  </thead>\n  <tbody>\n    <tr>\n      <th>3</th>\n      <td>Manisha@gmail.com</td>\n      <td>manisha</td>\n      <td>singh</td>\n    </tr>\n  </tbody>\n</table>\n</div>"
     },
     "execution_count": 306,
     "metadata": {},
     "output_type": "execute_result"
    }
   ],
   "source": [
    "df[filt1]"
   ],
   "metadata": {
    "collapsed": false
   }
  },
  {
   "cell_type": "code",
   "execution_count": 307,
   "outputs": [
    {
     "data": {
      "text/plain": "0      ram@gmail.com\n1    shyam@gmail.com\n2     ghan@gmail.com\nName: Email, dtype: object"
     },
     "execution_count": 307,
     "metadata": {},
     "output_type": "execute_result"
    }
   ],
   "source": [
    "filt2 = (df['SurName'] == 'kushwana') | (df['Name'] == 'manisha')\n",
    "df.loc[-filt2, 'Email']"
   ],
   "metadata": {
    "collapsed": false
   }
  },
  {
   "cell_type": "code",
   "execution_count": 308,
   "outputs": [
    {
     "data": {
      "text/plain": "               Email     Name   SurName\n0      ram@gmail.com      ram     singh\n1    shyam@gmail.com    shyam    mahato\n2     ghan@gmail.com     ghan  kushwaha\n3  Manisha@gmail.com  manisha     singh",
      "text/html": "<div>\n<style scoped>\n    .dataframe tbody tr th:only-of-type {\n        vertical-align: middle;\n    }\n\n    .dataframe tbody tr th {\n        vertical-align: top;\n    }\n\n    .dataframe thead th {\n        text-align: right;\n    }\n</style>\n<table border=\"1\" class=\"dataframe\">\n  <thead>\n    <tr style=\"text-align: right;\">\n      <th></th>\n      <th>Email</th>\n      <th>Name</th>\n      <th>SurName</th>\n    </tr>\n  </thead>\n  <tbody>\n    <tr>\n      <th>0</th>\n      <td>ram@gmail.com</td>\n      <td>ram</td>\n      <td>singh</td>\n    </tr>\n    <tr>\n      <th>1</th>\n      <td>shyam@gmail.com</td>\n      <td>shyam</td>\n      <td>mahato</td>\n    </tr>\n    <tr>\n      <th>2</th>\n      <td>ghan@gmail.com</td>\n      <td>ghan</td>\n      <td>kushwaha</td>\n    </tr>\n    <tr>\n      <th>3</th>\n      <td>Manisha@gmail.com</td>\n      <td>manisha</td>\n      <td>singh</td>\n    </tr>\n  </tbody>\n</table>\n</div>"
     },
     "execution_count": 308,
     "metadata": {},
     "output_type": "execute_result"
    }
   ],
   "source": [
    "df"
   ],
   "metadata": {
    "collapsed": false
   }
  },
  {
   "cell_type": "code",
   "execution_count": 309,
   "outputs": [
    {
     "data": {
      "text/plain": "          First_Name Last_Name     Email\n0      ram@gmail.com       ram     singh\n1    shyam@gmail.com     shyam    mahato\n2     ghan@gmail.com      ghan  kushwaha\n3  Manisha@gmail.com   manisha     singh",
      "text/html": "<div>\n<style scoped>\n    .dataframe tbody tr th:only-of-type {\n        vertical-align: middle;\n    }\n\n    .dataframe tbody tr th {\n        vertical-align: top;\n    }\n\n    .dataframe thead th {\n        text-align: right;\n    }\n</style>\n<table border=\"1\" class=\"dataframe\">\n  <thead>\n    <tr style=\"text-align: right;\">\n      <th></th>\n      <th>First_Name</th>\n      <th>Last_Name</th>\n      <th>Email</th>\n    </tr>\n  </thead>\n  <tbody>\n    <tr>\n      <th>0</th>\n      <td>ram@gmail.com</td>\n      <td>ram</td>\n      <td>singh</td>\n    </tr>\n    <tr>\n      <th>1</th>\n      <td>shyam@gmail.com</td>\n      <td>shyam</td>\n      <td>mahato</td>\n    </tr>\n    <tr>\n      <th>2</th>\n      <td>ghan@gmail.com</td>\n      <td>ghan</td>\n      <td>kushwaha</td>\n    </tr>\n    <tr>\n      <th>3</th>\n      <td>Manisha@gmail.com</td>\n      <td>manisha</td>\n      <td>singh</td>\n    </tr>\n  </tbody>\n</table>\n</div>"
     },
     "execution_count": 309,
     "metadata": {},
     "output_type": "execute_result"
    }
   ],
   "source": [
    "df.columns = [ 'First_Name', 'Last_Name', 'Email']\n",
    "df"
   ],
   "metadata": {
    "collapsed": false
   }
  },
  {
   "cell_type": "code",
   "execution_count": 310,
   "outputs": [],
   "source": [
    "df.columns = [x.upper() for x in df.columns]"
   ],
   "metadata": {
    "collapsed": false
   }
  },
  {
   "cell_type": "code",
   "execution_count": 311,
   "outputs": [
    {
     "data": {
      "text/plain": "          FIRST_NAME LAST_NAME     EMAIL\n0      ram@gmail.com       ram     singh\n1    shyam@gmail.com     shyam    mahato\n2     ghan@gmail.com      ghan  kushwaha\n3  Manisha@gmail.com   manisha     singh",
      "text/html": "<div>\n<style scoped>\n    .dataframe tbody tr th:only-of-type {\n        vertical-align: middle;\n    }\n\n    .dataframe tbody tr th {\n        vertical-align: top;\n    }\n\n    .dataframe thead th {\n        text-align: right;\n    }\n</style>\n<table border=\"1\" class=\"dataframe\">\n  <thead>\n    <tr style=\"text-align: right;\">\n      <th></th>\n      <th>FIRST_NAME</th>\n      <th>LAST_NAME</th>\n      <th>EMAIL</th>\n    </tr>\n  </thead>\n  <tbody>\n    <tr>\n      <th>0</th>\n      <td>ram@gmail.com</td>\n      <td>ram</td>\n      <td>singh</td>\n    </tr>\n    <tr>\n      <th>1</th>\n      <td>shyam@gmail.com</td>\n      <td>shyam</td>\n      <td>mahato</td>\n    </tr>\n    <tr>\n      <th>2</th>\n      <td>ghan@gmail.com</td>\n      <td>ghan</td>\n      <td>kushwaha</td>\n    </tr>\n    <tr>\n      <th>3</th>\n      <td>Manisha@gmail.com</td>\n      <td>manisha</td>\n      <td>singh</td>\n    </tr>\n  </tbody>\n</table>\n</div>"
     },
     "execution_count": 311,
     "metadata": {},
     "output_type": "execute_result"
    }
   ],
   "source": [
    "df"
   ],
   "metadata": {
    "collapsed": false
   }
  },
  {
   "cell_type": "code",
   "execution_count": 312,
   "outputs": [],
   "source": [
    "df.columns = df.columns.str.replace('_', ' ')"
   ],
   "metadata": {
    "collapsed": false
   }
  },
  {
   "cell_type": "code",
   "execution_count": 313,
   "outputs": [
    {
     "data": {
      "text/plain": "          FIRST NAME LAST NAME     EMAIL\n0      ram@gmail.com       ram     singh\n1    shyam@gmail.com     shyam    mahato\n2     ghan@gmail.com      ghan  kushwaha\n3  Manisha@gmail.com   manisha     singh",
      "text/html": "<div>\n<style scoped>\n    .dataframe tbody tr th:only-of-type {\n        vertical-align: middle;\n    }\n\n    .dataframe tbody tr th {\n        vertical-align: top;\n    }\n\n    .dataframe thead th {\n        text-align: right;\n    }\n</style>\n<table border=\"1\" class=\"dataframe\">\n  <thead>\n    <tr style=\"text-align: right;\">\n      <th></th>\n      <th>FIRST NAME</th>\n      <th>LAST NAME</th>\n      <th>EMAIL</th>\n    </tr>\n  </thead>\n  <tbody>\n    <tr>\n      <th>0</th>\n      <td>ram@gmail.com</td>\n      <td>ram</td>\n      <td>singh</td>\n    </tr>\n    <tr>\n      <th>1</th>\n      <td>shyam@gmail.com</td>\n      <td>shyam</td>\n      <td>mahato</td>\n    </tr>\n    <tr>\n      <th>2</th>\n      <td>ghan@gmail.com</td>\n      <td>ghan</td>\n      <td>kushwaha</td>\n    </tr>\n    <tr>\n      <th>3</th>\n      <td>Manisha@gmail.com</td>\n      <td>manisha</td>\n      <td>singh</td>\n    </tr>\n  </tbody>\n</table>\n</div>"
     },
     "execution_count": 313,
     "metadata": {},
     "output_type": "execute_result"
    }
   ],
   "source": [
    "df"
   ],
   "metadata": {
    "collapsed": false
   }
  },
  {
   "cell_type": "code",
   "execution_count": 314,
   "outputs": [],
   "source": [
    "df.columns = [x.lower() for x in df.columns]"
   ],
   "metadata": {
    "collapsed": false
   }
  },
  {
   "cell_type": "code",
   "execution_count": 315,
   "outputs": [],
   "source": [
    "df.columns = df.columns.str.replace(' ', '_')"
   ],
   "metadata": {
    "collapsed": false
   }
  },
  {
   "cell_type": "code",
   "execution_count": 316,
   "outputs": [
    {
     "data": {
      "text/plain": "          first_name last_name     email\n0      ram@gmail.com       ram     singh\n1    shyam@gmail.com     shyam    mahato\n2     ghan@gmail.com      ghan  kushwaha\n3  Manisha@gmail.com   manisha     singh",
      "text/html": "<div>\n<style scoped>\n    .dataframe tbody tr th:only-of-type {\n        vertical-align: middle;\n    }\n\n    .dataframe tbody tr th {\n        vertical-align: top;\n    }\n\n    .dataframe thead th {\n        text-align: right;\n    }\n</style>\n<table border=\"1\" class=\"dataframe\">\n  <thead>\n    <tr style=\"text-align: right;\">\n      <th></th>\n      <th>first_name</th>\n      <th>last_name</th>\n      <th>email</th>\n    </tr>\n  </thead>\n  <tbody>\n    <tr>\n      <th>0</th>\n      <td>ram@gmail.com</td>\n      <td>ram</td>\n      <td>singh</td>\n    </tr>\n    <tr>\n      <th>1</th>\n      <td>shyam@gmail.com</td>\n      <td>shyam</td>\n      <td>mahato</td>\n    </tr>\n    <tr>\n      <th>2</th>\n      <td>ghan@gmail.com</td>\n      <td>ghan</td>\n      <td>kushwaha</td>\n    </tr>\n    <tr>\n      <th>3</th>\n      <td>Manisha@gmail.com</td>\n      <td>manisha</td>\n      <td>singh</td>\n    </tr>\n  </tbody>\n</table>\n</div>"
     },
     "execution_count": 316,
     "metadata": {},
     "output_type": "execute_result"
    }
   ],
   "source": [
    "df"
   ],
   "metadata": {
    "collapsed": false
   }
  },
  {
   "cell_type": "code",
   "execution_count": 317,
   "outputs": [],
   "source": [
    "df.rename(columns={'first_name': 'email', 'last_name': 'first', 'email': 'last'}, inplace= True)"
   ],
   "metadata": {
    "collapsed": false
   }
  },
  {
   "cell_type": "code",
   "execution_count": 318,
   "outputs": [
    {
     "data": {
      "text/plain": "               email    first      last\n0      ram@gmail.com      ram     singh\n1    shyam@gmail.com    shyam    mahato\n2     ghan@gmail.com     ghan  kushwaha\n3  Manisha@gmail.com  manisha     singh",
      "text/html": "<div>\n<style scoped>\n    .dataframe tbody tr th:only-of-type {\n        vertical-align: middle;\n    }\n\n    .dataframe tbody tr th {\n        vertical-align: top;\n    }\n\n    .dataframe thead th {\n        text-align: right;\n    }\n</style>\n<table border=\"1\" class=\"dataframe\">\n  <thead>\n    <tr style=\"text-align: right;\">\n      <th></th>\n      <th>email</th>\n      <th>first</th>\n      <th>last</th>\n    </tr>\n  </thead>\n  <tbody>\n    <tr>\n      <th>0</th>\n      <td>ram@gmail.com</td>\n      <td>ram</td>\n      <td>singh</td>\n    </tr>\n    <tr>\n      <th>1</th>\n      <td>shyam@gmail.com</td>\n      <td>shyam</td>\n      <td>mahato</td>\n    </tr>\n    <tr>\n      <th>2</th>\n      <td>ghan@gmail.com</td>\n      <td>ghan</td>\n      <td>kushwaha</td>\n    </tr>\n    <tr>\n      <th>3</th>\n      <td>Manisha@gmail.com</td>\n      <td>manisha</td>\n      <td>singh</td>\n    </tr>\n  </tbody>\n</table>\n</div>"
     },
     "execution_count": 318,
     "metadata": {},
     "output_type": "execute_result"
    }
   ],
   "source": [
    "df"
   ],
   "metadata": {
    "collapsed": false
   }
  },
  {
   "cell_type": "code",
   "execution_count": 319,
   "outputs": [],
   "source": [
    "df.loc[2] = ['ghanshyam@gmail.com', 'ghanshyam', 'kushwaha']\n",
    "df.loc[2, ['first', 'email']] = [ 'radhey', 'radhey@gmail.com']"
   ],
   "metadata": {
    "collapsed": false
   }
  },
  {
   "cell_type": "code",
   "execution_count": 320,
   "outputs": [],
   "source": [
    "df.loc[3, 'email'] = 'manisha420@gmail.com'"
   ],
   "metadata": {
    "collapsed": false
   }
  },
  {
   "cell_type": "code",
   "execution_count": 321,
   "outputs": [
    {
     "name": "stderr",
     "output_type": "stream",
     "text": [
      "/var/folders/sk/qnqfmc1n43xcb8gqr40z974c0000gn/T/ipykernel_28360/4270225781.py:2: SettingWithCopyWarning: \n",
      "A value is trying to be set on a copy of a slice from a DataFrame.\n",
      "Try using .loc[row_indexer,col_indexer] = value instead\n",
      "\n",
      "See the caveats in the documentation: https://pandas.pydata.org/pandas-docs/stable/user_guide/indexing.html#returning-a-view-versus-a-copy\n",
      "  df[filt3]['last'] = 'mehta'\n"
     ]
    }
   ],
   "source": [
    "filt3 = (df['email']=='manisha420@gmail.com')\n",
    "df[filt3]['last'] = 'mehta'"
   ],
   "metadata": {
    "collapsed": false
   }
  },
  {
   "cell_type": "code",
   "execution_count": 322,
   "outputs": [],
   "source": [
    "filt3 = (df['email']=='manisha420@gmail.com')\n",
    "df.loc[filt3,'last'] = 'mehta'"
   ],
   "metadata": {
    "collapsed": false
   }
  },
  {
   "cell_type": "code",
   "execution_count": 323,
   "outputs": [],
   "source": [
    "df['email'] = df['email'].str.lower()"
   ],
   "metadata": {
    "collapsed": false
   }
  },
  {
   "cell_type": "code",
   "execution_count": 324,
   "outputs": [
    {
     "data": {
      "text/plain": "                  email    first      last\n0         ram@gmail.com      ram     singh\n1       shyam@gmail.com    shyam    mahato\n2      radhey@gmail.com   radhey  kushwaha\n3  manisha420@gmail.com  manisha     mehta",
      "text/html": "<div>\n<style scoped>\n    .dataframe tbody tr th:only-of-type {\n        vertical-align: middle;\n    }\n\n    .dataframe tbody tr th {\n        vertical-align: top;\n    }\n\n    .dataframe thead th {\n        text-align: right;\n    }\n</style>\n<table border=\"1\" class=\"dataframe\">\n  <thead>\n    <tr style=\"text-align: right;\">\n      <th></th>\n      <th>email</th>\n      <th>first</th>\n      <th>last</th>\n    </tr>\n  </thead>\n  <tbody>\n    <tr>\n      <th>0</th>\n      <td>ram@gmail.com</td>\n      <td>ram</td>\n      <td>singh</td>\n    </tr>\n    <tr>\n      <th>1</th>\n      <td>shyam@gmail.com</td>\n      <td>shyam</td>\n      <td>mahato</td>\n    </tr>\n    <tr>\n      <th>2</th>\n      <td>radhey@gmail.com</td>\n      <td>radhey</td>\n      <td>kushwaha</td>\n    </tr>\n    <tr>\n      <th>3</th>\n      <td>manisha420@gmail.com</td>\n      <td>manisha</td>\n      <td>mehta</td>\n    </tr>\n  </tbody>\n</table>\n</div>"
     },
     "execution_count": 324,
     "metadata": {},
     "output_type": "execute_result"
    }
   ],
   "source": [
    "df"
   ],
   "metadata": {
    "collapsed": false
   }
  },
  {
   "cell_type": "code",
   "execution_count": 325,
   "outputs": [],
   "source": [
    "#we are going to apply four method\n",
    "# apply\n",
    "# map\n",
    "# applymap\n",
    "# replace"
   ],
   "metadata": {
    "collapsed": false
   }
  },
  {
   "cell_type": "code",
   "execution_count": 326,
   "outputs": [],
   "source": [
    "# first well work on apply\n",
    "def update_email(email):\n",
    "    return email.upper()"
   ],
   "metadata": {
    "collapsed": false
   }
  },
  {
   "cell_type": "code",
   "execution_count": 329,
   "outputs": [],
   "source": [
    "df['email'] = df['email'].apply(update_email)"
   ],
   "metadata": {
    "collapsed": false
   }
  },
  {
   "cell_type": "code",
   "execution_count": 330,
   "outputs": [
    {
     "data": {
      "text/plain": "                  email    first      last\n0         RAM@GMAIL.COM      ram     singh\n1       SHYAM@GMAIL.COM    shyam    mahato\n2      RADHEY@GMAIL.COM   radhey  kushwaha\n3  MANISHA420@GMAIL.COM  manisha     mehta",
      "text/html": "<div>\n<style scoped>\n    .dataframe tbody tr th:only-of-type {\n        vertical-align: middle;\n    }\n\n    .dataframe tbody tr th {\n        vertical-align: top;\n    }\n\n    .dataframe thead th {\n        text-align: right;\n    }\n</style>\n<table border=\"1\" class=\"dataframe\">\n  <thead>\n    <tr style=\"text-align: right;\">\n      <th></th>\n      <th>email</th>\n      <th>first</th>\n      <th>last</th>\n    </tr>\n  </thead>\n  <tbody>\n    <tr>\n      <th>0</th>\n      <td>RAM@GMAIL.COM</td>\n      <td>ram</td>\n      <td>singh</td>\n    </tr>\n    <tr>\n      <th>1</th>\n      <td>SHYAM@GMAIL.COM</td>\n      <td>shyam</td>\n      <td>mahato</td>\n    </tr>\n    <tr>\n      <th>2</th>\n      <td>RADHEY@GMAIL.COM</td>\n      <td>radhey</td>\n      <td>kushwaha</td>\n    </tr>\n    <tr>\n      <th>3</th>\n      <td>MANISHA420@GMAIL.COM</td>\n      <td>manisha</td>\n      <td>mehta</td>\n    </tr>\n  </tbody>\n</table>\n</div>"
     },
     "execution_count": 330,
     "metadata": {},
     "output_type": "execute_result"
    }
   ],
   "source": [
    "df"
   ],
   "metadata": {
    "collapsed": false
   }
  },
  {
   "cell_type": "code",
   "execution_count": 331,
   "outputs": [],
   "source": [
    "#lambda function\n",
    "df['email'] = df['email'].apply(lambda x : x.lower())"
   ],
   "metadata": {
    "collapsed": false
   }
  },
  {
   "cell_type": "code",
   "execution_count": 332,
   "outputs": [
    {
     "data": {
      "text/plain": "                  email    first      last\n0         ram@gmail.com      ram     singh\n1       shyam@gmail.com    shyam    mahato\n2      radhey@gmail.com   radhey  kushwaha\n3  manisha420@gmail.com  manisha     mehta",
      "text/html": "<div>\n<style scoped>\n    .dataframe tbody tr th:only-of-type {\n        vertical-align: middle;\n    }\n\n    .dataframe tbody tr th {\n        vertical-align: top;\n    }\n\n    .dataframe thead th {\n        text-align: right;\n    }\n</style>\n<table border=\"1\" class=\"dataframe\">\n  <thead>\n    <tr style=\"text-align: right;\">\n      <th></th>\n      <th>email</th>\n      <th>first</th>\n      <th>last</th>\n    </tr>\n  </thead>\n  <tbody>\n    <tr>\n      <th>0</th>\n      <td>ram@gmail.com</td>\n      <td>ram</td>\n      <td>singh</td>\n    </tr>\n    <tr>\n      <th>1</th>\n      <td>shyam@gmail.com</td>\n      <td>shyam</td>\n      <td>mahato</td>\n    </tr>\n    <tr>\n      <th>2</th>\n      <td>radhey@gmail.com</td>\n      <td>radhey</td>\n      <td>kushwaha</td>\n    </tr>\n    <tr>\n      <th>3</th>\n      <td>manisha420@gmail.com</td>\n      <td>manisha</td>\n      <td>mehta</td>\n    </tr>\n  </tbody>\n</table>\n</div>"
     },
     "execution_count": 332,
     "metadata": {},
     "output_type": "execute_result"
    }
   ],
   "source": [
    "df"
   ],
   "metadata": {
    "collapsed": false
   }
  },
  {
   "cell_type": "code",
   "execution_count": 333,
   "outputs": [
    {
     "data": {
      "text/plain": "0    13\n1    15\n2    16\n3    20\nName: email, dtype: int64"
     },
     "execution_count": 333,
     "metadata": {},
     "output_type": "execute_result"
    }
   ],
   "source": [
    "df['email'].apply(len)"
   ],
   "metadata": {
    "collapsed": false
   }
  },
  {
   "cell_type": "code",
   "execution_count": 334,
   "outputs": [
    {
     "data": {
      "text/plain": "email    4\nfirst    4\nlast     4\ndtype: int64"
     },
     "execution_count": 334,
     "metadata": {},
     "output_type": "execute_result"
    }
   ],
   "source": [
    "df.apply(len)"
   ],
   "metadata": {
    "collapsed": false
   }
  },
  {
   "cell_type": "code",
   "execution_count": 335,
   "outputs": [
    {
     "data": {
      "text/plain": "4"
     },
     "execution_count": 335,
     "metadata": {},
     "output_type": "execute_result"
    }
   ],
   "source": [
    "len(df['email'])"
   ],
   "metadata": {
    "collapsed": false
   }
  },
  {
   "cell_type": "code",
   "execution_count": 338,
   "outputs": [
    {
     "data": {
      "text/plain": "0    3\n1    3\n2    3\n3    3\ndtype: int64"
     },
     "execution_count": 338,
     "metadata": {},
     "output_type": "execute_result"
    }
   ],
   "source": [
    "df.apply(len, axis='columns')"
   ],
   "metadata": {
    "collapsed": false
   }
  },
  {
   "cell_type": "code",
   "execution_count": null,
   "outputs": [],
   "source": [],
   "metadata": {
    "collapsed": false
   }
  }
 ],
 "metadata": {
  "kernelspec": {
   "display_name": "Python 3",
   "language": "python",
   "name": "python3"
  },
  "language_info": {
   "codemirror_mode": {
    "name": "ipython",
    "version": 2
   },
   "file_extension": ".py",
   "mimetype": "text/x-python",
   "name": "python",
   "nbconvert_exporter": "python",
   "pygments_lexer": "ipython2",
   "version": "2.7.6"
  }
 },
 "nbformat": 4,
 "nbformat_minor": 0
}
