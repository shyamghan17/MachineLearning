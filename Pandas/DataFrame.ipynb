{
 "cells": [
  {
   "cell_type": "code",
   "execution_count": 57,
   "metadata": {
    "collapsed": true
   },
   "outputs": [
    {
     "data": {
      "text/plain": "      Name   SurName              Email\n0      ram     singh      ram@gmail.com\n1    shyam    mahato    shyam@gmail.com\n2     ghan  kushwaha     ghan@gmail.com\n3  manisha     singh  manisha@gmail.com",
      "text/html": "<div>\n<style scoped>\n    .dataframe tbody tr th:only-of-type {\n        vertical-align: middle;\n    }\n\n    .dataframe tbody tr th {\n        vertical-align: top;\n    }\n\n    .dataframe thead th {\n        text-align: right;\n    }\n</style>\n<table border=\"1\" class=\"dataframe\">\n  <thead>\n    <tr style=\"text-align: right;\">\n      <th></th>\n      <th>Name</th>\n      <th>SurName</th>\n      <th>Email</th>\n    </tr>\n  </thead>\n  <tbody>\n    <tr>\n      <th>0</th>\n      <td>ram</td>\n      <td>singh</td>\n      <td>ram@gmail.com</td>\n    </tr>\n    <tr>\n      <th>1</th>\n      <td>shyam</td>\n      <td>mahato</td>\n      <td>shyam@gmail.com</td>\n    </tr>\n    <tr>\n      <th>2</th>\n      <td>ghan</td>\n      <td>kushwaha</td>\n      <td>ghan@gmail.com</td>\n    </tr>\n    <tr>\n      <th>3</th>\n      <td>manisha</td>\n      <td>singh</td>\n      <td>manisha@gmail.com</td>\n    </tr>\n  </tbody>\n</table>\n</div>"
     },
     "execution_count": 57,
     "metadata": {},
     "output_type": "execute_result"
    }
   ],
   "source": [
    "peopel = {'Name':['ram', 'shyam', 'ghan', 'manisha'], 'SurName':['singh', 'mahato', 'kushwaha', 'singh' ],'Email':['ram@gmail.com', 'shyam@gmail.com', 'ghan@gmail.com', 'manisha@gmail.com']}\n",
    "#creating a list of data set\n",
    "import pandas as pd\n",
    "#importing pandas library\n",
    "df = pd.DataFrame(peopel)\n",
    "df\n",
    "#printing the data"
   ]
  },
  {
   "cell_type": "code",
   "execution_count": 58,
   "outputs": [
    {
     "data": {
      "text/plain": "0        ram\n1      shyam\n2       ghan\n3    manisha\nName: Name, dtype: object"
     },
     "execution_count": 58,
     "metadata": {},
     "output_type": "execute_result"
    }
   ],
   "source": [
    "df['Name']\n",
    "#printing the column that have Name"
   ],
   "metadata": {
    "collapsed": false
   }
  },
  {
   "cell_type": "code",
   "execution_count": 59,
   "outputs": [
    {
     "data": {
      "text/plain": "0        ram@gmail.com\n1      shyam@gmail.com\n2       ghan@gmail.com\n3    manisha@gmail.com\nName: Email, dtype: object"
     },
     "execution_count": 59,
     "metadata": {},
     "output_type": "execute_result"
    }
   ],
   "source": [
    "df['Email']\n",
    "#printing the column that have Email"
   ],
   "metadata": {
    "collapsed": false
   }
  },
  {
   "cell_type": "code",
   "execution_count": 60,
   "outputs": [
    {
     "data": {
      "text/plain": "0        ram@gmail.com\n1      shyam@gmail.com\n2       ghan@gmail.com\n3    manisha@gmail.com\nName: Email, dtype: object"
     },
     "execution_count": 60,
     "metadata": {},
     "output_type": "execute_result"
    }
   ],
   "source": [
    "df.Email\n",
    "#printing the column that have Email"
   ],
   "metadata": {
    "collapsed": false
   }
  },
  {
   "cell_type": "code",
   "execution_count": 61,
   "outputs": [
    {
     "data": {
      "text/plain": "0        ram\n1      shyam\n2       ghan\n3    manisha\nName: Name, dtype: object"
     },
     "execution_count": 61,
     "metadata": {},
     "output_type": "execute_result"
    }
   ],
   "source": [
    "df.Name\n",
    "#printing the column that have Name"
   ],
   "metadata": {
    "collapsed": false
   }
  },
  {
   "cell_type": "code",
   "execution_count": 62,
   "outputs": [
    {
     "data": {
      "text/plain": "0       singh\n1      mahato\n2    kushwaha\n3       singh\nName: SurName, dtype: object"
     },
     "execution_count": 62,
     "metadata": {},
     "output_type": "execute_result"
    }
   ],
   "source": [
    "df.SurName\n",
    "#printing the column that have SurName"
   ],
   "metadata": {
    "collapsed": false
   }
  },
  {
   "cell_type": "code",
   "execution_count": 63,
   "outputs": [
    {
     "data": {
      "text/plain": "      Name              Email\n0      ram      ram@gmail.com\n1    shyam    shyam@gmail.com\n2     ghan     ghan@gmail.com\n3  manisha  manisha@gmail.com",
      "text/html": "<div>\n<style scoped>\n    .dataframe tbody tr th:only-of-type {\n        vertical-align: middle;\n    }\n\n    .dataframe tbody tr th {\n        vertical-align: top;\n    }\n\n    .dataframe thead th {\n        text-align: right;\n    }\n</style>\n<table border=\"1\" class=\"dataframe\">\n  <thead>\n    <tr style=\"text-align: right;\">\n      <th></th>\n      <th>Name</th>\n      <th>Email</th>\n    </tr>\n  </thead>\n  <tbody>\n    <tr>\n      <th>0</th>\n      <td>ram</td>\n      <td>ram@gmail.com</td>\n    </tr>\n    <tr>\n      <th>1</th>\n      <td>shyam</td>\n      <td>shyam@gmail.com</td>\n    </tr>\n    <tr>\n      <th>2</th>\n      <td>ghan</td>\n      <td>ghan@gmail.com</td>\n    </tr>\n    <tr>\n      <th>3</th>\n      <td>manisha</td>\n      <td>manisha@gmail.com</td>\n    </tr>\n  </tbody>\n</table>\n</div>"
     },
     "execution_count": 63,
     "metadata": {},
     "output_type": "execute_result"
    }
   ],
   "source": [
    "df[['Name', 'Email']]\n",
    "#printing the column that have Name & Email"
   ],
   "metadata": {
    "collapsed": false
   }
  },
  {
   "cell_type": "code",
   "execution_count": 64,
   "outputs": [
    {
     "data": {
      "text/plain": "Index(['Name', 'SurName', 'Email'], dtype='object')"
     },
     "execution_count": 64,
     "metadata": {},
     "output_type": "execute_result"
    }
   ],
   "source": [
    "df.columns\n",
    "#printing the columns that are present in the dataframe"
   ],
   "metadata": {
    "collapsed": false
   }
  },
  {
   "cell_type": "code",
   "execution_count": 65,
   "outputs": [
    {
     "data": {
      "text/plain": "Name                 ram\nSurName            singh\nEmail      ram@gmail.com\nName: 0, dtype: object"
     },
     "execution_count": 65,
     "metadata": {},
     "output_type": "execute_result"
    }
   ],
   "source": [
    "df.iloc[0]\n",
    "# using iloc & loc method to find locations of the specific rows and columns"
   ],
   "metadata": {
    "collapsed": false
   }
  },
  {
   "cell_type": "code",
   "execution_count": 66,
   "outputs": [
    {
     "data": {
      "text/plain": "    Name SurName            Email\n0    ram   singh    ram@gmail.com\n1  shyam  mahato  shyam@gmail.com",
      "text/html": "<div>\n<style scoped>\n    .dataframe tbody tr th:only-of-type {\n        vertical-align: middle;\n    }\n\n    .dataframe tbody tr th {\n        vertical-align: top;\n    }\n\n    .dataframe thead th {\n        text-align: right;\n    }\n</style>\n<table border=\"1\" class=\"dataframe\">\n  <thead>\n    <tr style=\"text-align: right;\">\n      <th></th>\n      <th>Name</th>\n      <th>SurName</th>\n      <th>Email</th>\n    </tr>\n  </thead>\n  <tbody>\n    <tr>\n      <th>0</th>\n      <td>ram</td>\n      <td>singh</td>\n      <td>ram@gmail.com</td>\n    </tr>\n    <tr>\n      <th>1</th>\n      <td>shyam</td>\n      <td>mahato</td>\n      <td>shyam@gmail.com</td>\n    </tr>\n  </tbody>\n</table>\n</div>"
     },
     "execution_count": 66,
     "metadata": {},
     "output_type": "execute_result"
    }
   ],
   "source": [
    "df.iloc[[0, 1]]\n",
    "#Printing the data in the rows 0 and 1"
   ],
   "metadata": {
    "collapsed": false
   }
  },
  {
   "cell_type": "code",
   "execution_count": 67,
   "outputs": [
    {
     "data": {
      "text/plain": "0      ram@gmail.com\n1    shyam@gmail.com\nName: Email, dtype: object"
     },
     "execution_count": 67,
     "metadata": {},
     "output_type": "execute_result"
    }
   ],
   "source": [
    "df.iloc[[0, 1], 2]\n",
    "#Printing the data in the rows 0 and 1 in colun 2\n"
   ],
   "metadata": {
    "collapsed": false
   }
  },
  {
   "cell_type": "code",
   "execution_count": 68,
   "outputs": [
    {
     "data": {
      "text/plain": "Name                 ram\nSurName            singh\nEmail      ram@gmail.com\nName: 0, dtype: object"
     },
     "execution_count": 68,
     "metadata": {},
     "output_type": "execute_result"
    }
   ],
   "source": [
    "df.loc[0]"
   ],
   "metadata": {
    "collapsed": false
   }
  },
  {
   "cell_type": "code",
   "execution_count": 69,
   "outputs": [
    {
     "data": {
      "text/plain": "             Email   SurName\n1  shyam@gmail.com    mahato\n2   ghan@gmail.com  kushwaha",
      "text/html": "<div>\n<style scoped>\n    .dataframe tbody tr th:only-of-type {\n        vertical-align: middle;\n    }\n\n    .dataframe tbody tr th {\n        vertical-align: top;\n    }\n\n    .dataframe thead th {\n        text-align: right;\n    }\n</style>\n<table border=\"1\" class=\"dataframe\">\n  <thead>\n    <tr style=\"text-align: right;\">\n      <th></th>\n      <th>Email</th>\n      <th>SurName</th>\n    </tr>\n  </thead>\n  <tbody>\n    <tr>\n      <th>1</th>\n      <td>shyam@gmail.com</td>\n      <td>mahato</td>\n    </tr>\n    <tr>\n      <th>2</th>\n      <td>ghan@gmail.com</td>\n      <td>kushwaha</td>\n    </tr>\n  </tbody>\n</table>\n</div>"
     },
     "execution_count": 69,
     "metadata": {},
     "output_type": "execute_result"
    }
   ],
   "source": [
    "df.loc[[1,2], ['Email','SurName']]\n",
    "# This returns the data at row 1 and 2 from column Email and SurName and also it is giving the email's data first but it is in last column of data Frame"
   ],
   "metadata": {
    "collapsed": false
   }
  },
  {
   "cell_type": "code",
   "execution_count": 70,
   "outputs": [
    {
     "data": {
      "text/plain": "                      Name   SurName\nEmail                               \nram@gmail.com          ram     singh\nshyam@gmail.com      shyam    mahato\nghan@gmail.com        ghan  kushwaha\nmanisha@gmail.com  manisha     singh",
      "text/html": "<div>\n<style scoped>\n    .dataframe tbody tr th:only-of-type {\n        vertical-align: middle;\n    }\n\n    .dataframe tbody tr th {\n        vertical-align: top;\n    }\n\n    .dataframe thead th {\n        text-align: right;\n    }\n</style>\n<table border=\"1\" class=\"dataframe\">\n  <thead>\n    <tr style=\"text-align: right;\">\n      <th></th>\n      <th>Name</th>\n      <th>SurName</th>\n    </tr>\n    <tr>\n      <th>Email</th>\n      <th></th>\n      <th></th>\n    </tr>\n  </thead>\n  <tbody>\n    <tr>\n      <th>ram@gmail.com</th>\n      <td>ram</td>\n      <td>singh</td>\n    </tr>\n    <tr>\n      <th>shyam@gmail.com</th>\n      <td>shyam</td>\n      <td>mahato</td>\n    </tr>\n    <tr>\n      <th>ghan@gmail.com</th>\n      <td>ghan</td>\n      <td>kushwaha</td>\n    </tr>\n    <tr>\n      <th>manisha@gmail.com</th>\n      <td>manisha</td>\n      <td>singh</td>\n    </tr>\n  </tbody>\n</table>\n</div>"
     },
     "execution_count": 70,
     "metadata": {},
     "output_type": "execute_result"
    }
   ],
   "source": [
    "#set the index from the columns of the dataFarame\n",
    "# here we'll take email as index because email is different for everyone\n",
    "df.set_index('Email')"
   ],
   "metadata": {
    "collapsed": false
   }
  },
  {
   "cell_type": "code",
   "execution_count": 71,
   "outputs": [
    {
     "data": {
      "text/plain": "      Name   SurName              Email\n0      ram     singh      ram@gmail.com\n1    shyam    mahato    shyam@gmail.com\n2     ghan  kushwaha     ghan@gmail.com\n3  manisha     singh  manisha@gmail.com",
      "text/html": "<div>\n<style scoped>\n    .dataframe tbody tr th:only-of-type {\n        vertical-align: middle;\n    }\n\n    .dataframe tbody tr th {\n        vertical-align: top;\n    }\n\n    .dataframe thead th {\n        text-align: right;\n    }\n</style>\n<table border=\"1\" class=\"dataframe\">\n  <thead>\n    <tr style=\"text-align: right;\">\n      <th></th>\n      <th>Name</th>\n      <th>SurName</th>\n      <th>Email</th>\n    </tr>\n  </thead>\n  <tbody>\n    <tr>\n      <th>0</th>\n      <td>ram</td>\n      <td>singh</td>\n      <td>ram@gmail.com</td>\n    </tr>\n    <tr>\n      <th>1</th>\n      <td>shyam</td>\n      <td>mahato</td>\n      <td>shyam@gmail.com</td>\n    </tr>\n    <tr>\n      <th>2</th>\n      <td>ghan</td>\n      <td>kushwaha</td>\n      <td>ghan@gmail.com</td>\n    </tr>\n    <tr>\n      <th>3</th>\n      <td>manisha</td>\n      <td>singh</td>\n      <td>manisha@gmail.com</td>\n    </tr>\n  </tbody>\n</table>\n</div>"
     },
     "execution_count": 71,
     "metadata": {},
     "output_type": "execute_result"
    }
   ],
   "source": [
    "df\n",
    "#so here dataframe is showing defualt index this is because we didnot set the inplace"
   ],
   "metadata": {
    "collapsed": false
   }
  },
  {
   "cell_type": "code",
   "execution_count": 72,
   "outputs": [
    {
     "data": {
      "text/plain": "                      Name   SurName\nEmail                               \nram@gmail.com          ram     singh\nshyam@gmail.com      shyam    mahato\nghan@gmail.com        ghan  kushwaha\nmanisha@gmail.com  manisha     singh",
      "text/html": "<div>\n<style scoped>\n    .dataframe tbody tr th:only-of-type {\n        vertical-align: middle;\n    }\n\n    .dataframe tbody tr th {\n        vertical-align: top;\n    }\n\n    .dataframe thead th {\n        text-align: right;\n    }\n</style>\n<table border=\"1\" class=\"dataframe\">\n  <thead>\n    <tr style=\"text-align: right;\">\n      <th></th>\n      <th>Name</th>\n      <th>SurName</th>\n    </tr>\n    <tr>\n      <th>Email</th>\n      <th></th>\n      <th></th>\n    </tr>\n  </thead>\n  <tbody>\n    <tr>\n      <th>ram@gmail.com</th>\n      <td>ram</td>\n      <td>singh</td>\n    </tr>\n    <tr>\n      <th>shyam@gmail.com</th>\n      <td>shyam</td>\n      <td>mahato</td>\n    </tr>\n    <tr>\n      <th>ghan@gmail.com</th>\n      <td>ghan</td>\n      <td>kushwaha</td>\n    </tr>\n    <tr>\n      <th>manisha@gmail.com</th>\n      <td>manisha</td>\n      <td>singh</td>\n    </tr>\n  </tbody>\n</table>\n</div>"
     },
     "execution_count": 72,
     "metadata": {},
     "output_type": "execute_result"
    }
   ],
   "source": [
    "df.set_index('Email', inplace=True)\n",
    "df"
   ],
   "metadata": {
    "collapsed": false
   }
  },
  {
   "cell_type": "code",
   "execution_count": 73,
   "outputs": [
    {
     "data": {
      "text/plain": "Index(['ram@gmail.com', 'shyam@gmail.com', 'ghan@gmail.com',\n       'manisha@gmail.com'],\n      dtype='object', name='Email')"
     },
     "execution_count": 73,
     "metadata": {},
     "output_type": "execute_result"
    }
   ],
   "source": [
    "df.index"
   ],
   "metadata": {
    "collapsed": false
   }
  },
  {
   "cell_type": "code",
   "execution_count": 74,
   "outputs": [
    {
     "data": {
      "text/plain": "Name           ghan\nSurName    kushwaha\nName: ghan@gmail.com, dtype: object"
     },
     "execution_count": 74,
     "metadata": {},
     "output_type": "execute_result"
    }
   ],
   "source": [
    "df.loc['ghan@gmail.com']"
   ],
   "metadata": {
    "collapsed": false
   }
  },
  {
   "cell_type": "code",
   "execution_count": 75,
   "outputs": [
    {
     "data": {
      "text/plain": "'kushwaha'"
     },
     "execution_count": 75,
     "metadata": {},
     "output_type": "execute_result"
    }
   ],
   "source": [
    "df.loc['ghan@gmail.com', 'SurName']"
   ],
   "metadata": {
    "collapsed": false
   }
  },
  {
   "cell_type": "code",
   "execution_count": 76,
   "outputs": [
    {
     "data": {
      "text/plain": "Name         ram\nSurName    singh\nName: ram@gmail.com, dtype: object"
     },
     "execution_count": 76,
     "metadata": {},
     "output_type": "execute_result"
    }
   ],
   "source": [
    "# here our index is email but if we use iloc it will still give data from specific index\n",
    "df.iloc[0]"
   ],
   "metadata": {
    "collapsed": false
   }
  },
  {
   "cell_type": "code",
   "execution_count": 77,
   "outputs": [
    {
     "data": {
      "text/plain": "               Email     Name   SurName\n0      ram@gmail.com      ram     singh\n1    shyam@gmail.com    shyam    mahato\n2     ghan@gmail.com     ghan  kushwaha\n3  manisha@gmail.com  manisha     singh",
      "text/html": "<div>\n<style scoped>\n    .dataframe tbody tr th:only-of-type {\n        vertical-align: middle;\n    }\n\n    .dataframe tbody tr th {\n        vertical-align: top;\n    }\n\n    .dataframe thead th {\n        text-align: right;\n    }\n</style>\n<table border=\"1\" class=\"dataframe\">\n  <thead>\n    <tr style=\"text-align: right;\">\n      <th></th>\n      <th>Email</th>\n      <th>Name</th>\n      <th>SurName</th>\n    </tr>\n  </thead>\n  <tbody>\n    <tr>\n      <th>0</th>\n      <td>ram@gmail.com</td>\n      <td>ram</td>\n      <td>singh</td>\n    </tr>\n    <tr>\n      <th>1</th>\n      <td>shyam@gmail.com</td>\n      <td>shyam</td>\n      <td>mahato</td>\n    </tr>\n    <tr>\n      <th>2</th>\n      <td>ghan@gmail.com</td>\n      <td>ghan</td>\n      <td>kushwaha</td>\n    </tr>\n    <tr>\n      <th>3</th>\n      <td>manisha@gmail.com</td>\n      <td>manisha</td>\n      <td>singh</td>\n    </tr>\n  </tbody>\n</table>\n</div>"
     },
     "execution_count": 77,
     "metadata": {},
     "output_type": "execute_result"
    }
   ],
   "source": [
    "# also we can resect the index\n",
    "df.reset_index(inplace= True)\n",
    "df"
   ],
   "metadata": {
    "collapsed": false
   }
  },
  {
   "cell_type": "code",
   "execution_count": 81,
   "outputs": [
    {
     "data": {
      "text/plain": "0     True\n1    False\n2    False\n3     True\nName: SurName, dtype: bool"
     },
     "execution_count": 81,
     "metadata": {},
     "output_type": "execute_result"
    }
   ],
   "source": [
    "filt = (df['SurName'] == 'singh')\n",
    "filt"
   ],
   "metadata": {
    "collapsed": false
   }
  },
  {
   "cell_type": "code",
   "execution_count": 80,
   "outputs": [
    {
     "data": {
      "text/plain": "               Email     Name SurName\n0      ram@gmail.com      ram   singh\n3  manisha@gmail.com  manisha   singh",
      "text/html": "<div>\n<style scoped>\n    .dataframe tbody tr th:only-of-type {\n        vertical-align: middle;\n    }\n\n    .dataframe tbody tr th {\n        vertical-align: top;\n    }\n\n    .dataframe thead th {\n        text-align: right;\n    }\n</style>\n<table border=\"1\" class=\"dataframe\">\n  <thead>\n    <tr style=\"text-align: right;\">\n      <th></th>\n      <th>Email</th>\n      <th>Name</th>\n      <th>SurName</th>\n    </tr>\n  </thead>\n  <tbody>\n    <tr>\n      <th>0</th>\n      <td>ram@gmail.com</td>\n      <td>ram</td>\n      <td>singh</td>\n    </tr>\n    <tr>\n      <th>3</th>\n      <td>manisha@gmail.com</td>\n      <td>manisha</td>\n      <td>singh</td>\n    </tr>\n  </tbody>\n</table>\n</div>"
     },
     "execution_count": 80,
     "metadata": {},
     "output_type": "execute_result"
    }
   ],
   "source": [
    "df[filt]"
   ],
   "metadata": {
    "collapsed": false
   }
  },
  {
   "cell_type": "code",
   "execution_count": 85,
   "outputs": [
    {
     "data": {
      "text/plain": "0        ram@gmail.com\n3    manisha@gmail.com\nName: Email, dtype: object"
     },
     "execution_count": 85,
     "metadata": {},
     "output_type": "execute_result"
    }
   ],
   "source": [
    "#also we can do same thing with loc\n",
    "df.loc[filt, 'Email']"
   ],
   "metadata": {
    "collapsed": false
   }
  },
  {
   "cell_type": "code",
   "execution_count": 86,
   "outputs": [],
   "source": [
    "filt1 = (df['SurName'] == 'singh') & (df['Name'] == 'manisha')"
   ],
   "metadata": {
    "collapsed": false
   }
  },
  {
   "cell_type": "code",
   "execution_count": 87,
   "outputs": [
    {
     "data": {
      "text/plain": "               Email     Name SurName\n3  manisha@gmail.com  manisha   singh",
      "text/html": "<div>\n<style scoped>\n    .dataframe tbody tr th:only-of-type {\n        vertical-align: middle;\n    }\n\n    .dataframe tbody tr th {\n        vertical-align: top;\n    }\n\n    .dataframe thead th {\n        text-align: right;\n    }\n</style>\n<table border=\"1\" class=\"dataframe\">\n  <thead>\n    <tr style=\"text-align: right;\">\n      <th></th>\n      <th>Email</th>\n      <th>Name</th>\n      <th>SurName</th>\n    </tr>\n  </thead>\n  <tbody>\n    <tr>\n      <th>3</th>\n      <td>manisha@gmail.com</td>\n      <td>manisha</td>\n      <td>singh</td>\n    </tr>\n  </tbody>\n</table>\n</div>"
     },
     "execution_count": 87,
     "metadata": {},
     "output_type": "execute_result"
    }
   ],
   "source": [
    "df[filt1]"
   ],
   "metadata": {
    "collapsed": false
   }
  },
  {
   "cell_type": "code",
   "execution_count": 90,
   "outputs": [
    {
     "data": {
      "text/plain": "0      ram@gmail.com\n1    shyam@gmail.com\n2     ghan@gmail.com\nName: Email, dtype: object"
     },
     "execution_count": 90,
     "metadata": {},
     "output_type": "execute_result"
    }
   ],
   "source": [
    "filt2 = (df['SurName'] == 'kushwana') | (df['Name'] == 'manisha')\n",
    "df.loc[-filt2, 'Email']"
   ],
   "metadata": {
    "collapsed": false
   }
  },
  {
   "cell_type": "code",
   "execution_count": 91,
   "outputs": [
    {
     "data": {
      "text/plain": "          First_Name Last_Name     Email\n0      ram@gmail.com       ram     singh\n1    shyam@gmail.com     shyam    mahato\n2     ghan@gmail.com      ghan  kushwaha\n3  manisha@gmail.com   manisha     singh",
      "text/html": "<div>\n<style scoped>\n    .dataframe tbody tr th:only-of-type {\n        vertical-align: middle;\n    }\n\n    .dataframe tbody tr th {\n        vertical-align: top;\n    }\n\n    .dataframe thead th {\n        text-align: right;\n    }\n</style>\n<table border=\"1\" class=\"dataframe\">\n  <thead>\n    <tr style=\"text-align: right;\">\n      <th></th>\n      <th>First_Name</th>\n      <th>Last_Name</th>\n      <th>Email</th>\n    </tr>\n  </thead>\n  <tbody>\n    <tr>\n      <th>0</th>\n      <td>ram@gmail.com</td>\n      <td>ram</td>\n      <td>singh</td>\n    </tr>\n    <tr>\n      <th>1</th>\n      <td>shyam@gmail.com</td>\n      <td>shyam</td>\n      <td>mahato</td>\n    </tr>\n    <tr>\n      <th>2</th>\n      <td>ghan@gmail.com</td>\n      <td>ghan</td>\n      <td>kushwaha</td>\n    </tr>\n    <tr>\n      <th>3</th>\n      <td>manisha@gmail.com</td>\n      <td>manisha</td>\n      <td>singh</td>\n    </tr>\n  </tbody>\n</table>\n</div>"
     },
     "execution_count": 91,
     "metadata": {},
     "output_type": "execute_result"
    }
   ],
   "source": [
    "df.columns = [ 'First_Name', 'Last_Name', 'Email']\n",
    "df"
   ],
   "metadata": {
    "collapsed": false
   }
  },
  {
   "cell_type": "code",
   "execution_count": 92,
   "outputs": [],
   "source": [
    "df.columns = [x.upper() for x in df.columns]"
   ],
   "metadata": {
    "collapsed": false
   }
  },
  {
   "cell_type": "code",
   "execution_count": 93,
   "outputs": [
    {
     "data": {
      "text/plain": "          FIRST_NAME LAST_NAME     EMAIL\n0      ram@gmail.com       ram     singh\n1    shyam@gmail.com     shyam    mahato\n2     ghan@gmail.com      ghan  kushwaha\n3  manisha@gmail.com   manisha     singh",
      "text/html": "<div>\n<style scoped>\n    .dataframe tbody tr th:only-of-type {\n        vertical-align: middle;\n    }\n\n    .dataframe tbody tr th {\n        vertical-align: top;\n    }\n\n    .dataframe thead th {\n        text-align: right;\n    }\n</style>\n<table border=\"1\" class=\"dataframe\">\n  <thead>\n    <tr style=\"text-align: right;\">\n      <th></th>\n      <th>FIRST_NAME</th>\n      <th>LAST_NAME</th>\n      <th>EMAIL</th>\n    </tr>\n  </thead>\n  <tbody>\n    <tr>\n      <th>0</th>\n      <td>ram@gmail.com</td>\n      <td>ram</td>\n      <td>singh</td>\n    </tr>\n    <tr>\n      <th>1</th>\n      <td>shyam@gmail.com</td>\n      <td>shyam</td>\n      <td>mahato</td>\n    </tr>\n    <tr>\n      <th>2</th>\n      <td>ghan@gmail.com</td>\n      <td>ghan</td>\n      <td>kushwaha</td>\n    </tr>\n    <tr>\n      <th>3</th>\n      <td>manisha@gmail.com</td>\n      <td>manisha</td>\n      <td>singh</td>\n    </tr>\n  </tbody>\n</table>\n</div>"
     },
     "execution_count": 93,
     "metadata": {},
     "output_type": "execute_result"
    }
   ],
   "source": [
    "df"
   ],
   "metadata": {
    "collapsed": false
   }
  },
  {
   "cell_type": "code",
   "execution_count": null,
   "outputs": [],
   "source": [],
   "metadata": {
    "collapsed": false
   }
  }
 ],
 "metadata": {
  "kernelspec": {
   "display_name": "Python 3",
   "language": "python",
   "name": "python3"
  },
  "language_info": {
   "codemirror_mode": {
    "name": "ipython",
    "version": 2
   },
   "file_extension": ".py",
   "mimetype": "text/x-python",
   "name": "python",
   "nbconvert_exporter": "python",
   "pygments_lexer": "ipython2",
   "version": "2.7.6"
  }
 },
 "nbformat": 4,
 "nbformat_minor": 0
}
