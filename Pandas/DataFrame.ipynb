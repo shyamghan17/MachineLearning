{
 "cells": [
  {
   "cell_type": "code",
   "execution_count": 572,
   "metadata": {
    "collapsed": true
   },
   "outputs": [
    {
     "data": {
      "text/plain": "      Name   SurName            Email\n0      ram     singh    ram@gmail.com\n1    shyam    mahato  shyam@gmail.com\n2     ghan  kushwaha   ghan@gmail.com\n3  manisha     singh     Mh@gmail.com",
      "text/html": "<div>\n<style scoped>\n    .dataframe tbody tr th:only-of-type {\n        vertical-align: middle;\n    }\n\n    .dataframe tbody tr th {\n        vertical-align: top;\n    }\n\n    .dataframe thead th {\n        text-align: right;\n    }\n</style>\n<table border=\"1\" class=\"dataframe\">\n  <thead>\n    <tr style=\"text-align: right;\">\n      <th></th>\n      <th>Name</th>\n      <th>SurName</th>\n      <th>Email</th>\n    </tr>\n  </thead>\n  <tbody>\n    <tr>\n      <th>0</th>\n      <td>ram</td>\n      <td>singh</td>\n      <td>ram@gmail.com</td>\n    </tr>\n    <tr>\n      <th>1</th>\n      <td>shyam</td>\n      <td>mahato</td>\n      <td>shyam@gmail.com</td>\n    </tr>\n    <tr>\n      <th>2</th>\n      <td>ghan</td>\n      <td>kushwaha</td>\n      <td>ghan@gmail.com</td>\n    </tr>\n    <tr>\n      <th>3</th>\n      <td>manisha</td>\n      <td>singh</td>\n      <td>Mh@gmail.com</td>\n    </tr>\n  </tbody>\n</table>\n</div>"
     },
     "execution_count": 572,
     "metadata": {},
     "output_type": "execute_result"
    }
   ],
   "source": [
    "peopel = {'Name':['ram', 'shyam', 'ghan', 'manisha'], 'SurName':['singh', 'mahato', 'kushwaha', 'singh' ],'Email':['ram@gmail.com', 'shyam@gmail.com', 'ghan@gmail.com', 'Mh@gmail.com']}\n",
    "#creating a list of data set\n",
    "import pandas as pd\n",
    "#importing pandas library\n",
    "df = pd.DataFrame(peopel)\n",
    "df\n",
    "#printing the data"
   ]
  },
  {
   "cell_type": "code",
   "execution_count": 573,
   "outputs": [
    {
     "data": {
      "text/plain": "0        ram\n1      shyam\n2       ghan\n3    manisha\nName: Name, dtype: object"
     },
     "execution_count": 573,
     "metadata": {},
     "output_type": "execute_result"
    }
   ],
   "source": [
    "df['Name']\n",
    "#printing the column that have Name"
   ],
   "metadata": {
    "collapsed": false
   }
  },
  {
   "cell_type": "code",
   "execution_count": 574,
   "outputs": [
    {
     "data": {
      "text/plain": "0      ram@gmail.com\n1    shyam@gmail.com\n2     ghan@gmail.com\n3       Mh@gmail.com\nName: Email, dtype: object"
     },
     "execution_count": 574,
     "metadata": {},
     "output_type": "execute_result"
    }
   ],
   "source": [
    "df['Email']\n",
    "#printing the column that have Email"
   ],
   "metadata": {
    "collapsed": false
   }
  },
  {
   "cell_type": "code",
   "execution_count": 575,
   "outputs": [
    {
     "data": {
      "text/plain": "0      ram@gmail.com\n1    shyam@gmail.com\n2     ghan@gmail.com\n3       Mh@gmail.com\nName: Email, dtype: object"
     },
     "execution_count": 575,
     "metadata": {},
     "output_type": "execute_result"
    }
   ],
   "source": [
    "df.Email\n",
    "#printing the column that have Email"
   ],
   "metadata": {
    "collapsed": false
   }
  },
  {
   "cell_type": "code",
   "execution_count": 576,
   "outputs": [
    {
     "data": {
      "text/plain": "0        ram\n1      shyam\n2       ghan\n3    manisha\nName: Name, dtype: object"
     },
     "execution_count": 576,
     "metadata": {},
     "output_type": "execute_result"
    }
   ],
   "source": [
    "df.Name\n",
    "#printing the column that have Name"
   ],
   "metadata": {
    "collapsed": false
   }
  },
  {
   "cell_type": "code",
   "execution_count": 577,
   "outputs": [
    {
     "data": {
      "text/plain": "0       singh\n1      mahato\n2    kushwaha\n3       singh\nName: SurName, dtype: object"
     },
     "execution_count": 577,
     "metadata": {},
     "output_type": "execute_result"
    }
   ],
   "source": [
    "df.SurName\n",
    "#printing the column that have SurName"
   ],
   "metadata": {
    "collapsed": false
   }
  },
  {
   "cell_type": "code",
   "execution_count": 578,
   "outputs": [
    {
     "data": {
      "text/plain": "      Name            Email\n0      ram    ram@gmail.com\n1    shyam  shyam@gmail.com\n2     ghan   ghan@gmail.com\n3  manisha     Mh@gmail.com",
      "text/html": "<div>\n<style scoped>\n    .dataframe tbody tr th:only-of-type {\n        vertical-align: middle;\n    }\n\n    .dataframe tbody tr th {\n        vertical-align: top;\n    }\n\n    .dataframe thead th {\n        text-align: right;\n    }\n</style>\n<table border=\"1\" class=\"dataframe\">\n  <thead>\n    <tr style=\"text-align: right;\">\n      <th></th>\n      <th>Name</th>\n      <th>Email</th>\n    </tr>\n  </thead>\n  <tbody>\n    <tr>\n      <th>0</th>\n      <td>ram</td>\n      <td>ram@gmail.com</td>\n    </tr>\n    <tr>\n      <th>1</th>\n      <td>shyam</td>\n      <td>shyam@gmail.com</td>\n    </tr>\n    <tr>\n      <th>2</th>\n      <td>ghan</td>\n      <td>ghan@gmail.com</td>\n    </tr>\n    <tr>\n      <th>3</th>\n      <td>manisha</td>\n      <td>Mh@gmail.com</td>\n    </tr>\n  </tbody>\n</table>\n</div>"
     },
     "execution_count": 578,
     "metadata": {},
     "output_type": "execute_result"
    }
   ],
   "source": [
    "df[['Name', 'Email']]\n",
    "#printing the column that have Name & Email"
   ],
   "metadata": {
    "collapsed": false
   }
  },
  {
   "cell_type": "code",
   "execution_count": 579,
   "outputs": [
    {
     "data": {
      "text/plain": "Index(['Name', 'SurName', 'Email'], dtype='object')"
     },
     "execution_count": 579,
     "metadata": {},
     "output_type": "execute_result"
    }
   ],
   "source": [
    "df.columns\n",
    "#printing the columns that are present in the dataframe"
   ],
   "metadata": {
    "collapsed": false
   }
  },
  {
   "cell_type": "code",
   "execution_count": 580,
   "outputs": [
    {
     "data": {
      "text/plain": "Name                 ram\nSurName            singh\nEmail      ram@gmail.com\nName: 0, dtype: object"
     },
     "execution_count": 580,
     "metadata": {},
     "output_type": "execute_result"
    }
   ],
   "source": [
    "df.iloc[0]\n",
    "# using iloc & loc method to find locations of the specific rows and columns"
   ],
   "metadata": {
    "collapsed": false
   }
  },
  {
   "cell_type": "code",
   "execution_count": 581,
   "outputs": [
    {
     "data": {
      "text/plain": "    Name SurName            Email\n0    ram   singh    ram@gmail.com\n1  shyam  mahato  shyam@gmail.com",
      "text/html": "<div>\n<style scoped>\n    .dataframe tbody tr th:only-of-type {\n        vertical-align: middle;\n    }\n\n    .dataframe tbody tr th {\n        vertical-align: top;\n    }\n\n    .dataframe thead th {\n        text-align: right;\n    }\n</style>\n<table border=\"1\" class=\"dataframe\">\n  <thead>\n    <tr style=\"text-align: right;\">\n      <th></th>\n      <th>Name</th>\n      <th>SurName</th>\n      <th>Email</th>\n    </tr>\n  </thead>\n  <tbody>\n    <tr>\n      <th>0</th>\n      <td>ram</td>\n      <td>singh</td>\n      <td>ram@gmail.com</td>\n    </tr>\n    <tr>\n      <th>1</th>\n      <td>shyam</td>\n      <td>mahato</td>\n      <td>shyam@gmail.com</td>\n    </tr>\n  </tbody>\n</table>\n</div>"
     },
     "execution_count": 581,
     "metadata": {},
     "output_type": "execute_result"
    }
   ],
   "source": [
    "df.iloc[[0, 1]]\n",
    "#Printing the data in the rows 0 and 1"
   ],
   "metadata": {
    "collapsed": false
   }
  },
  {
   "cell_type": "code",
   "execution_count": 582,
   "outputs": [
    {
     "data": {
      "text/plain": "0      ram@gmail.com\n1    shyam@gmail.com\nName: Email, dtype: object"
     },
     "execution_count": 582,
     "metadata": {},
     "output_type": "execute_result"
    }
   ],
   "source": [
    "df.iloc[[0, 1], 2]\n",
    "#Printing the data in the rows 0 and 1 in colun 2\n"
   ],
   "metadata": {
    "collapsed": false
   }
  },
  {
   "cell_type": "code",
   "execution_count": 583,
   "outputs": [
    {
     "data": {
      "text/plain": "Name                 ram\nSurName            singh\nEmail      ram@gmail.com\nName: 0, dtype: object"
     },
     "execution_count": 583,
     "metadata": {},
     "output_type": "execute_result"
    }
   ],
   "source": [
    "df.loc[0]"
   ],
   "metadata": {
    "collapsed": false
   }
  },
  {
   "cell_type": "code",
   "execution_count": 584,
   "outputs": [
    {
     "data": {
      "text/plain": "             Email   SurName\n1  shyam@gmail.com    mahato\n2   ghan@gmail.com  kushwaha",
      "text/html": "<div>\n<style scoped>\n    .dataframe tbody tr th:only-of-type {\n        vertical-align: middle;\n    }\n\n    .dataframe tbody tr th {\n        vertical-align: top;\n    }\n\n    .dataframe thead th {\n        text-align: right;\n    }\n</style>\n<table border=\"1\" class=\"dataframe\">\n  <thead>\n    <tr style=\"text-align: right;\">\n      <th></th>\n      <th>Email</th>\n      <th>SurName</th>\n    </tr>\n  </thead>\n  <tbody>\n    <tr>\n      <th>1</th>\n      <td>shyam@gmail.com</td>\n      <td>mahato</td>\n    </tr>\n    <tr>\n      <th>2</th>\n      <td>ghan@gmail.com</td>\n      <td>kushwaha</td>\n    </tr>\n  </tbody>\n</table>\n</div>"
     },
     "execution_count": 584,
     "metadata": {},
     "output_type": "execute_result"
    }
   ],
   "source": [
    "df.loc[[1,2], ['Email','SurName']]\n",
    "# This returns the data at row 1 and 2 from column Email and SurName and also it is giving the email's data first but it is in last column of data Frame"
   ],
   "metadata": {
    "collapsed": false
   }
  },
  {
   "cell_type": "code",
   "execution_count": 585,
   "outputs": [
    {
     "data": {
      "text/plain": "                    Name   SurName\nEmail                             \nram@gmail.com        ram     singh\nshyam@gmail.com    shyam    mahato\nghan@gmail.com      ghan  kushwaha\nMh@gmail.com     manisha     singh",
      "text/html": "<div>\n<style scoped>\n    .dataframe tbody tr th:only-of-type {\n        vertical-align: middle;\n    }\n\n    .dataframe tbody tr th {\n        vertical-align: top;\n    }\n\n    .dataframe thead th {\n        text-align: right;\n    }\n</style>\n<table border=\"1\" class=\"dataframe\">\n  <thead>\n    <tr style=\"text-align: right;\">\n      <th></th>\n      <th>Name</th>\n      <th>SurName</th>\n    </tr>\n    <tr>\n      <th>Email</th>\n      <th></th>\n      <th></th>\n    </tr>\n  </thead>\n  <tbody>\n    <tr>\n      <th>ram@gmail.com</th>\n      <td>ram</td>\n      <td>singh</td>\n    </tr>\n    <tr>\n      <th>shyam@gmail.com</th>\n      <td>shyam</td>\n      <td>mahato</td>\n    </tr>\n    <tr>\n      <th>ghan@gmail.com</th>\n      <td>ghan</td>\n      <td>kushwaha</td>\n    </tr>\n    <tr>\n      <th>Mh@gmail.com</th>\n      <td>manisha</td>\n      <td>singh</td>\n    </tr>\n  </tbody>\n</table>\n</div>"
     },
     "execution_count": 585,
     "metadata": {},
     "output_type": "execute_result"
    }
   ],
   "source": [
    "#set the index from the columns of the dataFarame\n",
    "# here we'll take email as index because email is different for everyone\n",
    "df.set_index('Email')"
   ],
   "metadata": {
    "collapsed": false
   }
  },
  {
   "cell_type": "code",
   "execution_count": 586,
   "outputs": [
    {
     "data": {
      "text/plain": "      Name   SurName            Email\n0      ram     singh    ram@gmail.com\n1    shyam    mahato  shyam@gmail.com\n2     ghan  kushwaha   ghan@gmail.com\n3  manisha     singh     Mh@gmail.com",
      "text/html": "<div>\n<style scoped>\n    .dataframe tbody tr th:only-of-type {\n        vertical-align: middle;\n    }\n\n    .dataframe tbody tr th {\n        vertical-align: top;\n    }\n\n    .dataframe thead th {\n        text-align: right;\n    }\n</style>\n<table border=\"1\" class=\"dataframe\">\n  <thead>\n    <tr style=\"text-align: right;\">\n      <th></th>\n      <th>Name</th>\n      <th>SurName</th>\n      <th>Email</th>\n    </tr>\n  </thead>\n  <tbody>\n    <tr>\n      <th>0</th>\n      <td>ram</td>\n      <td>singh</td>\n      <td>ram@gmail.com</td>\n    </tr>\n    <tr>\n      <th>1</th>\n      <td>shyam</td>\n      <td>mahato</td>\n      <td>shyam@gmail.com</td>\n    </tr>\n    <tr>\n      <th>2</th>\n      <td>ghan</td>\n      <td>kushwaha</td>\n      <td>ghan@gmail.com</td>\n    </tr>\n    <tr>\n      <th>3</th>\n      <td>manisha</td>\n      <td>singh</td>\n      <td>Mh@gmail.com</td>\n    </tr>\n  </tbody>\n</table>\n</div>"
     },
     "execution_count": 586,
     "metadata": {},
     "output_type": "execute_result"
    }
   ],
   "source": [
    "df\n",
    "#so here dataframe is showing defualt index this is because we didnot set the inplace"
   ],
   "metadata": {
    "collapsed": false
   }
  },
  {
   "cell_type": "code",
   "execution_count": 587,
   "outputs": [
    {
     "data": {
      "text/plain": "                    Name   SurName\nEmail                             \nram@gmail.com        ram     singh\nshyam@gmail.com    shyam    mahato\nghan@gmail.com      ghan  kushwaha\nMh@gmail.com     manisha     singh",
      "text/html": "<div>\n<style scoped>\n    .dataframe tbody tr th:only-of-type {\n        vertical-align: middle;\n    }\n\n    .dataframe tbody tr th {\n        vertical-align: top;\n    }\n\n    .dataframe thead th {\n        text-align: right;\n    }\n</style>\n<table border=\"1\" class=\"dataframe\">\n  <thead>\n    <tr style=\"text-align: right;\">\n      <th></th>\n      <th>Name</th>\n      <th>SurName</th>\n    </tr>\n    <tr>\n      <th>Email</th>\n      <th></th>\n      <th></th>\n    </tr>\n  </thead>\n  <tbody>\n    <tr>\n      <th>ram@gmail.com</th>\n      <td>ram</td>\n      <td>singh</td>\n    </tr>\n    <tr>\n      <th>shyam@gmail.com</th>\n      <td>shyam</td>\n      <td>mahato</td>\n    </tr>\n    <tr>\n      <th>ghan@gmail.com</th>\n      <td>ghan</td>\n      <td>kushwaha</td>\n    </tr>\n    <tr>\n      <th>Mh@gmail.com</th>\n      <td>manisha</td>\n      <td>singh</td>\n    </tr>\n  </tbody>\n</table>\n</div>"
     },
     "execution_count": 587,
     "metadata": {},
     "output_type": "execute_result"
    }
   ],
   "source": [
    "df.set_index('Email', inplace=True)\n",
    "df"
   ],
   "metadata": {
    "collapsed": false
   }
  },
  {
   "cell_type": "code",
   "execution_count": 588,
   "outputs": [
    {
     "data": {
      "text/plain": "Index(['ram@gmail.com', 'shyam@gmail.com', 'ghan@gmail.com', 'Mh@gmail.com'], dtype='object', name='Email')"
     },
     "execution_count": 588,
     "metadata": {},
     "output_type": "execute_result"
    }
   ],
   "source": [
    "df.index"
   ],
   "metadata": {
    "collapsed": false
   }
  },
  {
   "cell_type": "code",
   "execution_count": 589,
   "outputs": [
    {
     "data": {
      "text/plain": "Name           ghan\nSurName    kushwaha\nName: ghan@gmail.com, dtype: object"
     },
     "execution_count": 589,
     "metadata": {},
     "output_type": "execute_result"
    }
   ],
   "source": [
    "df.loc['ghan@gmail.com']"
   ],
   "metadata": {
    "collapsed": false
   }
  },
  {
   "cell_type": "code",
   "execution_count": 590,
   "outputs": [
    {
     "data": {
      "text/plain": "'kushwaha'"
     },
     "execution_count": 590,
     "metadata": {},
     "output_type": "execute_result"
    }
   ],
   "source": [
    "df.loc['ghan@gmail.com', 'SurName']"
   ],
   "metadata": {
    "collapsed": false
   }
  },
  {
   "cell_type": "code",
   "execution_count": 591,
   "outputs": [
    {
     "data": {
      "text/plain": "Name         ram\nSurName    singh\nName: ram@gmail.com, dtype: object"
     },
     "execution_count": 591,
     "metadata": {},
     "output_type": "execute_result"
    }
   ],
   "source": [
    "# here our index is email but if we use iloc it will still give data from specific index\n",
    "df.iloc[0]"
   ],
   "metadata": {
    "collapsed": false
   }
  },
  {
   "cell_type": "code",
   "execution_count": 592,
   "outputs": [
    {
     "data": {
      "text/plain": "             Email     Name   SurName\n0    ram@gmail.com      ram     singh\n1  shyam@gmail.com    shyam    mahato\n2   ghan@gmail.com     ghan  kushwaha\n3     Mh@gmail.com  manisha     singh",
      "text/html": "<div>\n<style scoped>\n    .dataframe tbody tr th:only-of-type {\n        vertical-align: middle;\n    }\n\n    .dataframe tbody tr th {\n        vertical-align: top;\n    }\n\n    .dataframe thead th {\n        text-align: right;\n    }\n</style>\n<table border=\"1\" class=\"dataframe\">\n  <thead>\n    <tr style=\"text-align: right;\">\n      <th></th>\n      <th>Email</th>\n      <th>Name</th>\n      <th>SurName</th>\n    </tr>\n  </thead>\n  <tbody>\n    <tr>\n      <th>0</th>\n      <td>ram@gmail.com</td>\n      <td>ram</td>\n      <td>singh</td>\n    </tr>\n    <tr>\n      <th>1</th>\n      <td>shyam@gmail.com</td>\n      <td>shyam</td>\n      <td>mahato</td>\n    </tr>\n    <tr>\n      <th>2</th>\n      <td>ghan@gmail.com</td>\n      <td>ghan</td>\n      <td>kushwaha</td>\n    </tr>\n    <tr>\n      <th>3</th>\n      <td>Mh@gmail.com</td>\n      <td>manisha</td>\n      <td>singh</td>\n    </tr>\n  </tbody>\n</table>\n</div>"
     },
     "execution_count": 592,
     "metadata": {},
     "output_type": "execute_result"
    }
   ],
   "source": [
    "# also we can resect the index\n",
    "df.reset_index(inplace= True)\n",
    "df"
   ],
   "metadata": {
    "collapsed": false
   }
  },
  {
   "cell_type": "code",
   "execution_count": 593,
   "outputs": [
    {
     "data": {
      "text/plain": "0     True\n1    False\n2    False\n3     True\nName: SurName, dtype: bool"
     },
     "execution_count": 593,
     "metadata": {},
     "output_type": "execute_result"
    }
   ],
   "source": [
    "filt = (df['SurName'] == 'singh')\n",
    "filt"
   ],
   "metadata": {
    "collapsed": false
   }
  },
  {
   "cell_type": "code",
   "execution_count": 594,
   "outputs": [
    {
     "data": {
      "text/plain": "           Email     Name SurName\n0  ram@gmail.com      ram   singh\n3   Mh@gmail.com  manisha   singh",
      "text/html": "<div>\n<style scoped>\n    .dataframe tbody tr th:only-of-type {\n        vertical-align: middle;\n    }\n\n    .dataframe tbody tr th {\n        vertical-align: top;\n    }\n\n    .dataframe thead th {\n        text-align: right;\n    }\n</style>\n<table border=\"1\" class=\"dataframe\">\n  <thead>\n    <tr style=\"text-align: right;\">\n      <th></th>\n      <th>Email</th>\n      <th>Name</th>\n      <th>SurName</th>\n    </tr>\n  </thead>\n  <tbody>\n    <tr>\n      <th>0</th>\n      <td>ram@gmail.com</td>\n      <td>ram</td>\n      <td>singh</td>\n    </tr>\n    <tr>\n      <th>3</th>\n      <td>Mh@gmail.com</td>\n      <td>manisha</td>\n      <td>singh</td>\n    </tr>\n  </tbody>\n</table>\n</div>"
     },
     "execution_count": 594,
     "metadata": {},
     "output_type": "execute_result"
    }
   ],
   "source": [
    "df[filt]"
   ],
   "metadata": {
    "collapsed": false
   }
  },
  {
   "cell_type": "code",
   "execution_count": 595,
   "outputs": [
    {
     "data": {
      "text/plain": "0    ram@gmail.com\n3     Mh@gmail.com\nName: Email, dtype: object"
     },
     "execution_count": 595,
     "metadata": {},
     "output_type": "execute_result"
    }
   ],
   "source": [
    "#also we can do same thing with loc\n",
    "df.loc[filt, 'Email']"
   ],
   "metadata": {
    "collapsed": false
   }
  },
  {
   "cell_type": "code",
   "execution_count": 596,
   "outputs": [],
   "source": [
    "filt1 = (df['SurName'] == 'singh') & (df['Name'] == 'manisha')"
   ],
   "metadata": {
    "collapsed": false
   }
  },
  {
   "cell_type": "code",
   "execution_count": 597,
   "outputs": [
    {
     "data": {
      "text/plain": "          Email     Name SurName\n3  Mh@gmail.com  manisha   singh",
      "text/html": "<div>\n<style scoped>\n    .dataframe tbody tr th:only-of-type {\n        vertical-align: middle;\n    }\n\n    .dataframe tbody tr th {\n        vertical-align: top;\n    }\n\n    .dataframe thead th {\n        text-align: right;\n    }\n</style>\n<table border=\"1\" class=\"dataframe\">\n  <thead>\n    <tr style=\"text-align: right;\">\n      <th></th>\n      <th>Email</th>\n      <th>Name</th>\n      <th>SurName</th>\n    </tr>\n  </thead>\n  <tbody>\n    <tr>\n      <th>3</th>\n      <td>Mh@gmail.com</td>\n      <td>manisha</td>\n      <td>singh</td>\n    </tr>\n  </tbody>\n</table>\n</div>"
     },
     "execution_count": 597,
     "metadata": {},
     "output_type": "execute_result"
    }
   ],
   "source": [
    "df[filt1]"
   ],
   "metadata": {
    "collapsed": false
   }
  },
  {
   "cell_type": "code",
   "execution_count": 598,
   "outputs": [
    {
     "data": {
      "text/plain": "0      ram@gmail.com\n1    shyam@gmail.com\n2     ghan@gmail.com\nName: Email, dtype: object"
     },
     "execution_count": 598,
     "metadata": {},
     "output_type": "execute_result"
    }
   ],
   "source": [
    "filt2 = (df['SurName'] == 'kushwana') | (df['Name'] == 'manisha')\n",
    "df.loc[-filt2, 'Email']"
   ],
   "metadata": {
    "collapsed": false
   }
  },
  {
   "cell_type": "code",
   "execution_count": 599,
   "outputs": [
    {
     "data": {
      "text/plain": "             Email     Name   SurName\n0    ram@gmail.com      ram     singh\n1  shyam@gmail.com    shyam    mahato\n2   ghan@gmail.com     ghan  kushwaha\n3     Mh@gmail.com  manisha     singh",
      "text/html": "<div>\n<style scoped>\n    .dataframe tbody tr th:only-of-type {\n        vertical-align: middle;\n    }\n\n    .dataframe tbody tr th {\n        vertical-align: top;\n    }\n\n    .dataframe thead th {\n        text-align: right;\n    }\n</style>\n<table border=\"1\" class=\"dataframe\">\n  <thead>\n    <tr style=\"text-align: right;\">\n      <th></th>\n      <th>Email</th>\n      <th>Name</th>\n      <th>SurName</th>\n    </tr>\n  </thead>\n  <tbody>\n    <tr>\n      <th>0</th>\n      <td>ram@gmail.com</td>\n      <td>ram</td>\n      <td>singh</td>\n    </tr>\n    <tr>\n      <th>1</th>\n      <td>shyam@gmail.com</td>\n      <td>shyam</td>\n      <td>mahato</td>\n    </tr>\n    <tr>\n      <th>2</th>\n      <td>ghan@gmail.com</td>\n      <td>ghan</td>\n      <td>kushwaha</td>\n    </tr>\n    <tr>\n      <th>3</th>\n      <td>Mh@gmail.com</td>\n      <td>manisha</td>\n      <td>singh</td>\n    </tr>\n  </tbody>\n</table>\n</div>"
     },
     "execution_count": 599,
     "metadata": {},
     "output_type": "execute_result"
    }
   ],
   "source": [
    "df"
   ],
   "metadata": {
    "collapsed": false
   }
  },
  {
   "cell_type": "code",
   "execution_count": 600,
   "outputs": [
    {
     "data": {
      "text/plain": "        First_Name Last_Name     Email\n0    ram@gmail.com       ram     singh\n1  shyam@gmail.com     shyam    mahato\n2   ghan@gmail.com      ghan  kushwaha\n3     Mh@gmail.com   manisha     singh",
      "text/html": "<div>\n<style scoped>\n    .dataframe tbody tr th:only-of-type {\n        vertical-align: middle;\n    }\n\n    .dataframe tbody tr th {\n        vertical-align: top;\n    }\n\n    .dataframe thead th {\n        text-align: right;\n    }\n</style>\n<table border=\"1\" class=\"dataframe\">\n  <thead>\n    <tr style=\"text-align: right;\">\n      <th></th>\n      <th>First_Name</th>\n      <th>Last_Name</th>\n      <th>Email</th>\n    </tr>\n  </thead>\n  <tbody>\n    <tr>\n      <th>0</th>\n      <td>ram@gmail.com</td>\n      <td>ram</td>\n      <td>singh</td>\n    </tr>\n    <tr>\n      <th>1</th>\n      <td>shyam@gmail.com</td>\n      <td>shyam</td>\n      <td>mahato</td>\n    </tr>\n    <tr>\n      <th>2</th>\n      <td>ghan@gmail.com</td>\n      <td>ghan</td>\n      <td>kushwaha</td>\n    </tr>\n    <tr>\n      <th>3</th>\n      <td>Mh@gmail.com</td>\n      <td>manisha</td>\n      <td>singh</td>\n    </tr>\n  </tbody>\n</table>\n</div>"
     },
     "execution_count": 600,
     "metadata": {},
     "output_type": "execute_result"
    }
   ],
   "source": [
    "df.columns = [ 'First_Name', 'Last_Name', 'Email']\n",
    "df"
   ],
   "metadata": {
    "collapsed": false
   }
  },
  {
   "cell_type": "code",
   "execution_count": 601,
   "outputs": [],
   "source": [
    "df.columns = [x.upper() for x in df.columns]"
   ],
   "metadata": {
    "collapsed": false
   }
  },
  {
   "cell_type": "code",
   "execution_count": 602,
   "outputs": [
    {
     "data": {
      "text/plain": "        FIRST_NAME LAST_NAME     EMAIL\n0    ram@gmail.com       ram     singh\n1  shyam@gmail.com     shyam    mahato\n2   ghan@gmail.com      ghan  kushwaha\n3     Mh@gmail.com   manisha     singh",
      "text/html": "<div>\n<style scoped>\n    .dataframe tbody tr th:only-of-type {\n        vertical-align: middle;\n    }\n\n    .dataframe tbody tr th {\n        vertical-align: top;\n    }\n\n    .dataframe thead th {\n        text-align: right;\n    }\n</style>\n<table border=\"1\" class=\"dataframe\">\n  <thead>\n    <tr style=\"text-align: right;\">\n      <th></th>\n      <th>FIRST_NAME</th>\n      <th>LAST_NAME</th>\n      <th>EMAIL</th>\n    </tr>\n  </thead>\n  <tbody>\n    <tr>\n      <th>0</th>\n      <td>ram@gmail.com</td>\n      <td>ram</td>\n      <td>singh</td>\n    </tr>\n    <tr>\n      <th>1</th>\n      <td>shyam@gmail.com</td>\n      <td>shyam</td>\n      <td>mahato</td>\n    </tr>\n    <tr>\n      <th>2</th>\n      <td>ghan@gmail.com</td>\n      <td>ghan</td>\n      <td>kushwaha</td>\n    </tr>\n    <tr>\n      <th>3</th>\n      <td>Mh@gmail.com</td>\n      <td>manisha</td>\n      <td>singh</td>\n    </tr>\n  </tbody>\n</table>\n</div>"
     },
     "execution_count": 602,
     "metadata": {},
     "output_type": "execute_result"
    }
   ],
   "source": [
    "df"
   ],
   "metadata": {
    "collapsed": false
   }
  },
  {
   "cell_type": "code",
   "execution_count": 603,
   "outputs": [],
   "source": [
    "df.columns = df.columns.str.replace('_', ' ')"
   ],
   "metadata": {
    "collapsed": false
   }
  },
  {
   "cell_type": "code",
   "execution_count": 604,
   "outputs": [
    {
     "data": {
      "text/plain": "        FIRST NAME LAST NAME     EMAIL\n0    ram@gmail.com       ram     singh\n1  shyam@gmail.com     shyam    mahato\n2   ghan@gmail.com      ghan  kushwaha\n3     Mh@gmail.com   manisha     singh",
      "text/html": "<div>\n<style scoped>\n    .dataframe tbody tr th:only-of-type {\n        vertical-align: middle;\n    }\n\n    .dataframe tbody tr th {\n        vertical-align: top;\n    }\n\n    .dataframe thead th {\n        text-align: right;\n    }\n</style>\n<table border=\"1\" class=\"dataframe\">\n  <thead>\n    <tr style=\"text-align: right;\">\n      <th></th>\n      <th>FIRST NAME</th>\n      <th>LAST NAME</th>\n      <th>EMAIL</th>\n    </tr>\n  </thead>\n  <tbody>\n    <tr>\n      <th>0</th>\n      <td>ram@gmail.com</td>\n      <td>ram</td>\n      <td>singh</td>\n    </tr>\n    <tr>\n      <th>1</th>\n      <td>shyam@gmail.com</td>\n      <td>shyam</td>\n      <td>mahato</td>\n    </tr>\n    <tr>\n      <th>2</th>\n      <td>ghan@gmail.com</td>\n      <td>ghan</td>\n      <td>kushwaha</td>\n    </tr>\n    <tr>\n      <th>3</th>\n      <td>Mh@gmail.com</td>\n      <td>manisha</td>\n      <td>singh</td>\n    </tr>\n  </tbody>\n</table>\n</div>"
     },
     "execution_count": 604,
     "metadata": {},
     "output_type": "execute_result"
    }
   ],
   "source": [
    "df"
   ],
   "metadata": {
    "collapsed": false
   }
  },
  {
   "cell_type": "code",
   "execution_count": 605,
   "outputs": [],
   "source": [
    "df.columns = [x.lower() for x in df.columns]"
   ],
   "metadata": {
    "collapsed": false
   }
  },
  {
   "cell_type": "code",
   "execution_count": 606,
   "outputs": [],
   "source": [
    "df.columns = df.columns.str.replace(' ', '_')"
   ],
   "metadata": {
    "collapsed": false
   }
  },
  {
   "cell_type": "code",
   "execution_count": 607,
   "outputs": [
    {
     "data": {
      "text/plain": "        first_name last_name     email\n0    ram@gmail.com       ram     singh\n1  shyam@gmail.com     shyam    mahato\n2   ghan@gmail.com      ghan  kushwaha\n3     Mh@gmail.com   manisha     singh",
      "text/html": "<div>\n<style scoped>\n    .dataframe tbody tr th:only-of-type {\n        vertical-align: middle;\n    }\n\n    .dataframe tbody tr th {\n        vertical-align: top;\n    }\n\n    .dataframe thead th {\n        text-align: right;\n    }\n</style>\n<table border=\"1\" class=\"dataframe\">\n  <thead>\n    <tr style=\"text-align: right;\">\n      <th></th>\n      <th>first_name</th>\n      <th>last_name</th>\n      <th>email</th>\n    </tr>\n  </thead>\n  <tbody>\n    <tr>\n      <th>0</th>\n      <td>ram@gmail.com</td>\n      <td>ram</td>\n      <td>singh</td>\n    </tr>\n    <tr>\n      <th>1</th>\n      <td>shyam@gmail.com</td>\n      <td>shyam</td>\n      <td>mahato</td>\n    </tr>\n    <tr>\n      <th>2</th>\n      <td>ghan@gmail.com</td>\n      <td>ghan</td>\n      <td>kushwaha</td>\n    </tr>\n    <tr>\n      <th>3</th>\n      <td>Mh@gmail.com</td>\n      <td>manisha</td>\n      <td>singh</td>\n    </tr>\n  </tbody>\n</table>\n</div>"
     },
     "execution_count": 607,
     "metadata": {},
     "output_type": "execute_result"
    }
   ],
   "source": [
    "df"
   ],
   "metadata": {
    "collapsed": false
   }
  },
  {
   "cell_type": "code",
   "execution_count": 608,
   "outputs": [],
   "source": [
    "df.rename(columns={'first_name': 'email', 'last_name': 'first', 'email': 'last'}, inplace= True)"
   ],
   "metadata": {
    "collapsed": false
   }
  },
  {
   "cell_type": "code",
   "execution_count": 609,
   "outputs": [
    {
     "data": {
      "text/plain": "             email    first      last\n0    ram@gmail.com      ram     singh\n1  shyam@gmail.com    shyam    mahato\n2   ghan@gmail.com     ghan  kushwaha\n3     Mh@gmail.com  manisha     singh",
      "text/html": "<div>\n<style scoped>\n    .dataframe tbody tr th:only-of-type {\n        vertical-align: middle;\n    }\n\n    .dataframe tbody tr th {\n        vertical-align: top;\n    }\n\n    .dataframe thead th {\n        text-align: right;\n    }\n</style>\n<table border=\"1\" class=\"dataframe\">\n  <thead>\n    <tr style=\"text-align: right;\">\n      <th></th>\n      <th>email</th>\n      <th>first</th>\n      <th>last</th>\n    </tr>\n  </thead>\n  <tbody>\n    <tr>\n      <th>0</th>\n      <td>ram@gmail.com</td>\n      <td>ram</td>\n      <td>singh</td>\n    </tr>\n    <tr>\n      <th>1</th>\n      <td>shyam@gmail.com</td>\n      <td>shyam</td>\n      <td>mahato</td>\n    </tr>\n    <tr>\n      <th>2</th>\n      <td>ghan@gmail.com</td>\n      <td>ghan</td>\n      <td>kushwaha</td>\n    </tr>\n    <tr>\n      <th>3</th>\n      <td>Mh@gmail.com</td>\n      <td>manisha</td>\n      <td>singh</td>\n    </tr>\n  </tbody>\n</table>\n</div>"
     },
     "execution_count": 609,
     "metadata": {},
     "output_type": "execute_result"
    }
   ],
   "source": [
    "df"
   ],
   "metadata": {
    "collapsed": false
   }
  },
  {
   "cell_type": "code",
   "execution_count": 610,
   "outputs": [],
   "source": [
    "df.loc[2] = ['ghanshyam@gmail.com', 'ghanshyam', 'kushwaha']\n",
    "df.loc[2, ['first', 'email']] = [ 'radhey', 'radhey@gmail.com']"
   ],
   "metadata": {
    "collapsed": false
   }
  },
  {
   "cell_type": "code",
   "execution_count": 611,
   "outputs": [],
   "source": [
    "df.loc[3, 'email'] = 'manisha420@gmail.com'"
   ],
   "metadata": {
    "collapsed": false
   }
  },
  {
   "cell_type": "code",
   "execution_count": 612,
   "outputs": [
    {
     "name": "stderr",
     "output_type": "stream",
     "text": [
      "/var/folders/sk/qnqfmc1n43xcb8gqr40z974c0000gn/T/ipykernel_28360/4270225781.py:2: SettingWithCopyWarning: \n",
      "A value is trying to be set on a copy of a slice from a DataFrame.\n",
      "Try using .loc[row_indexer,col_indexer] = value instead\n",
      "\n",
      "See the caveats in the documentation: https://pandas.pydata.org/pandas-docs/stable/user_guide/indexing.html#returning-a-view-versus-a-copy\n",
      "  df[filt3]['last'] = 'mehta'\n"
     ]
    }
   ],
   "source": [
    "filt3 = (df['email']=='manisha420@gmail.com')\n",
    "df[filt3]['last'] = 'mehta'"
   ],
   "metadata": {
    "collapsed": false
   }
  },
  {
   "cell_type": "code",
   "execution_count": 613,
   "outputs": [],
   "source": [
    "filt3 = (df['email']=='manisha420@gmail.com')\n",
    "df.loc[filt3,'last'] = 'mehta'"
   ],
   "metadata": {
    "collapsed": false
   }
  },
  {
   "cell_type": "code",
   "execution_count": 614,
   "outputs": [],
   "source": [
    "df['email'] = df['email'].str.lower()"
   ],
   "metadata": {
    "collapsed": false
   }
  },
  {
   "cell_type": "code",
   "execution_count": 615,
   "outputs": [
    {
     "data": {
      "text/plain": "                  email    first      last\n0         ram@gmail.com      ram     singh\n1       shyam@gmail.com    shyam    mahato\n2      radhey@gmail.com   radhey  kushwaha\n3  manisha420@gmail.com  manisha     mehta",
      "text/html": "<div>\n<style scoped>\n    .dataframe tbody tr th:only-of-type {\n        vertical-align: middle;\n    }\n\n    .dataframe tbody tr th {\n        vertical-align: top;\n    }\n\n    .dataframe thead th {\n        text-align: right;\n    }\n</style>\n<table border=\"1\" class=\"dataframe\">\n  <thead>\n    <tr style=\"text-align: right;\">\n      <th></th>\n      <th>email</th>\n      <th>first</th>\n      <th>last</th>\n    </tr>\n  </thead>\n  <tbody>\n    <tr>\n      <th>0</th>\n      <td>ram@gmail.com</td>\n      <td>ram</td>\n      <td>singh</td>\n    </tr>\n    <tr>\n      <th>1</th>\n      <td>shyam@gmail.com</td>\n      <td>shyam</td>\n      <td>mahato</td>\n    </tr>\n    <tr>\n      <th>2</th>\n      <td>radhey@gmail.com</td>\n      <td>radhey</td>\n      <td>kushwaha</td>\n    </tr>\n    <tr>\n      <th>3</th>\n      <td>manisha420@gmail.com</td>\n      <td>manisha</td>\n      <td>mehta</td>\n    </tr>\n  </tbody>\n</table>\n</div>"
     },
     "execution_count": 615,
     "metadata": {},
     "output_type": "execute_result"
    }
   ],
   "source": [
    "df"
   ],
   "metadata": {
    "collapsed": false
   }
  },
  {
   "cell_type": "code",
   "execution_count": 616,
   "outputs": [],
   "source": [
    "#we are going to apply four method\n",
    "# apply\n",
    "# map\n",
    "# applymap\n",
    "# replace"
   ],
   "metadata": {
    "collapsed": false
   }
  },
  {
   "cell_type": "code",
   "execution_count": 617,
   "outputs": [],
   "source": [
    "# first well work on apply\n",
    "def update_email(email):\n",
    "    return email.upper()"
   ],
   "metadata": {
    "collapsed": false
   }
  },
  {
   "cell_type": "code",
   "execution_count": 618,
   "outputs": [],
   "source": [
    "df['email'] = df['email'].apply(update_email)"
   ],
   "metadata": {
    "collapsed": false
   }
  },
  {
   "cell_type": "code",
   "execution_count": 619,
   "outputs": [
    {
     "data": {
      "text/plain": "                  email    first      last\n0         RAM@GMAIL.COM      ram     singh\n1       SHYAM@GMAIL.COM    shyam    mahato\n2      RADHEY@GMAIL.COM   radhey  kushwaha\n3  MANISHA420@GMAIL.COM  manisha     mehta",
      "text/html": "<div>\n<style scoped>\n    .dataframe tbody tr th:only-of-type {\n        vertical-align: middle;\n    }\n\n    .dataframe tbody tr th {\n        vertical-align: top;\n    }\n\n    .dataframe thead th {\n        text-align: right;\n    }\n</style>\n<table border=\"1\" class=\"dataframe\">\n  <thead>\n    <tr style=\"text-align: right;\">\n      <th></th>\n      <th>email</th>\n      <th>first</th>\n      <th>last</th>\n    </tr>\n  </thead>\n  <tbody>\n    <tr>\n      <th>0</th>\n      <td>RAM@GMAIL.COM</td>\n      <td>ram</td>\n      <td>singh</td>\n    </tr>\n    <tr>\n      <th>1</th>\n      <td>SHYAM@GMAIL.COM</td>\n      <td>shyam</td>\n      <td>mahato</td>\n    </tr>\n    <tr>\n      <th>2</th>\n      <td>RADHEY@GMAIL.COM</td>\n      <td>radhey</td>\n      <td>kushwaha</td>\n    </tr>\n    <tr>\n      <th>3</th>\n      <td>MANISHA420@GMAIL.COM</td>\n      <td>manisha</td>\n      <td>mehta</td>\n    </tr>\n  </tbody>\n</table>\n</div>"
     },
     "execution_count": 619,
     "metadata": {},
     "output_type": "execute_result"
    }
   ],
   "source": [
    "df"
   ],
   "metadata": {
    "collapsed": false
   }
  },
  {
   "cell_type": "code",
   "execution_count": 620,
   "outputs": [],
   "source": [
    "#lambda function\n",
    "df['email'] = df['email'].apply(lambda x : x.lower())"
   ],
   "metadata": {
    "collapsed": false
   }
  },
  {
   "cell_type": "code",
   "execution_count": 621,
   "outputs": [
    {
     "data": {
      "text/plain": "                  email    first      last\n0         ram@gmail.com      ram     singh\n1       shyam@gmail.com    shyam    mahato\n2      radhey@gmail.com   radhey  kushwaha\n3  manisha420@gmail.com  manisha     mehta",
      "text/html": "<div>\n<style scoped>\n    .dataframe tbody tr th:only-of-type {\n        vertical-align: middle;\n    }\n\n    .dataframe tbody tr th {\n        vertical-align: top;\n    }\n\n    .dataframe thead th {\n        text-align: right;\n    }\n</style>\n<table border=\"1\" class=\"dataframe\">\n  <thead>\n    <tr style=\"text-align: right;\">\n      <th></th>\n      <th>email</th>\n      <th>first</th>\n      <th>last</th>\n    </tr>\n  </thead>\n  <tbody>\n    <tr>\n      <th>0</th>\n      <td>ram@gmail.com</td>\n      <td>ram</td>\n      <td>singh</td>\n    </tr>\n    <tr>\n      <th>1</th>\n      <td>shyam@gmail.com</td>\n      <td>shyam</td>\n      <td>mahato</td>\n    </tr>\n    <tr>\n      <th>2</th>\n      <td>radhey@gmail.com</td>\n      <td>radhey</td>\n      <td>kushwaha</td>\n    </tr>\n    <tr>\n      <th>3</th>\n      <td>manisha420@gmail.com</td>\n      <td>manisha</td>\n      <td>mehta</td>\n    </tr>\n  </tbody>\n</table>\n</div>"
     },
     "execution_count": 621,
     "metadata": {},
     "output_type": "execute_result"
    }
   ],
   "source": [
    "df"
   ],
   "metadata": {
    "collapsed": false
   }
  },
  {
   "cell_type": "code",
   "execution_count": 622,
   "outputs": [
    {
     "data": {
      "text/plain": "0    13\n1    15\n2    16\n3    20\nName: email, dtype: int64"
     },
     "execution_count": 622,
     "metadata": {},
     "output_type": "execute_result"
    }
   ],
   "source": [
    "df['email'].apply(len)"
   ],
   "metadata": {
    "collapsed": false
   }
  },
  {
   "cell_type": "code",
   "execution_count": 623,
   "outputs": [
    {
     "data": {
      "text/plain": "email    4\nfirst    4\nlast     4\ndtype: int64"
     },
     "execution_count": 623,
     "metadata": {},
     "output_type": "execute_result"
    }
   ],
   "source": [
    "df.apply(len)"
   ],
   "metadata": {
    "collapsed": false
   }
  },
  {
   "cell_type": "code",
   "execution_count": 624,
   "outputs": [
    {
     "data": {
      "text/plain": "4"
     },
     "execution_count": 624,
     "metadata": {},
     "output_type": "execute_result"
    }
   ],
   "source": [
    "len(df['email'])"
   ],
   "metadata": {
    "collapsed": false
   }
  },
  {
   "cell_type": "code",
   "execution_count": 625,
   "outputs": [
    {
     "data": {
      "text/plain": "0    3\n1    3\n2    3\n3    3\ndtype: int64"
     },
     "execution_count": 625,
     "metadata": {},
     "output_type": "execute_result"
    }
   ],
   "source": [
    "df.apply(len, axis='columns')"
   ],
   "metadata": {
    "collapsed": false
   }
  },
  {
   "cell_type": "code",
   "execution_count": 626,
   "outputs": [
    {
     "data": {
      "text/plain": "email    manisha420@gmail.com\nfirst                 manisha\nlast                 kushwaha\ndtype: object"
     },
     "execution_count": 626,
     "metadata": {},
     "output_type": "execute_result"
    }
   ],
   "source": [
    "df.apply(pd.Series.min)"
   ],
   "metadata": {
    "collapsed": false
   }
  },
  {
   "cell_type": "code",
   "execution_count": 627,
   "outputs": [
    {
     "data": {
      "text/plain": "email    manisha420@gmail.com\nfirst                 manisha\nlast                 kushwaha\ndtype: object"
     },
     "execution_count": 627,
     "metadata": {},
     "output_type": "execute_result"
    }
   ],
   "source": [
    "df.apply(lambda x: x.min())"
   ],
   "metadata": {
    "collapsed": false
   }
  },
  {
   "cell_type": "code",
   "execution_count": 628,
   "outputs": [
    {
     "data": {
      "text/plain": "   email  first  last\n0     13      3     5\n1     15      5     6\n2     16      6     8\n3     20      7     5",
      "text/html": "<div>\n<style scoped>\n    .dataframe tbody tr th:only-of-type {\n        vertical-align: middle;\n    }\n\n    .dataframe tbody tr th {\n        vertical-align: top;\n    }\n\n    .dataframe thead th {\n        text-align: right;\n    }\n</style>\n<table border=\"1\" class=\"dataframe\">\n  <thead>\n    <tr style=\"text-align: right;\">\n      <th></th>\n      <th>email</th>\n      <th>first</th>\n      <th>last</th>\n    </tr>\n  </thead>\n  <tbody>\n    <tr>\n      <th>0</th>\n      <td>13</td>\n      <td>3</td>\n      <td>5</td>\n    </tr>\n    <tr>\n      <th>1</th>\n      <td>15</td>\n      <td>5</td>\n      <td>6</td>\n    </tr>\n    <tr>\n      <th>2</th>\n      <td>16</td>\n      <td>6</td>\n      <td>8</td>\n    </tr>\n    <tr>\n      <th>3</th>\n      <td>20</td>\n      <td>7</td>\n      <td>5</td>\n    </tr>\n  </tbody>\n</table>\n</div>"
     },
     "execution_count": 628,
     "metadata": {},
     "output_type": "execute_result"
    }
   ],
   "source": [
    "df.applymap(len)"
   ],
   "metadata": {
    "collapsed": false
   }
  },
  {
   "cell_type": "code",
   "execution_count": 629,
   "outputs": [
    {
     "data": {
      "text/plain": "                  email    first      last\n0         ram@gmail.com      ram     singh\n1       shyam@gmail.com    shyam    mahato\n2      radhey@gmail.com   radhey  kushwaha\n3  manisha420@gmail.com  manisha     mehta",
      "text/html": "<div>\n<style scoped>\n    .dataframe tbody tr th:only-of-type {\n        vertical-align: middle;\n    }\n\n    .dataframe tbody tr th {\n        vertical-align: top;\n    }\n\n    .dataframe thead th {\n        text-align: right;\n    }\n</style>\n<table border=\"1\" class=\"dataframe\">\n  <thead>\n    <tr style=\"text-align: right;\">\n      <th></th>\n      <th>email</th>\n      <th>first</th>\n      <th>last</th>\n    </tr>\n  </thead>\n  <tbody>\n    <tr>\n      <th>0</th>\n      <td>ram@gmail.com</td>\n      <td>ram</td>\n      <td>singh</td>\n    </tr>\n    <tr>\n      <th>1</th>\n      <td>shyam@gmail.com</td>\n      <td>shyam</td>\n      <td>mahato</td>\n    </tr>\n    <tr>\n      <th>2</th>\n      <td>radhey@gmail.com</td>\n      <td>radhey</td>\n      <td>kushwaha</td>\n    </tr>\n    <tr>\n      <th>3</th>\n      <td>manisha420@gmail.com</td>\n      <td>manisha</td>\n      <td>mehta</td>\n    </tr>\n  </tbody>\n</table>\n</div>"
     },
     "execution_count": 629,
     "metadata": {},
     "output_type": "execute_result"
    }
   ],
   "source": [
    "df.applymap(str.lower)"
   ],
   "metadata": {
    "collapsed": false
   }
  },
  {
   "cell_type": "code",
   "execution_count": 630,
   "outputs": [
    {
     "data": {
      "text/plain": "0          ram ram\n1              NaN\n2    radhey radhey\n3              NaN\nName: first, dtype: object"
     },
     "execution_count": 630,
     "metadata": {},
     "output_type": "execute_result"
    }
   ],
   "source": [
    "df['first'].map({'ram': 'ram ram', 'radhey': 'radhey radhey'})"
   ],
   "metadata": {
    "collapsed": false
   }
  },
  {
   "cell_type": "code",
   "execution_count": 631,
   "outputs": [],
   "source": [
    "df['first'] = df['first'].replace({'ram': 'ram ram', 'radhey': 'radhey radhey'})"
   ],
   "metadata": {
    "collapsed": false
   }
  },
  {
   "cell_type": "code",
   "execution_count": 632,
   "outputs": [
    {
     "data": {
      "text/plain": "                  email          first      last\n0         ram@gmail.com        ram ram     singh\n1       shyam@gmail.com          shyam    mahato\n2      radhey@gmail.com  radhey radhey  kushwaha\n3  manisha420@gmail.com        manisha     mehta",
      "text/html": "<div>\n<style scoped>\n    .dataframe tbody tr th:only-of-type {\n        vertical-align: middle;\n    }\n\n    .dataframe tbody tr th {\n        vertical-align: top;\n    }\n\n    .dataframe thead th {\n        text-align: right;\n    }\n</style>\n<table border=\"1\" class=\"dataframe\">\n  <thead>\n    <tr style=\"text-align: right;\">\n      <th></th>\n      <th>email</th>\n      <th>first</th>\n      <th>last</th>\n    </tr>\n  </thead>\n  <tbody>\n    <tr>\n      <th>0</th>\n      <td>ram@gmail.com</td>\n      <td>ram ram</td>\n      <td>singh</td>\n    </tr>\n    <tr>\n      <th>1</th>\n      <td>shyam@gmail.com</td>\n      <td>shyam</td>\n      <td>mahato</td>\n    </tr>\n    <tr>\n      <th>2</th>\n      <td>radhey@gmail.com</td>\n      <td>radhey radhey</td>\n      <td>kushwaha</td>\n    </tr>\n    <tr>\n      <th>3</th>\n      <td>manisha420@gmail.com</td>\n      <td>manisha</td>\n      <td>mehta</td>\n    </tr>\n  </tbody>\n</table>\n</div>"
     },
     "execution_count": 632,
     "metadata": {},
     "output_type": "execute_result"
    }
   ],
   "source": [
    "df"
   ],
   "metadata": {
    "collapsed": false
   }
  },
  {
   "cell_type": "code",
   "execution_count": 633,
   "outputs": [],
   "source": [
    "\n",
    "df['full_name'] = df['first'] + ' ' + df['last']"
   ],
   "metadata": {
    "collapsed": false
   }
  },
  {
   "cell_type": "code",
   "execution_count": 634,
   "outputs": [
    {
     "data": {
      "text/plain": "                  email          first      last               full_name\n0         ram@gmail.com        ram ram     singh           ram ram singh\n1       shyam@gmail.com          shyam    mahato            shyam mahato\n2      radhey@gmail.com  radhey radhey  kushwaha  radhey radhey kushwaha\n3  manisha420@gmail.com        manisha     mehta           manisha mehta",
      "text/html": "<div>\n<style scoped>\n    .dataframe tbody tr th:only-of-type {\n        vertical-align: middle;\n    }\n\n    .dataframe tbody tr th {\n        vertical-align: top;\n    }\n\n    .dataframe thead th {\n        text-align: right;\n    }\n</style>\n<table border=\"1\" class=\"dataframe\">\n  <thead>\n    <tr style=\"text-align: right;\">\n      <th></th>\n      <th>email</th>\n      <th>first</th>\n      <th>last</th>\n      <th>full_name</th>\n    </tr>\n  </thead>\n  <tbody>\n    <tr>\n      <th>0</th>\n      <td>ram@gmail.com</td>\n      <td>ram ram</td>\n      <td>singh</td>\n      <td>ram ram singh</td>\n    </tr>\n    <tr>\n      <th>1</th>\n      <td>shyam@gmail.com</td>\n      <td>shyam</td>\n      <td>mahato</td>\n      <td>shyam mahato</td>\n    </tr>\n    <tr>\n      <th>2</th>\n      <td>radhey@gmail.com</td>\n      <td>radhey radhey</td>\n      <td>kushwaha</td>\n      <td>radhey radhey kushwaha</td>\n    </tr>\n    <tr>\n      <th>3</th>\n      <td>manisha420@gmail.com</td>\n      <td>manisha</td>\n      <td>mehta</td>\n      <td>manisha mehta</td>\n    </tr>\n  </tbody>\n</table>\n</div>"
     },
     "execution_count": 634,
     "metadata": {},
     "output_type": "execute_result"
    }
   ],
   "source": [
    "df"
   ],
   "metadata": {
    "collapsed": false
   }
  },
  {
   "cell_type": "code",
   "execution_count": 635,
   "outputs": [],
   "source": [
    "df.drop(columns=['first', 'last'], inplace= True)"
   ],
   "metadata": {
    "collapsed": false
   }
  },
  {
   "cell_type": "code",
   "execution_count": 636,
   "outputs": [
    {
     "data": {
      "text/plain": "                  email               full_name\n0         ram@gmail.com           ram ram singh\n1       shyam@gmail.com            shyam mahato\n2      radhey@gmail.com  radhey radhey kushwaha\n3  manisha420@gmail.com           manisha mehta",
      "text/html": "<div>\n<style scoped>\n    .dataframe tbody tr th:only-of-type {\n        vertical-align: middle;\n    }\n\n    .dataframe tbody tr th {\n        vertical-align: top;\n    }\n\n    .dataframe thead th {\n        text-align: right;\n    }\n</style>\n<table border=\"1\" class=\"dataframe\">\n  <thead>\n    <tr style=\"text-align: right;\">\n      <th></th>\n      <th>email</th>\n      <th>full_name</th>\n    </tr>\n  </thead>\n  <tbody>\n    <tr>\n      <th>0</th>\n      <td>ram@gmail.com</td>\n      <td>ram ram singh</td>\n    </tr>\n    <tr>\n      <th>1</th>\n      <td>shyam@gmail.com</td>\n      <td>shyam mahato</td>\n    </tr>\n    <tr>\n      <th>2</th>\n      <td>radhey@gmail.com</td>\n      <td>radhey radhey kushwaha</td>\n    </tr>\n    <tr>\n      <th>3</th>\n      <td>manisha420@gmail.com</td>\n      <td>manisha mehta</td>\n    </tr>\n  </tbody>\n</table>\n</div>"
     },
     "execution_count": 636,
     "metadata": {},
     "output_type": "execute_result"
    }
   ],
   "source": [
    "df"
   ],
   "metadata": {
    "collapsed": false
   }
  },
  {
   "cell_type": "code",
   "execution_count": 637,
   "outputs": [],
   "source": [
    "df[['first', 'last', 'middle' ]] = df['full_name'].str.split(' ', expand=True)"
   ],
   "metadata": {
    "collapsed": false
   }
  },
  {
   "cell_type": "code",
   "execution_count": 638,
   "outputs": [
    {
     "data": {
      "text/plain": "                  email               full_name    first    last    middle\n0         ram@gmail.com           ram ram singh      ram     ram     singh\n1       shyam@gmail.com            shyam mahato    shyam  mahato      None\n2      radhey@gmail.com  radhey radhey kushwaha   radhey  radhey  kushwaha\n3  manisha420@gmail.com           manisha mehta  manisha   mehta      None",
      "text/html": "<div>\n<style scoped>\n    .dataframe tbody tr th:only-of-type {\n        vertical-align: middle;\n    }\n\n    .dataframe tbody tr th {\n        vertical-align: top;\n    }\n\n    .dataframe thead th {\n        text-align: right;\n    }\n</style>\n<table border=\"1\" class=\"dataframe\">\n  <thead>\n    <tr style=\"text-align: right;\">\n      <th></th>\n      <th>email</th>\n      <th>full_name</th>\n      <th>first</th>\n      <th>last</th>\n      <th>middle</th>\n    </tr>\n  </thead>\n  <tbody>\n    <tr>\n      <th>0</th>\n      <td>ram@gmail.com</td>\n      <td>ram ram singh</td>\n      <td>ram</td>\n      <td>ram</td>\n      <td>singh</td>\n    </tr>\n    <tr>\n      <th>1</th>\n      <td>shyam@gmail.com</td>\n      <td>shyam mahato</td>\n      <td>shyam</td>\n      <td>mahato</td>\n      <td>None</td>\n    </tr>\n    <tr>\n      <th>2</th>\n      <td>radhey@gmail.com</td>\n      <td>radhey radhey kushwaha</td>\n      <td>radhey</td>\n      <td>radhey</td>\n      <td>kushwaha</td>\n    </tr>\n    <tr>\n      <th>3</th>\n      <td>manisha420@gmail.com</td>\n      <td>manisha mehta</td>\n      <td>manisha</td>\n      <td>mehta</td>\n      <td>None</td>\n    </tr>\n  </tbody>\n</table>\n</div>"
     },
     "execution_count": 638,
     "metadata": {},
     "output_type": "execute_result"
    }
   ],
   "source": [
    "df"
   ],
   "metadata": {
    "collapsed": false
   }
  },
  {
   "cell_type": "code",
   "execution_count": 639,
   "outputs": [
    {
     "name": "stderr",
     "output_type": "stream",
     "text": [
      "/var/folders/sk/qnqfmc1n43xcb8gqr40z974c0000gn/T/ipykernel_28360/3843893667.py:3: FutureWarning: The frame.append method is deprecated and will be removed from pandas in a future version. Use pandas.concat instead.\n",
      "  df.append({'first': 'ghanshyam'}, ignore_index= True)\n"
     ]
    },
    {
     "data": {
      "text/plain": "                  email               full_name      first    last    middle\n0         ram@gmail.com           ram ram singh        ram     ram     singh\n1       shyam@gmail.com            shyam mahato      shyam  mahato      None\n2      radhey@gmail.com  radhey radhey kushwaha     radhey  radhey  kushwaha\n3  manisha420@gmail.com           manisha mehta    manisha   mehta      None\n4                   NaN                     NaN  ghanshyam     NaN       NaN",
      "text/html": "<div>\n<style scoped>\n    .dataframe tbody tr th:only-of-type {\n        vertical-align: middle;\n    }\n\n    .dataframe tbody tr th {\n        vertical-align: top;\n    }\n\n    .dataframe thead th {\n        text-align: right;\n    }\n</style>\n<table border=\"1\" class=\"dataframe\">\n  <thead>\n    <tr style=\"text-align: right;\">\n      <th></th>\n      <th>email</th>\n      <th>full_name</th>\n      <th>first</th>\n      <th>last</th>\n      <th>middle</th>\n    </tr>\n  </thead>\n  <tbody>\n    <tr>\n      <th>0</th>\n      <td>ram@gmail.com</td>\n      <td>ram ram singh</td>\n      <td>ram</td>\n      <td>ram</td>\n      <td>singh</td>\n    </tr>\n    <tr>\n      <th>1</th>\n      <td>shyam@gmail.com</td>\n      <td>shyam mahato</td>\n      <td>shyam</td>\n      <td>mahato</td>\n      <td>None</td>\n    </tr>\n    <tr>\n      <th>2</th>\n      <td>radhey@gmail.com</td>\n      <td>radhey radhey kushwaha</td>\n      <td>radhey</td>\n      <td>radhey</td>\n      <td>kushwaha</td>\n    </tr>\n    <tr>\n      <th>3</th>\n      <td>manisha420@gmail.com</td>\n      <td>manisha mehta</td>\n      <td>manisha</td>\n      <td>mehta</td>\n      <td>None</td>\n    </tr>\n    <tr>\n      <th>4</th>\n      <td>NaN</td>\n      <td>NaN</td>\n      <td>ghanshyam</td>\n      <td>NaN</td>\n      <td>NaN</td>\n    </tr>\n  </tbody>\n</table>\n</div>"
     },
     "execution_count": 639,
     "metadata": {},
     "output_type": "execute_result"
    }
   ],
   "source": [
    "# append is used to add single row of data where data can be added in a row\n",
    "\n",
    "df.append({'first': 'ghanshyam'}, ignore_index= True)"
   ],
   "metadata": {
    "collapsed": false
   }
  },
  {
   "cell_type": "code",
   "execution_count": 640,
   "outputs": [],
   "source": [
    "peopels = {\n",
    "    'first':['aadarsh', 'anjesh', 'thomas', 'amit'],\n",
    "    'last':['kushwaha', 'sahani', 'sowarnakar', 'patel' ],\n",
    "    'email':['aadarsh@gmail.com', 'anjesh@gmail.com', 'thomas@gmail.com', 'amit@gmail.com']}\n",
    "df2 = pd.DataFrame(peopels)"
   ],
   "metadata": {
    "collapsed": false
   }
  },
  {
   "cell_type": "code",
   "execution_count": null,
   "outputs": [],
   "source": [],
   "metadata": {
    "collapsed": false
   }
  },
  {
   "cell_type": "code",
   "execution_count": 641,
   "outputs": [
    {
     "data": {
      "text/plain": "     first        last              email\n0  aadarsh    kushwaha  aadarsh@gmail.com\n1   anjesh      sahani   anjesh@gmail.com\n2   thomas  sowarnakar   thomas@gmail.com\n3     amit       patel     amit@gmail.com",
      "text/html": "<div>\n<style scoped>\n    .dataframe tbody tr th:only-of-type {\n        vertical-align: middle;\n    }\n\n    .dataframe tbody tr th {\n        vertical-align: top;\n    }\n\n    .dataframe thead th {\n        text-align: right;\n    }\n</style>\n<table border=\"1\" class=\"dataframe\">\n  <thead>\n    <tr style=\"text-align: right;\">\n      <th></th>\n      <th>first</th>\n      <th>last</th>\n      <th>email</th>\n    </tr>\n  </thead>\n  <tbody>\n    <tr>\n      <th>0</th>\n      <td>aadarsh</td>\n      <td>kushwaha</td>\n      <td>aadarsh@gmail.com</td>\n    </tr>\n    <tr>\n      <th>1</th>\n      <td>anjesh</td>\n      <td>sahani</td>\n      <td>anjesh@gmail.com</td>\n    </tr>\n    <tr>\n      <th>2</th>\n      <td>thomas</td>\n      <td>sowarnakar</td>\n      <td>thomas@gmail.com</td>\n    </tr>\n    <tr>\n      <th>3</th>\n      <td>amit</td>\n      <td>patel</td>\n      <td>amit@gmail.com</td>\n    </tr>\n  </tbody>\n</table>\n</div>"
     },
     "execution_count": 641,
     "metadata": {},
     "output_type": "execute_result"
    }
   ],
   "source": [
    "df2"
   ],
   "metadata": {
    "collapsed": false
   }
  },
  {
   "cell_type": "code",
   "execution_count": 642,
   "outputs": [
    {
     "name": "stderr",
     "output_type": "stream",
     "text": [
      "/var/folders/sk/qnqfmc1n43xcb8gqr40z974c0000gn/T/ipykernel_28360/3041214103.py:1: FutureWarning: The frame.append method is deprecated and will be removed from pandas in a future version. Use pandas.concat instead.\n",
      "  df = df.append(df2, ignore_index= True, sort= False)\n"
     ]
    }
   ],
   "source": [
    "df = df.append(df2, ignore_index= True, sort= False)"
   ],
   "metadata": {
    "collapsed": false
   }
  },
  {
   "cell_type": "code",
   "execution_count": 643,
   "outputs": [],
   "source": [
    "df.drop(index= 4, inplace= True)"
   ],
   "metadata": {
    "collapsed": false
   }
  },
  {
   "cell_type": "code",
   "execution_count": 644,
   "outputs": [
    {
     "data": {
      "text/plain": "                  email               full_name    first        last    middle\n0         ram@gmail.com           ram ram singh      ram         ram     singh\n1       shyam@gmail.com            shyam mahato    shyam      mahato      None\n2      radhey@gmail.com  radhey radhey kushwaha   radhey      radhey  kushwaha\n3  manisha420@gmail.com           manisha mehta  manisha       mehta      None\n5      anjesh@gmail.com                     NaN   anjesh      sahani       NaN\n6      thomas@gmail.com                     NaN   thomas  sowarnakar       NaN\n7        amit@gmail.com                     NaN     amit       patel       NaN",
      "text/html": "<div>\n<style scoped>\n    .dataframe tbody tr th:only-of-type {\n        vertical-align: middle;\n    }\n\n    .dataframe tbody tr th {\n        vertical-align: top;\n    }\n\n    .dataframe thead th {\n        text-align: right;\n    }\n</style>\n<table border=\"1\" class=\"dataframe\">\n  <thead>\n    <tr style=\"text-align: right;\">\n      <th></th>\n      <th>email</th>\n      <th>full_name</th>\n      <th>first</th>\n      <th>last</th>\n      <th>middle</th>\n    </tr>\n  </thead>\n  <tbody>\n    <tr>\n      <th>0</th>\n      <td>ram@gmail.com</td>\n      <td>ram ram singh</td>\n      <td>ram</td>\n      <td>ram</td>\n      <td>singh</td>\n    </tr>\n    <tr>\n      <th>1</th>\n      <td>shyam@gmail.com</td>\n      <td>shyam mahato</td>\n      <td>shyam</td>\n      <td>mahato</td>\n      <td>None</td>\n    </tr>\n    <tr>\n      <th>2</th>\n      <td>radhey@gmail.com</td>\n      <td>radhey radhey kushwaha</td>\n      <td>radhey</td>\n      <td>radhey</td>\n      <td>kushwaha</td>\n    </tr>\n    <tr>\n      <th>3</th>\n      <td>manisha420@gmail.com</td>\n      <td>manisha mehta</td>\n      <td>manisha</td>\n      <td>mehta</td>\n      <td>None</td>\n    </tr>\n    <tr>\n      <th>5</th>\n      <td>anjesh@gmail.com</td>\n      <td>NaN</td>\n      <td>anjesh</td>\n      <td>sahani</td>\n      <td>NaN</td>\n    </tr>\n    <tr>\n      <th>6</th>\n      <td>thomas@gmail.com</td>\n      <td>NaN</td>\n      <td>thomas</td>\n      <td>sowarnakar</td>\n      <td>NaN</td>\n    </tr>\n    <tr>\n      <th>7</th>\n      <td>amit@gmail.com</td>\n      <td>NaN</td>\n      <td>amit</td>\n      <td>patel</td>\n      <td>NaN</td>\n    </tr>\n  </tbody>\n</table>\n</div>"
     },
     "execution_count": 644,
     "metadata": {},
     "output_type": "execute_result"
    }
   ],
   "source": [
    "df"
   ],
   "metadata": {
    "collapsed": false
   }
  },
  {
   "cell_type": "code",
   "execution_count": 652,
   "outputs": [
    {
     "data": {
      "text/plain": "                  email      full_name    first        last middle\n0         ram@gmail.com  ram ram singh      ram         ram  singh\n1       shyam@gmail.com   shyam mahato    shyam      mahato   None\n3  manisha420@gmail.com  manisha mehta  manisha       mehta   None\n5      anjesh@gmail.com            NaN   anjesh      sahani    NaN\n6      thomas@gmail.com            NaN   thomas  sowarnakar    NaN\n7        amit@gmail.com            NaN     amit       patel    NaN",
      "text/html": "<div>\n<style scoped>\n    .dataframe tbody tr th:only-of-type {\n        vertical-align: middle;\n    }\n\n    .dataframe tbody tr th {\n        vertical-align: top;\n    }\n\n    .dataframe thead th {\n        text-align: right;\n    }\n</style>\n<table border=\"1\" class=\"dataframe\">\n  <thead>\n    <tr style=\"text-align: right;\">\n      <th></th>\n      <th>email</th>\n      <th>full_name</th>\n      <th>first</th>\n      <th>last</th>\n      <th>middle</th>\n    </tr>\n  </thead>\n  <tbody>\n    <tr>\n      <th>0</th>\n      <td>ram@gmail.com</td>\n      <td>ram ram singh</td>\n      <td>ram</td>\n      <td>ram</td>\n      <td>singh</td>\n    </tr>\n    <tr>\n      <th>1</th>\n      <td>shyam@gmail.com</td>\n      <td>shyam mahato</td>\n      <td>shyam</td>\n      <td>mahato</td>\n      <td>None</td>\n    </tr>\n    <tr>\n      <th>3</th>\n      <td>manisha420@gmail.com</td>\n      <td>manisha mehta</td>\n      <td>manisha</td>\n      <td>mehta</td>\n      <td>None</td>\n    </tr>\n    <tr>\n      <th>5</th>\n      <td>anjesh@gmail.com</td>\n      <td>NaN</td>\n      <td>anjesh</td>\n      <td>sahani</td>\n      <td>NaN</td>\n    </tr>\n    <tr>\n      <th>6</th>\n      <td>thomas@gmail.com</td>\n      <td>NaN</td>\n      <td>thomas</td>\n      <td>sowarnakar</td>\n      <td>NaN</td>\n    </tr>\n    <tr>\n      <th>7</th>\n      <td>amit@gmail.com</td>\n      <td>NaN</td>\n      <td>amit</td>\n      <td>patel</td>\n      <td>NaN</td>\n    </tr>\n  </tbody>\n</table>\n</div>"
     },
     "execution_count": 652,
     "metadata": {},
     "output_type": "execute_result"
    }
   ],
   "source": [
    "filt4 = df['last'] == 'radhey'\n",
    "df.drop(index= df[filt4].index )"
   ],
   "metadata": {
    "collapsed": false
   }
  },
  {
   "cell_type": "code",
   "execution_count": 654,
   "outputs": [
    {
     "data": {
      "text/plain": "                  email               full_name    first        last    middle\n6      thomas@gmail.com                     NaN   thomas  sowarnakar       NaN\n1       shyam@gmail.com            shyam mahato    shyam      mahato      None\n0         ram@gmail.com           ram ram singh      ram         ram     singh\n2      radhey@gmail.com  radhey radhey kushwaha   radhey      radhey  kushwaha\n3  manisha420@gmail.com           manisha mehta  manisha       mehta      None\n5      anjesh@gmail.com                     NaN   anjesh      sahani       NaN\n7        amit@gmail.com                     NaN     amit       patel       NaN",
      "text/html": "<div>\n<style scoped>\n    .dataframe tbody tr th:only-of-type {\n        vertical-align: middle;\n    }\n\n    .dataframe tbody tr th {\n        vertical-align: top;\n    }\n\n    .dataframe thead th {\n        text-align: right;\n    }\n</style>\n<table border=\"1\" class=\"dataframe\">\n  <thead>\n    <tr style=\"text-align: right;\">\n      <th></th>\n      <th>email</th>\n      <th>full_name</th>\n      <th>first</th>\n      <th>last</th>\n      <th>middle</th>\n    </tr>\n  </thead>\n  <tbody>\n    <tr>\n      <th>6</th>\n      <td>thomas@gmail.com</td>\n      <td>NaN</td>\n      <td>thomas</td>\n      <td>sowarnakar</td>\n      <td>NaN</td>\n    </tr>\n    <tr>\n      <th>1</th>\n      <td>shyam@gmail.com</td>\n      <td>shyam mahato</td>\n      <td>shyam</td>\n      <td>mahato</td>\n      <td>None</td>\n    </tr>\n    <tr>\n      <th>0</th>\n      <td>ram@gmail.com</td>\n      <td>ram ram singh</td>\n      <td>ram</td>\n      <td>ram</td>\n      <td>singh</td>\n    </tr>\n    <tr>\n      <th>2</th>\n      <td>radhey@gmail.com</td>\n      <td>radhey radhey kushwaha</td>\n      <td>radhey</td>\n      <td>radhey</td>\n      <td>kushwaha</td>\n    </tr>\n    <tr>\n      <th>3</th>\n      <td>manisha420@gmail.com</td>\n      <td>manisha mehta</td>\n      <td>manisha</td>\n      <td>mehta</td>\n      <td>None</td>\n    </tr>\n    <tr>\n      <th>5</th>\n      <td>anjesh@gmail.com</td>\n      <td>NaN</td>\n      <td>anjesh</td>\n      <td>sahani</td>\n      <td>NaN</td>\n    </tr>\n    <tr>\n      <th>7</th>\n      <td>amit@gmail.com</td>\n      <td>NaN</td>\n      <td>amit</td>\n      <td>patel</td>\n      <td>NaN</td>\n    </tr>\n  </tbody>\n</table>\n</div>"
     },
     "execution_count": 654,
     "metadata": {},
     "output_type": "execute_result"
    }
   ],
   "source": [
    "df.sort_values(by='first', ascending= False)"
   ],
   "metadata": {
    "collapsed": false
   }
  },
  {
   "cell_type": "code",
   "execution_count": 656,
   "outputs": [
    {
     "data": {
      "text/plain": "                  email               full_name    first        last    middle\n7        amit@gmail.com                     NaN     amit       patel       NaN\n5      anjesh@gmail.com                     NaN   anjesh      sahani       NaN\n3  manisha420@gmail.com           manisha mehta  manisha       mehta      None\n2      radhey@gmail.com  radhey radhey kushwaha   radhey      radhey  kushwaha\n0         ram@gmail.com           ram ram singh      ram         ram     singh\n1       shyam@gmail.com            shyam mahato    shyam      mahato      None\n6      thomas@gmail.com                     NaN   thomas  sowarnakar       NaN",
      "text/html": "<div>\n<style scoped>\n    .dataframe tbody tr th:only-of-type {\n        vertical-align: middle;\n    }\n\n    .dataframe tbody tr th {\n        vertical-align: top;\n    }\n\n    .dataframe thead th {\n        text-align: right;\n    }\n</style>\n<table border=\"1\" class=\"dataframe\">\n  <thead>\n    <tr style=\"text-align: right;\">\n      <th></th>\n      <th>email</th>\n      <th>full_name</th>\n      <th>first</th>\n      <th>last</th>\n      <th>middle</th>\n    </tr>\n  </thead>\n  <tbody>\n    <tr>\n      <th>7</th>\n      <td>amit@gmail.com</td>\n      <td>NaN</td>\n      <td>amit</td>\n      <td>patel</td>\n      <td>NaN</td>\n    </tr>\n    <tr>\n      <th>5</th>\n      <td>anjesh@gmail.com</td>\n      <td>NaN</td>\n      <td>anjesh</td>\n      <td>sahani</td>\n      <td>NaN</td>\n    </tr>\n    <tr>\n      <th>3</th>\n      <td>manisha420@gmail.com</td>\n      <td>manisha mehta</td>\n      <td>manisha</td>\n      <td>mehta</td>\n      <td>None</td>\n    </tr>\n    <tr>\n      <th>2</th>\n      <td>radhey@gmail.com</td>\n      <td>radhey radhey kushwaha</td>\n      <td>radhey</td>\n      <td>radhey</td>\n      <td>kushwaha</td>\n    </tr>\n    <tr>\n      <th>0</th>\n      <td>ram@gmail.com</td>\n      <td>ram ram singh</td>\n      <td>ram</td>\n      <td>ram</td>\n      <td>singh</td>\n    </tr>\n    <tr>\n      <th>1</th>\n      <td>shyam@gmail.com</td>\n      <td>shyam mahato</td>\n      <td>shyam</td>\n      <td>mahato</td>\n      <td>None</td>\n    </tr>\n    <tr>\n      <th>6</th>\n      <td>thomas@gmail.com</td>\n      <td>NaN</td>\n      <td>thomas</td>\n      <td>sowarnakar</td>\n      <td>NaN</td>\n    </tr>\n  </tbody>\n</table>\n</div>"
     },
     "execution_count": 656,
     "metadata": {},
     "output_type": "execute_result"
    }
   ],
   "source": [
    "df.sort_values(by= ['first', 'last'], ascending= True)"
   ],
   "metadata": {
    "collapsed": false
   }
  },
  {
   "cell_type": "code",
   "execution_count": null,
   "outputs": [],
   "source": [],
   "metadata": {
    "collapsed": false
   }
  }
 ],
 "metadata": {
  "kernelspec": {
   "display_name": "Python 3",
   "language": "python",
   "name": "python3"
  },
  "language_info": {
   "codemirror_mode": {
    "name": "ipython",
    "version": 2
   },
   "file_extension": ".py",
   "mimetype": "text/x-python",
   "name": "python",
   "nbconvert_exporter": "python",
   "pygments_lexer": "ipython2",
   "version": "2.7.6"
  }
 },
 "nbformat": 4,
 "nbformat_minor": 0
}
