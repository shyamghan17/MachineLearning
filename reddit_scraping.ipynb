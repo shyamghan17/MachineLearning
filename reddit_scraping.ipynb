{
 "cells": [
  {
   "cell_type": "code",
   "execution_count": 1,
   "id": "cefd7ee6",
   "metadata": {
    "ExecuteTime": {
     "end_time": "2024-05-10T11:21:22.173223Z",
     "start_time": "2024-05-10T11:21:22.121175Z"
    }
   },
   "outputs": [],
   "source": [
    "# here i will scrape comments and post form a post on reddit \n",
    "\n",
    "import pandas as pd\n",
    "import praw\n",
    "import numpy as np"
   ]
  },
  {
   "cell_type": "code",
   "execution_count": 2,
   "id": "f246ef58",
   "metadata": {
    "scrolled": true,
    "ExecuteTime": {
     "end_time": "2024-05-10T11:21:23.995896Z",
     "start_time": "2024-05-10T11:21:22.173885Z"
    }
   },
   "outputs": [
    {
     "name": "stdout",
     "output_type": "stream",
     "text": [
      "Anyone use Scribe or similar within education?  *-*-*-*-*-*-*  title\n",
      "Have recently started a new job as a pastoral lead and have limited training notes or guidance with different software. I have suggested to a few colleagues about using Scribe to create some step by step guides to assist new staff and anyone that we might need to step in and provide assistance. IT for the trust my school is part of is extremely reluctant to consider the use of a system such as Scribe, I am looking for any additional uses for the software?\n",
      "\n",
      "Had anyone used it to create lesson materials? Can it be used for differentiation of lesson materials for SEN students? Has anyone used it to create cover work for absence? Can it be used to create revision materials? ^-^-^-^-^-^  title body\n",
      "1  up vote\n",
      "0 down vote\n"
     ]
    },
    {
     "ename": "NameError",
     "evalue": "name 'cmt' is not defined",
     "output_type": "error",
     "traceback": [
      "\u001B[0;31m---------------------------------------------------------------------------\u001B[0m",
      "\u001B[0;31mNameError\u001B[0m                                 Traceback (most recent call last)",
      "Cell \u001B[0;32mIn[2], line 39\u001B[0m\n\u001B[1;32m     36\u001B[0m                 \u001B[38;5;28;01mfor\u001B[39;00m reply \u001B[38;5;129;01min\u001B[39;00m cmt\u001B[38;5;241m.\u001B[39mreplies:\n\u001B[1;32m     37\u001B[0m                     \u001B[38;5;28mprint\u001B[39m(reply\u001B[38;5;241m.\u001B[39mbody, \u001B[38;5;124m'\u001B[39m\u001B[38;5;124m././././././.\u001B[39m\u001B[38;5;124m'\u001B[39m, \u001B[38;5;124m'\u001B[39m\u001B[38;5;124mcomment replies\u001B[39m\u001B[38;5;124m'\u001B[39m)\n\u001B[0;32m---> 39\u001B[0m         data \u001B[38;5;241m=\u001B[39m [item\u001B[38;5;241m.\u001B[39mid, item\u001B[38;5;241m.\u001B[39mtitle, item\u001B[38;5;241m.\u001B[39mselftext, item\u001B[38;5;241m.\u001B[39mups, item\u001B[38;5;241m.\u001B[39mdowns, cmt\u001B[38;5;241m.\u001B[39mbody, reply\u001B[38;5;241m.\u001B[39mbody, item\u001B[38;5;241m.\u001B[39murl ]   \u001B[38;5;66;03m# Print the title of each post\u001B[39;00m\n\u001B[1;32m     40\u001B[0m         post\u001B[38;5;241m.\u001B[39mappend(data)\n\u001B[1;32m     42\u001B[0m post \n",
      "\u001B[0;31mNameError\u001B[0m: name 'cmt' is not defined"
     ]
    }
   ],
   "source": [
    "                \n",
    "user_agent = 'student_researcher'\n",
    "client_id =  'QmhRRPU6O9bThZ_9m5E0Dw'\n",
    "client_secret =  'SEqLlGFscimu3w16twVJkzkL_cPAag'\n",
    "username =  'radhey_radhey'\n",
    "password = 'Mithila@12'\n",
    "\n",
    "\n",
    "\n",
    "# Authenticate with the Reddit API\n",
    "reddit = praw.Reddit(\n",
    "    client_id=client_id,\n",
    "    client_secret=client_secret,\n",
    "    user_agent=user_agent,\n",
    "    username= username,\n",
    "    password = password\n",
    ")\n",
    "subreddit_name = 'Using_AI_in_Education'\n",
    "# subreddit_name = 'u/Educating_with_AI'\n",
    "\n",
    "subreddit = reddit.subreddit(subreddit_name)\n",
    "sub_reddit = subreddit.hot(limit=20)\n",
    "post = []\n",
    "# print(sub_reddit, 'subreddit')\n",
    "for item in sub_reddit:\n",
    "    if not item.stickied:\n",
    "#         data = [item.title, item.comments, item.id, item.url]   # Print the title of each post\n",
    "#         post.append(data)\n",
    "        print(item.title, '*-*-*-*-*-*-*', ' title')\n",
    "        print(item.selftext, '^-^-^-^-^-^', ' title body')\n",
    "        print(item.ups, ' up vote')\n",
    "        print(item.downs, 'down vote')\n",
    "        comments = item.comments\n",
    "        for cmt in comments:\n",
    "            print(cmt.body, '.-.-.-.-.-.-.-.-', 'comment')\n",
    "            if len(cmt.replies) > 0:\n",
    "                for reply in cmt.replies:\n",
    "                    print(reply.body, '././././././.', 'comment replies')\n",
    "\n",
    "        data = [item.id, item.title, item.selftext, item.ups, item.downs, cmt.body, reply.body, item.url ]   # Print the title of each post\n",
    "        post.append(data)\n",
    "\n",
    "post \n",
    "ai_edu_df = pd.DataFrame(post, columns=['id', 'title', 'message', 'up vote', 'down vote', 'comment', 'comment replies', 'url'])\n",
    "\n"
   ]
  },
  {
   "cell_type": "code",
   "execution_count": null,
   "id": "e22d0ee8",
   "metadata": {},
   "outputs": [],
   "source": []
  },
  {
   "cell_type": "code",
   "execution_count": null,
   "id": "ccf93e7c",
   "metadata": {
    "ExecuteTime": {
     "end_time": "2024-05-10T11:21:23.997136Z",
     "start_time": "2024-05-10T11:21:23.997092Z"
    }
   },
   "outputs": [],
   "source": [
    "# df"
   ]
  },
  {
   "cell_type": "code",
   "execution_count": null,
   "id": "a00a396d",
   "metadata": {
    "ExecuteTime": {
     "end_time": "2024-05-10T11:21:23.997953Z",
     "start_time": "2024-05-10T11:21:23.997748Z"
    }
   },
   "outputs": [],
   "source": []
  },
  {
   "cell_type": "code",
   "execution_count": null,
   "id": "6c609b3f",
   "metadata": {
    "scrolled": false
   },
   "outputs": [],
   "source": [
    "subreddit_name = 'Using_AI_in_Education'\n",
    "# subreddit_name = 'u/Educating_with_AI'\n",
    "\n",
    "sub_reddit = reddit.subreddit(subreddit_name).hot(limit = 200)\n",
    "post = []\n",
    "for item in sub_reddit:\n",
    "#     if not item.stickied:\n",
    "    comments = item.comments\n",
    "    comments_body = []\n",
    "    reply_text = []\n",
    "    for cmt in comments:\n",
    "        comments_body.append(cmt.body)\n",
    "        if len(cmt.replies) > 0:\n",
    "            for reply in cmt.replies:\n",
    "                reply_text.append(reply.body)\n",
    "    data = [item.id, item.title, item.selftext, item.ups, item.downs, comments_body, reply_text, item.url ]   # Print the title of each post\n",
    "    post.append(data)\n",
    "\n",
    "post \n",
    "df = pd.DataFrame(post, columns=['id', 'title', 'message', 'up vote', 'down vote', 'comment', 'comment replies', 'url'])\n"
   ]
  },
  {
   "cell_type": "code",
   "execution_count": null,
   "id": "7f659a62",
   "metadata": {},
   "outputs": [],
   "source": [
    "df"
   ]
  },
  {
   "cell_type": "code",
   "execution_count": null,
   "id": "da1264a5",
   "metadata": {},
   "outputs": [],
   "source": [
    "df.to_csv('Using_AI_in_Education.csv', index=False)  "
   ]
  },
  {
   "cell_type": "code",
   "execution_count": null,
   "id": "48219f94",
   "metadata": {},
   "outputs": [],
   "source": []
  }
 ],
 "metadata": {
  "kernelspec": {
   "display_name": "Python 3 (ipykernel)",
   "language": "python",
   "name": "python3"
  },
  "language_info": {
   "codemirror_mode": {
    "name": "ipython",
    "version": 3
   },
   "file_extension": ".py",
   "mimetype": "text/x-python",
   "name": "python",
   "nbconvert_exporter": "python",
   "pygments_lexer": "ipython3",
   "version": "3.11.5"
  }
 },
 "nbformat": 4,
 "nbformat_minor": 5
}
