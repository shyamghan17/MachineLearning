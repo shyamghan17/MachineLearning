{
 "cells": [
  {
   "cell_type": "code",
   "execution_count": 60,
   "metadata": {
    "collapsed": true
   },
   "outputs": [],
   "source": [
    "import pandas as pd\n",
    "import numpy as np\n",
    "import matplotlib.pyplot as plt\n",
    "import utils\n",
    "import seaborn as sns"
   ]
  },
  {
   "cell_type": "code",
   "execution_count": 61,
   "outputs": [],
   "source": [
    "df = utils.load_data('reviews_train.tsv')"
   ],
   "metadata": {
    "collapsed": false
   }
  },
  {
   "cell_type": "code",
   "execution_count": 62,
   "outputs": [],
   "source": [
    "df = pd.DataFrame(df)"
   ],
   "metadata": {
    "collapsed": false
   }
  },
  {
   "cell_type": "code",
   "execution_count": 63,
   "outputs": [
    {
     "data": {
      "text/plain": "      sentiment                                               text\n0            -1  The chips are okay Not near as flavorful as th...\n1            -1  I had high hopes for this, but it was bad.  Re...\n2            -1  I guess it's only one can since there is nothi...\n3            -1  \"Oatmeal Squares\" is in about the largest prin...\n4             1  I really enjoyed this flavor, this has a very ...\n...         ...                                                ...\n3995         -1  I bought both the Berry and Chocolate drinks f...\n3996          1  THIS LAVENDER IS SOOO GOOD.IT LOOKS,SMELLS,TAS...\n3997          1  Great great decaf.  Made the Keurig worth it. ...\n3998          1  Cooks up al-dente with great flavor. Doesn't f...\n3999         -1  The photo presented by a reviewer convinced me...\n\n[4000 rows x 2 columns]",
      "text/html": "<div>\n<style scoped>\n    .dataframe tbody tr th:only-of-type {\n        vertical-align: middle;\n    }\n\n    .dataframe tbody tr th {\n        vertical-align: top;\n    }\n\n    .dataframe thead th {\n        text-align: right;\n    }\n</style>\n<table border=\"1\" class=\"dataframe\">\n  <thead>\n    <tr style=\"text-align: right;\">\n      <th></th>\n      <th>sentiment</th>\n      <th>text</th>\n    </tr>\n  </thead>\n  <tbody>\n    <tr>\n      <th>0</th>\n      <td>-1</td>\n      <td>The chips are okay Not near as flavorful as th...</td>\n    </tr>\n    <tr>\n      <th>1</th>\n      <td>-1</td>\n      <td>I had high hopes for this, but it was bad.  Re...</td>\n    </tr>\n    <tr>\n      <th>2</th>\n      <td>-1</td>\n      <td>I guess it's only one can since there is nothi...</td>\n    </tr>\n    <tr>\n      <th>3</th>\n      <td>-1</td>\n      <td>\"Oatmeal Squares\" is in about the largest prin...</td>\n    </tr>\n    <tr>\n      <th>4</th>\n      <td>1</td>\n      <td>I really enjoyed this flavor, this has a very ...</td>\n    </tr>\n    <tr>\n      <th>...</th>\n      <td>...</td>\n      <td>...</td>\n    </tr>\n    <tr>\n      <th>3995</th>\n      <td>-1</td>\n      <td>I bought both the Berry and Chocolate drinks f...</td>\n    </tr>\n    <tr>\n      <th>3996</th>\n      <td>1</td>\n      <td>THIS LAVENDER IS SOOO GOOD.IT LOOKS,SMELLS,TAS...</td>\n    </tr>\n    <tr>\n      <th>3997</th>\n      <td>1</td>\n      <td>Great great decaf.  Made the Keurig worth it. ...</td>\n    </tr>\n    <tr>\n      <th>3998</th>\n      <td>1</td>\n      <td>Cooks up al-dente with great flavor. Doesn't f...</td>\n    </tr>\n    <tr>\n      <th>3999</th>\n      <td>-1</td>\n      <td>The photo presented by a reviewer convinced me...</td>\n    </tr>\n  </tbody>\n</table>\n<p>4000 rows × 2 columns</p>\n</div>"
     },
     "execution_count": 63,
     "metadata": {},
     "output_type": "execute_result"
    }
   ],
   "source": [
    "df"
   ],
   "metadata": {
    "collapsed": false
   }
  },
  {
   "cell_type": "code",
   "execution_count": 64,
   "outputs": [],
   "source": [
    "df['sentiment'] = df['sentiment'].replace(-1, 0)"
   ],
   "metadata": {
    "collapsed": false
   }
  },
  {
   "cell_type": "code",
   "execution_count": 65,
   "outputs": [
    {
     "data": {
      "text/plain": "   sentiment                                               text\n0          0  The chips are okay Not near as flavorful as th...\n1          0  I had high hopes for this, but it was bad.  Re...\n2          0  I guess it's only one can since there is nothi...\n3          0  \"Oatmeal Squares\" is in about the largest prin...\n4          1  I really enjoyed this flavor, this has a very ...",
      "text/html": "<div>\n<style scoped>\n    .dataframe tbody tr th:only-of-type {\n        vertical-align: middle;\n    }\n\n    .dataframe tbody tr th {\n        vertical-align: top;\n    }\n\n    .dataframe thead th {\n        text-align: right;\n    }\n</style>\n<table border=\"1\" class=\"dataframe\">\n  <thead>\n    <tr style=\"text-align: right;\">\n      <th></th>\n      <th>sentiment</th>\n      <th>text</th>\n    </tr>\n  </thead>\n  <tbody>\n    <tr>\n      <th>0</th>\n      <td>0</td>\n      <td>The chips are okay Not near as flavorful as th...</td>\n    </tr>\n    <tr>\n      <th>1</th>\n      <td>0</td>\n      <td>I had high hopes for this, but it was bad.  Re...</td>\n    </tr>\n    <tr>\n      <th>2</th>\n      <td>0</td>\n      <td>I guess it's only one can since there is nothi...</td>\n    </tr>\n    <tr>\n      <th>3</th>\n      <td>0</td>\n      <td>\"Oatmeal Squares\" is in about the largest prin...</td>\n    </tr>\n    <tr>\n      <th>4</th>\n      <td>1</td>\n      <td>I really enjoyed this flavor, this has a very ...</td>\n    </tr>\n  </tbody>\n</table>\n</div>"
     },
     "execution_count": 65,
     "metadata": {},
     "output_type": "execute_result"
    }
   ],
   "source": [
    "df.head()"
   ],
   "metadata": {
    "collapsed": false
   }
  },
  {
   "cell_type": "code",
   "execution_count": 68,
   "outputs": [
    {
     "ename": "AttributeError",
     "evalue": "module 'matplotlib.pyplot' has no attribute 'countplot'",
     "output_type": "error",
     "traceback": [
      "\u001B[0;31m---------------------------------------------------------------------------\u001B[0m",
      "\u001B[0;31mAttributeError\u001B[0m                            Traceback (most recent call last)",
      "Cell \u001B[0;32mIn[68], line 1\u001B[0m\n\u001B[0;32m----> 1\u001B[0m \u001B[43mplt\u001B[49m\u001B[38;5;241;43m.\u001B[39;49m\u001B[43mcountplot\u001B[49m(df[\u001B[38;5;124m'\u001B[39m\u001B[38;5;124msentiment\u001B[39m\u001B[38;5;124m'\u001B[39m])\n",
      "\u001B[0;31mAttributeError\u001B[0m: module 'matplotlib.pyplot' has no attribute 'countplot'"
     ]
    }
   ],
   "source": [
    "plt.countplot(df['sentiment'])\n"
   ],
   "metadata": {
    "collapsed": false
   }
  },
  {
   "cell_type": "code",
   "execution_count": 51,
   "outputs": [],
   "source": [],
   "metadata": {
    "collapsed": false
   }
  }
 ],
 "metadata": {
  "kernelspec": {
   "display_name": "Python 3",
   "language": "python",
   "name": "python3"
  },
  "language_info": {
   "codemirror_mode": {
    "name": "ipython",
    "version": 2
   },
   "file_extension": ".py",
   "mimetype": "text/x-python",
   "name": "python",
   "nbconvert_exporter": "python",
   "pygments_lexer": "ipython2",
   "version": "2.7.6"
  }
 },
 "nbformat": 4,
 "nbformat_minor": 0
}
