{
 "cells": [
  {
   "cell_type": "markdown",
   "source": [
    "# Loading the Dataset"
   ],
   "metadata": {
    "collapsed": false
   }
  },
  {
   "cell_type": "code",
   "execution_count": 35,
   "outputs": [],
   "source": [
    "import pandas as pd\n",
    "import numpy as np"
   ],
   "metadata": {
    "collapsed": false
   }
  },
  {
   "cell_type": "markdown",
   "source": [
    "## reading dataset"
   ],
   "metadata": {
    "collapsed": false
   }
  },
  {
   "cell_type": "code",
   "execution_count": 36,
   "outputs": [
    {
     "data": {
      "text/plain": "   work_year experience_level employment_type                 job_title  \\\n0       2023               SE              FT  Principal Data Scientist   \n1       2023               MI              CT               ML Engineer   \n2       2023               MI              CT               ML Engineer   \n3       2023               SE              FT            Data Scientist   \n4       2023               SE              FT            Data Scientist   \n\n   salary salary_currency  salary_in_usd employee_residence  remote_ratio  \\\n0   80000             EUR          85847                 ES           100   \n1   30000             USD          30000                 US           100   \n2   25500             USD          25500                 US           100   \n3  175000             USD         175000                 CA           100   \n4  120000             USD         120000                 CA           100   \n\n  company_location company_size  \n0               ES            L  \n1               US            S  \n2               US            S  \n3               CA            M  \n4               CA            M  ",
      "text/html": "<div>\n<style scoped>\n    .dataframe tbody tr th:only-of-type {\n        vertical-align: middle;\n    }\n\n    .dataframe tbody tr th {\n        vertical-align: top;\n    }\n\n    .dataframe thead th {\n        text-align: right;\n    }\n</style>\n<table border=\"1\" class=\"dataframe\">\n  <thead>\n    <tr style=\"text-align: right;\">\n      <th></th>\n      <th>work_year</th>\n      <th>experience_level</th>\n      <th>employment_type</th>\n      <th>job_title</th>\n      <th>salary</th>\n      <th>salary_currency</th>\n      <th>salary_in_usd</th>\n      <th>employee_residence</th>\n      <th>remote_ratio</th>\n      <th>company_location</th>\n      <th>company_size</th>\n    </tr>\n  </thead>\n  <tbody>\n    <tr>\n      <th>0</th>\n      <td>2023</td>\n      <td>SE</td>\n      <td>FT</td>\n      <td>Principal Data Scientist</td>\n      <td>80000</td>\n      <td>EUR</td>\n      <td>85847</td>\n      <td>ES</td>\n      <td>100</td>\n      <td>ES</td>\n      <td>L</td>\n    </tr>\n    <tr>\n      <th>1</th>\n      <td>2023</td>\n      <td>MI</td>\n      <td>CT</td>\n      <td>ML Engineer</td>\n      <td>30000</td>\n      <td>USD</td>\n      <td>30000</td>\n      <td>US</td>\n      <td>100</td>\n      <td>US</td>\n      <td>S</td>\n    </tr>\n    <tr>\n      <th>2</th>\n      <td>2023</td>\n      <td>MI</td>\n      <td>CT</td>\n      <td>ML Engineer</td>\n      <td>25500</td>\n      <td>USD</td>\n      <td>25500</td>\n      <td>US</td>\n      <td>100</td>\n      <td>US</td>\n      <td>S</td>\n    </tr>\n    <tr>\n      <th>3</th>\n      <td>2023</td>\n      <td>SE</td>\n      <td>FT</td>\n      <td>Data Scientist</td>\n      <td>175000</td>\n      <td>USD</td>\n      <td>175000</td>\n      <td>CA</td>\n      <td>100</td>\n      <td>CA</td>\n      <td>M</td>\n    </tr>\n    <tr>\n      <th>4</th>\n      <td>2023</td>\n      <td>SE</td>\n      <td>FT</td>\n      <td>Data Scientist</td>\n      <td>120000</td>\n      <td>USD</td>\n      <td>120000</td>\n      <td>CA</td>\n      <td>100</td>\n      <td>CA</td>\n      <td>M</td>\n    </tr>\n  </tbody>\n</table>\n</div>"
     },
     "execution_count": 36,
     "metadata": {},
     "output_type": "execute_result"
    }
   ],
   "source": [
    "df = pd.read_csv('ds_salaries 2.csv')\n",
    "df.head()"
   ],
   "metadata": {
    "collapsed": false
   }
  },
  {
   "cell_type": "markdown",
   "source": [],
   "metadata": {
    "collapsed": false
   }
  },
  {
   "cell_type": "markdown",
   "source": [
    "#### basic information or stastistics"
   ],
   "metadata": {
    "collapsed": false
   }
  },
  {
   "cell_type": "code",
   "execution_count": 39,
   "outputs": [
    {
     "data": {
      "text/plain": "         work_year        salary  salary_in_usd  remote_ratio\ncount  3755.000000  3.755000e+03    3755.000000   3755.000000\nmean   2022.373635  1.906956e+05  137570.389880     46.271638\nstd       0.691448  6.716765e+05   63055.625278     48.589050\nmin    2020.000000  6.000000e+03    5132.000000      0.000000\n25%    2022.000000  1.000000e+05   95000.000000      0.000000\n50%    2022.000000  1.380000e+05  135000.000000      0.000000\n75%    2023.000000  1.800000e+05  175000.000000    100.000000\nmax    2023.000000  3.040000e+07  450000.000000    100.000000",
      "text/html": "<div>\n<style scoped>\n    .dataframe tbody tr th:only-of-type {\n        vertical-align: middle;\n    }\n\n    .dataframe tbody tr th {\n        vertical-align: top;\n    }\n\n    .dataframe thead th {\n        text-align: right;\n    }\n</style>\n<table border=\"1\" class=\"dataframe\">\n  <thead>\n    <tr style=\"text-align: right;\">\n      <th></th>\n      <th>work_year</th>\n      <th>salary</th>\n      <th>salary_in_usd</th>\n      <th>remote_ratio</th>\n    </tr>\n  </thead>\n  <tbody>\n    <tr>\n      <th>count</th>\n      <td>3755.000000</td>\n      <td>3.755000e+03</td>\n      <td>3755.000000</td>\n      <td>3755.000000</td>\n    </tr>\n    <tr>\n      <th>mean</th>\n      <td>2022.373635</td>\n      <td>1.906956e+05</td>\n      <td>137570.389880</td>\n      <td>46.271638</td>\n    </tr>\n    <tr>\n      <th>std</th>\n      <td>0.691448</td>\n      <td>6.716765e+05</td>\n      <td>63055.625278</td>\n      <td>48.589050</td>\n    </tr>\n    <tr>\n      <th>min</th>\n      <td>2020.000000</td>\n      <td>6.000000e+03</td>\n      <td>5132.000000</td>\n      <td>0.000000</td>\n    </tr>\n    <tr>\n      <th>25%</th>\n      <td>2022.000000</td>\n      <td>1.000000e+05</td>\n      <td>95000.000000</td>\n      <td>0.000000</td>\n    </tr>\n    <tr>\n      <th>50%</th>\n      <td>2022.000000</td>\n      <td>1.380000e+05</td>\n      <td>135000.000000</td>\n      <td>0.000000</td>\n    </tr>\n    <tr>\n      <th>75%</th>\n      <td>2023.000000</td>\n      <td>1.800000e+05</td>\n      <td>175000.000000</td>\n      <td>100.000000</td>\n    </tr>\n    <tr>\n      <th>max</th>\n      <td>2023.000000</td>\n      <td>3.040000e+07</td>\n      <td>450000.000000</td>\n      <td>100.000000</td>\n    </tr>\n  </tbody>\n</table>\n</div>"
     },
     "execution_count": 39,
     "metadata": {},
     "output_type": "execute_result"
    }
   ],
   "source": [
    "df.describe()"
   ],
   "metadata": {
    "collapsed": false
   }
  },
  {
   "cell_type": "code",
   "execution_count": null,
   "outputs": [],
   "source": [],
   "metadata": {
    "collapsed": false
   }
  }
 ],
 "metadata": {
  "kernelspec": {
   "display_name": "Python 3",
   "language": "python",
   "name": "python3"
  },
  "language_info": {
   "codemirror_mode": {
    "name": "ipython",
    "version": 2
   },
   "file_extension": ".py",
   "mimetype": "text/x-python",
   "name": "python",
   "nbconvert_exporter": "python",
   "pygments_lexer": "ipython2",
   "version": "2.7.6"
  }
 },
 "nbformat": 4,
 "nbformat_minor": 0
}
