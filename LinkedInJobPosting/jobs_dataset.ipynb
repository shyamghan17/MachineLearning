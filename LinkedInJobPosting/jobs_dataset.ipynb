{
 "cells": [
  {
   "cell_type": "code",
   "execution_count": 85,
   "outputs": [
    {
     "name": "stdout",
     "output_type": "stream",
     "text": [
      "16\n"
     ]
    }
   ],
   "source": [
    "from math import factorial\n",
    "\n",
    "\n",
    "def ArrayChallenge(arr):\n",
    "    if len(arr) <= 1:\n",
    "        return -1\n",
    "    #cannot compute because length of array is 1 or less than 1\n",
    "\n",
    "    minimum_price = arr[0]\n",
    "    maximum_profit = -1 \n",
    "    #  -1 to indicate no profit can be made\n",
    "\n",
    "    for i in arr:\n",
    "        minimum_price = min(minimum_price, i)  # Update the minimum stock price\n",
    "        current_profit = i - minimum_price  # Calculate the current potential profit\n",
    "        maximum_profit = max(maximum_profit, current_profit)  # Update the maximum profit\n",
    "\n",
    "    return maximum_profit\n",
    "\n",
    "print(ArrayChallenge([44, 30, 24, 32, 35, 30, 40, 40, 15]))"
   ],
   "metadata": {
    "collapsed": false,
    "ExecuteTime": {
     "end_time": "2023-11-21T06:00:22.942956Z",
     "start_time": "2023-11-21T06:00:22.937409Z"
    }
   },
   "id": "93a2b1973f1a9556"
  },
  {
   "cell_type": "code",
   "execution_count": 109,
   "outputs": [
    {
     "name": "stdout",
     "output_type": "stream",
     "text": [
      "True\n"
     ]
    }
   ],
   "source": [
    "import re\n",
    "def CodelandUsernameValidation(strParam):\n",
    "    if 4 <= len(strParam) <= 25 and strParam[0].isalpha() and strParam[-1] != '_' and re.match('^[a-zA-Z0-9_]*$', strParam):\n",
    "        return True\n",
    "    return False\n",
    "\n",
    "# keep this function call here \n",
    "print(CodelandUsernameValidation('ramrs_k'))"
   ],
   "metadata": {
    "collapsed": false,
    "ExecuteTime": {
     "end_time": "2023-11-22T08:47:26.969303Z",
     "start_time": "2023-11-22T08:47:26.953871Z"
    }
   },
   "id": "6f0a4b4ae7b587e8"
  },
  {
   "cell_type": "code",
   "execution_count": 153,
   "outputs": [
    {
     "name": "stdout",
     "output_type": "stream",
     "text": [
      "10\n"
     ]
    }
   ],
   "source": [
    "def LongestWord(sen):\n",
    "    words = sen.split(' ')\n",
    "    longest_word = 0\n",
    "    single_word = []\n",
    "    for word in words:\n",
    "        longest_word = max(len(word),longest_word )\n",
    "    return longest_word\n",
    "\n",
    "# keep this function call here \n",
    "print(LongestWord('Kernel started: 8791e64f7, name: python3'))\n"
   ],
   "metadata": {
    "collapsed": false,
    "ExecuteTime": {
     "end_time": "2023-11-22T09:28:02.346654Z",
     "start_time": "2023-11-22T09:28:02.322109Z"
    }
   },
   "id": "e161f8daa765631e"
  },
  {
   "cell_type": "code",
   "execution_count": 151,
   "outputs": [
    {
     "name": "stdout",
     "output_type": "stream",
     "text": [
      "35\n"
     ]
    }
   ],
   "source": [
    "def LongestWord(sen):\n",
    "    words = sen.split(' ')\n",
    "    longest_word = 0\n",
    "\n",
    "    for word in words:\n",
    "\n",
    "        longest_word = max(len(word), longest_word)\n",
    "\n",
    "    return longest_word\n",
    "\n",
    "# Example usage:\n",
    "print(LongestWord('Kernel started: 87911ac4-06-4a43-ac33-c37e362e64f7, name: python3'))\n"
   ],
   "metadata": {
    "collapsed": false,
    "ExecuteTime": {
     "end_time": "2023-11-22T09:27:24.437756Z",
     "start_time": "2023-11-22T09:27:24.415581Z"
    }
   },
   "id": "d7ab4c0abf6e0daf"
  },
  {
   "cell_type": "code",
   "execution_count": 161,
   "outputs": [
    {
     "name": "stdout",
     "output_type": "stream",
     "text": [
      "6\n"
     ]
    }
   ],
   "source": [
    "import math\n",
    "def FirstFactorial(num):\n",
    "    if 1<= num <=18:\n",
    "        return math.factorial(num)\n",
    "# keep this function call here \n",
    "print(FirstFactorial(3))"
   ],
   "metadata": {
    "collapsed": false,
    "ExecuteTime": {
     "end_time": "2023-11-22T09:47:24.648370Z",
     "start_time": "2023-11-22T09:47:24.622287Z"
    }
   },
   "id": "24a8d420ad3214ff"
  },
  {
   "cell_type": "code",
   "execution_count": 176,
   "outputs": [
    {
     "name": "stdout",
     "output_type": "stream",
     "text": [
      "hgnis ramuk ehdar\n"
     ]
    }
   ],
   "source": [
    "### string reverser\n",
    "def FirstReverse(strParam):\n",
    "    final_result= strParam[::-1] \n",
    "    return final_result\n",
    "\n",
    "# keep this function call here \n",
    "print(FirstReverse('radhe kumar singh'))"
   ],
   "metadata": {
    "collapsed": false,
    "ExecuteTime": {
     "end_time": "2023-11-22T10:01:17.292238Z",
     "start_time": "2023-11-22T10:01:17.271978Z"
    }
   },
   "id": "5ba320827f93672a"
  },
  {
   "cell_type": "code",
   "execution_count": 164,
   "outputs": [
    {
     "name": "stdout",
     "output_type": "stream",
     "text": [
      "e\n",
      "l\n",
      "p\n",
      "p\n",
      "a\n",
      " \n"
     ]
    }
   ],
   "source": [
    "\n",
    "stopindex = -1\n",
    "step = -1\n",
    "fruit = 'apple'\n",
    "startingIndex = len(fruit) - 1\n",
    "for i in range(len(fruit)-1, -1, -1):\n",
    "    print(fruit[i])\n",
    "\n",
    "print(' ')"
   ],
   "metadata": {
    "collapsed": false,
    "ExecuteTime": {
     "end_time": "2023-11-22T09:54:30.201781Z",
     "start_time": "2023-11-22T09:54:30.177462Z"
    }
   },
   "id": "3ffb6aaf9a283504"
  },
  {
   "cell_type": "code",
   "execution_count": null,
   "outputs": [],
   "source": [],
   "metadata": {
    "collapsed": false
   },
   "id": "f2e0ec9a172aea5d"
  }
 ],
 "metadata": {
  "kernelspec": {
   "display_name": "Python 3",
   "language": "python",
   "name": "python3"
  },
  "language_info": {
   "codemirror_mode": {
    "name": "ipython",
    "version": 2
   },
   "file_extension": ".py",
   "mimetype": "text/x-python",
   "name": "python",
   "nbconvert_exporter": "python",
   "pygments_lexer": "ipython2",
   "version": "2.7.6"
  }
 },
 "nbformat": 4,
 "nbformat_minor": 5
}
