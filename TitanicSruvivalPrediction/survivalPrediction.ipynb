{
 "cells": [
  {
   "cell_type": "markdown",
   "source": [
    "Import all the required library"
   ],
   "metadata": {
    "collapsed": false
   },
   "id": "5554fb81b5a3fa61"
  },
  {
   "cell_type": "code",
   "execution_count": 1,
   "outputs": [],
   "source": [
    "import pandas as pd\n",
    "import numpy as np\n",
    "import matplotlib.pyplot as plt\n",
    "import seaborn as sns"
   ],
   "metadata": {
    "collapsed": false,
    "ExecuteTime": {
     "end_time": "2023-12-02T00:37:46.018485Z",
     "start_time": "2023-12-02T00:37:46.014140Z"
    }
   },
   "id": "dd016be8f760b4b3"
  },
  {
   "cell_type": "code",
   "execution_count": 1,
   "outputs": [],
   "source": [],
   "metadata": {
    "collapsed": false,
    "ExecuteTime": {
     "end_time": "2023-12-02T00:37:46.019033Z",
     "start_time": "2023-12-02T00:37:46.017916Z"
    }
   },
   "id": "28b26c2b7c35c3c8"
  },
  {
   "cell_type": "markdown",
   "source": [
    "Data Collection"
   ],
   "metadata": {
    "collapsed": false
   },
   "id": "bf938a90dba2c674"
  },
  {
   "cell_type": "code",
   "execution_count": 1,
   "outputs": [],
   "source": [],
   "metadata": {
    "collapsed": false,
    "ExecuteTime": {
     "end_time": "2023-12-02T00:37:46.021165Z",
     "start_time": "2023-12-02T00:37:46.018325Z"
    }
   },
   "id": "1ed296366abf7168"
  },
  {
   "cell_type": "code",
   "execution_count": 1,
   "outputs": [],
   "source": [],
   "metadata": {
    "collapsed": false,
    "ExecuteTime": {
     "end_time": "2023-12-02T00:37:46.028646Z",
     "start_time": "2023-12-02T00:37:46.021555Z"
    }
   },
   "id": "3d69dee578b606cf"
  },
  {
   "cell_type": "code",
   "execution_count": 1,
   "outputs": [],
   "source": [],
   "metadata": {
    "collapsed": false,
    "ExecuteTime": {
     "end_time": "2023-12-02T00:37:46.029114Z",
     "start_time": "2023-12-02T00:37:46.023417Z"
    }
   },
   "id": "ab8c3f28b33ab39d"
  },
  {
   "cell_type": "markdown",
   "source": [
    "Data Visualization "
   ],
   "metadata": {
    "collapsed": false
   },
   "id": "c51d4a8b73c80dad"
  },
  {
   "cell_type": "code",
   "execution_count": 1,
   "outputs": [],
   "source": [],
   "metadata": {
    "collapsed": false,
    "ExecuteTime": {
     "end_time": "2023-12-02T00:37:46.029222Z",
     "start_time": "2023-12-02T00:37:46.025048Z"
    }
   },
   "id": "990cf22627d620ea"
  },
  {
   "cell_type": "code",
   "execution_count": 1,
   "outputs": [],
   "source": [],
   "metadata": {
    "collapsed": false,
    "ExecuteTime": {
     "end_time": "2023-12-02T00:37:46.029313Z",
     "start_time": "2023-12-02T00:37:46.027268Z"
    }
   },
   "id": "a0e470204683c12"
  },
  {
   "cell_type": "markdown",
   "source": [
    "Features Selection and engineering"
   ],
   "metadata": {
    "collapsed": false
   },
   "id": "9492b26ff654aad6"
  },
  {
   "cell_type": "code",
   "execution_count": 1,
   "outputs": [],
   "source": [],
   "metadata": {
    "collapsed": false,
    "ExecuteTime": {
     "end_time": "2023-12-02T00:37:46.032261Z",
     "start_time": "2023-12-02T00:37:46.029400Z"
    }
   },
   "id": "f336446bf6b40b22"
  },
  {
   "cell_type": "code",
   "execution_count": 1,
   "outputs": [],
   "source": [],
   "metadata": {
    "collapsed": false,
    "ExecuteTime": {
     "end_time": "2023-12-02T00:37:46.033679Z",
     "start_time": "2023-12-02T00:37:46.031425Z"
    }
   },
   "id": "b844003f0dac4ba0"
  },
  {
   "cell_type": "markdown",
   "source": [
    "model trainning"
   ],
   "metadata": {
    "collapsed": false
   },
   "id": "a50ba5246b1b1cb6"
  },
  {
   "cell_type": "code",
   "execution_count": 1,
   "outputs": [],
   "source": [],
   "metadata": {
    "collapsed": false,
    "ExecuteTime": {
     "end_time": "2023-12-02T00:37:46.035180Z",
     "start_time": "2023-12-02T00:37:46.033443Z"
    }
   },
   "id": "f9a7fea650a8ea95"
  },
  {
   "cell_type": "code",
   "execution_count": 1,
   "outputs": [],
   "source": [],
   "metadata": {
    "collapsed": false,
    "ExecuteTime": {
     "end_time": "2023-12-02T00:37:46.041503Z",
     "start_time": "2023-12-02T00:37:46.035106Z"
    }
   },
   "id": "f5c4da1f1765c19d"
  },
  {
   "cell_type": "markdown",
   "source": [
    "model evaluation"
   ],
   "metadata": {
    "collapsed": false
   },
   "id": "ecc7693eb9aa057e"
  },
  {
   "cell_type": "code",
   "execution_count": 1,
   "outputs": [],
   "source": [],
   "metadata": {
    "collapsed": false,
    "ExecuteTime": {
     "end_time": "2023-12-02T00:37:46.041960Z",
     "start_time": "2023-12-02T00:37:46.037022Z"
    }
   },
   "id": "8233d8721aa61768"
  },
  {
   "cell_type": "code",
   "execution_count": 1,
   "outputs": [],
   "source": [],
   "metadata": {
    "collapsed": false,
    "ExecuteTime": {
     "end_time": "2023-12-02T00:37:46.058818Z",
     "start_time": "2023-12-02T00:37:46.038830Z"
    }
   },
   "id": "3c0a0594b2e3078f"
  },
  {
   "cell_type": "markdown",
   "source": [
    "preductuin"
   ],
   "metadata": {
    "collapsed": false
   },
   "id": "cb8d77d4380a6e7c"
  },
  {
   "cell_type": "code",
   "execution_count": 1,
   "outputs": [],
   "source": [],
   "metadata": {
    "collapsed": false,
    "ExecuteTime": {
     "end_time": "2023-12-02T00:37:46.060117Z",
     "start_time": "2023-12-02T00:37:46.040792Z"
    }
   },
   "id": "901eb4c9f0c07a73"
  },
  {
   "cell_type": "code",
   "execution_count": 1,
   "outputs": [],
   "source": [],
   "metadata": {
    "collapsed": false,
    "ExecuteTime": {
     "end_time": "2023-12-02T00:37:46.060302Z",
     "start_time": "2023-12-02T00:37:46.043041Z"
    }
   },
   "id": "9fab50fbfa2ce65e"
  },
  {
   "cell_type": "code",
   "execution_count": 1,
   "outputs": [],
   "source": [],
   "metadata": {
    "collapsed": false,
    "ExecuteTime": {
     "end_time": "2023-12-02T00:37:46.060410Z",
     "start_time": "2023-12-02T00:37:46.045017Z"
    }
   },
   "id": "47c71ca3096eee48"
  },
  {
   "cell_type": "code",
   "execution_count": 1,
   "outputs": [],
   "source": [],
   "metadata": {
    "collapsed": false,
    "ExecuteTime": {
     "end_time": "2023-12-02T00:37:46.060503Z",
     "start_time": "2023-12-02T00:37:46.046789Z"
    }
   },
   "id": "19d603fd37841a49"
  }
 ],
 "metadata": {
  "kernelspec": {
   "display_name": "Python 3",
   "language": "python",
   "name": "python3"
  },
  "language_info": {
   "codemirror_mode": {
    "name": "ipython",
    "version": 2
   },
   "file_extension": ".py",
   "mimetype": "text/x-python",
   "name": "python",
   "nbconvert_exporter": "python",
   "pygments_lexer": "ipython2",
   "version": "2.7.6"
  }
 },
 "nbformat": 4,
 "nbformat_minor": 5
}
