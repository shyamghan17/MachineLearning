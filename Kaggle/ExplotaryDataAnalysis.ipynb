{
 "cells": [
  {
   "cell_type": "code",
   "execution_count": 18,
   "metadata": {
    "collapsed": true
   },
   "outputs": [],
   "source": [
    "import pandas as pd\n",
    "import numpy as np\n",
    "import matplotlib.pylab as plt\n",
    "import seaborn as sns\n",
    "plt.style.use('ggplot')"
   ]
  },
  {
   "cell_type": "code",
   "execution_count": 19,
   "outputs": [],
   "source": [
    "df = pd.read_csv('coaster_db.csv')"
   ],
   "metadata": {
    "collapsed": false
   }
  },
  {
   "cell_type": "code",
   "execution_count": 20,
   "outputs": [
    {
     "data": {
      "text/plain": "(1087, 56)"
     },
     "execution_count": 20,
     "metadata": {},
     "output_type": "execute_result"
    }
   ],
   "source": [
    "df.shape"
   ],
   "metadata": {
    "collapsed": false
   }
  },
  {
   "cell_type": "code",
   "execution_count": 21,
   "outputs": [
    {
     "data": {
      "text/plain": "                             coaster_name          Length             Speed  \\\n0                      Switchback Railway  600 ft (180 m)  6 mph (9.7 km/h)   \n1                       Flip Flap Railway             NaN               NaN   \n2  Switchback Railway (Euclid Beach Park)             NaN               NaN   \n3            Loop the Loop (Coney Island)             NaN               NaN   \n4            Loop the Loop (Young's Pier)             NaN               NaN   \n\n                         Location   Status   Opening date   Type  \\\n0                    Coney Island  Removed  June 16, 1884   Wood   \n1                   Sea Lion Park  Removed           1895   Wood   \n2  Cleveland, Ohio, United States   Closed            NaN  Other   \n3                           Other  Removed           1901  Steel   \n4                           Other  Removed           1901  Steel   \n\n             Manufacturer Height restriction        Model  ...  speed1  \\\n0  LaMarcus Adna Thompson                NaN  Lift Packed  ...  6 mph    \n1            Lina Beecher                NaN          NaN  ...     NaN   \n2                     NaN                NaN          NaN  ...     NaN   \n3          Edwin Prescott                NaN          NaN  ...     NaN   \n4          Edwin Prescott                NaN          NaN  ...     NaN   \n\n     speed2 speed1_value speed1_unit speed_mph height_value height_unit  \\\n0  9.7 km/h          6.0         mph       6.0         50.0          ft   \n1       NaN          NaN         NaN       NaN          NaN         NaN   \n2       NaN          NaN         NaN       NaN          NaN         NaN   \n3       NaN          NaN         NaN       NaN          NaN         NaN   \n4       NaN          NaN         NaN       NaN          NaN         NaN   \n\n  height_ft Inversions_clean Gforce_clean  \n0       NaN                0          2.9  \n1       NaN                1         12.0  \n2       NaN                0          NaN  \n3       NaN                1          NaN  \n4       NaN                1          NaN  \n\n[5 rows x 56 columns]",
      "text/html": "<div>\n<style scoped>\n    .dataframe tbody tr th:only-of-type {\n        vertical-align: middle;\n    }\n\n    .dataframe tbody tr th {\n        vertical-align: top;\n    }\n\n    .dataframe thead th {\n        text-align: right;\n    }\n</style>\n<table border=\"1\" class=\"dataframe\">\n  <thead>\n    <tr style=\"text-align: right;\">\n      <th></th>\n      <th>coaster_name</th>\n      <th>Length</th>\n      <th>Speed</th>\n      <th>Location</th>\n      <th>Status</th>\n      <th>Opening date</th>\n      <th>Type</th>\n      <th>Manufacturer</th>\n      <th>Height restriction</th>\n      <th>Model</th>\n      <th>...</th>\n      <th>speed1</th>\n      <th>speed2</th>\n      <th>speed1_value</th>\n      <th>speed1_unit</th>\n      <th>speed_mph</th>\n      <th>height_value</th>\n      <th>height_unit</th>\n      <th>height_ft</th>\n      <th>Inversions_clean</th>\n      <th>Gforce_clean</th>\n    </tr>\n  </thead>\n  <tbody>\n    <tr>\n      <th>0</th>\n      <td>Switchback Railway</td>\n      <td>600 ft (180 m)</td>\n      <td>6 mph (9.7 km/h)</td>\n      <td>Coney Island</td>\n      <td>Removed</td>\n      <td>June 16, 1884</td>\n      <td>Wood</td>\n      <td>LaMarcus Adna Thompson</td>\n      <td>NaN</td>\n      <td>Lift Packed</td>\n      <td>...</td>\n      <td>6 mph</td>\n      <td>9.7 km/h</td>\n      <td>6.0</td>\n      <td>mph</td>\n      <td>6.0</td>\n      <td>50.0</td>\n      <td>ft</td>\n      <td>NaN</td>\n      <td>0</td>\n      <td>2.9</td>\n    </tr>\n    <tr>\n      <th>1</th>\n      <td>Flip Flap Railway</td>\n      <td>NaN</td>\n      <td>NaN</td>\n      <td>Sea Lion Park</td>\n      <td>Removed</td>\n      <td>1895</td>\n      <td>Wood</td>\n      <td>Lina Beecher</td>\n      <td>NaN</td>\n      <td>NaN</td>\n      <td>...</td>\n      <td>NaN</td>\n      <td>NaN</td>\n      <td>NaN</td>\n      <td>NaN</td>\n      <td>NaN</td>\n      <td>NaN</td>\n      <td>NaN</td>\n      <td>NaN</td>\n      <td>1</td>\n      <td>12.0</td>\n    </tr>\n    <tr>\n      <th>2</th>\n      <td>Switchback Railway (Euclid Beach Park)</td>\n      <td>NaN</td>\n      <td>NaN</td>\n      <td>Cleveland, Ohio, United States</td>\n      <td>Closed</td>\n      <td>NaN</td>\n      <td>Other</td>\n      <td>NaN</td>\n      <td>NaN</td>\n      <td>NaN</td>\n      <td>...</td>\n      <td>NaN</td>\n      <td>NaN</td>\n      <td>NaN</td>\n      <td>NaN</td>\n      <td>NaN</td>\n      <td>NaN</td>\n      <td>NaN</td>\n      <td>NaN</td>\n      <td>0</td>\n      <td>NaN</td>\n    </tr>\n    <tr>\n      <th>3</th>\n      <td>Loop the Loop (Coney Island)</td>\n      <td>NaN</td>\n      <td>NaN</td>\n      <td>Other</td>\n      <td>Removed</td>\n      <td>1901</td>\n      <td>Steel</td>\n      <td>Edwin Prescott</td>\n      <td>NaN</td>\n      <td>NaN</td>\n      <td>...</td>\n      <td>NaN</td>\n      <td>NaN</td>\n      <td>NaN</td>\n      <td>NaN</td>\n      <td>NaN</td>\n      <td>NaN</td>\n      <td>NaN</td>\n      <td>NaN</td>\n      <td>1</td>\n      <td>NaN</td>\n    </tr>\n    <tr>\n      <th>4</th>\n      <td>Loop the Loop (Young's Pier)</td>\n      <td>NaN</td>\n      <td>NaN</td>\n      <td>Other</td>\n      <td>Removed</td>\n      <td>1901</td>\n      <td>Steel</td>\n      <td>Edwin Prescott</td>\n      <td>NaN</td>\n      <td>NaN</td>\n      <td>...</td>\n      <td>NaN</td>\n      <td>NaN</td>\n      <td>NaN</td>\n      <td>NaN</td>\n      <td>NaN</td>\n      <td>NaN</td>\n      <td>NaN</td>\n      <td>NaN</td>\n      <td>1</td>\n      <td>NaN</td>\n    </tr>\n  </tbody>\n</table>\n<p>5 rows × 56 columns</p>\n</div>"
     },
     "execution_count": 21,
     "metadata": {},
     "output_type": "execute_result"
    }
   ],
   "source": [
    "df.head(5)"
   ],
   "metadata": {
    "collapsed": false
   }
  },
  {
   "cell_type": "code",
   "execution_count": 22,
   "outputs": [
    {
     "data": {
      "text/plain": "Index(['coaster_name', 'Length', 'Speed', 'Location', 'Status', 'Opening date',\n       'Type', 'Manufacturer', 'Height restriction', 'Model', 'Height',\n       'Inversions', 'Lift/launch system', 'Cost', 'Trains', 'Park section',\n       'Duration', 'Capacity', 'G-force', 'Designer', 'Max vertical angle',\n       'Drop', 'Soft opening date', 'Fast Lane available', 'Replaced',\n       'Track layout', 'Fastrack available', 'Soft opening date.1',\n       'Closing date', 'Opened', 'Replaced by', 'Website',\n       'Flash Pass Available', 'Must transfer from wheelchair', 'Theme',\n       'Single rider line available', 'Restraint Style',\n       'Flash Pass available', 'Acceleration', 'Restraints', 'Name',\n       'year_introduced', 'latitude', 'longitude', 'Type_Main',\n       'opening_date_clean', 'speed1', 'speed2', 'speed1_value', 'speed1_unit',\n       'speed_mph', 'height_value', 'height_unit', 'height_ft',\n       'Inversions_clean', 'Gforce_clean'],\n      dtype='object')"
     },
     "execution_count": 22,
     "metadata": {},
     "output_type": "execute_result"
    }
   ],
   "source": [
    "df.columns"
   ],
   "metadata": {
    "collapsed": false
   }
  },
  {
   "cell_type": "code",
   "execution_count": 23,
   "outputs": [
    {
     "data": {
      "text/plain": "       Inversions  year_introduced    latitude   longitude  speed1_value  \\\ncount  932.000000      1087.000000  812.000000  812.000000    937.000000   \nmean     1.547210      1994.986201   38.373484  -41.595373     53.850374   \nstd      2.114073        23.475248   15.516596   72.285227     23.385518   \nmin      0.000000      1884.000000  -48.261700 -123.035700      5.000000   \n25%      0.000000      1989.000000   35.031050  -84.552200     40.000000   \n50%      0.000000      2000.000000   40.289800  -76.653600     50.000000   \n75%      3.000000      2010.000000   44.799600    2.778100     63.000000   \nmax     14.000000      2022.000000   63.230900  153.426500    240.000000   \n\n        speed_mph  height_value   height_ft  Inversions_clean  Gforce_clean  \ncount  937.000000    965.000000  171.000000       1087.000000    362.000000  \nmean    48.617289     89.575171  101.996491          1.326587      3.824006  \nstd     16.678031    136.246444   67.329092          2.030854      0.989998  \nmin      5.000000      4.000000   13.100000          0.000000      0.800000  \n25%     37.300000     44.000000   51.800000          0.000000      3.400000  \n50%     49.700000     79.000000   91.200000          0.000000      4.000000  \n75%     58.000000    113.000000  131.200000          2.000000      4.500000  \nmax    149.100000   3937.000000  377.300000         14.000000     12.000000  ",
      "text/html": "<div>\n<style scoped>\n    .dataframe tbody tr th:only-of-type {\n        vertical-align: middle;\n    }\n\n    .dataframe tbody tr th {\n        vertical-align: top;\n    }\n\n    .dataframe thead th {\n        text-align: right;\n    }\n</style>\n<table border=\"1\" class=\"dataframe\">\n  <thead>\n    <tr style=\"text-align: right;\">\n      <th></th>\n      <th>Inversions</th>\n      <th>year_introduced</th>\n      <th>latitude</th>\n      <th>longitude</th>\n      <th>speed1_value</th>\n      <th>speed_mph</th>\n      <th>height_value</th>\n      <th>height_ft</th>\n      <th>Inversions_clean</th>\n      <th>Gforce_clean</th>\n    </tr>\n  </thead>\n  <tbody>\n    <tr>\n      <th>count</th>\n      <td>932.000000</td>\n      <td>1087.000000</td>\n      <td>812.000000</td>\n      <td>812.000000</td>\n      <td>937.000000</td>\n      <td>937.000000</td>\n      <td>965.000000</td>\n      <td>171.000000</td>\n      <td>1087.000000</td>\n      <td>362.000000</td>\n    </tr>\n    <tr>\n      <th>mean</th>\n      <td>1.547210</td>\n      <td>1994.986201</td>\n      <td>38.373484</td>\n      <td>-41.595373</td>\n      <td>53.850374</td>\n      <td>48.617289</td>\n      <td>89.575171</td>\n      <td>101.996491</td>\n      <td>1.326587</td>\n      <td>3.824006</td>\n    </tr>\n    <tr>\n      <th>std</th>\n      <td>2.114073</td>\n      <td>23.475248</td>\n      <td>15.516596</td>\n      <td>72.285227</td>\n      <td>23.385518</td>\n      <td>16.678031</td>\n      <td>136.246444</td>\n      <td>67.329092</td>\n      <td>2.030854</td>\n      <td>0.989998</td>\n    </tr>\n    <tr>\n      <th>min</th>\n      <td>0.000000</td>\n      <td>1884.000000</td>\n      <td>-48.261700</td>\n      <td>-123.035700</td>\n      <td>5.000000</td>\n      <td>5.000000</td>\n      <td>4.000000</td>\n      <td>13.100000</td>\n      <td>0.000000</td>\n      <td>0.800000</td>\n    </tr>\n    <tr>\n      <th>25%</th>\n      <td>0.000000</td>\n      <td>1989.000000</td>\n      <td>35.031050</td>\n      <td>-84.552200</td>\n      <td>40.000000</td>\n      <td>37.300000</td>\n      <td>44.000000</td>\n      <td>51.800000</td>\n      <td>0.000000</td>\n      <td>3.400000</td>\n    </tr>\n    <tr>\n      <th>50%</th>\n      <td>0.000000</td>\n      <td>2000.000000</td>\n      <td>40.289800</td>\n      <td>-76.653600</td>\n      <td>50.000000</td>\n      <td>49.700000</td>\n      <td>79.000000</td>\n      <td>91.200000</td>\n      <td>0.000000</td>\n      <td>4.000000</td>\n    </tr>\n    <tr>\n      <th>75%</th>\n      <td>3.000000</td>\n      <td>2010.000000</td>\n      <td>44.799600</td>\n      <td>2.778100</td>\n      <td>63.000000</td>\n      <td>58.000000</td>\n      <td>113.000000</td>\n      <td>131.200000</td>\n      <td>2.000000</td>\n      <td>4.500000</td>\n    </tr>\n    <tr>\n      <th>max</th>\n      <td>14.000000</td>\n      <td>2022.000000</td>\n      <td>63.230900</td>\n      <td>153.426500</td>\n      <td>240.000000</td>\n      <td>149.100000</td>\n      <td>3937.000000</td>\n      <td>377.300000</td>\n      <td>14.000000</td>\n      <td>12.000000</td>\n    </tr>\n  </tbody>\n</table>\n</div>"
     },
     "execution_count": 23,
     "metadata": {},
     "output_type": "execute_result"
    }
   ],
   "source": [
    "df.describe()"
   ],
   "metadata": {
    "collapsed": false
   }
  },
  {
   "cell_type": "markdown",
   "source": [
    "### Data prepration"
   ],
   "metadata": {
    "collapsed": false
   }
  },
  {
   "cell_type": "code",
   "execution_count": 24,
   "outputs": [
    {
     "data": {
      "text/plain": "                             coaster_name          Length             Speed  \\\n0                      Switchback Railway  600 ft (180 m)  6 mph (9.7 km/h)   \n1                       Flip Flap Railway             NaN               NaN   \n2  Switchback Railway (Euclid Beach Park)             NaN               NaN   \n3            Loop the Loop (Coney Island)             NaN               NaN   \n4            Loop the Loop (Young's Pier)             NaN               NaN   \n\n                         Location   Status   Opening date   Type  \\\n0                    Coney Island  Removed  June 16, 1884   Wood   \n1                   Sea Lion Park  Removed           1895   Wood   \n2  Cleveland, Ohio, United States   Closed            NaN  Other   \n3                           Other  Removed           1901  Steel   \n4                           Other  Removed           1901  Steel   \n\n             Manufacturer Height restriction        Model  ...  speed1  \\\n0  LaMarcus Adna Thompson                NaN  Lift Packed  ...  6 mph    \n1            Lina Beecher                NaN          NaN  ...     NaN   \n2                     NaN                NaN          NaN  ...     NaN   \n3          Edwin Prescott                NaN          NaN  ...     NaN   \n4          Edwin Prescott                NaN          NaN  ...     NaN   \n\n     speed2 speed1_value speed1_unit speed_mph height_value height_unit  \\\n0  9.7 km/h          6.0         mph       6.0         50.0          ft   \n1       NaN          NaN         NaN       NaN          NaN         NaN   \n2       NaN          NaN         NaN       NaN          NaN         NaN   \n3       NaN          NaN         NaN       NaN          NaN         NaN   \n4       NaN          NaN         NaN       NaN          NaN         NaN   \n\n  height_ft Inversions_clean Gforce_clean  \n0       NaN                0          2.9  \n1       NaN                1         12.0  \n2       NaN                0          NaN  \n3       NaN                1          NaN  \n4       NaN                1          NaN  \n\n[5 rows x 56 columns]",
      "text/html": "<div>\n<style scoped>\n    .dataframe tbody tr th:only-of-type {\n        vertical-align: middle;\n    }\n\n    .dataframe tbody tr th {\n        vertical-align: top;\n    }\n\n    .dataframe thead th {\n        text-align: right;\n    }\n</style>\n<table border=\"1\" class=\"dataframe\">\n  <thead>\n    <tr style=\"text-align: right;\">\n      <th></th>\n      <th>coaster_name</th>\n      <th>Length</th>\n      <th>Speed</th>\n      <th>Location</th>\n      <th>Status</th>\n      <th>Opening date</th>\n      <th>Type</th>\n      <th>Manufacturer</th>\n      <th>Height restriction</th>\n      <th>Model</th>\n      <th>...</th>\n      <th>speed1</th>\n      <th>speed2</th>\n      <th>speed1_value</th>\n      <th>speed1_unit</th>\n      <th>speed_mph</th>\n      <th>height_value</th>\n      <th>height_unit</th>\n      <th>height_ft</th>\n      <th>Inversions_clean</th>\n      <th>Gforce_clean</th>\n    </tr>\n  </thead>\n  <tbody>\n    <tr>\n      <th>0</th>\n      <td>Switchback Railway</td>\n      <td>600 ft (180 m)</td>\n      <td>6 mph (9.7 km/h)</td>\n      <td>Coney Island</td>\n      <td>Removed</td>\n      <td>June 16, 1884</td>\n      <td>Wood</td>\n      <td>LaMarcus Adna Thompson</td>\n      <td>NaN</td>\n      <td>Lift Packed</td>\n      <td>...</td>\n      <td>6 mph</td>\n      <td>9.7 km/h</td>\n      <td>6.0</td>\n      <td>mph</td>\n      <td>6.0</td>\n      <td>50.0</td>\n      <td>ft</td>\n      <td>NaN</td>\n      <td>0</td>\n      <td>2.9</td>\n    </tr>\n    <tr>\n      <th>1</th>\n      <td>Flip Flap Railway</td>\n      <td>NaN</td>\n      <td>NaN</td>\n      <td>Sea Lion Park</td>\n      <td>Removed</td>\n      <td>1895</td>\n      <td>Wood</td>\n      <td>Lina Beecher</td>\n      <td>NaN</td>\n      <td>NaN</td>\n      <td>...</td>\n      <td>NaN</td>\n      <td>NaN</td>\n      <td>NaN</td>\n      <td>NaN</td>\n      <td>NaN</td>\n      <td>NaN</td>\n      <td>NaN</td>\n      <td>NaN</td>\n      <td>1</td>\n      <td>12.0</td>\n    </tr>\n    <tr>\n      <th>2</th>\n      <td>Switchback Railway (Euclid Beach Park)</td>\n      <td>NaN</td>\n      <td>NaN</td>\n      <td>Cleveland, Ohio, United States</td>\n      <td>Closed</td>\n      <td>NaN</td>\n      <td>Other</td>\n      <td>NaN</td>\n      <td>NaN</td>\n      <td>NaN</td>\n      <td>...</td>\n      <td>NaN</td>\n      <td>NaN</td>\n      <td>NaN</td>\n      <td>NaN</td>\n      <td>NaN</td>\n      <td>NaN</td>\n      <td>NaN</td>\n      <td>NaN</td>\n      <td>0</td>\n      <td>NaN</td>\n    </tr>\n    <tr>\n      <th>3</th>\n      <td>Loop the Loop (Coney Island)</td>\n      <td>NaN</td>\n      <td>NaN</td>\n      <td>Other</td>\n      <td>Removed</td>\n      <td>1901</td>\n      <td>Steel</td>\n      <td>Edwin Prescott</td>\n      <td>NaN</td>\n      <td>NaN</td>\n      <td>...</td>\n      <td>NaN</td>\n      <td>NaN</td>\n      <td>NaN</td>\n      <td>NaN</td>\n      <td>NaN</td>\n      <td>NaN</td>\n      <td>NaN</td>\n      <td>NaN</td>\n      <td>1</td>\n      <td>NaN</td>\n    </tr>\n    <tr>\n      <th>4</th>\n      <td>Loop the Loop (Young's Pier)</td>\n      <td>NaN</td>\n      <td>NaN</td>\n      <td>Other</td>\n      <td>Removed</td>\n      <td>1901</td>\n      <td>Steel</td>\n      <td>Edwin Prescott</td>\n      <td>NaN</td>\n      <td>NaN</td>\n      <td>...</td>\n      <td>NaN</td>\n      <td>NaN</td>\n      <td>NaN</td>\n      <td>NaN</td>\n      <td>NaN</td>\n      <td>NaN</td>\n      <td>NaN</td>\n      <td>NaN</td>\n      <td>1</td>\n      <td>NaN</td>\n    </tr>\n  </tbody>\n</table>\n<p>5 rows × 56 columns</p>\n</div>"
     },
     "execution_count": 24,
     "metadata": {},
     "output_type": "execute_result"
    }
   ],
   "source": [
    "df.head()"
   ],
   "metadata": {
    "collapsed": false
   }
  },
  {
   "cell_type": "code",
   "execution_count": 25,
   "outputs": [],
   "source": [
    "df = df[['coaster_name',\n",
    "    # 'Length', 'Speed', 'Location', 'Status', 'Opening date',\n",
    "    'Manufacturer',\n",
    "    # 'Height restriction', 'Model', 'Height',\n",
    "    # 'Inversions', 'Lift/launch system', 'Cost', 'Trains', 'Park section',\n",
    "    # 'Duration', 'Capacity', 'G-force', 'Designer', 'Max vertical angle',\n",
    "    # 'Drop', 'Soft opening date', 'Fast Lane available', 'Replaced',\n",
    "    # 'Track layout', 'Fastrack available', 'Soft opening date.1',\n",
    "    # 'Closing date',\n",
    "    'Opened',\n",
    "    'Replaced by',\n",
    "    # 'Website',\n",
    "    # 'Flash Pass Available', 'Must transfer from wheelchair', 'Theme',\n",
    "    # 'Single rider line available', 'Restraint Style',\n",
    "    # 'Flash Pass available', 'Acceleration', 'Restraints', 'Name',\n",
    "    'year_introduced',\n",
    "    'latitude',\n",
    "    'longitude',\n",
    "    'Type_Main',\n",
    "    'opening_date_clean',\n",
    "    # 'speed1', 'speed2', 'speed1_value', 'speed1_unit',\n",
    "    'speed_mph',\n",
    "    # 'height_value', 'height_unit',\n",
    "    'height_ft',\n",
    "    'Inversions_clean', 'Gforce_clean']].copy()"
   ],
   "metadata": {
    "collapsed": false
   }
  },
  {
   "cell_type": "code",
   "execution_count": 26,
   "outputs": [
    {
     "data": {
      "text/plain": "Index(['coaster_name', 'Manufacturer', 'Opened', 'Replaced by',\n       'year_introduced', 'latitude', 'longitude', 'Type_Main',\n       'opening_date_clean', 'speed_mph', 'height_ft', 'Inversions_clean',\n       'Gforce_clean'],\n      dtype='object')"
     },
     "execution_count": 26,
     "metadata": {},
     "output_type": "execute_result"
    }
   ],
   "source": [
    "df.columns"
   ],
   "metadata": {
    "collapsed": false
   }
  },
  {
   "cell_type": "code",
   "execution_count": 27,
   "outputs": [
    {
     "data": {
      "text/plain": "coaster_name           object\nManufacturer           object\nOpened                 object\nReplaced by            object\nyear_introduced         int64\nlatitude              float64\nlongitude             float64\nType_Main              object\nopening_date_clean     object\nspeed_mph             float64\nheight_ft             float64\nInversions_clean        int64\nGforce_clean          float64\ndtype: object"
     },
     "execution_count": 27,
     "metadata": {},
     "output_type": "execute_result"
    }
   ],
   "source": [
    "df.dtypes"
   ],
   "metadata": {
    "collapsed": false
   }
  },
  {
   "cell_type": "code",
   "execution_count": 28,
   "outputs": [],
   "source": [
    "df['opening_date_clean'] = pd.to_datetime(df['opening_date_clean'])"
   ],
   "metadata": {
    "collapsed": false
   }
  },
  {
   "cell_type": "markdown",
   "source": [
    "   df['opening_date_clean']"
   ],
   "metadata": {
    "collapsed": false
   }
  },
  {
   "cell_type": "code",
   "execution_count": 28,
   "outputs": [],
   "source": [],
   "metadata": {
    "collapsed": false
   }
  },
  {
   "cell_type": "code",
   "execution_count": 29,
   "outputs": [
    {
     "data": {
      "text/plain": "0      1884-06-16\n1      1895-01-01\n2             NaT\n3      1901-01-01\n4      1901-01-01\n          ...    \n1082          NaT\n1083   2022-01-01\n1084   2016-06-16\n1085          NaT\n1086   2022-01-01\nName: opening_date_clean, Length: 1087, dtype: datetime64[ns]"
     },
     "execution_count": 29,
     "metadata": {},
     "output_type": "execute_result"
    }
   ],
   "source": [
    "df['opening_date_clean']"
   ],
   "metadata": {
    "collapsed": false
   }
  },
  {
   "cell_type": "code",
   "execution_count": 30,
   "outputs": [],
   "source": [
    "# rename the columns\n",
    "df.rename(columns= {'coaster_name':'Coaster Name',\n",
    "                    'year_introduced':'Year Introduced',\n",
    "                    'latitude': 'Latitude',\n",
    "                    'longitude':'Longitude',\n",
    "                    'Type_Main':'Type Main',\n",
    "                    'opening_date_clean':'Opening Date Clean',\n",
    "                    'speed_mph':'Speed MPH',\n",
    "                    'height_ft':'Height FT',\n",
    "                    'Inversions_clean':'Inversions Clean',\n",
    "                    'Gforce_clean':'Gforce Clean'}, inplace=True)"
   ],
   "metadata": {
    "collapsed": false
   }
  },
  {
   "cell_type": "code",
   "execution_count": 35,
   "outputs": [
    {
     "data": {
      "text/plain": "                             Coaster Name            Manufacturer  \\\n0                      Switchback Railway  LaMarcus Adna Thompson   \n1                       Flip Flap Railway            Lina Beecher   \n2  Switchback Railway (Euclid Beach Park)                     NaN   \n3            Loop the Loop (Coney Island)          Edwin Prescott   \n4            Loop the Loop (Young's Pier)          Edwin Prescott   \n\n   Year Introduced  Latitude  Longitude Type Main Opening Date Clean  \\\n0             1884   40.5740   -73.9780      Wood         1884-06-16   \n1             1895   40.5780   -73.9790      Wood         1895-01-01   \n2             1896   41.5800   -81.5700     Other                NaT   \n3             1901   40.5745   -73.9780     Steel         1901-01-01   \n4             1901   39.3538   -74.4342     Steel         1901-01-01   \n\n   Speed MPH  Inversions Clean  \n0        6.0                 0  \n1        NaN                 1  \n2        NaN                 0  \n3        NaN                 1  \n4        NaN                 1  ",
      "text/html": "<div>\n<style scoped>\n    .dataframe tbody tr th:only-of-type {\n        vertical-align: middle;\n    }\n\n    .dataframe tbody tr th {\n        vertical-align: top;\n    }\n\n    .dataframe thead th {\n        text-align: right;\n    }\n</style>\n<table border=\"1\" class=\"dataframe\">\n  <thead>\n    <tr style=\"text-align: right;\">\n      <th></th>\n      <th>Coaster Name</th>\n      <th>Manufacturer</th>\n      <th>Year Introduced</th>\n      <th>Latitude</th>\n      <th>Longitude</th>\n      <th>Type Main</th>\n      <th>Opening Date Clean</th>\n      <th>Speed MPH</th>\n      <th>Inversions Clean</th>\n    </tr>\n  </thead>\n  <tbody>\n    <tr>\n      <th>0</th>\n      <td>Switchback Railway</td>\n      <td>LaMarcus Adna Thompson</td>\n      <td>1884</td>\n      <td>40.5740</td>\n      <td>-73.9780</td>\n      <td>Wood</td>\n      <td>1884-06-16</td>\n      <td>6.0</td>\n      <td>0</td>\n    </tr>\n    <tr>\n      <th>1</th>\n      <td>Flip Flap Railway</td>\n      <td>Lina Beecher</td>\n      <td>1895</td>\n      <td>40.5780</td>\n      <td>-73.9790</td>\n      <td>Wood</td>\n      <td>1895-01-01</td>\n      <td>NaN</td>\n      <td>1</td>\n    </tr>\n    <tr>\n      <th>2</th>\n      <td>Switchback Railway (Euclid Beach Park)</td>\n      <td>NaN</td>\n      <td>1896</td>\n      <td>41.5800</td>\n      <td>-81.5700</td>\n      <td>Other</td>\n      <td>NaT</td>\n      <td>NaN</td>\n      <td>0</td>\n    </tr>\n    <tr>\n      <th>3</th>\n      <td>Loop the Loop (Coney Island)</td>\n      <td>Edwin Prescott</td>\n      <td>1901</td>\n      <td>40.5745</td>\n      <td>-73.9780</td>\n      <td>Steel</td>\n      <td>1901-01-01</td>\n      <td>NaN</td>\n      <td>1</td>\n    </tr>\n    <tr>\n      <th>4</th>\n      <td>Loop the Loop (Young's Pier)</td>\n      <td>Edwin Prescott</td>\n      <td>1901</td>\n      <td>39.3538</td>\n      <td>-74.4342</td>\n      <td>Steel</td>\n      <td>1901-01-01</td>\n      <td>NaN</td>\n      <td>1</td>\n    </tr>\n  </tbody>\n</table>\n</div>"
     },
     "execution_count": 35,
     "metadata": {},
     "output_type": "execute_result"
    }
   ],
   "source": [
    "df.head()"
   ],
   "metadata": {
    "collapsed": false
   }
  },
  {
   "cell_type": "code",
   "execution_count": 32,
   "outputs": [
    {
     "data": {
      "text/plain": "Coaster Name            0\nManufacturer           59\nYear Introduced         0\nLatitude              275\nLongitude             275\nType Main               0\nOpening Date Clean    250\nSpeed MPH             150\nInversions Clean        0\ndtype: int64"
     },
     "execution_count": 32,
     "metadata": {},
     "output_type": "execute_result"
    }
   ],
   "source": [
    "drop_list = {'Opened', 'Replaced by', 'Height FT', 'Gforce Clean'}\n",
    "df.drop(drop_list, axis=1, inplace = True)\n",
    "df.isna().sum()"
   ],
   "metadata": {
    "collapsed": false
   }
  },
  {
   "cell_type": "code",
   "execution_count": 37,
   "outputs": [
    {
     "data": {
      "text/plain": "Empty DataFrame\nColumns: [Coaster Name, Manufacturer, Year Introduced, Latitude, Longitude, Type Main, Opening Date Clean, Speed MPH, Inversions Clean]\nIndex: []",
      "text/html": "<div>\n<style scoped>\n    .dataframe tbody tr th:only-of-type {\n        vertical-align: middle;\n    }\n\n    .dataframe tbody tr th {\n        vertical-align: top;\n    }\n\n    .dataframe thead th {\n        text-align: right;\n    }\n</style>\n<table border=\"1\" class=\"dataframe\">\n  <thead>\n    <tr style=\"text-align: right;\">\n      <th></th>\n      <th>Coaster Name</th>\n      <th>Manufacturer</th>\n      <th>Year Introduced</th>\n      <th>Latitude</th>\n      <th>Longitude</th>\n      <th>Type Main</th>\n      <th>Opening Date Clean</th>\n      <th>Speed MPH</th>\n      <th>Inversions Clean</th>\n    </tr>\n  </thead>\n  <tbody>\n  </tbody>\n</table>\n</div>"
     },
     "execution_count": 37,
     "metadata": {},
     "output_type": "execute_result"
    }
   ],
   "source": [
    "df.loc[df.duplicated()]"
   ],
   "metadata": {
    "collapsed": false
   }
  },
  {
   "cell_type": "code",
   "execution_count": 38,
   "outputs": [
    {
     "data": {
      "text/plain": "                          Coaster Name  \\\n43               Crystal Beach Cyclone   \n60                         Derby Racer   \n61         Blue Streak (Conneaut Lake)   \n167      Big Thunder Mountain Railroad   \n237  Thunder Run (Canada's Wonderland)   \n\n                                          Manufacturer  Year Introduced  \\\n43                                  Traver Engineering             1927   \n60                                      Fred W. Pearce             1937   \n61                                                 NaN             1938   \n167  Arrow Development (California and Florida)Dyna...             1980   \n237                                         Mack Rides             1986   \n\n     Latitude  Longitude Type Main Opening Date Clean  Speed MPH  \\\n43    42.8617   -79.0598      Wood         1926-01-01       60.0   \n60    42.4200   -70.9860      Wood         1911-01-01        NaN   \n61    41.6349   -80.3180      Wood         1938-05-23       50.0   \n167       NaN        NaN     Steel                NaT       35.0   \n237   43.8427   -79.5423     Steel         1981-05-23       39.8   \n\n     Inversions Clean  \n43                  0  \n60                  0  \n61                  0  \n167                 0  \n237                 0  ",
      "text/html": "<div>\n<style scoped>\n    .dataframe tbody tr th:only-of-type {\n        vertical-align: middle;\n    }\n\n    .dataframe tbody tr th {\n        vertical-align: top;\n    }\n\n    .dataframe thead th {\n        text-align: right;\n    }\n</style>\n<table border=\"1\" class=\"dataframe\">\n  <thead>\n    <tr style=\"text-align: right;\">\n      <th></th>\n      <th>Coaster Name</th>\n      <th>Manufacturer</th>\n      <th>Year Introduced</th>\n      <th>Latitude</th>\n      <th>Longitude</th>\n      <th>Type Main</th>\n      <th>Opening Date Clean</th>\n      <th>Speed MPH</th>\n      <th>Inversions Clean</th>\n    </tr>\n  </thead>\n  <tbody>\n    <tr>\n      <th>43</th>\n      <td>Crystal Beach Cyclone</td>\n      <td>Traver Engineering</td>\n      <td>1927</td>\n      <td>42.8617</td>\n      <td>-79.0598</td>\n      <td>Wood</td>\n      <td>1926-01-01</td>\n      <td>60.0</td>\n      <td>0</td>\n    </tr>\n    <tr>\n      <th>60</th>\n      <td>Derby Racer</td>\n      <td>Fred W. Pearce</td>\n      <td>1937</td>\n      <td>42.4200</td>\n      <td>-70.9860</td>\n      <td>Wood</td>\n      <td>1911-01-01</td>\n      <td>NaN</td>\n      <td>0</td>\n    </tr>\n    <tr>\n      <th>61</th>\n      <td>Blue Streak (Conneaut Lake)</td>\n      <td>NaN</td>\n      <td>1938</td>\n      <td>41.6349</td>\n      <td>-80.3180</td>\n      <td>Wood</td>\n      <td>1938-05-23</td>\n      <td>50.0</td>\n      <td>0</td>\n    </tr>\n    <tr>\n      <th>167</th>\n      <td>Big Thunder Mountain Railroad</td>\n      <td>Arrow Development (California and Florida)Dyna...</td>\n      <td>1980</td>\n      <td>NaN</td>\n      <td>NaN</td>\n      <td>Steel</td>\n      <td>NaT</td>\n      <td>35.0</td>\n      <td>0</td>\n    </tr>\n    <tr>\n      <th>237</th>\n      <td>Thunder Run (Canada's Wonderland)</td>\n      <td>Mack Rides</td>\n      <td>1986</td>\n      <td>43.8427</td>\n      <td>-79.5423</td>\n      <td>Steel</td>\n      <td>1981-05-23</td>\n      <td>39.8</td>\n      <td>0</td>\n    </tr>\n  </tbody>\n</table>\n</div>"
     },
     "execution_count": 38,
     "metadata": {},
     "output_type": "execute_result"
    }
   ],
   "source": [
    "df.loc[df.duplicated(subset = ['Coaster Name'])].head()"
   ],
   "metadata": {
    "collapsed": false
   }
  },
  {
   "cell_type": "code",
   "execution_count": 41,
   "outputs": [
    {
     "ename": "SyntaxError",
     "evalue": "invalid syntax (971378564.py, line 1)",
     "output_type": "error",
     "traceback": [
      "\u001B[0;36m  Cell \u001B[0;32mIn[41], line 1\u001B[0;36m\u001B[0m\n\u001B[0;31m    df.query('Coaster Name == 'Crystal Beach Cyclone'')\u001B[0m\n\u001B[0m                               ^\u001B[0m\n\u001B[0;31mSyntaxError\u001B[0m\u001B[0;31m:\u001B[0m invalid syntax\n"
     ]
    }
   ],
   "source": [
    "df.query('Coaster Name == 'Crystal Beach Cyclone'')"
   ],
   "metadata": {
    "collapsed": false
   }
  },
  {
   "cell_type": "code",
   "execution_count": null,
   "outputs": [],
   "source": [],
   "metadata": {
    "collapsed": false
   }
  }
 ],
 "metadata": {
  "kernelspec": {
   "display_name": "Python 3",
   "language": "python",
   "name": "python3"
  },
  "language_info": {
   "codemirror_mode": {
    "name": "ipython",
    "version": 2
   },
   "file_extension": ".py",
   "mimetype": "text/x-python",
   "name": "python",
   "nbconvert_exporter": "python",
   "pygments_lexer": "ipython2",
   "version": "2.7.6"
  }
 },
 "nbformat": 4,
 "nbformat_minor": 0
}
