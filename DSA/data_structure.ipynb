{
 "cells": [
  {
   "cell_type": "markdown",
   "id": "4502b495-9ff7-47c4-a4fd-6873609600ab",
   "metadata": {},
   "source": [
    "Creating list and aplying methods or function on it"
   ]
  },
  {
   "cell_type": "code",
   "execution_count": 1,
   "id": "d33d2f06-a184-42f4-a497-87d519ed0eb7",
   "metadata": {},
   "outputs": [],
   "source": [
    "list = ['my', 'name', 'is', 'Ghanshyam']"
   ]
  },
  {
   "cell_type": "code",
   "execution_count": 2,
   "id": "91c2e903-f3bb-41be-b435-bc07c4a79cc7",
   "metadata": {},
   "outputs": [
    {
     "data": {
      "text/plain": [
       "'my'"
      ]
     },
     "execution_count": 2,
     "metadata": {},
     "output_type": "execute_result"
    }
   ],
   "source": [
    "list[0]"
   ]
  },
  {
   "cell_type": "markdown",
   "id": "4feda7f1-4bc6-4a38-ba6b-80ae0da6c4d3",
   "metadata": {},
   "source": [
    "multidimentional list "
   ]
  },
  {
   "cell_type": "code",
   "execution_count": 3,
   "id": "bce98389-1638-4f6f-892b-65de1132b562",
   "metadata": {},
   "outputs": [],
   "source": [
    "multi_list = [['ghanshyam', 'kumar', 'mahato'], ['lets', 'learn']]"
   ]
  },
  {
   "cell_type": "code",
   "execution_count": 4,
   "id": "3d59bbbb-48a9-4d00-b664-2cf8fc23364b",
   "metadata": {},
   "outputs": [
    {
     "data": {
      "text/plain": [
       "['ghanshyam', 'kumar', 'mahato']"
      ]
     },
     "execution_count": 4,
     "metadata": {},
     "output_type": "execute_result"
    }
   ],
   "source": [
    "multi_list[0]"
   ]
  },
  {
   "cell_type": "code",
   "execution_count": 11,
   "id": "c62a3444-c686-48b5-aea1-5c8465c07bc4",
   "metadata": {},
   "outputs": [
    {
     "data": {
      "text/plain": [
       "'mahato'"
      ]
     },
     "execution_count": 11,
     "metadata": {},
     "output_type": "execute_result"
    }
   ],
   "source": [
    "multi_list[0][2]"
   ]
  },
  {
   "cell_type": "code",
   "execution_count": 12,
   "id": "efdd1881-2c48-44f8-b831-4348e472f1fa",
   "metadata": {},
   "outputs": [
    {
     "data": {
      "text/plain": [
       "'Ghanshyam'"
      ]
     },
     "execution_count": 12,
     "metadata": {},
     "output_type": "execute_result"
    }
   ],
   "source": [
    "list[-1]"
   ]
  },
  {
   "cell_type": "code",
   "execution_count": 15,
   "id": "9f54fc1a-81e5-452d-82e5-2445bdafa979",
   "metadata": {},
   "outputs": [
    {
     "data": {
      "text/plain": [
       "'lets'"
      ]
     },
     "execution_count": 15,
     "metadata": {},
     "output_type": "execute_result"
    }
   ],
   "source": [
    "multi_list[-1][0]"
   ]
  },
  {
   "cell_type": "markdown",
   "id": "cebf0c74-853b-4aa2-a62d-de46b7f6e20b",
   "metadata": {},
   "source": [
    "creating tuples and aplying methods and functions on it"
   ]
  },
  {
   "cell_type": "code",
   "execution_count": 16,
   "id": "e530636b-3621-4d80-b841-3d0eae982d35",
   "metadata": {},
   "outputs": [],
   "source": [
    "tupl = (1, 2)"
   ]
  },
  {
   "cell_type": "code",
   "execution_count": 17,
   "id": "832d739e-bd80-4527-9ec9-9a4d84bb5d71",
   "metadata": {},
   "outputs": [
    {
     "data": {
      "text/plain": [
       "(1, 2)"
      ]
     },
     "execution_count": 17,
     "metadata": {},
     "output_type": "execute_result"
    }
   ],
   "source": [
    "tupl"
   ]
  },
  {
   "cell_type": "code",
   "execution_count": 18,
   "id": "0748d7f7-5ed1-433c-b222-f752691d01ff",
   "metadata": {},
   "outputs": [],
   "source": [
    "list_tup = [1, 2, 3, 4, 5, 6,]\n",
    "tuples = tuple(list_tup)"
   ]
  },
  {
   "cell_type": "code",
   "execution_count": 23,
   "id": "d9e9c5e3-a463-4de2-a6fb-28002d30f820",
   "metadata": {},
   "outputs": [
    {
     "data": {
      "text/plain": [
       "(1, 2, 3, 4, 5, 6)"
      ]
     },
     "execution_count": 23,
     "metadata": {},
     "output_type": "execute_result"
    }
   ],
   "source": [
    "# accessing tuples using\n",
    "tuples"
   ]
  },
  {
   "cell_type": "code",
   "execution_count": 20,
   "id": "19f0b33b-864b-4709-823b-2419d562fbc6",
   "metadata": {},
   "outputs": [
    {
     "data": {
      "text/plain": [
       "1"
      ]
     },
     "execution_count": 20,
     "metadata": {},
     "output_type": "execute_result"
    }
   ],
   "source": [
    "tuples[0]"
   ]
  },
  {
   "cell_type": "code",
   "execution_count": 21,
   "id": "f3c3e3da-5c04-4a05-a65e-f16a5ece5bb8",
   "metadata": {},
   "outputs": [
    {
     "data": {
      "text/plain": [
       "4"
      ]
     },
     "execution_count": 21,
     "metadata": {},
     "output_type": "execute_result"
    }
   ],
   "source": [
    "tuples[3]"
   ]
  },
  {
   "cell_type": "code",
   "execution_count": 22,
   "id": "a31b8d79-b554-4ef1-b4e0-12a2d11c3072",
   "metadata": {},
   "outputs": [
    {
     "data": {
      "text/plain": [
       "6"
      ]
     },
     "execution_count": 22,
     "metadata": {},
     "output_type": "execute_result"
    }
   ],
   "source": [
    "tuples[-1]"
   ]
  },
  {
   "cell_type": "markdown",
   "id": "59943ed7-91f6-4c6a-86fe-480a8ad7e56b",
   "metadata": {},
   "source": [
    "sets \n",
    "\n",
    "sets are collection of mutable data which doesnot allows dublicates in it"
   ]
  },
  {
   "cell_type": "code",
   "execution_count": null,
   "id": "9777a909-eceb-4e8f-b313-00eadbb92d4b",
   "metadata": {},
   "outputs": [],
   "source": []
  }
 ],
 "metadata": {
  "kernelspec": {
   "display_name": "Python 3 (ipykernel)",
   "language": "python",
   "name": "python3"
  },
  "language_info": {
   "codemirror_mode": {
    "name": "ipython",
    "version": 3
   },
   "file_extension": ".py",
   "mimetype": "text/x-python",
   "name": "python",
   "nbconvert_exporter": "python",
   "pygments_lexer": "ipython3",
   "version": "3.11.5"
  }
 },
 "nbformat": 4,
 "nbformat_minor": 5
}
